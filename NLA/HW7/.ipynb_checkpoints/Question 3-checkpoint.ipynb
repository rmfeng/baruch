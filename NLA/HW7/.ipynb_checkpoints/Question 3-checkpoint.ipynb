{
 "cells": [
  {
   "cell_type": "code",
   "execution_count": 30,
   "metadata": {
    "collapsed": true
   },
   "outputs": [],
   "source": [
    "import numpy as np\n",
    "import pandas as pd\n",
    "from scipy.linalg import cho_solve\n",
    "\n",
    "import matplotlib.pyplot as plt\n",
    "%matplotlib inline"
   ]
  },
  {
   "cell_type": "code",
   "execution_count": 20,
   "metadata": {},
   "outputs": [],
   "source": [
    "fn = 'financials2012.xlsx'\n",
    "df = pd.read_excel(fn, parse_dates=['Date'])\n",
    "df = df.set_index('Date').sort_index()\n",
    "df.rename(columns={\n",
    "    'RY (RBC)':'RBC',\n",
    "    'BCS (Barclays)':'BARC'\n",
    "}, inplace=True)"
   ]
  },
  {
   "cell_type": "markdown",
   "metadata": {},
   "source": [
    "### Part i) Pct Change"
   ]
  },
  {
   "cell_type": "code",
   "execution_count": 47,
   "metadata": {},
   "outputs": [
    {
     "data": {
      "text/html": [
       "<div>\n",
       "<style>\n",
       "    .dataframe thead tr:only-child th {\n",
       "        text-align: right;\n",
       "    }\n",
       "\n",
       "    .dataframe thead th {\n",
       "        text-align: left;\n",
       "    }\n",
       "\n",
       "    .dataframe tbody tr th {\n",
       "        vertical-align: top;\n",
       "    }\n",
       "</style>\n",
       "<table border=\"1\" class=\"dataframe\">\n",
       "  <thead>\n",
       "    <tr style=\"text-align: right;\">\n",
       "      <th></th>\n",
       "      <th>JPM</th>\n",
       "      <th>GS</th>\n",
       "      <th>MS</th>\n",
       "      <th>BAC</th>\n",
       "      <th>RBS</th>\n",
       "      <th>CS</th>\n",
       "      <th>UBS</th>\n",
       "      <th>RBC</th>\n",
       "      <th>BARC</th>\n",
       "      <th>ones</th>\n",
       "    </tr>\n",
       "    <tr>\n",
       "      <th>Date</th>\n",
       "      <th></th>\n",
       "      <th></th>\n",
       "      <th></th>\n",
       "      <th></th>\n",
       "      <th></th>\n",
       "      <th></th>\n",
       "      <th></th>\n",
       "      <th></th>\n",
       "      <th></th>\n",
       "      <th></th>\n",
       "    </tr>\n",
       "  </thead>\n",
       "  <tbody>\n",
       "    <tr>\n",
       "      <th>2012-01-17</th>\n",
       "      <td>0.040137</td>\n",
       "      <td>0.098813</td>\n",
       "      <td>0.106254</td>\n",
       "      <td>0.069909</td>\n",
       "      <td>0.167120</td>\n",
       "      <td>0.150710</td>\n",
       "      <td>0.147929</td>\n",
       "      <td>0.044201</td>\n",
       "      <td>0.127273</td>\n",
       "      <td>1</td>\n",
       "    </tr>\n",
       "    <tr>\n",
       "      <th>2012-01-23</th>\n",
       "      <td>-0.004105</td>\n",
       "      <td>0.027928</td>\n",
       "      <td>0.011526</td>\n",
       "      <td>0.031250</td>\n",
       "      <td>0.013970</td>\n",
       "      <td>0.028264</td>\n",
       "      <td>0.025773</td>\n",
       "      <td>-0.004854</td>\n",
       "      <td>0.010264</td>\n",
       "      <td>1</td>\n",
       "    </tr>\n",
       "    <tr>\n",
       "      <th>2012-01-30</th>\n",
       "      <td>0.028854</td>\n",
       "      <td>0.051531</td>\n",
       "      <td>0.094411</td>\n",
       "      <td>0.075758</td>\n",
       "      <td>0.043628</td>\n",
       "      <td>0.044135</td>\n",
       "      <td>0.043790</td>\n",
       "      <td>0.024780</td>\n",
       "      <td>0.071843</td>\n",
       "      <td>1</td>\n",
       "    </tr>\n",
       "    <tr>\n",
       "      <th>2012-02-06</th>\n",
       "      <td>-0.017628</td>\n",
       "      <td>-0.029024</td>\n",
       "      <td>-0.031730</td>\n",
       "      <td>0.029449</td>\n",
       "      <td>-0.035204</td>\n",
       "      <td>-0.076752</td>\n",
       "      <td>-0.052270</td>\n",
       "      <td>-0.003427</td>\n",
       "      <td>-0.018957</td>\n",
       "      <td>1</td>\n",
       "    </tr>\n",
       "    <tr>\n",
       "      <th>2012-02-13</th>\n",
       "      <td>0.023110</td>\n",
       "      <td>0.015700</td>\n",
       "      <td>-0.025602</td>\n",
       "      <td>-0.006219</td>\n",
       "      <td>0.009122</td>\n",
       "      <td>0.042169</td>\n",
       "      <td>0.030479</td>\n",
       "      <td>-0.001337</td>\n",
       "      <td>0.070393</td>\n",
       "      <td>1</td>\n",
       "    </tr>\n",
       "  </tbody>\n",
       "</table>\n",
       "</div>"
      ],
      "text/plain": [
       "                 JPM        GS        MS       BAC       RBS        CS  \\\n",
       "Date                                                                     \n",
       "2012-01-17  0.040137  0.098813  0.106254  0.069909  0.167120  0.150710   \n",
       "2012-01-23 -0.004105  0.027928  0.011526  0.031250  0.013970  0.028264   \n",
       "2012-01-30  0.028854  0.051531  0.094411  0.075758  0.043628  0.044135   \n",
       "2012-02-06 -0.017628 -0.029024 -0.031730  0.029449 -0.035204 -0.076752   \n",
       "2012-02-13  0.023110  0.015700 -0.025602 -0.006219  0.009122  0.042169   \n",
       "\n",
       "                 UBS       RBC      BARC  ones  \n",
       "Date                                            \n",
       "2012-01-17  0.147929  0.044201  0.127273     1  \n",
       "2012-01-23  0.025773 -0.004854  0.010264     1  \n",
       "2012-01-30  0.043790  0.024780  0.071843     1  \n",
       "2012-02-06 -0.052270 -0.003427 -0.018957     1  \n",
       "2012-02-13  0.030479 -0.001337  0.070393     1  "
      ]
     },
     "execution_count": 47,
     "metadata": {},
     "output_type": "execute_result"
    }
   ],
   "source": [
    "dfp = df.pct_change()[1:]\n",
    "dfp['ones'] = 1\n",
    "dfp.head()"
   ]
  },
  {
   "cell_type": "markdown",
   "metadata": {},
   "source": [
    "### Part ii) Linear Regression"
   ]
  },
  {
   "cell_type": "code",
   "execution_count": 38,
   "metadata": {},
   "outputs": [],
   "source": [
    "A = dfp[['GS', 'MS', 'BAC', 'RBS', 'CS', 'UBS', 'RBC', 'BARC', 'ones']].as_matrix()\n",
    "b = dfp[['JPM']].as_matrix()"
   ]
  },
  {
   "cell_type": "code",
   "execution_count": 42,
   "metadata": {},
   "outputs": [],
   "source": [
    "AtA = np.matmul(A.transpose(), A)\n",
    "Atb = np.matmul(A.transpose(), b)\n",
    "Ut = np.linalg.cholesky(AtA)\n",
    "x = cho_solve((Ut, True), Atb)"
   ]
  },
  {
   "cell_type": "markdown",
   "metadata": {},
   "source": [
    "** Solved Coefficients: **"
   ]
  },
  {
   "cell_type": "code",
   "execution_count": 43,
   "metadata": {},
   "outputs": [
    {
     "name": "stdout",
     "output_type": "stream",
     "text": [
      "[[ 0.7662948 ]\n",
      " [-0.07776546]\n",
      " [ 0.29795058]\n",
      " [ 0.28117032]\n",
      " [-0.05761416]\n",
      " [-0.41404465]\n",
      " [ 0.14759435]\n",
      " [-0.00880578]\n",
      " [-0.00335278]]\n"
     ]
    }
   ],
   "source": [
    "print(x)"
   ]
  },
  {
   "cell_type": "code",
   "execution_count": 45,
   "metadata": {},
   "outputs": [],
   "source": [
    "pred = np.matmul(A, x)\n",
    "err = b - pred"
   ]
  },
  {
   "cell_type": "markdown",
   "metadata": {},
   "source": [
    "** Approx Error: **"
   ]
  },
  {
   "cell_type": "code",
   "execution_count": 46,
   "metadata": {},
   "outputs": [
    {
     "name": "stdout",
     "output_type": "stream",
     "text": [
      "[[ 0.1294512]]\n"
     ]
    }
   ],
   "source": [
    "print(np.sqrt(np.matmul(err.transpose(),err)))"
   ]
  },
  {
   "cell_type": "markdown",
   "metadata": {},
   "source": [
    "### Part iii) Linear Regression - Financials"
   ]
  },
  {
   "cell_type": "code",
   "execution_count": 48,
   "metadata": {
    "collapsed": true
   },
   "outputs": [],
   "source": [
    "A = dfp[['GS', 'MS', 'BAC', 'ones']].as_matrix()\n",
    "b = dfp[['JPM']].as_matrix()\n",
    "AtA = np.matmul(A.transpose(), A)\n",
    "Atb = np.matmul(A.transpose(), b)\n",
    "Ut = np.linalg.cholesky(AtA)\n",
    "x = cho_solve((Ut, True), Atb)\n",
    "pred = np.matmul(A, x)\n",
    "err = b - pred"
   ]
  },
  {
   "cell_type": "markdown",
   "metadata": {},
   "source": [
    "** Solved Coefficients: **"
   ]
  },
  {
   "cell_type": "code",
   "execution_count": 49,
   "metadata": {},
   "outputs": [
    {
     "name": "stdout",
     "output_type": "stream",
     "text": [
      "[[ 0.65371049]\n",
      " [-0.03750398]\n",
      " [ 0.26128533]\n",
      " [-0.00139422]]\n"
     ]
    }
   ],
   "source": [
    "print(x)"
   ]
  },
  {
   "cell_type": "markdown",
   "metadata": {},
   "source": [
    "** Approx Error: **"
   ]
  },
  {
   "cell_type": "code",
   "execution_count": 50,
   "metadata": {},
   "outputs": [
    {
     "name": "stdout",
     "output_type": "stream",
     "text": [
      "[[ 0.14988401]]\n"
     ]
    }
   ],
   "source": [
    "print(np.sqrt(np.matmul(err.transpose(),err)))"
   ]
  },
  {
   "cell_type": "markdown",
   "metadata": {},
   "source": [
    "### Part iv) Linear Regression - Other Stocks"
   ]
  },
  {
   "cell_type": "code",
   "execution_count": 51,
   "metadata": {
    "collapsed": true
   },
   "outputs": [],
   "source": [
    "A = dfp[['RBS', 'CS', 'UBS', 'RBC', 'BARC', 'ones']].as_matrix()\n",
    "b = dfp[['JPM']].as_matrix()\n",
    "AtA = np.matmul(A.transpose(), A)\n",
    "Atb = np.matmul(A.transpose(), b)\n",
    "Ut = np.linalg.cholesky(AtA)\n",
    "x = cho_solve((Ut, True), Atb)\n",
    "pred = np.matmul(A, x)\n",
    "err = b - pred"
   ]
  },
  {
   "cell_type": "markdown",
   "metadata": {},
   "source": [
    "** Solved Coefficients: **"
   ]
  },
  {
   "cell_type": "code",
   "execution_count": 52,
   "metadata": {},
   "outputs": [
    {
     "name": "stdout",
     "output_type": "stream",
     "text": [
      "[[ 0.3132172 ]\n",
      " [ 0.06125269]\n",
      " [ 0.05407512]\n",
      " [ 0.48829307]\n",
      " [-0.0079035 ]\n",
      " [ 0.00071738]]\n"
     ]
    }
   ],
   "source": [
    "print(x)"
   ]
  },
  {
   "cell_type": "markdown",
   "metadata": {},
   "source": [
    "** Approx Error: **"
   ]
  },
  {
   "cell_type": "code",
   "execution_count": 53,
   "metadata": {},
   "outputs": [
    {
     "name": "stdout",
     "output_type": "stream",
     "text": [
      "[[ 0.17541378]]\n"
     ]
    }
   ],
   "source": [
    "print(np.sqrt(np.matmul(err.transpose(),err)))"
   ]
  },
  {
   "cell_type": "markdown",
   "metadata": {},
   "source": [
    "### Comments:\n",
    "\n",
    "The approximation error of regressing JPM vs non-american banks was the highest, while regressing it against all of the stock was the lowest"
   ]
  },
  {
   "cell_type": "code",
   "execution_count": null,
   "metadata": {
    "collapsed": true
   },
   "outputs": [],
   "source": []
  }
 ],
 "metadata": {
  "kernelspec": {
   "display_name": "Python 3",
   "language": "python",
   "name": "python3"
  },
  "language_info": {
   "codemirror_mode": {
    "name": "ipython",
    "version": 3
   },
   "file_extension": ".py",
   "mimetype": "text/x-python",
   "name": "python",
   "nbconvert_exporter": "python",
   "pygments_lexer": "ipython3",
   "version": "3.6.3"
  }
 },
 "nbformat": 4,
 "nbformat_minor": 2
}
