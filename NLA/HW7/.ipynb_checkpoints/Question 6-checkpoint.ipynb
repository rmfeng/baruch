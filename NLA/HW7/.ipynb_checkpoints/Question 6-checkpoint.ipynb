{
 "cells": [
  {
   "cell_type": "code",
   "execution_count": 23,
   "metadata": {
    "collapsed": true
   },
   "outputs": [],
   "source": [
    "import numpy as np\n",
    "import pandas as pd\n",
    "\n",
    "import matplotlib.pyplot as plt\n",
    "%matplotlib inline\n",
    "\n",
    "lib_path = r'/Users/rmfeng/jupyter/AC-FE/'\n",
    "import sys\n",
    "sys.path.append(lib_path)\n",
    "import acfe_methods as am\n",
    "\n",
    "from importlib import reload"
   ]
  },
  {
   "cell_type": "code",
   "execution_count": 39,
   "metadata": {},
   "outputs": [
    {
     "name": "stdout",
     "output_type": "stream",
     "text": [
      "[[ 0.06]\n",
      " [ 0.12]] \n",
      " 0.02 \n",
      " [[ 0.04]\n",
      " [ 0.1 ]]\n"
     ]
    }
   ],
   "source": [
    "mu = np.array([0.06, 0.12]).reshape(-1,1)\n",
    "r = 0.02\n",
    "mu_bar = mu - r\n",
    "\n",
    "print(mu, \"\\n\", r, \"\\n\", mu_bar)"
   ]
  },
  {
   "cell_type": "code",
   "execution_count": 26,
   "metadata": {},
   "outputs": [
    {
     "data": {
      "text/plain": [
       "array([[ 0.0225 ,  0.01125],\n",
       "       [ 0.01125,  0.0625 ]])"
      ]
     },
     "execution_count": 26,
     "metadata": {},
     "output_type": "execute_result"
    }
   ],
   "source": [
    "s1 = 0.15\n",
    "s2 = 0.25\n",
    "corr = np.array([[1, 0.3],\n",
    "                 [0.3, 1]])\n",
    "D = np.diag([s1,s2])\n",
    "cov = np.matmul(np.matmul(D, corr), D)\n",
    "cov"
   ]
  },
  {
   "cell_type": "markdown",
   "metadata": {},
   "source": [
    "### Part i) Tangency Portfolio"
   ]
  },
  {
   "cell_type": "code",
   "execution_count": 27,
   "metadata": {},
   "outputs": [
    {
     "data": {
      "text/plain": [
       "array([[ 0.43307087],\n",
       "       [ 0.56692913]])"
      ]
     },
     "execution_count": 27,
     "metadata": {},
     "output_type": "execute_result"
    }
   ],
   "source": [
    "w_tang = am.tangency_port(cov, mu_bar)\n",
    "w_tang"
   ]
  },
  {
   "cell_type": "markdown",
   "metadata": {},
   "source": [
    "### Part ii) mu = 8% min var port"
   ]
  },
  {
   "cell_type": "code",
   "execution_count": 33,
   "metadata": {},
   "outputs": [
    {
     "name": "stdout",
     "output_type": "stream",
     "text": [
      "Allocation: asset1: [ 0.35106383], asset2: [ 0.45957447], cash: [[ 0.1893617]]\n",
      "Standard Dev = [[ 0.1400133]]\n"
     ]
    }
   ],
   "source": [
    "w, wcash, sig = am.min_var_port(cov, mu, r, 0.08)\n",
    "print(\"Allocation: asset1: %s, asset2: %s, cash: %s\" % (w[0], w[1], wcash))\n",
    "print(\"Standard Dev =\", sig)"
   ]
  },
  {
   "cell_type": "markdown",
   "metadata": {},
   "source": [
    "### Part iii) mu = 15% min var port"
   ]
  },
  {
   "cell_type": "code",
   "execution_count": 34,
   "metadata": {},
   "outputs": [
    {
     "name": "stdout",
     "output_type": "stream",
     "text": [
      "Allocation: asset1: [ 0.7606383], asset2: [ 0.99574468], cash: [[-0.75638298]]\n",
      "Standard Dev = [[ 0.30336214]]\n"
     ]
    }
   ],
   "source": [
    "w, wcash, sig = am.min_var_port(cov, mu, r, 0.15)\n",
    "print(\"Allocation: asset1: %s, asset2: %s, cash: %s\" % (w[0], w[1], wcash))\n",
    "print(\"Standard Dev =\", sig)"
   ]
  },
  {
   "cell_type": "markdown",
   "metadata": {},
   "source": [
    "### Part iv) sig = 20% max ret port"
   ]
  },
  {
   "cell_type": "code",
   "execution_count": 40,
   "metadata": {},
   "outputs": [
    {
     "name": "stdout",
     "output_type": "stream",
     "text": [
      "Allocation: asset1: [ 0.50147213], asset2: [ 0.6564726], cash: [[-0.15794473]]\n",
      "Expected Return = [[ 0.10570615]]\n"
     ]
    }
   ],
   "source": [
    "w, wcash, mu_exp = am.max_ret_port(cov, mu, r, 0.2)\n",
    "print(\"Allocation: asset1: %s, asset2: %s, cash: %s\" % (w[0], w[1], wcash))\n",
    "print(\"Expected Return =\", mu_exp)"
   ]
  },
  {
   "cell_type": "markdown",
   "metadata": {},
   "source": [
    "### Part v) sig = 30% max ret port"
   ]
  },
  {
   "cell_type": "code",
   "execution_count": 41,
   "metadata": {},
   "outputs": [
    {
     "name": "stdout",
     "output_type": "stream",
     "text": [
      "Allocation: asset1: [ 0.75220819], asset2: [ 0.9847089], cash: [[-0.73691709]]\n",
      "Expected Return = [[ 0.14855922]]\n"
     ]
    }
   ],
   "source": [
    "w, wcash, mu_exp = am.max_ret_port(cov, mu, r, 0.3)\n",
    "print(\"Allocation: asset1: %s, asset2: %s, cash: %s\" % (w[0], w[1], wcash))\n",
    "print(\"Expected Return =\", mu_exp)"
   ]
  },
  {
   "cell_type": "markdown",
   "metadata": {},
   "source": [
    "### Part vi) - adjusting the min var mu=8% port"
   ]
  },
  {
   "cell_type": "code",
   "execution_count": 46,
   "metadata": {},
   "outputs": [
    {
     "name": "stdout",
     "output_type": "stream",
     "text": [
      "Before adj alloc: asset1: [ 0.35106383], asset2: [ 0.45957447], cash: [[ 0.1893617]]\n",
      "After adj alloc: asset1: [ 0.30042722], asset2: [ 0.46826366], cash: [[ 0.23130912]]\n"
     ]
    }
   ],
   "source": [
    "r = 0.02\n",
    "w, wcash, sig = am.min_var_port(cov, mu, r, 0.08)\n",
    "print(\"Before adj alloc: asset1: %s, asset2: %s, cash: %s\" % (w[0], w[1], wcash))\n",
    "\n",
    "r_new = 0.025\n",
    "w_new, wcash_new, sig_new = am.min_var_port(cov, mu, r_new, 0.08)\n",
    "print(\"After adj alloc: asset1: %s, asset2: %s, cash: %s\" % (w_new[0], w_new[1], wcash_new))"
   ]
  },
  {
   "cell_type": "markdown",
   "metadata": {},
   "source": [
    "### Part vi) - adjusting the max ret sig = 20% port"
   ]
  },
  {
   "cell_type": "code",
   "execution_count": 48,
   "metadata": {},
   "outputs": [
    {
     "name": "stdout",
     "output_type": "stream",
     "text": [
      "Before adj alloc: asset1: [ 0.50147213], asset2: [ 0.6564726], cash: [[-0.15794473]]\n",
      "After adj alloc: asset1: [ 0.43705174], asset2: [ 0.68121472], cash: [[-0.11826646]]\n"
     ]
    }
   ],
   "source": [
    "r = 0.02\n",
    "w, wcash, mu_exp = am.max_ret_port(cov, mu, r, 0.2)\n",
    "print(\"Before adj alloc: asset1: %s, asset2: %s, cash: %s\" % (w[0], w[1], wcash))\n",
    "\n",
    "r_new = 0.025\n",
    "w_new, wcash_new, mu_exp_new = am.max_ret_port(cov, mu, r_new, 0.2)\n",
    "print(\"After adj alloc: asset1: %s, asset2: %s, cash: %s\" % (w_new[0], w_new[1], wcash_new))"
   ]
  },
  {
   "cell_type": "code",
   "execution_count": null,
   "metadata": {
    "collapsed": true
   },
   "outputs": [],
   "source": []
  }
 ],
 "metadata": {
  "kernelspec": {
   "display_name": "Python 3",
   "language": "python",
   "name": "python3"
  },
  "language_info": {
   "codemirror_mode": {
    "name": "ipython",
    "version": 3
   },
   "file_extension": ".py",
   "mimetype": "text/x-python",
   "name": "python",
   "nbconvert_exporter": "python",
   "pygments_lexer": "ipython3",
   "version": "3.6.3"
  }
 },
 "nbformat": 4,
 "nbformat_minor": 2
}
