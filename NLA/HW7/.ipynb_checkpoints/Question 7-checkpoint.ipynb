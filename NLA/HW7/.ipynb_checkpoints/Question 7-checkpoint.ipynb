{
 "cells": [
  {
   "cell_type": "code",
   "execution_count": 1,
   "metadata": {
    "collapsed": true
   },
   "outputs": [],
   "source": [
    "import numpy as np\n",
    "import pandas as pd\n",
    "import matplotlib.pyplot as plt\n",
    "%matplotlib inline\n",
    "lib_path = r'/Users/rmfeng/jupyter/AC-FE/'\n",
    "import sys\n",
    "sys.path.append(lib_path)\n",
    "import acfe_methods as am\n",
    "from importlib import reload"
   ]
  },
  {
   "cell_type": "code",
   "execution_count": 12,
   "metadata": {
    "collapsed": true
   },
   "outputs": [],
   "source": [
    "mu = np.array([0.05, 0.08, 0.11]).reshape(-1,1)\n",
    "\n",
    "sigma = np.array([0.16, 0.20, 0.25])\n",
    "\n",
    "corr_mat = np.array([[1, -0.5, -0.15],\n",
    "                    [-0.5, 1, -0.25],\n",
    "                    [-0.15, -0.25, 1]])\n",
    "r = 0.02\n",
    "mu_bar = mu - r\n",
    "D = np.diag(sigma)\n",
    "cov_mat = D.dot(corr_mat).dot(D)"
   ]
  },
  {
   "cell_type": "code",
   "execution_count": 13,
   "metadata": {},
   "outputs": [
    {
     "data": {
      "text/plain": [
       "array([[ 0.39174233],\n",
       "       [ 0.3672995 ],\n",
       "       [ 0.24095817]])"
      ]
     },
     "execution_count": 13,
     "metadata": {},
     "output_type": "execute_result"
    }
   ],
   "source": [
    "wt = am.tangency_port(cov_mat, mu_bar)\n",
    "wt"
   ]
  },
  {
   "cell_type": "markdown",
   "metadata": {},
   "source": [
    "### Part i) Tangency port"
   ]
  },
  {
   "cell_type": "code",
   "execution_count": 19,
   "metadata": {},
   "outputs": [
    {
     "data": {
      "text/plain": [
       "array([[ 0.07547648]])"
      ]
     },
     "execution_count": 19,
     "metadata": {},
     "output_type": "execute_result"
    }
   ],
   "source": [
    "exp_return = mu.transpose().dot(wt)\n",
    "exp_return"
   ]
  },
  {
   "cell_type": "code",
   "execution_count": 23,
   "metadata": {},
   "outputs": [
    {
     "data": {
      "text/plain": [
       "array([[ 0.07073962]])"
      ]
     },
     "execution_count": 23,
     "metadata": {},
     "output_type": "execute_result"
    }
   ],
   "source": [
    "port_std = np.sqrt(wt.transpose().dot(cov_mat).dot(wt))\n",
    "port_std"
   ]
  },
  {
   "cell_type": "markdown",
   "metadata": {},
   "source": [
    "### Part ii) 5% expected return min var portfolio"
   ]
  },
  {
   "cell_type": "code",
   "execution_count": 24,
   "metadata": {
    "collapsed": true
   },
   "outputs": [],
   "source": [
    "w, wcash, sig_min = am.min_var_port(cov_mat, mu, r, 0.05)"
   ]
  },
  {
   "cell_type": "code",
   "execution_count": 29,
   "metadata": {},
   "outputs": [
    {
     "name": "stdout",
     "output_type": "stream",
     "text": [
      "Asset Alloc:\n",
      "[[ 0.2118424 ]\n",
      " [ 0.19862446]\n",
      " [ 0.13030289]]\n",
      "Cash Alloc:\n",
      "[[ 0.45923024]]\n",
      "Standard Dev:\n",
      "[[ 0.03825385]]\n"
     ]
    }
   ],
   "source": [
    "print(\"Asset Alloc:\")\n",
    "print(w)\n",
    "print(\"Cash Alloc:\")\n",
    "print(wcash)\n",
    "print(\"Standard Dev:\")\n",
    "print(sig_min)"
   ]
  },
  {
   "cell_type": "markdown",
   "metadata": {},
   "source": [
    "### Part iii) 20% std max return portfolio"
   ]
  },
  {
   "cell_type": "code",
   "execution_count": 30,
   "metadata": {
    "collapsed": true
   },
   "outputs": [],
   "source": [
    "w, wcash, exp_ret = am.max_ret_port(cov_mat, mu, r, 0.2)"
   ]
  },
  {
   "cell_type": "code",
   "execution_count": 31,
   "metadata": {},
   "outputs": [
    {
     "name": "stdout",
     "output_type": "stream",
     "text": [
      "Asset Alloc:\n",
      "[[ 1.10756129]\n",
      " [ 1.0384548 ]\n",
      " [ 0.68125378]]\n",
      "Cash Alloc:\n",
      "[[-1.82726987]]\n",
      "Expected Return:\n",
      "[[ 0.17684697]]\n"
     ]
    }
   ],
   "source": [
    "print(\"Asset Alloc:\")\n",
    "print(w)\n",
    "print(\"Cash Alloc:\")\n",
    "print(wcash)\n",
    "print(\"Expected Return:\")\n",
    "print(exp_ret)"
   ]
  },
  {
   "cell_type": "code",
   "execution_count": null,
   "metadata": {
    "collapsed": true
   },
   "outputs": [],
   "source": []
  }
 ],
 "metadata": {
  "kernelspec": {
   "display_name": "Python 3",
   "language": "python",
   "name": "python3"
  },
  "language_info": {
   "codemirror_mode": {
    "name": "ipython",
    "version": 3
   },
   "file_extension": ".py",
   "mimetype": "text/x-python",
   "name": "python",
   "nbconvert_exporter": "python",
   "pygments_lexer": "ipython3",
   "version": "3.6.3"
  }
 },
 "nbformat": 4,
 "nbformat_minor": 2
}
