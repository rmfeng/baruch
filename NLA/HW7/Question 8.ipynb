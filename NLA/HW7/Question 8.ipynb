{
 "cells": [
  {
   "cell_type": "code",
   "execution_count": 1,
   "metadata": {
    "collapsed": true
   },
   "outputs": [],
   "source": [
    "import numpy as np\n",
    "import pandas as pd\n",
    "import matplotlib.pyplot as plt\n",
    "%matplotlib inline\n",
    "lib_path = r'/Users/rmfeng/jupyter/AC-FE/'\n",
    "import sys\n",
    "sys.path.append(lib_path)\n",
    "import acfe_methods as am\n",
    "from importlib import reload"
   ]
  },
  {
   "cell_type": "code",
   "execution_count": 2,
   "metadata": {
    "collapsed": true
   },
   "outputs": [],
   "source": [
    "mu = np.array([0.051, 0.045, 0.068, 0.042]).reshape(-1,1)\n",
    "\n",
    "cov_mat = np.array([[0.09, -0.01, -0.03, -0.02],\n",
    "                   [-0.01, 0.0625, 0.02, -0.01],\n",
    "                   [-0.03, 0.02, 0.1225, -0.015],\n",
    "                   [-0.02, -0.01, -0.015, 0.0576]])\n",
    "r = 0.015\n",
    "mu_bar = mu - r"
   ]
  },
  {
   "cell_type": "code",
   "execution_count": 3,
   "metadata": {
    "collapsed": true
   },
   "outputs": [],
   "source": [
    "wt = am.tangency_port(cov_mat, mu_bar)"
   ]
  },
  {
   "cell_type": "markdown",
   "metadata": {},
   "source": [
    "### Part i) Tangency port"
   ]
  },
  {
   "cell_type": "code",
   "execution_count": 4,
   "metadata": {},
   "outputs": [
    {
     "name": "stdout",
     "output_type": "stream",
     "text": [
      "Tangency Asset Alloc:\n",
      "[[ 0.2846145 ]\n",
      " [ 0.17572449]\n",
      " [ 0.21253932]\n",
      " [ 0.32712169]]\n"
     ]
    }
   ],
   "source": [
    "print(\"Tangency Asset Alloc:\")\n",
    "print(wt)"
   ]
  },
  {
   "cell_type": "code",
   "execution_count": 14,
   "metadata": {},
   "outputs": [
    {
     "name": "stdout",
     "output_type": "stream",
     "text": [
      "Tangency Portfolio Return:\n",
      "[[ 0.05061473]]\n"
     ]
    }
   ],
   "source": [
    "exp_return = mu.transpose().dot(wt)\n",
    "print(\"Tangency Portfolio Return:\")\n",
    "print(exp_return)"
   ]
  },
  {
   "cell_type": "code",
   "execution_count": 15,
   "metadata": {},
   "outputs": [
    {
     "name": "stdout",
     "output_type": "stream",
     "text": [
      "Tangency Portfolio Std:\n",
      "[[ 0.10403063]]\n"
     ]
    }
   ],
   "source": [
    "port_std = np.sqrt(wt.transpose().dot(cov_mat).dot(wt))\n",
    "print(\"Tangency Portfolio Std:\")\n",
    "print(port_std)"
   ]
  },
  {
   "cell_type": "code",
   "execution_count": 17,
   "metadata": {},
   "outputs": [
    {
     "name": "stdout",
     "output_type": "stream",
     "text": [
      "Tangency Portfolio Sharpe:\n",
      "[[ 0.34234846]]\n"
     ]
    }
   ],
   "source": [
    "sharpe = (exp_return - r) / port_std\n",
    "print(\"Tangency Portfolio Sharpe:\")\n",
    "print(sharpe)"
   ]
  },
  {
   "cell_type": "markdown",
   "metadata": {},
   "source": [
    "### Part ii) 5% expected return min var portfolio"
   ]
  },
  {
   "cell_type": "code",
   "execution_count": 18,
   "metadata": {
    "collapsed": true
   },
   "outputs": [],
   "source": [
    "w, wcash, sig_min = am.min_var_port(cov_mat, mu, r, 0.05)"
   ]
  },
  {
   "cell_type": "code",
   "execution_count": 20,
   "metadata": {},
   "outputs": [
    {
     "name": "stdout",
     "output_type": "stream",
     "text": [
      "Asset Alloc:\n",
      "[[ 0.27970192]\n",
      " [ 0.17269141]\n",
      " [ 0.20887079]\n",
      " [ 0.32147542]]\n",
      "Cash Alloc:\n",
      "[[ 0.01726045]]\n",
      "Standard Dev:\n",
      "[[ 0.10223501]]\n",
      "Sharpe:\n",
      "[[ 0.34234846]]\n"
     ]
    }
   ],
   "source": [
    "print(\"Asset Alloc:\")\n",
    "print(w)\n",
    "print(\"Cash Alloc:\")\n",
    "print(wcash)\n",
    "print(\"Standard Dev:\")\n",
    "print(sig_min)\n",
    "print(\"Sharpe:\")\n",
    "print((0.05 - r) / sig_min)"
   ]
  },
  {
   "cell_type": "markdown",
   "metadata": {},
   "source": [
    "### Part iii) 29% std max return portfolio"
   ]
  },
  {
   "cell_type": "code",
   "execution_count": 21,
   "metadata": {
    "collapsed": true
   },
   "outputs": [],
   "source": [
    "w, wcash, exp_ret = am.max_ret_port(cov_mat, mu, r, 0.29)"
   ]
  },
  {
   "cell_type": "code",
   "execution_count": 22,
   "metadata": {},
   "outputs": [
    {
     "name": "stdout",
     "output_type": "stream",
     "text": [
      "Asset Alloc:\n",
      "[[ 0.79340291]\n",
      " [ 0.48985672]\n",
      " [ 0.59248322]\n",
      " [ 0.91189769]]\n",
      "Cash Alloc:\n",
      "[[-1.78764054]]\n",
      "Expected Return:\n",
      "[[ 0.11428105]]\n",
      "Sharpe:\n",
      "[[ 0.34234846]]\n"
     ]
    }
   ],
   "source": [
    "print(\"Asset Alloc:\")\n",
    "print(w)\n",
    "print(\"Cash Alloc:\")\n",
    "print(wcash)\n",
    "print(\"Expected Return:\")\n",
    "print(exp_ret)\n",
    "print(\"Sharpe:\")\n",
    "print((exp_ret - r) / 0.29)"
   ]
  },
  {
   "cell_type": "markdown",
   "metadata": {
    "collapsed": true
   },
   "source": [
    "### Part iv) Fully Invested portfolio"
   ]
  },
  {
   "cell_type": "code",
   "execution_count": 34,
   "metadata": {},
   "outputs": [
    {
     "name": "stdout",
     "output_type": "stream",
     "text": [
      "Asset Alloc:\n",
      "[[ 0.27131101]\n",
      " [ 0.21541792]\n",
      " [ 0.15951476]\n",
      " [ 0.35375631]]\n"
     ]
    }
   ],
   "source": [
    "wf = am.fully_invested_port(cov_mat)\n",
    "print(\"Asset Alloc:\")\n",
    "print(wf)"
   ]
  },
  {
   "cell_type": "code",
   "execution_count": 35,
   "metadata": {},
   "outputs": [
    {
     "name": "stdout",
     "output_type": "stream",
     "text": [
      "Expected Return:\n",
      "[[ 0.04923544]]\n",
      "Standard Dev:\n",
      "[[ 0.10199629]]\n",
      "Sharpe:\n",
      "[[ 0.33565376]]\n"
     ]
    }
   ],
   "source": [
    "exp_full = wf.transpose().dot(mu_bar) + r\n",
    "sig_full = np.sqrt(wf.transpose().dot(cov_mat).dot(wf))\n",
    "print(\"Expected Return:\")\n",
    "print(exp_full)\n",
    "print(\"Standard Dev:\")\n",
    "print(sig_full)\n",
    "print(\"Sharpe:\")\n",
    "print((exp_full - r)/sig_full)"
   ]
  },
  {
   "cell_type": "code",
   "execution_count": null,
   "metadata": {
    "collapsed": true
   },
   "outputs": [],
   "source": []
  }
 ],
 "metadata": {
  "kernelspec": {
   "display_name": "Python 3",
   "language": "python",
   "name": "python3"
  },
  "language_info": {
   "codemirror_mode": {
    "name": "ipython",
    "version": 3
   },
   "file_extension": ".py",
   "mimetype": "text/x-python",
   "name": "python",
   "nbconvert_exporter": "python",
   "pygments_lexer": "ipython3",
   "version": "3.6.4"
  }
 },
 "nbformat": 4,
 "nbformat_minor": 2
}
