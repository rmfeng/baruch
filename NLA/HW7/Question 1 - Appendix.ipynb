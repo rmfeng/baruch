{
 "cells": [
  {
   "cell_type": "code",
   "execution_count": 76,
   "metadata": {
    "collapsed": true
   },
   "outputs": [],
   "source": [
    "import numpy as np\n",
    "import pandas as pd\n",
    "from scipy.linalg import cho_solve\n",
    "\n",
    "import matplotlib.pyplot as plt\n",
    "%matplotlib inline\n",
    "\n",
    "lib_path = r'/Users/rmfeng/Documents/jupyter/AC-FE/'\n",
    "import sys\n",
    "sys.path.append(lib_path)\n",
    "import acfe_methods as am"
   ]
  },
  {
   "cell_type": "code",
   "execution_count": 20,
   "metadata": {
    "collapsed": true
   },
   "outputs": [],
   "source": [
    "y2 = np.array([1.69, 1.81, 1.81, 1.79, 1.79, \n",
    "                1.83, 1.81, 1.81, 1.83, 1.81, \n",
    "                1.82, 1.82, 1.80, 1.78, 1.79])\n",
    "y3 = np.array([2.58, 2.71, 2.72, 2.78, 2.77, \n",
    "              2.75, 2.71, 2.72, 2.76, 2.73,\n",
    "              2.75, 2.75, 2.73, 2.71, 2.71])\n",
    "y5 = np.array([3.57, 3.69, 3.70, 3.77, 3.77,\n",
    "              3.73, 3.72, 3.74, 3.77, 3.75,\n",
    "              3.77, 3.76, 3.75, 3.72, 3.71])\n",
    "y10 = np.array([4.63, 4.73, 4.74, 4.81, 4.80,\n",
    "               4.79, 4.76, 4.77, 4.80, 4.77,\n",
    "               4.80, 4.80, 4.78, 4.73, 4.73])\n",
    "ones = [1] * 15"
   ]
  },
  {
   "cell_type": "code",
   "execution_count": 54,
   "metadata": {},
   "outputs": [
    {
     "data": {
      "text/plain": [
       "array([[ 1.  ,  1.69,  3.57,  4.63],\n",
       "       [ 1.  ,  1.81,  3.69,  4.73],\n",
       "       [ 1.  ,  1.81,  3.7 ,  4.74],\n",
       "       [ 1.  ,  1.79,  3.77,  4.81],\n",
       "       [ 1.  ,  1.79,  3.77,  4.8 ],\n",
       "       [ 1.  ,  1.83,  3.73,  4.79],\n",
       "       [ 1.  ,  1.81,  3.72,  4.76],\n",
       "       [ 1.  ,  1.81,  3.74,  4.77],\n",
       "       [ 1.  ,  1.83,  3.77,  4.8 ],\n",
       "       [ 1.  ,  1.81,  3.75,  4.77],\n",
       "       [ 1.  ,  1.82,  3.77,  4.8 ],\n",
       "       [ 1.  ,  1.82,  3.76,  4.8 ],\n",
       "       [ 1.  ,  1.8 ,  3.75,  4.78],\n",
       "       [ 1.  ,  1.78,  3.72,  4.73],\n",
       "       [ 1.  ,  1.79,  3.71,  4.73]])"
      ]
     },
     "execution_count": 54,
     "metadata": {},
     "output_type": "execute_result"
    }
   ],
   "source": [
    "A = np.column_stack([ones,y2,y5,y10])\n",
    "A"
   ]
  },
  {
   "cell_type": "code",
   "execution_count": 55,
   "metadata": {},
   "outputs": [
    {
     "data": {
      "text/plain": [
       "array([[ 2.58],\n",
       "       [ 2.71],\n",
       "       [ 2.72],\n",
       "       [ 2.78],\n",
       "       [ 2.77],\n",
       "       [ 2.75],\n",
       "       [ 2.71],\n",
       "       [ 2.72],\n",
       "       [ 2.76],\n",
       "       [ 2.73],\n",
       "       [ 2.75],\n",
       "       [ 2.75],\n",
       "       [ 2.73],\n",
       "       [ 2.71],\n",
       "       [ 2.71]])"
      ]
     },
     "execution_count": 55,
     "metadata": {},
     "output_type": "execute_result"
    }
   ],
   "source": [
    "b = np.column_stack([y3])\n",
    "b"
   ]
  },
  {
   "cell_type": "code",
   "execution_count": 56,
   "metadata": {},
   "outputs": [
    {
     "data": {
      "text/plain": [
       "array([[-1.27202812],\n",
       "       [ 0.12720817],\n",
       "       [ 0.3340453 ],\n",
       "       [ 0.52977688]])"
      ]
     },
     "execution_count": 56,
     "metadata": {},
     "output_type": "execute_result"
    }
   ],
   "source": [
    "AtA = np.matmul(A.transpose(), A)\n",
    "Atb = np.matmul(A.transpose(), b)\n",
    "\n",
    "Ut = np.linalg.cholesky(AtA)\n",
    "Ut\n",
    "\n",
    "x = cho_solve((Ut, True), Atb)\n",
    "x"
   ]
  },
  {
   "cell_type": "markdown",
   "metadata": {},
   "source": [
    "#### Checking Work"
   ]
  },
  {
   "cell_type": "code",
   "execution_count": 57,
   "metadata": {
    "collapsed": true
   },
   "outputs": [],
   "source": [
    "from sklearn import linear_model as lm"
   ]
  },
  {
   "cell_type": "code",
   "execution_count": 49,
   "metadata": {},
   "outputs": [
    {
     "data": {
      "text/plain": [
       "array([[ 0.12720817,  0.3340453 ,  0.52977688, -1.27202812]])"
      ]
     },
     "execution_count": 49,
     "metadata": {},
     "output_type": "execute_result"
    }
   ],
   "source": [
    "model = lm.LinearRegression(fit_intercept=False)\n",
    "model.fit(A,b)\n",
    "model.coef_"
   ]
  },
  {
   "cell_type": "markdown",
   "metadata": {},
   "source": [
    "#### Approximation Error:"
   ]
  },
  {
   "cell_type": "code",
   "execution_count": 50,
   "metadata": {},
   "outputs": [
    {
     "data": {
      "image/png": "[encoded data removed]",
      "text/plain": [
       "<matplotlib.figure.Figure at 0x60ef93438>"
      ]
     },
     "metadata": {},
     "output_type": "display_data"
    }
   ],
   "source": [
    "pred = np.matmul(A,x)\n",
    "plt.plot(b,linestyle=\"\",marker=\"o\")\n",
    "plt.plot(pred)\n",
    "plt.show()"
   ]
  },
  {
   "cell_type": "code",
   "execution_count": 51,
   "metadata": {
    "collapsed": true
   },
   "outputs": [],
   "source": [
    "err = b - pred"
   ]
  },
  {
   "cell_type": "code",
   "execution_count": 52,
   "metadata": {
    "collapsed": true
   },
   "outputs": [],
   "source": [
    "sqrt_norm = np.sqrt(np.matmul(err.transpose(),err))"
   ]
  },
  {
   "cell_type": "code",
   "execution_count": 53,
   "metadata": {},
   "outputs": [
    {
     "data": {
      "text/plain": [
       "array([[ 0.04301298]])"
      ]
     },
     "execution_count": 53,
     "metadata": {},
     "output_type": "execute_result"
    }
   ],
   "source": [
    "sqrt_norm"
   ]
  },
  {
   "cell_type": "markdown",
   "metadata": {},
   "source": [
    "#### Linear Interpolation"
   ]
  },
  {
   "cell_type": "code",
   "execution_count": 73,
   "metadata": {},
   "outputs": [
    {
     "data": {
      "text/plain": [
       "array([[ 1.0986962]])"
      ]
     },
     "execution_count": 73,
     "metadata": {},
     "output_type": "execute_result"
    }
   ],
   "source": [
    "pred_li = np.column_stack([(2/3) * y2 + (1/3) * y5])\n",
    "err_li = b - pred_li\n",
    "sqrt_norm_li = np.sqrt(np.matmul(err_li.transpose(),err_li))\n",
    "sqrt_norm_li"
   ]
  },
  {
   "cell_type": "code",
   "execution_count": 75,
   "metadata": {},
   "outputs": [
    {
     "data": {
      "text/plain": [
       "array([[ 2.31666667],\n",
       "       [ 2.43666667],\n",
       "       [ 2.44      ],\n",
       "       [ 2.45      ],\n",
       "       [ 2.45      ],\n",
       "       [ 2.46333333],\n",
       "       [ 2.44666667],\n",
       "       [ 2.45333333],\n",
       "       [ 2.47666667],\n",
       "       [ 2.45666667],\n",
       "       [ 2.47      ],\n",
       "       [ 2.46666667],\n",
       "       [ 2.45      ],\n",
       "       [ 2.42666667],\n",
       "       [ 2.43      ]])"
      ]
     },
     "execution_count": 75,
     "metadata": {},
     "output_type": "execute_result"
    }
   ],
   "source": [
    "pred_li"
   ]
  },
  {
   "cell_type": "markdown",
   "metadata": {},
   "source": [
    "#### Cubic Spline"
   ]
  },
  {
   "cell_type": "code",
   "execution_count": 92,
   "metadata": {
    "collapsed": true
   },
   "outputs": [],
   "source": [
    "x_list = np.array([2, 5, 10])"
   ]
  },
  {
   "cell_type": "code",
   "execution_count": 101,
   "metadata": {},
   "outputs": [
    {
     "data": {
      "text/plain": [
       "array([ 2.38577778,  2.50644444,  2.51033333,  2.52533333,  2.52566667,\n",
       "        2.53355556,  2.51811111,  2.52622222,  2.55011111,  2.53044444,\n",
       "        2.544     ,  2.53977778,  2.524     ,  2.50077778,  2.50266667])"
      ]
     },
     "execution_count": 101,
     "metadata": {},
     "output_type": "execute_result"
    }
   ],
   "source": [
    "pred_cs = np.array([])\n",
    "for i in range(0,len(y2)):\n",
    "    cur_y = np.array([y2[i], y5[i], y10[i]])\n",
    "    a, b, c, d, M, z = am.efficient_cub_spline(x_list, cur_y)\n",
    "    cur_y3 = am.piecewise_cubic(3, x_list, a, b, c, d)\n",
    "    pred_cs = np.append(pred_cs, cur_y3)\n",
    "    \n",
    "pred_cs"
   ]
  },
  {
   "cell_type": "code",
   "execution_count": 103,
   "metadata": {},
   "outputs": [
    {
     "data": {
      "text/plain": [
       "array([[ 0.19422222],\n",
       "       [ 0.20355556],\n",
       "       [ 0.20966667],\n",
       "       [ 0.25466667],\n",
       "       [ 0.24433333],\n",
       "       [ 0.21644444],\n",
       "       [ 0.19188889],\n",
       "       [ 0.19377778],\n",
       "       [ 0.20988889],\n",
       "       [ 0.19955556],\n",
       "       [ 0.206     ],\n",
       "       [ 0.21022222],\n",
       "       [ 0.206     ],\n",
       "       [ 0.20922222],\n",
       "       [ 0.20733333]])"
      ]
     },
     "execution_count": 103,
     "metadata": {},
     "output_type": "execute_result"
    }
   ],
   "source": [
    "err_cs = np.column_stack([y3 - pred_cs])\n",
    "err_cs"
   ]
  },
  {
   "cell_type": "code",
   "execution_count": 104,
   "metadata": {},
   "outputs": [
    {
     "data": {
      "text/plain": [
       "array([[ 0.81767518]])"
      ]
     },
     "execution_count": 104,
     "metadata": {},
     "output_type": "execute_result"
    }
   ],
   "source": [
    "np.sqrt(np.matmul(err_cs.transpose(), err_cs))"
   ]
  },
  {
   "cell_type": "code",
   "execution_count": null,
   "metadata": {
    "collapsed": true
   },
   "outputs": [],
   "source": []
  }
 ],
 "metadata": {
  "kernelspec": {
   "display_name": "Python 3",
   "language": "python",
   "name": "python3"
  },
  "language_info": {
   "codemirror_mode": {
    "name": "ipython",
    "version": 3
   },
   "file_extension": ".py",
   "mimetype": "text/x-python",
   "name": "python",
   "nbconvert_exporter": "python",
   "pygments_lexer": "ipython3",
   "version": "3.6.3"
  }
 },
 "nbformat": 4,
 "nbformat_minor": 2
}
