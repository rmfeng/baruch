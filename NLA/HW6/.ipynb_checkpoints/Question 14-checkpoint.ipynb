{
 "cells": [
  {
   "cell_type": "code",
   "execution_count": 109,
   "metadata": {},
   "outputs": [],
   "source": [
    "import numpy as np\n",
    "from scipy.linalg import solve\n",
    "\n",
    "import matplotlib.pyplot as plt\n",
    "%matplotlib inline  "
   ]
  },
  {
   "cell_type": "code",
   "execution_count": 17,
   "metadata": {
    "collapsed": true
   },
   "outputs": [],
   "source": [
    "def df_yld(t, yld):\n",
    "    return np.exp(-yld * t)\n",
    "\n",
    "def gen_cf(t_list, cpn_rate, cpn_per_y, par=100):\n",
    "    cf = cpn_rate * par / cpn_per_y\n",
    "    total_len = len(t_list)\n",
    "    cf_list = [0] + [cf] * (total_len - 1)\n",
    "    cf_list[-1] += par\n",
    "    return cf_list\n",
    "\n",
    "def gen_t_list(mat_in_m, freq):\n",
    "    interval_in_m = 12 / freq\n",
    "    return np.arange((mat_in_m % interval_in_m)/12, (mat_in_m + 1)/12, interval_in_m / 12)[0:]\n",
    "\n",
    "def price_bond_w_lists(yld, t_list, cf_list):\n",
    "    \"\"\" prices a bond given list of times and list of cfs \"\"\"\n",
    "    assert len(t_list) == len(cf_list)\n",
    "    df_list = df_yld(t_list, yld)\n",
    "    return np.sum(cf_list * df_list)"
   ]
  },
  {
   "cell_type": "code",
   "execution_count": 33,
   "metadata": {
    "collapsed": true
   },
   "outputs": [],
   "source": [
    "t_list_m = np.array([1,4,10,13,20,22])\n",
    "t_list= t_list_m/12\n",
    "df_list = np.array([0.9983, 0.9935, 0.9829, 0.9775, 0.9517, 0.9479])\n",
    "r_list = -np.log(df_list) / t_list"
   ]
  },
  {
   "cell_type": "code",
   "execution_count": 168,
   "metadata": {
    "scrolled": true
   },
   "outputs": [],
   "source": [
    "x = np.append([0], t_list)\n",
    "v = np.append([0.0075], r_list)"
   ]
  },
  {
   "cell_type": "code",
   "execution_count": 169,
   "metadata": {},
   "outputs": [
    {
     "name": "stdout",
     "output_type": "stream",
     "text": [
      "[ 0.02041736  0.01956365  0.02069747  0.02100645  0.02970325  0.02918524]\n"
     ]
    }
   ],
   "source": [
    "print(r_list)"
   ]
  },
  {
   "cell_type": "code",
   "execution_count": 85,
   "metadata": {},
   "outputs": [
    {
     "data": {
      "image/png": "[encoded data removed]",
      "text/plain": [
       "<matplotlib.figure.Figure at 0x11481b978>"
      ]
     },
     "metadata": {},
     "output_type": "display_data"
    }
   ],
   "source": [
    "plt.scatter(x, v)\n",
    "plt.show()"
   ]
  },
  {
   "cell_type": "code",
   "execution_count": 175,
   "metadata": {},
   "outputs": [],
   "source": [
    "def efficient_cub_spline(x, v):\n",
    "    n = len(x) - 1\n",
    "    z = np.array([0.0]*(n-1))\n",
    "    \n",
    "    for i in range(1,n):\n",
    "        z[i-1] = 6 * ((v[i+1]-v[i])/(x[i+1]-x[i]) - (v[i]-v[i-1])/(x[i]-x[i-1]))\n",
    "    \n",
    "    # making blank M array \n",
    "    M = np.array([[0.0]*(n-1)])\n",
    "    for i in range(1,n-1):\n",
    "        M = np.append(M, np.array([[0.0]*(n-1)]), axis=0)\n",
    "    \n",
    "    # updating M\n",
    "    for i in range(1,n):\n",
    "        M[i-1,i-1] = 2 * (x[i+1] - x[i-1]) \n",
    "    \n",
    "    for i in range(1,n-1):\n",
    "        M[i-1,i] = x[i+1] - x[i]\n",
    "           \n",
    "    for i in range(2, n):\n",
    "        M[i-1,i-2] = x[i] - x[i-1]\n",
    "    \n",
    "    # solving\n",
    "    s = solve(M,z)\n",
    "    w = np.append(np.append([0],s),[0])\n",
    "    \n",
    "    # initializing a,b,c,d\n",
    "    a = np.array([0.0]*(n+1))\n",
    "    b = np.array([0.0]*(n+1))\n",
    "    c = np.array([0.0]*(n+1))\n",
    "    d = np.array([0.0]*(n+1))\n",
    "    q = np.array([0.0]*(n+1))\n",
    "    r = np.array([0.0]*(n+1))\n",
    "    \n",
    "    for i in range(1,n+1):\n",
    "        c[i] = (w[i-1] * x[i] - w[i] * x[i-1]) / (2 * (x[i] - x[i-1]))\n",
    "        d[i] = (w[i]-w[i-1]) / (6 * (x[i] - x[i-1]))\n",
    "    \n",
    "    for i in range(1,n+1):\n",
    "        q[i-1] = v[i-1] - (c[i] * x[i-1]**2) - (d[i] * x[i-1]**3)\n",
    "        r[i] = v[i] - (c[i] * x[i]**2) - (d[i] * x[i]**3)\n",
    "    \n",
    "    for i in range(1,n+1):\n",
    "        a[i] = (q[i-1]*x[i] - r[i]*x[i-1]) / (x[i] - x[i-1])\n",
    "        b[i] = (r[i] - q[i-1]) / (x[i] - x[i-1])\n",
    "    \n",
    "    \n",
    "    return a[1:], b[1:], c[1:], d[1:], M, z\n",
    "\n",
    "a, b, c, d, M, z = efficient_cub_spline(x, v)"
   ]
  },
  {
   "cell_type": "code",
   "execution_count": 176,
   "metadata": {},
   "outputs": [
    {
     "name": "stdout",
     "output_type": "stream",
     "text": [
      "[[ 0.66666667  0.25        0.          0.          0.        ]\n",
      " [ 0.25        1.5         0.5         0.          0.        ]\n",
      " [ 0.          0.5         1.5         0.25        0.        ]\n",
      " [ 0.          0.          0.25        1.66666667  0.58333333]\n",
      " [ 0.          0.          0.          0.58333333  1.5       ]]\n",
      "[-0.95053891  0.03409486 -0.00619039  0.08203736 -0.10810137]\n"
     ]
    }
   ],
   "source": [
    "print(M)\n",
    "print(z)"
   ]
  },
  {
   "cell_type": "code",
   "execution_count": 159,
   "metadata": {},
   "outputs": [
    {
     "name": "stdout",
     "output_type": "stream",
     "text": [
      "[ 0.          0.08333333  0.33333333  0.83333333  1.08333333  1.66666667\n",
      "  1.83333333]\n",
      "[ 0.0075      0.02041736  0.01956365  0.02069747  0.02100645  0.02970325\n",
      "  0.02918524]\n",
      "\n",
      "[ 0.0075      0.00498714  0.05680253 -0.12306871  0.16063751 -0.66408638]\n",
      "[ 0.17649893  0.26696195 -0.19937655  0.44815992 -0.33748809  1.14701492]\n",
      "[ 0.         -1.08555628  0.31345921 -0.46358455  0.261629   -0.6290728 ]\n",
      "[-3.09464799  1.24757713 -0.15143836  0.15937914 -0.06376349  0.11437687]\n"
     ]
    }
   ],
   "source": [
    "print(x)\n",
    "print(v)\n",
    "print()\n",
    "print(a)\n",
    "print(b)\n",
    "print(c)\n",
    "print(d)"
   ]
  },
  {
   "cell_type": "code",
   "execution_count": 163,
   "metadata": {
    "collapsed": true
   },
   "outputs": [],
   "source": [
    "def cubic_x(x, a, b, c, d):\n",
    "    return a + b * x + c * x**2 + d * x**3\n",
    "\n",
    "def rate_curve(t, t_list, a, b, c, d):\n",
    "    for i in range(1,7):\n",
    "        if t <= t_list[i]:\n",
    "            return cubic_x(t, a[i-1], b[i-1], c[i-1], d[i-1])"
   ]
  },
  {
   "cell_type": "code",
   "execution_count": 172,
   "metadata": {},
   "outputs": [],
   "source": [
    "x_list = np.linspace(0,22/12,100)\n",
    "y_list = np.zeros_like(x_list)\n",
    "\n",
    "for i in range(0,len(x_list)):\n",
    "    y_list[i] = rate_curve(x_list[i], x, a, b, c, d)"
   ]
  },
  {
   "cell_type": "code",
   "execution_count": 174,
   "metadata": {},
   "outputs": [
    {
     "data": {
      "image/png": "[encoded data removed]",
      "text/plain": [
       "<matplotlib.figure.Figure at 0x11475cdd8>"
      ]
     },
     "metadata": {},
     "output_type": "display_data"
    }
   ],
   "source": [
    "plt.plot(x_list,y_list)\n",
    "plt.scatter(x,v)\n",
    "plt.show()"
   ]
  },
  {
   "cell_type": "code",
   "execution_count": 183,
   "metadata": {},
   "outputs": [
    {
     "name": "stdout",
     "output_type": "stream",
     "text": [
      "[ 0.25  0.75  1.25  1.75]\n"
     ]
    }
   ],
   "source": [
    "t_list = gen_t_list(21, 2)\n",
    "cpn_rate = 0.035\n",
    "print(t_list)"
   ]
  },
  {
   "cell_type": "code",
   "execution_count": 184,
   "metadata": {},
   "outputs": [
    {
     "data": {
      "text/plain": [
       "array([ 0.02337375,  0.01970286,  0.02303465,  0.02964282])"
      ]
     },
     "execution_count": 184,
     "metadata": {},
     "output_type": "execute_result"
    }
   ],
   "source": [
    "r_list = np.zeros_like(t_list)\n",
    "i = 0\n",
    "\n",
    "for t in t_list:\n",
    "    r_list[i] = rate_curve(t, x, a, b, c, d)\n",
    "    i += 1\n",
    "\n",
    "r_list"
   ]
  },
  {
   "cell_type": "code",
   "execution_count": null,
   "metadata": {
    "collapsed": true
   },
   "outputs": [],
   "source": [
    "cf_list = gen_cf(t_list, cpn_rate, 2)"
   ]
  }
 ],
 "metadata": {
  "kernelspec": {
   "display_name": "Python 3",
   "language": "python",
   "name": "python3"
  },
  "language_info": {
   "codemirror_mode": {
    "name": "ipython",
    "version": 3
   },
   "file_extension": ".py",
   "mimetype": "text/x-python",
   "name": "python",
   "nbconvert_exporter": "python",
   "pygments_lexer": "ipython3",
   "version": "3.6.3"
  }
 },
 "nbformat": 4,
 "nbformat_minor": 2
}
