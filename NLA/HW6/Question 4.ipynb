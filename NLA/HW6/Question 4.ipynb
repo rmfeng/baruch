{
 "cells": [
  {
   "cell_type": "code",
   "execution_count": 1,
   "metadata": {
    "collapsed": true
   },
   "outputs": [],
   "source": [
    "import numpy as np"
   ]
  },
  {
   "cell_type": "code",
   "execution_count": 2,
   "metadata": {
    "collapsed": true
   },
   "outputs": [],
   "source": [
    "B = np.array([[2,-1,0,0],\n",
    "             [-1,2,-1,0],\n",
    "             [0,-1,2,-1],\n",
    "             [0,0,-1,2]])"
   ]
  },
  {
   "cell_type": "code",
   "execution_count": 3,
   "metadata": {},
   "outputs": [
    {
     "data": {
      "text/plain": [
       "array([[ 2, -1,  0,  0],\n",
       "       [-1,  2, -1,  0],\n",
       "       [ 0, -1,  2, -1],\n",
       "       [ 0,  0, -1,  2]])"
      ]
     },
     "execution_count": 3,
     "metadata": {},
     "output_type": "execute_result"
    }
   ],
   "source": [
    "B"
   ]
  },
  {
   "cell_type": "code",
   "execution_count": 5,
   "metadata": {},
   "outputs": [],
   "source": [
    "C = np.linalg.cholesky(B)"
   ]
  },
  {
   "cell_type": "code",
   "execution_count": 6,
   "metadata": {},
   "outputs": [
    {
     "data": {
      "text/plain": [
       "array([[ 1.41421356,  0.        ,  0.        ,  0.        ],\n",
       "       [-0.70710678,  1.22474487,  0.        ,  0.        ],\n",
       "       [ 0.        , -0.81649658,  1.15470054,  0.        ],\n",
       "       [ 0.        ,  0.        , -0.8660254 ,  1.11803399]])"
      ]
     },
     "execution_count": 6,
     "metadata": {},
     "output_type": "execute_result"
    }
   ],
   "source": [
    "C"
   ]
  },
  {
   "cell_type": "code",
   "execution_count": 16,
   "metadata": {},
   "outputs": [
    {
     "data": {
      "text/plain": [
       "array([[ 1.41421356,  0.        ,  0.        ,  0.        ,  0.        ],\n",
       "       [-0.70710678,  1.22474487,  0.        ,  0.        ,  0.        ],\n",
       "       [ 0.        , -0.81649658,  1.15470054,  0.        ,  0.        ],\n",
       "       [ 0.        ,  0.        , -0.8660254 ,  0.5       ,  1.        ]])"
      ]
     },
     "execution_count": 16,
     "metadata": {},
     "output_type": "execute_result"
    }
   ],
   "source": [
    "D = np.append(C, [[0],[0],[0],[1]], axis=1)\n",
    "E = np.array([[0,0,0,0,0],\n",
    "             [0,0,0,0,0],\n",
    "             [0,0,0,0,0],\n",
    "             [0,0,0,-np.sqrt(1.25)+np.sqrt(0.25),0]])\n",
    "F = D + E\n",
    "F"
   ]
  },
  {
   "cell_type": "code",
   "execution_count": 17,
   "metadata": {},
   "outputs": [
    {
     "data": {
      "text/plain": [
       "array([[ 2., -1.,  0.,  0.],\n",
       "       [-1.,  2., -1.,  0.],\n",
       "       [ 0., -1.,  2., -1.],\n",
       "       [ 0.,  0., -1.,  2.]])"
      ]
     },
     "execution_count": 17,
     "metadata": {},
     "output_type": "execute_result"
    }
   ],
   "source": [
    "np.matmul(F,F.transpose())"
   ]
  },
  {
   "cell_type": "code",
   "execution_count": 18,
   "metadata": {
    "collapsed": true
   },
   "outputs": [],
   "source": [
    "C = np.array([[np.sqrt(2),0,0,0,0],\n",
    "             [-np.sqrt(2)/2, np.sqrt(3/2),0,0,0],\n",
    "             [0, -np.sqrt(2/3), np.sqrt(4/3),0,0],\n",
    "             [0,0,-np.sqrt(3/4),0.5,1]])"
   ]
  },
  {
   "cell_type": "code",
   "execution_count": 19,
   "metadata": {},
   "outputs": [
    {
     "data": {
      "text/plain": [
       "array([[ 1.41421356,  0.        ,  0.        ,  0.        ,  0.        ],\n",
       "       [-0.70710678,  1.22474487,  0.        ,  0.        ,  0.        ],\n",
       "       [ 0.        , -0.81649658,  1.15470054,  0.        ,  0.        ],\n",
       "       [ 0.        ,  0.        , -0.8660254 ,  0.5       ,  1.        ]])"
      ]
     },
     "execution_count": 19,
     "metadata": {},
     "output_type": "execute_result"
    }
   ],
   "source": [
    "C"
   ]
  },
  {
   "cell_type": "code",
   "execution_count": 20,
   "metadata": {},
   "outputs": [
    {
     "data": {
      "text/plain": [
       "array([[ 2., -1.,  0.,  0.],\n",
       "       [-1.,  2., -1.,  0.],\n",
       "       [ 0., -1.,  2., -1.],\n",
       "       [ 0.,  0., -1.,  2.]])"
      ]
     },
     "execution_count": 20,
     "metadata": {},
     "output_type": "execute_result"
    }
   ],
   "source": [
    "np.matmul(C,C.transpose())"
   ]
  },
  {
   "cell_type": "code",
   "execution_count": null,
   "metadata": {
    "collapsed": true
   },
   "outputs": [],
   "source": []
  }
 ],
 "metadata": {
  "kernelspec": {
   "display_name": "Python 3",
   "language": "python",
   "name": "python3"
  },
  "language_info": {
   "codemirror_mode": {
    "name": "ipython",
    "version": 3
   },
   "file_extension": ".py",
   "mimetype": "text/x-python",
   "name": "python",
   "nbconvert_exporter": "python",
   "pygments_lexer": "ipython3",
   "version": "3.6.3"
  }
 },
 "nbformat": 4,
 "nbformat_minor": 2
}
