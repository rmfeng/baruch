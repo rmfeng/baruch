{
 "cells": [
  {
   "cell_type": "code",
   "execution_count": 1,
   "metadata": {
    "collapsed": true
   },
   "outputs": [],
   "source": [
    "import numpy as np\n",
    "import pandas as pd\n",
    "from scipy.linalg import solve"
   ]
  },
  {
   "cell_type": "code",
   "execution_count": 2,
   "metadata": {
    "collapsed": true
   },
   "outputs": [],
   "source": [
    "# initializing all the problem parameters\n",
    "strike_list = [900, 1050, 1200, 1200, 1275, 1350]\n",
    "strike_list_idx = ['p900', 'p1050', 'p1200', 'c1200', 'c1275', 'c1350']\n",
    "\n",
    "bid_list = np.array([3.4, 14, 53.9, 52.8, 21.3, 6.3])\n",
    "ask_list = np.array([4.1, 15.5, 55.9, 54.8, 23.3, 7.3])\n",
    "mid_prices = (bid_list + ask_list) / 2\n",
    "\n",
    "isCall_list = [False, False, False, True, True, True]\n",
    "states = [750, 975, 1125, 1237.5, 1312.5, 1400]"
   ]
  },
  {
   "cell_type": "code",
   "execution_count": 3,
   "metadata": {
    "collapsed": true
   },
   "outputs": [],
   "source": [
    "def value_option(cur_strike, cur_isCall, cur_state):\n",
    "    # print('cur_strike=%s, cur_state=%s' % (cur_strike, cur_state))\n",
    "    if cur_isCall:\n",
    "        return np.max([cur_state - cur_strike, 0])\n",
    "    else:\n",
    "        return np.max([cur_strike - cur_state, 0])"
   ]
  },
  {
   "cell_type": "code",
   "execution_count": 4,
   "metadata": {},
   "outputs": [],
   "source": [
    "# loop through the state starts and ends:\n",
    "cur_dict, j = {}, 1\n",
    "for cur_state in states:\n",
    "    # for cur_strike in strike_list:\n",
    "    state_name = \"w\" + str(j) + \"_\" + str(cur_state)\n",
    "    cur_val_list = []\n",
    "    i = 1\n",
    "    for cur_strike in strike_list:\n",
    "        cur_isCall = isCall_list[i - 1]\n",
    "        val = value_option(cur_strike, cur_isCall, cur_state)\n",
    "        cur_val_list.append(val)\n",
    "        i += 1\n",
    "    cur_dict[state_name] = cur_val_list\n",
    "    j += 1\n",
    "df = pd.DataFrame(cur_dict)\n",
    "df.index = strike_list_idx\n",
    "#display(df)"
   ]
  },
  {
   "cell_type": "code",
   "execution_count": 5,
   "metadata": {},
   "outputs": [
    {
     "name": "stdout",
     "output_type": "stream",
     "text": [
      "State prices are:\n",
      "[[ 0.025     ]\n",
      " [ 0.09666667]\n",
      " [ 0.292     ]\n",
      " [ 0.28533333]\n",
      " [ 0.14133333]\n",
      " [ 0.136     ]]\n"
     ]
    }
   ],
   "source": [
    "x = mid_prices\n",
    "A = df.as_matrix()\n",
    "Q = solve(A,x)\n",
    "print(\"State prices are:\")\n",
    "print(Q.reshape(-1,1))"
   ]
  },
  {
   "cell_type": "code",
   "execution_count": 6,
   "metadata": {},
   "outputs": [],
   "source": [
    "# encoding the other options in our list:\n",
    "other_p_strikes = [800, 950, 995, 1025, 1060, 1075, 1100, 1150, 1175]\n",
    "other_c_strikes = [1175, 1225, 1250, 1300, 1325, 1375, 1400, 1425, 1450, 1475]\n",
    "all_other_strikes = other_p_strikes + other_c_strikes\n",
    "other_isCall = [False] * len(other_p_strikes) + [True] * len(other_c_strikes)\n",
    "\n",
    "other_bids = np.array([1.2, 5.3, 8.5, 11.1, 15.7, 18, 22.7, 35.3, 44.1,\n",
    "                      68, 40.3, 29.6, 15, 10, 4, 2.5, 1.4, 0.8, 0.35])\n",
    "other_asks = np.array([1.65, 6.3, 9.5, 12.6, 17.2, 19.5, 24.7, 37.3, 46.1,\n",
    "                      70, 42.3, 31.6, 16.2, 11, 4.7, 3.2, 1.85, 1.25, 0.8])\n",
    "other_mids = (other_bids + other_asks) / 2"
   ]
  },
  {
   "cell_type": "code",
   "execution_count": 7,
   "metadata": {
    "collapsed": true
   },
   "outputs": [],
   "source": [
    "def create_labels_from_strikes(strike_list, isCall_list):\n",
    "    return_list = []\n",
    "    for i in range(0,len(strike_list)):\n",
    "        if isCall_list[i]:\n",
    "            return_list.append(\"c\" + str(strike_list[i]))\n",
    "        else:\n",
    "            return_list.append(\"p\" + str(strike_list[i]))\n",
    "    return return_list"
   ]
  },
  {
   "cell_type": "code",
   "execution_count": 8,
   "metadata": {},
   "outputs": [],
   "source": [
    "other_index_labels = create_labels_from_strikes(all_other_strikes, other_isCall)"
   ]
  },
  {
   "cell_type": "code",
   "execution_count": 9,
   "metadata": {},
   "outputs": [],
   "source": [
    "# loop through the state starts and ends:\n",
    "cur_dict, j = {}, 1\n",
    "for cur_state in states:\n",
    "    # for cur_strike in strike_list:\n",
    "    state_name = \"w\" + str(j) + \"_\" + str(cur_state)\n",
    "    cur_val_list = []\n",
    "    i = 1\n",
    "    for cur_strike in all_other_strikes:\n",
    "        cur_isCall = other_isCall[i - 1]\n",
    "        val = value_option(cur_strike, cur_isCall, cur_state)\n",
    "        cur_val_list.append(val)\n",
    "        i += 1\n",
    "    cur_dict[state_name] = cur_val_list\n",
    "    j += 1\n",
    "df_other = pd.DataFrame(cur_dict)\n",
    "df_other.index = other_index_labels\n",
    "#display(df_other)"
   ]
  },
  {
   "cell_type": "code",
   "execution_count": 10,
   "metadata": {},
   "outputs": [
    {
     "name": "stdout",
     "output_type": "stream",
     "text": [
      "Model Prices of the other assets:\n",
      "[  1.25         5.           8.05833333  11.70833333  15.96666667\n",
      "  17.79166667  20.83333333  34.21666667  44.55833333  67.86666667\n",
      "  39.73333333  29.23333333  15.36666667  10.2          3.4          0.           0.\n",
      "   0.           0.        ]\n"
     ]
    }
   ],
   "source": [
    "M = df_other.as_matrix()\n",
    "other_model_prices = np.matmul(M,Q)\n",
    "print(\"Model Prices of the other assets:\")\n",
    "print(other_model_prices)"
   ]
  },
  {
   "cell_type": "markdown",
   "metadata": {},
   "source": [
    "### Part i)"
   ]
  },
  {
   "cell_type": "code",
   "execution_count": 11,
   "metadata": {},
   "outputs": [
    {
     "name": "stdout",
     "output_type": "stream",
     "text": [
      "List of errors for the other options in the order of:\n",
      "['p800', 'p950', 'p995', 'p1025', 'p1060', 'p1075', 'p1100', 'p1150', 'p1175', 'c1175', 'c1225', 'c1250', 'c1300', 'c1325', 'c1375', 'c1400', 'c1425', 'c1450', 'c1475']\n",
      "\n",
      "Relative Errors:\n",
      "[ 0.12280702  0.13793103  0.10462963  0.01195499  0.02938197  0.05111111\n",
      "  0.1209564   0.0573921   0.01201035  0.01642512  0.03793382  0.04466231\n",
      "  0.01495726  0.02857143  0.2183908   1.          1.          1.          1.        ]\n"
     ]
    }
   ],
   "source": [
    "rel_errors = np.abs(other_model_prices - other_mids) / other_mids\n",
    "\n",
    "print(\"List of errors for the other options in the order of:\")\n",
    "print(other_index_labels)\n",
    "print(\"\\nRelative Errors:\")\n",
    "print(rel_errors)"
   ]
  },
  {
   "cell_type": "code",
   "execution_count": 12,
   "metadata": {},
   "outputs": [
    {
     "name": "stdout",
     "output_type": "stream",
     "text": [
      "Mean Absolute Error = 1.0850877193\n"
     ]
    }
   ],
   "source": [
    "abs_error = np.abs(other_model_prices - other_mids)\n",
    "MAE = np.average(abs_error)\n",
    "print(\"Mean Absolute Error =\", MAE)"
   ]
  },
  {
   "cell_type": "markdown",
   "metadata": {},
   "source": [
    "### Part ii)"
   ]
  },
  {
   "cell_type": "code",
   "execution_count": 13,
   "metadata": {},
   "outputs": [],
   "source": [
    "new_strikes = [800, 950, 1050, 1200, 1200, 1275, 1350, 1425]\n",
    "new_isCall = [False] * 4 + [True] * 4\n",
    "new_index_labels = create_labels_from_strikes(new_strikes, new_isCall)\n",
    "new_states = [650, 875, 1000, 1125, 1237.5, 1312.5, 1387.5, 1500]\n",
    "\n",
    "new_bids = np.array([1.2, 5.3, 14, 53.9, 52.8, 21.3, 6.3, 1.4])\n",
    "new_asks = np.array([1.65, 6.3, 15.5, 55.9, 54.8, 23.3, 7.3, 1.85])\n",
    "new_mids = (new_bids + new_asks) / 2"
   ]
  },
  {
   "cell_type": "code",
   "execution_count": 14,
   "metadata": {},
   "outputs": [],
   "source": [
    "# loop through the state starts and ends:\n",
    "cur_dict, j = {}, 1\n",
    "for cur_state in new_states:\n",
    "    # for cur_strike in strike_list:\n",
    "    state_name = \"w\" + str(j) + \"_\" + str(cur_state)\n",
    "    cur_val_list = []\n",
    "    i = 1\n",
    "    for cur_strike in new_strikes:\n",
    "        cur_isCall = new_isCall[i - 1]\n",
    "        val = value_option(cur_strike, cur_isCall, cur_state)\n",
    "        cur_val_list.append(val)\n",
    "        i += 1\n",
    "    cur_dict[state_name] = cur_val_list\n",
    "    j += 1\n",
    "df_new = pd.DataFrame(cur_dict)\n",
    "df_new.index = new_index_labels"
   ]
  },
  {
   "cell_type": "markdown",
   "metadata": {},
   "source": [
    "#### section 1)"
   ]
  },
  {
   "cell_type": "code",
   "execution_count": 15,
   "metadata": {},
   "outputs": [
    {
     "name": "stdout",
     "output_type": "stream",
     "text": [
      "The Payoff Matrix M = \n"
     ]
    },
    {
     "data": {
      "text/html": [
       "<div>\n",
       "<style>\n",
       "    .dataframe thead tr:only-child th {\n",
       "        text-align: right;\n",
       "    }\n",
       "\n",
       "    .dataframe thead th {\n",
       "        text-align: left;\n",
       "    }\n",
       "\n",
       "    .dataframe tbody tr th {\n",
       "        vertical-align: top;\n",
       "    }\n",
       "</style>\n",
       "<table border=\"1\" class=\"dataframe\">\n",
       "  <thead>\n",
       "    <tr style=\"text-align: right;\">\n",
       "      <th></th>\n",
       "      <th>w1_650</th>\n",
       "      <th>w2_875</th>\n",
       "      <th>w3_1000</th>\n",
       "      <th>w4_1125</th>\n",
       "      <th>w5_1237.5</th>\n",
       "      <th>w6_1312.5</th>\n",
       "      <th>w7_1387.5</th>\n",
       "      <th>w8_1500</th>\n",
       "    </tr>\n",
       "  </thead>\n",
       "  <tbody>\n",
       "    <tr>\n",
       "      <th>p800</th>\n",
       "      <td>150</td>\n",
       "      <td>0</td>\n",
       "      <td>0</td>\n",
       "      <td>0</td>\n",
       "      <td>0.0</td>\n",
       "      <td>0.0</td>\n",
       "      <td>0.0</td>\n",
       "      <td>0</td>\n",
       "    </tr>\n",
       "    <tr>\n",
       "      <th>p950</th>\n",
       "      <td>300</td>\n",
       "      <td>75</td>\n",
       "      <td>0</td>\n",
       "      <td>0</td>\n",
       "      <td>0.0</td>\n",
       "      <td>0.0</td>\n",
       "      <td>0.0</td>\n",
       "      <td>0</td>\n",
       "    </tr>\n",
       "    <tr>\n",
       "      <th>p1050</th>\n",
       "      <td>400</td>\n",
       "      <td>175</td>\n",
       "      <td>50</td>\n",
       "      <td>0</td>\n",
       "      <td>0.0</td>\n",
       "      <td>0.0</td>\n",
       "      <td>0.0</td>\n",
       "      <td>0</td>\n",
       "    </tr>\n",
       "    <tr>\n",
       "      <th>p1200</th>\n",
       "      <td>550</td>\n",
       "      <td>325</td>\n",
       "      <td>200</td>\n",
       "      <td>75</td>\n",
       "      <td>0.0</td>\n",
       "      <td>0.0</td>\n",
       "      <td>0.0</td>\n",
       "      <td>0</td>\n",
       "    </tr>\n",
       "    <tr>\n",
       "      <th>c1200</th>\n",
       "      <td>0</td>\n",
       "      <td>0</td>\n",
       "      <td>0</td>\n",
       "      <td>0</td>\n",
       "      <td>37.5</td>\n",
       "      <td>112.5</td>\n",
       "      <td>187.5</td>\n",
       "      <td>300</td>\n",
       "    </tr>\n",
       "    <tr>\n",
       "      <th>c1275</th>\n",
       "      <td>0</td>\n",
       "      <td>0</td>\n",
       "      <td>0</td>\n",
       "      <td>0</td>\n",
       "      <td>0.0</td>\n",
       "      <td>37.5</td>\n",
       "      <td>112.5</td>\n",
       "      <td>225</td>\n",
       "    </tr>\n",
       "    <tr>\n",
       "      <th>c1350</th>\n",
       "      <td>0</td>\n",
       "      <td>0</td>\n",
       "      <td>0</td>\n",
       "      <td>0</td>\n",
       "      <td>0.0</td>\n",
       "      <td>0.0</td>\n",
       "      <td>37.5</td>\n",
       "      <td>150</td>\n",
       "    </tr>\n",
       "    <tr>\n",
       "      <th>c1425</th>\n",
       "      <td>0</td>\n",
       "      <td>0</td>\n",
       "      <td>0</td>\n",
       "      <td>0</td>\n",
       "      <td>0.0</td>\n",
       "      <td>0.0</td>\n",
       "      <td>0.0</td>\n",
       "      <td>75</td>\n",
       "    </tr>\n",
       "  </tbody>\n",
       "</table>\n",
       "</div>"
      ],
      "text/plain": [
       "       w1_650  w2_875  w3_1000  w4_1125  w5_1237.5  w6_1312.5  w7_1387.5  \\\n",
       "p800      150       0        0        0        0.0        0.0        0.0   \n",
       "p950      300      75        0        0        0.0        0.0        0.0   \n",
       "p1050     400     175       50        0        0.0        0.0        0.0   \n",
       "p1200     550     325      200       75        0.0        0.0        0.0   \n",
       "c1200       0       0        0        0       37.5      112.5      187.5   \n",
       "c1275       0       0        0        0        0.0       37.5      112.5   \n",
       "c1350       0       0        0        0        0.0        0.0       37.5   \n",
       "c1425       0       0        0        0        0.0        0.0        0.0   \n",
       "\n",
       "       w8_1500  \n",
       "p800         0  \n",
       "p950         0  \n",
       "p1050        0  \n",
       "p1200        0  \n",
       "c1200      300  \n",
       "c1275      225  \n",
       "c1350      150  \n",
       "c1425       75  "
      ]
     },
     "metadata": {},
     "output_type": "display_data"
    }
   ],
   "source": [
    "print(\"The Payoff Matrix M = \")\n",
    "display(df_new)"
   ]
  },
  {
   "cell_type": "markdown",
   "metadata": {},
   "source": [
    "#### section 2)\n",
    "\n",
    "Since the matrix is half lower triangular, and half upper triangular, we can see that the determinant of the matrix != 0. Hence the we have a rank of the 8x8 payoff matrix = 8\n",
    "\n",
    "Therefore, the securities are non-redundant"
   ]
  },
  {
   "cell_type": "markdown",
   "metadata": {},
   "source": [
    "#### section 3)\n",
    "\n",
    "Since the rank of the 8x8 payoff matrix is 8, then the span of the instrument row vectors is the full real^8 space. Therefore the market is complete."
   ]
  },
  {
   "cell_type": "code",
   "execution_count": 18,
   "metadata": {},
   "outputs": [
    {
     "name": "stdout",
     "output_type": "stream",
     "text": [
      "State Prices:\n",
      "[ 0.0095      0.03933333  0.08133333  0.275       0.246       0.18066667\n",
      "  0.09466667  0.02166667]\n"
     ]
    }
   ],
   "source": [
    "M = df_new.as_matrix()\n",
    "y = new_mids\n",
    "Q = solve(M, y)\n",
    "print(\"State Prices:\")\n",
    "print(Q)"
   ]
  },
  {
   "cell_type": "markdown",
   "metadata": {},
   "source": [
    "#### section 4) \n",
    "\n",
    "Since all of the state prices are > 0, we can conclude that the market is arbitrage-free"
   ]
  },
  {
   "cell_type": "markdown",
   "metadata": {},
   "source": [
    "#### section 5"
   ]
  },
  {
   "cell_type": "code",
   "execution_count": 19,
   "metadata": {},
   "outputs": [],
   "source": [
    "# encoding the other options in our list:\n",
    "# new_strikes = [800, 950, 1050, 1200, 1200, 1275, 1350, 1425]\n",
    "other_p_strikes = [900, 995, 1025, 1060, 1075, 1100, 1150, 1175]\n",
    "other_c_strikes = [1175, 1225, 1250, 1300, 1325, 1375, 1400, 1450, 1475]\n",
    "all_other_strikes = other_p_strikes + other_c_strikes\n",
    "other_isCall = [False] * len(other_p_strikes) + [True] * len(other_c_strikes)\n",
    "\n",
    "other_bids = np.array([3.4, 8.5, 11.1, 15.7, 18, 22.7, 35.3, 44.1,\n",
    "                      68, 40.3, 29.6, 15, 10, 4, 2.5, 0.8, 0.35])\n",
    "other_asks = np.array([4.1, 9.5, 12.6, 17.2, 19.5, 24.7, 37.3, 46.1,\n",
    "                      70, 42.3, 31.6, 16.2, 11, 4.7, 3.2, 1.25, 0.8])\n",
    "other_mids = (other_bids + other_asks) / 2\n",
    "other_index_labels = create_labels_from_strikes(all_other_strikes, other_isCall)"
   ]
  },
  {
   "cell_type": "code",
   "execution_count": 20,
   "metadata": {},
   "outputs": [
    {
     "data": {
      "text/html": [
       "<div>\n",
       "<style>\n",
       "    .dataframe thead tr:only-child th {\n",
       "        text-align: right;\n",
       "    }\n",
       "\n",
       "    .dataframe thead th {\n",
       "        text-align: left;\n",
       "    }\n",
       "\n",
       "    .dataframe tbody tr th {\n",
       "        vertical-align: top;\n",
       "    }\n",
       "</style>\n",
       "<table border=\"1\" class=\"dataframe\">\n",
       "  <thead>\n",
       "    <tr style=\"text-align: right;\">\n",
       "      <th></th>\n",
       "      <th>w1_650</th>\n",
       "      <th>w2_875</th>\n",
       "      <th>w3_1000</th>\n",
       "      <th>w4_1125</th>\n",
       "      <th>w5_1237.5</th>\n",
       "      <th>w6_1312.5</th>\n",
       "      <th>w7_1387.5</th>\n",
       "      <th>w8_1500</th>\n",
       "    </tr>\n",
       "  </thead>\n",
       "  <tbody>\n",
       "    <tr>\n",
       "      <th>p900</th>\n",
       "      <td>250</td>\n",
       "      <td>25</td>\n",
       "      <td>0</td>\n",
       "      <td>0</td>\n",
       "      <td>0.0</td>\n",
       "      <td>0.0</td>\n",
       "      <td>0.0</td>\n",
       "      <td>0</td>\n",
       "    </tr>\n",
       "    <tr>\n",
       "      <th>p995</th>\n",
       "      <td>345</td>\n",
       "      <td>120</td>\n",
       "      <td>0</td>\n",
       "      <td>0</td>\n",
       "      <td>0.0</td>\n",
       "      <td>0.0</td>\n",
       "      <td>0.0</td>\n",
       "      <td>0</td>\n",
       "    </tr>\n",
       "    <tr>\n",
       "      <th>p1025</th>\n",
       "      <td>375</td>\n",
       "      <td>150</td>\n",
       "      <td>25</td>\n",
       "      <td>0</td>\n",
       "      <td>0.0</td>\n",
       "      <td>0.0</td>\n",
       "      <td>0.0</td>\n",
       "      <td>0</td>\n",
       "    </tr>\n",
       "    <tr>\n",
       "      <th>p1060</th>\n",
       "      <td>410</td>\n",
       "      <td>185</td>\n",
       "      <td>60</td>\n",
       "      <td>0</td>\n",
       "      <td>0.0</td>\n",
       "      <td>0.0</td>\n",
       "      <td>0.0</td>\n",
       "      <td>0</td>\n",
       "    </tr>\n",
       "    <tr>\n",
       "      <th>p1075</th>\n",
       "      <td>425</td>\n",
       "      <td>200</td>\n",
       "      <td>75</td>\n",
       "      <td>0</td>\n",
       "      <td>0.0</td>\n",
       "      <td>0.0</td>\n",
       "      <td>0.0</td>\n",
       "      <td>0</td>\n",
       "    </tr>\n",
       "    <tr>\n",
       "      <th>p1100</th>\n",
       "      <td>450</td>\n",
       "      <td>225</td>\n",
       "      <td>100</td>\n",
       "      <td>0</td>\n",
       "      <td>0.0</td>\n",
       "      <td>0.0</td>\n",
       "      <td>0.0</td>\n",
       "      <td>0</td>\n",
       "    </tr>\n",
       "    <tr>\n",
       "      <th>p1150</th>\n",
       "      <td>500</td>\n",
       "      <td>275</td>\n",
       "      <td>150</td>\n",
       "      <td>25</td>\n",
       "      <td>0.0</td>\n",
       "      <td>0.0</td>\n",
       "      <td>0.0</td>\n",
       "      <td>0</td>\n",
       "    </tr>\n",
       "    <tr>\n",
       "      <th>p1175</th>\n",
       "      <td>525</td>\n",
       "      <td>300</td>\n",
       "      <td>175</td>\n",
       "      <td>50</td>\n",
       "      <td>0.0</td>\n",
       "      <td>0.0</td>\n",
       "      <td>0.0</td>\n",
       "      <td>0</td>\n",
       "    </tr>\n",
       "    <tr>\n",
       "      <th>c1175</th>\n",
       "      <td>0</td>\n",
       "      <td>0</td>\n",
       "      <td>0</td>\n",
       "      <td>0</td>\n",
       "      <td>62.5</td>\n",
       "      <td>137.5</td>\n",
       "      <td>212.5</td>\n",
       "      <td>325</td>\n",
       "    </tr>\n",
       "    <tr>\n",
       "      <th>c1225</th>\n",
       "      <td>0</td>\n",
       "      <td>0</td>\n",
       "      <td>0</td>\n",
       "      <td>0</td>\n",
       "      <td>12.5</td>\n",
       "      <td>87.5</td>\n",
       "      <td>162.5</td>\n",
       "      <td>275</td>\n",
       "    </tr>\n",
       "    <tr>\n",
       "      <th>c1250</th>\n",
       "      <td>0</td>\n",
       "      <td>0</td>\n",
       "      <td>0</td>\n",
       "      <td>0</td>\n",
       "      <td>0.0</td>\n",
       "      <td>62.5</td>\n",
       "      <td>137.5</td>\n",
       "      <td>250</td>\n",
       "    </tr>\n",
       "    <tr>\n",
       "      <th>c1300</th>\n",
       "      <td>0</td>\n",
       "      <td>0</td>\n",
       "      <td>0</td>\n",
       "      <td>0</td>\n",
       "      <td>0.0</td>\n",
       "      <td>12.5</td>\n",
       "      <td>87.5</td>\n",
       "      <td>200</td>\n",
       "    </tr>\n",
       "    <tr>\n",
       "      <th>c1325</th>\n",
       "      <td>0</td>\n",
       "      <td>0</td>\n",
       "      <td>0</td>\n",
       "      <td>0</td>\n",
       "      <td>0.0</td>\n",
       "      <td>0.0</td>\n",
       "      <td>62.5</td>\n",
       "      <td>175</td>\n",
       "    </tr>\n",
       "    <tr>\n",
       "      <th>c1375</th>\n",
       "      <td>0</td>\n",
       "      <td>0</td>\n",
       "      <td>0</td>\n",
       "      <td>0</td>\n",
       "      <td>0.0</td>\n",
       "      <td>0.0</td>\n",
       "      <td>12.5</td>\n",
       "      <td>125</td>\n",
       "    </tr>\n",
       "    <tr>\n",
       "      <th>c1400</th>\n",
       "      <td>0</td>\n",
       "      <td>0</td>\n",
       "      <td>0</td>\n",
       "      <td>0</td>\n",
       "      <td>0.0</td>\n",
       "      <td>0.0</td>\n",
       "      <td>0.0</td>\n",
       "      <td>100</td>\n",
       "    </tr>\n",
       "    <tr>\n",
       "      <th>c1450</th>\n",
       "      <td>0</td>\n",
       "      <td>0</td>\n",
       "      <td>0</td>\n",
       "      <td>0</td>\n",
       "      <td>0.0</td>\n",
       "      <td>0.0</td>\n",
       "      <td>0.0</td>\n",
       "      <td>50</td>\n",
       "    </tr>\n",
       "    <tr>\n",
       "      <th>c1475</th>\n",
       "      <td>0</td>\n",
       "      <td>0</td>\n",
       "      <td>0</td>\n",
       "      <td>0</td>\n",
       "      <td>0.0</td>\n",
       "      <td>0.0</td>\n",
       "      <td>0.0</td>\n",
       "      <td>25</td>\n",
       "    </tr>\n",
       "  </tbody>\n",
       "</table>\n",
       "</div>"
      ],
      "text/plain": [
       "       w1_650  w2_875  w3_1000  w4_1125  w5_1237.5  w6_1312.5  w7_1387.5  \\\n",
       "p900      250      25        0        0        0.0        0.0        0.0   \n",
       "p995      345     120        0        0        0.0        0.0        0.0   \n",
       "p1025     375     150       25        0        0.0        0.0        0.0   \n",
       "p1060     410     185       60        0        0.0        0.0        0.0   \n",
       "p1075     425     200       75        0        0.0        0.0        0.0   \n",
       "p1100     450     225      100        0        0.0        0.0        0.0   \n",
       "p1150     500     275      150       25        0.0        0.0        0.0   \n",
       "p1175     525     300      175       50        0.0        0.0        0.0   \n",
       "c1175       0       0        0        0       62.5      137.5      212.5   \n",
       "c1225       0       0        0        0       12.5       87.5      162.5   \n",
       "c1250       0       0        0        0        0.0       62.5      137.5   \n",
       "c1300       0       0        0        0        0.0       12.5       87.5   \n",
       "c1325       0       0        0        0        0.0        0.0       62.5   \n",
       "c1375       0       0        0        0        0.0        0.0       12.5   \n",
       "c1400       0       0        0        0        0.0        0.0        0.0   \n",
       "c1450       0       0        0        0        0.0        0.0        0.0   \n",
       "c1475       0       0        0        0        0.0        0.0        0.0   \n",
       "\n",
       "       w8_1500  \n",
       "p900         0  \n",
       "p995         0  \n",
       "p1025        0  \n",
       "p1060        0  \n",
       "p1075        0  \n",
       "p1100        0  \n",
       "p1150        0  \n",
       "p1175        0  \n",
       "c1175      325  \n",
       "c1225      275  \n",
       "c1250      250  \n",
       "c1300      200  \n",
       "c1325      175  \n",
       "c1375      125  \n",
       "c1400      100  \n",
       "c1450       50  \n",
       "c1475       25  "
      ]
     },
     "metadata": {},
     "output_type": "display_data"
    }
   ],
   "source": [
    "# loop through the state starts and ends:\n",
    "cur_dict, j = {}, 1\n",
    "for cur_state in new_states:\n",
    "    # for cur_strike in strike_list:\n",
    "    state_name = \"w\" + str(j) + \"_\" + str(cur_state)\n",
    "    cur_val_list = []\n",
    "    i = 1\n",
    "    for cur_strike in all_other_strikes:\n",
    "        cur_isCall = other_isCall[i - 1]\n",
    "        val = value_option(cur_strike, cur_isCall, cur_state)\n",
    "        cur_val_list.append(val)\n",
    "        i += 1\n",
    "    cur_dict[state_name] = cur_val_list\n",
    "    j += 1\n",
    "df_other = pd.DataFrame(cur_dict)\n",
    "df_other.index = other_index_labels\n",
    "display(df_other)"
   ]
  },
  {
   "cell_type": "code",
   "execution_count": 22,
   "metadata": {},
   "outputs": [
    {
     "name": "stdout",
     "output_type": "stream",
     "text": [
      "Model Prices of the other assets:\n",
      "[  3.35833333   7.9975      11.49583333  16.05166667  18.00416667\n",
      "  21.25833333  34.64166667  44.77083333  67.375       40.225       29.725\n",
      "  14.875        9.70833333   3.89166667   2.16666667   1.08333333\n",
      "   0.54166667]\n"
     ]
    }
   ],
   "source": [
    "M = df_other.as_matrix()\n",
    "other_model_prices = np.matmul(M,Q)\n",
    "print(\"Model Prices of the other assets:\")\n",
    "print(other_model_prices)"
   ]
  },
  {
   "cell_type": "code",
   "execution_count": 23,
   "metadata": {},
   "outputs": [
    {
     "name": "stdout",
     "output_type": "stream",
     "text": [
      "List of errors for the other options in the order of:\n",
      "['p900', 'p995', 'p1025', 'p1060', 'p1075', 'p1100', 'p1150', 'p1175', 'c1175', 'c1225', 'c1250', 'c1300', 'c1325', 'c1375', 'c1400', 'c1450', 'c1475']\n",
      "\n",
      "Relative Errors:\n",
      "[ 0.10444444  0.11138889  0.02988748  0.02421479  0.03977778  0.10302391\n",
      "  0.04568411  0.0072986   0.02355072  0.02602906  0.02859477  0.04647436\n",
      "  0.07539683  0.10536398  0.23976608  0.05691057  0.05797101]\n"
     ]
    }
   ],
   "source": [
    "rel_errors = np.abs(other_model_prices - other_mids) / other_mids\n",
    "\n",
    "print(\"List of errors for the other options in the order of:\")\n",
    "print(other_index_labels)\n",
    "print(\"\\nRelative Errors:\")\n",
    "print(rel_errors)"
   ]
  },
  {
   "cell_type": "code",
   "execution_count": 24,
   "metadata": {},
   "outputs": [
    {
     "name": "stdout",
     "output_type": "stream",
     "text": [
      "Mean Absolute Error = 0.802745098039\n"
     ]
    }
   ],
   "source": [
    "abs_error = np.abs(other_model_prices - other_mids)\n",
    "MAE = np.average(abs_error)\n",
    "print(\"Mean Absolute Error =\", MAE)"
   ]
  },
  {
   "cell_type": "markdown",
   "metadata": {},
   "source": [
    "#### Comment on the results:\n",
    "\n",
    "Since the relative errors are much smaller, especially in the strikes above 1400, the new market with its new set of states are better at capturing the pricing in the real market.\n",
    "\n",
    "Given that the MAE is smaller, we would prefer to use the 2nd set of instruments and states to construct a more accurate representation of the true market."
   ]
  },
  {
   "cell_type": "code",
   "execution_count": null,
   "metadata": {
    "collapsed": true
   },
   "outputs": [],
   "source": []
  }
 ],
 "metadata": {
  "kernelspec": {
   "display_name": "Python 3",
   "language": "python",
   "name": "python3"
  },
  "language_info": {
   "codemirror_mode": {
    "name": "ipython",
    "version": 3
   },
   "file_extension": ".py",
   "mimetype": "text/x-python",
   "name": "python",
   "nbconvert_exporter": "python",
   "pygments_lexer": "ipython3",
   "version": "3.6.3"
  }
 },
 "nbformat": 4,
 "nbformat_minor": 2
}
