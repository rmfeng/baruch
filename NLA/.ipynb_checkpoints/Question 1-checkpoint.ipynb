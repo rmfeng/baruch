{
 "cells": [
  {
   "cell_type": "code",
   "execution_count": 22,
   "metadata": {
    "collapsed": true
   },
   "outputs": [],
   "source": [
    "import numpy as np\n",
    "import pandas as pd\n",
    "from scipy.linalg import solve"
   ]
  },
  {
   "cell_type": "code",
   "execution_count": 152,
   "metadata": {
    "collapsed": true
   },
   "outputs": [],
   "source": [
    "# initializing all the problem parameters\n",
    "strike_list = [1175, 1200, 1250, 1350, 1350, 1375, 1450, 1550, 1600]\n",
    "strike_list_idx = ['p1175', 'p1200', 'p1250', 'p1350', 'c1350', 'c1375', 'c1450', 'c1550', 'c1600']\n",
    "isCall_list = [False, False, False, False, True, True, True, True, True]\n",
    "state_mids = [1187.5, 1225, 1300, 1362.5, 1412.5, 1500, 1575] # for all cases\n",
    "state_starts = [800, 950, 1100] # iterate per case\n",
    "state_ends = [1650, 1700, 1800] # iterate per case\n",
    "price_list = [46.6, 51.55, 63.3, 95.3, 99.55, 84.90, 47.25, 15.8, 7.9]"
   ]
  },
  {
   "cell_type": "code",
   "execution_count": 153,
   "metadata": {
    "collapsed": true
   },
   "outputs": [],
   "source": [
    "def create_state(start, mid, end):\n",
    "    cur_states = []\n",
    "    cur_states.append(start)\n",
    "    for m in mid:\n",
    "        cur_states.append(m)\n",
    "    cur_states.append(end)\n",
    "    return cur_states\n",
    "\n",
    "def value_option(cur_strike, cur_isCall, cur_state):\n",
    "    # print('cur_strike=%s, cur_state=%s' % (cur_strike, cur_state))\n",
    "    if cur_isCall:\n",
    "        return np.max([cur_state - cur_strike, 0])\n",
    "    else:\n",
    "        return np.max([cur_strike - cur_state, 0])"
   ]
  },
  {
   "cell_type": "code",
   "execution_count": 154,
   "metadata": {},
   "outputs": [],
   "source": [
    "# loop through the state starts and ends:\n",
    "all_matrices = {}\n",
    "\n",
    "for start in state_starts:\n",
    "    for end in state_ends:\n",
    "        # creating the state list\n",
    "        cur_states = create_state(start, state_mids, end)\n",
    "        matrix_name = \"mat\"+\"_\"+str(start)+\"_\"+str(end)\n",
    "        \n",
    "        # creating the payoff matrix\n",
    "        cur_dict, j = {}, 1\n",
    "        for cur_state in cur_states:\n",
    "            # for cur_strike in strike_list:\n",
    "            state_name = \"w\" + str(j) + \"_\" + str(cur_state)\n",
    "            cur_val_list = []\n",
    "            i = 1\n",
    "            for cur_strike in strike_list:\n",
    "                cur_isCall = isCall_list[i - 1]\n",
    "                val = value_option(cur_strike, cur_isCall, cur_state)\n",
    "                cur_val_list.append(val)\n",
    "                i += 1\n",
    "            cur_dict[state_name] = cur_val_list\n",
    "            j += 1\n",
    "        df = pd.DataFrame(cur_dict)\n",
    "        df.index = strike_list_idx\n",
    "        all_matrices[matrix_name] = df"
   ]
  },
  {
   "cell_type": "code",
   "execution_count": 156,
   "metadata": {
    "scrolled": false
   },
   "outputs": [
    {
     "name": "stdout",
     "output_type": "stream",
     "text": [
      "mat_800_1650\n",
      "[ 0.12426667  0.14746667 -0.07346667  0.24346667  0.106       0.062       0.313\n",
      "  0.          0.158     ]\n",
      "\n",
      "\n",
      "mat_800_1700\n",
      "[ 0.12426667  0.14746667 -0.07346667  0.24346667 -0.052       0.22        0.155\n",
      "  0.158       0.079     ]\n",
      "\n",
      "\n",
      "mat_800_1800\n",
      "[ 0.12426667  0.14746667 -0.07346667  0.24346667 -0.131       0.299       0.076\n",
      "  0.237       0.0395    ]\n",
      "\n",
      "\n",
      "mat_950_1650\n",
      "[ 0.20711111 -0.01822222  0.09222222  0.07777778  0.106       0.062       0.313\n",
      "  0.          0.158     ]\n",
      "\n",
      "\n",
      "mat_950_1700\n",
      "[ 0.20711111 -0.01822222  0.09222222  0.07777778 -0.052       0.22        0.155\n",
      "  0.158       0.079     ]\n",
      "\n",
      "\n",
      "mat_950_1800\n",
      "[ 0.20711111 -0.01822222  0.09222222  0.07777778 -0.131       0.299       0.076\n",
      "  0.237       0.0395    ]\n",
      "\n",
      "\n",
      "mat_1100_1650\n",
      "[ 0.62133333 -0.84666667  0.92066667 -0.75066667  0.106       0.062       0.313\n",
      "  0.          0.158     ]\n",
      "\n",
      "\n",
      "mat_1100_1700\n",
      "[ 0.62133333 -0.84666667  0.92066667 -0.75066667 -0.052       0.22        0.155\n",
      "  0.158       0.079     ]\n",
      "\n",
      "\n",
      "mat_1100_1800\n",
      "[ 0.62133333 -0.84666667  0.92066667 -0.75066667 -0.131       0.299       0.076\n",
      "  0.237       0.0395    ]\n",
      "\n",
      "\n"
     ]
    }
   ],
   "source": [
    "price_vector = np.array(price_list)\n",
    "for mat_name in all_matrices:\n",
    "    A = all_matrices[mat_name].as_matrix()\n",
    "    cur_sol = solve(A, price_vector)\n",
    "    print(mat_name)\n",
    "    print(cur_sol)\n",
    "    print(\"\\n\")"
   ]
  },
  {
   "cell_type": "markdown",
   "metadata": {},
   "source": [
    "### Comments:\n",
    "\n",
    "Looks like for all of the permutations of the given head and tail states, the solved state prices all include at least 1 negative value. Therefore in each of the state combinations, the market is not arbitrage free."
   ]
  },
  {
   "cell_type": "code",
   "execution_count": null,
   "metadata": {
    "collapsed": true
   },
   "outputs": [],
   "source": []
  }
 ],
 "metadata": {
  "kernelspec": {
   "display_name": "Python 3",
   "language": "python",
   "name": "python3"
  },
  "language_info": {
   "codemirror_mode": {
    "name": "ipython",
    "version": 3
   },
   "file_extension": ".py",
   "mimetype": "text/x-python",
   "name": "python",
   "nbconvert_exporter": "python",
   "pygments_lexer": "ipython3",
   "version": "3.6.3"
  }
 },
 "nbformat": 4,
 "nbformat_minor": 2
}
