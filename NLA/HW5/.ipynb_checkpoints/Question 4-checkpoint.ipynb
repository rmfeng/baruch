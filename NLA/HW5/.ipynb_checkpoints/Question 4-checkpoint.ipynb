{
 "cells": [
  {
   "cell_type": "code",
   "execution_count": 3,
   "metadata": {
    "collapsed": true
   },
   "outputs": [],
   "source": [
    "import numpy as np"
   ]
  },
  {
   "cell_type": "code",
   "execution_count": 4,
   "metadata": {},
   "outputs": [],
   "source": [
    "Q = np.array([[np.sin(np.pi/5), np.sin(2*np.pi/5), np.sin(3*np.pi/5), np.sin(4*np.pi/5)],\n",
    "              [np.sin(2*np.pi/5), np.sin(4*np.pi/5), np.sin(6*np.pi/5), np.sin(8*np.pi/5)],\n",
    "              [np.sin(3*np.pi/5), np.sin(6*np.pi/5), np.sin(9*np.pi/5), np.sin(12*np.pi/5)],\n",
    "              [np.sin(4*np.pi/5), np.sin(8*np.pi/5), np.sin(12*np.pi/5), np.sin(16*np.pi/5)]])"
   ]
  },
  {
   "cell_type": "code",
   "execution_count": 21,
   "metadata": {},
   "outputs": [],
   "source": [
    "v = np.array([[np.sin(np.pi/5)],\n",
    "              [np.sin(2*np.pi/5)],\n",
    "              [np.sin(3*np.pi/5)],\n",
    "              [np.sin(4*np.pi/5)]])"
   ]
  },
  {
   "cell_type": "code",
   "execution_count": 32,
   "metadata": {},
   "outputs": [
    {
     "data": {
      "text/plain": [
       "array([[ 0.58778525,  0.95105652,  0.95105652,  0.58778525],\n",
       "       [ 0.95105652,  0.58778525, -0.58778525, -0.95105652],\n",
       "       [ 0.95105652, -0.58778525, -0.58778525,  0.95105652],\n",
       "       [ 0.58778525, -0.95105652,  0.95105652, -0.58778525]])"
      ]
     },
     "execution_count": 32,
     "metadata": {},
     "output_type": "execute_result"
    }
   ],
   "source": [
    "Q"
   ]
  },
  {
   "cell_type": "code",
   "execution_count": 35,
   "metadata": {},
   "outputs": [],
   "source": [
    "v1 = Q[0,:].reshape(-1,1)\n",
    "v2 = Q[1,:].reshape(-1,1)\n",
    "v3 = Q[2,:].reshape(-1,1)\n",
    "v4 = Q[3,:].reshape(-1,1)"
   ]
  },
  {
   "cell_type": "code",
   "execution_count": 22,
   "metadata": {
    "collapsed": true
   },
   "outputs": [],
   "source": [
    "B = np.array([[2,-1,0,0],\n",
    "             [-1,2,-1,0],\n",
    "             [0,-1,2,-1],\n",
    "             [0,0,-1,2]])"
   ]
  },
  {
   "cell_type": "code",
   "execution_count": 42,
   "metadata": {},
   "outputs": [
    {
     "data": {
      "text/plain": [
       "array([[ 0.38196601],\n",
       "       [ 0.38196601],\n",
       "       [ 0.38196601],\n",
       "       [ 0.38196601]])"
      ]
     },
     "execution_count": 42,
     "metadata": {},
     "output_type": "execute_result"
    }
   ],
   "source": [
    "np.matmul(B,v1) / v1"
   ]
  },
  {
   "cell_type": "code",
   "execution_count": 43,
   "metadata": {},
   "outputs": [
    {
     "data": {
      "text/plain": [
       "0.3819660112501051"
      ]
     },
     "execution_count": 43,
     "metadata": {},
     "output_type": "execute_result"
    }
   ],
   "source": [
    "2*(1-np.cos(np.pi/5))"
   ]
  },
  {
   "cell_type": "code",
   "execution_count": 44,
   "metadata": {},
   "outputs": [
    {
     "data": {
      "text/plain": [
       "array([[ 1.38196601],\n",
       "       [ 1.38196601],\n",
       "       [ 1.38196601],\n",
       "       [ 1.38196601]])"
      ]
     },
     "execution_count": 44,
     "metadata": {},
     "output_type": "execute_result"
    }
   ],
   "source": [
    "np.matmul(B,v2) / v2"
   ]
  },
  {
   "cell_type": "code",
   "execution_count": 45,
   "metadata": {},
   "outputs": [
    {
     "data": {
      "text/plain": [
       "1.3819660112501051"
      ]
     },
     "execution_count": 45,
     "metadata": {},
     "output_type": "execute_result"
    }
   ],
   "source": [
    "2*(1-np.cos(2*np.pi/5))"
   ]
  },
  {
   "cell_type": "code",
   "execution_count": 46,
   "metadata": {},
   "outputs": [
    {
     "data": {
      "text/plain": [
       "array([[ 2.61803399],\n",
       "       [ 2.61803399],\n",
       "       [ 2.61803399],\n",
       "       [ 2.61803399]])"
      ]
     },
     "execution_count": 46,
     "metadata": {},
     "output_type": "execute_result"
    }
   ],
   "source": [
    "np.matmul(B,v3) / v3"
   ]
  },
  {
   "cell_type": "code",
   "execution_count": 47,
   "metadata": {},
   "outputs": [
    {
     "data": {
      "text/plain": [
       "2.6180339887498949"
      ]
     },
     "execution_count": 47,
     "metadata": {},
     "output_type": "execute_result"
    }
   ],
   "source": [
    "2*(1-np.cos(3*np.pi/5))"
   ]
  },
  {
   "cell_type": "code",
   "execution_count": 48,
   "metadata": {},
   "outputs": [
    {
     "data": {
      "text/plain": [
       "array([[ 3.61803399],\n",
       "       [ 3.61803399],\n",
       "       [ 3.61803399],\n",
       "       [ 3.61803399]])"
      ]
     },
     "execution_count": 48,
     "metadata": {},
     "output_type": "execute_result"
    }
   ],
   "source": [
    "np.matmul(B,v4) / v4"
   ]
  },
  {
   "cell_type": "code",
   "execution_count": 49,
   "metadata": {},
   "outputs": [
    {
     "data": {
      "text/plain": [
       "3.6180339887498949"
      ]
     },
     "execution_count": 49,
     "metadata": {},
     "output_type": "execute_result"
    }
   ],
   "source": [
    "2*(1-np.cos(4*np.pi/5))"
   ]
  },
  {
   "cell_type": "code",
   "execution_count": 13,
   "metadata": {},
   "outputs": [],
   "source": [
    "L = np.array([[2*(1-np.cos(np.pi/5)), 0, 0, 0],\n",
    "             [0, 2*(1-np.cos(2*np.pi/5)), 0, 0],\n",
    "             [0, 0, 2*(1-np.cos(3*np.pi/5)),0],\n",
    "             [0, 0, 0, 2*(1-np.cos(4*np.pi/5))]])"
   ]
  },
  {
   "cell_type": "code",
   "execution_count": 51,
   "metadata": {},
   "outputs": [
    {
     "data": {
      "text/plain": [
       "array([[ 0.58778525,  0.95105652,  0.95105652,  0.58778525],\n",
       "       [ 0.95105652,  0.58778525, -0.58778525, -0.95105652],\n",
       "       [ 0.95105652, -0.58778525, -0.58778525,  0.95105652],\n",
       "       [ 0.58778525, -0.95105652,  0.95105652, -0.58778525]])"
      ]
     },
     "execution_count": 51,
     "metadata": {},
     "output_type": "execute_result"
    }
   ],
   "source": [
    "# is Q orthog?\n",
    "Q"
   ]
  },
  {
   "cell_type": "code",
   "execution_count": 52,
   "metadata": {},
   "outputs": [
    {
     "data": {
      "text/plain": [
       "2.5"
      ]
     },
     "execution_count": 52,
     "metadata": {},
     "output_type": "execute_result"
    }
   ],
   "source": [
    "np.dot(Q[0,:],Q[0,:])"
   ]
  },
  {
   "cell_type": "code",
   "execution_count": null,
   "metadata": {
    "collapsed": true
   },
   "outputs": [],
   "source": []
  }
 ],
 "metadata": {
  "kernelspec": {
   "display_name": "Python 3",
   "language": "python",
   "name": "python3"
  },
  "language_info": {
   "codemirror_mode": {
    "name": "ipython",
    "version": 3
   },
   "file_extension": ".py",
   "mimetype": "text/x-python",
   "name": "python",
   "nbconvert_exporter": "python",
   "pygments_lexer": "ipython3",
   "version": "3.6.3"
  }
 },
 "nbformat": 4,
 "nbformat_minor": 2
}
