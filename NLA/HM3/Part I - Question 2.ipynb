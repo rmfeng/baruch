{
 "cells": [
  {
   "cell_type": "code",
   "execution_count": 102,
   "metadata": {
    "collapsed": true
   },
   "outputs": [],
   "source": [
    "import numpy as np\n",
    "from scipy.linalg import solve\n",
    "\n",
    "import matplotlib.pyplot as plt\n",
    "%matplotlib inline"
   ]
  },
  {
   "cell_type": "code",
   "execution_count": 119,
   "metadata": {
    "collapsed": true
   },
   "outputs": [],
   "source": [
    "# initializing question params\n",
    "t_list = np.array([3,7,11,17])\n",
    "df_list = np.array([0.9975,0.9915,0.9805,0.9750])"
   ]
  },
  {
   "cell_type": "code",
   "execution_count": 122,
   "metadata": {},
   "outputs": [
    {
     "name": "stdout",
     "output_type": "stream",
     "text": [
      "[ 0.01        0.01001252  0.01463371  0.02148287  0.01787139]\n"
     ]
    }
   ],
   "source": [
    "# solving for the zero rates\n",
    "r_list = -np.log(df_list) * (12 / t_list)\n",
    "r_list = np.insert(r_list,0,0.01)\n",
    "print(r_list)"
   ]
  },
  {
   "cell_type": "code",
   "execution_count": 124,
   "metadata": {
    "collapsed": true
   },
   "outputs": [],
   "source": [
    "t_list = np.insert(t_list,0,0)"
   ]
  },
  {
   "cell_type": "code",
   "execution_count": 125,
   "metadata": {
    "collapsed": true
   },
   "outputs": [],
   "source": [
    "x = t_list / 12\n",
    "v = r_list"
   ]
  },
  {
   "cell_type": "code",
   "execution_count": 126,
   "metadata": {},
   "outputs": [
    {
     "name": "stdout",
     "output_type": "stream",
     "text": [
      "[ 0.          0.25        0.58333333  0.91666667  1.41666667]\n",
      "[ 0.01        0.01001252  0.01463371  0.02148287  0.01787139]\n"
     ]
    }
   ],
   "source": [
    "print(x)\n",
    "print(v)"
   ]
  },
  {
   "cell_type": "markdown",
   "metadata": {},
   "source": [
    "### Part i)\n",
    "\n",
    "We're solving for 4 degree-3 polynomials in the form of \n",
    "\n",
    "$$f(x) = a_i + b_ix + c_ix^2 + d_ix^3$$\n",
    "$$ \\forall i = 1:4 $$\n",
    "\n",
    "i.e. We have 16 variables\n",
    "\n",
    "Our 4n-2 = 14 constraints are to make the polynomials equal to points at all the points. And, the first derivative and second derivative of the polynomials must be continuous at the given inside points\n",
    "\n",
    "Our final 2 constraints are to make the 2nd derivs of the first and last given points 0\n",
    "\n",
    "In other words:"
   ]
  },
  {
   "cell_type": "markdown",
   "metadata": {},
   "source": [
    "$$ v_0 = 0.01 $$\n",
    "$$ v_1 = 0.01001252 $$\n",
    "$$ v_2 = 0.01463371 $$\n",
    "$$ v_3 = 0.02148287 $$\n",
    "$$ v_4 = 0.01787139 $$\n",
    "\n",
    "$$ x_0 = 3/12 $$\n",
    "$$ x_1 = 3/12 $$\n",
    "$$ x_2 = 7/12 $$\n",
    "$$ x_3 = 11/12 $$\n",
    "$$ x_4 = 17/12 $$\n",
    "\n",
    "\n",
    "points: (8 equations)\n",
    "$$ a_i + b_ix_{i-1} + c_ix_{i-1}^2 + d_ix_{i-1}^3 = v_{i-1}, \\forall i = 1:4 $$ \n",
    "$$ a_i + b_ix_i + c_ix_i^2 + d_ix_i^3 = v_i, \\forall i = 1:4 $$\n",
    "\n",
    "\n",
    "1st derivs: (3 equations)\n",
    "$$ b_i + 2c_ix_i + 3d_ix_i^2 = b_{i+1} + 2c_{i+1}x_i + 3d_{i+1}x_i^2, \\forall i = 1:3 $$\n",
    "\n",
    "2nd derivs: (3 equations)\n",
    "$$ 2c_i + 6d_ix_i = 2c_{i+1}+6d_{i+1}x_i, \\forall i = 1:3 $$\n",
    "\n",
    "end points: (2 equations)\n",
    "$$ 2c_1 + 6d_1x_0 = 0 $$\n",
    "$$ 2c_4 + 6d_3x_4 = 0 $$"
   ]
  },
  {
   "cell_type": "markdown",
   "metadata": {},
   "source": [
    "Defining our 12x12 matrix\n",
    "define our vector to solve as: \n",
    "[$ a_1, b_1, c_1, d_1, a_2, b_2, c_2, d_2, a_3, b_3, c_3, d_3 $]"
   ]
  },
  {
   "cell_type": "code",
   "execution_count": 129,
   "metadata": {
    "scrolled": false
   },
   "outputs": [
    {
     "name": "stdout",
     "output_type": "stream",
     "text": [
      "[[ 1.          0.          0.          0.          0.          0.          0.\n",
      "   0.          0.          0.          0.          0.          0.          0.\n",
      "   0.          0.        ]\n",
      " [ 0.          0.          0.          0.          1.          0.25        0.0625\n",
      "   0.015625    0.          0.          0.          0.          0.          0.\n",
      "   0.          0.        ]\n",
      " [ 0.          0.          0.          0.          0.          0.          0.\n",
      "   0.          1.          0.58333333  0.34027778  0.19849537  0.          0.\n",
      "   0.          0.        ]\n",
      " [ 0.          0.          0.          0.          0.          0.          0.\n",
      "   0.          0.          0.          0.          0.          1.\n",
      "   0.91666667  0.84027778  0.77025463]\n",
      " [ 1.          0.25        0.0625      0.015625    0.          0.          0.\n",
      "   0.          0.          0.          0.          0.          0.          0.\n",
      "   0.          0.        ]\n",
      " [ 0.          0.          0.          0.          1.          0.58333333\n",
      "   0.34027778  0.19849537  0.          0.          0.          0.          0.\n",
      "   0.          0.          0.        ]\n",
      " [ 0.          0.          0.          0.          0.          0.          0.\n",
      "   0.          1.          0.91666667  0.84027778  0.77025463  0.          0.\n",
      "   0.          0.        ]\n",
      " [ 0.          0.          0.          0.          0.          0.          0.\n",
      "   0.          0.          0.          0.          0.          1.\n",
      "   1.41666667  2.00694444  2.8431713 ]\n",
      " [ 0.          1.          0.5         0.1875      0.         -1.         -0.5\n",
      "  -0.1875      0.          0.          0.          0.          0.          0.\n",
      "   0.          0.        ]\n",
      " [ 0.          0.          0.          0.          0.          1.\n",
      "   1.16666667  1.02083333  0.         -1.         -1.16666667 -1.02083333\n",
      "   0.          0.          0.          0.        ]\n",
      " [ 0.          0.          0.          0.          0.          0.          0.\n",
      "   0.          0.          1.          1.83333333  2.52083333  0.         -1.\n",
      "  -1.83333333 -2.52083333]\n",
      " [ 0.          0.          2.          1.5         0.          0.         -2.\n",
      "  -1.5         0.          0.          0.          0.          0.          0.\n",
      "   0.          0.        ]\n",
      " [ 0.          0.          0.          0.          0.          0.          2.\n",
      "   3.5         0.          0.         -2.         -3.5         0.          0.\n",
      "   0.          0.        ]\n",
      " [ 0.          0.          0.          0.          0.          0.          0.\n",
      "   0.          0.          0.          2.          5.5         0.          0.\n",
      "  -2.         -5.5       ]\n",
      " [ 0.          0.          2.          0.          0.          0.          0.\n",
      "   0.          0.          0.          0.          0.          0.          0.\n",
      "   0.          0.        ]\n",
      " [ 0.          0.          0.          0.          0.          0.          0.\n",
      "   0.          0.          0.          0.          0.          0.          0.\n",
      "   2.          8.5       ]]\n"
     ]
    }
   ],
   "source": [
    "A = np.array([\n",
    "    [1,x[0],x[0]**2,x[0]**3,0,0,0,0,0,0,0,0,0,0,0,0]                # = v[0]\n",
    "    ,[0,0,0,0,1,x[1],x[1]**2,x[1]**3,0,0,0,0,0,0,0,0]               # = v[1]\n",
    "    ,[0,0,0,0,0,0,0,0,1,x[2],x[2]**2,x[2]**3,0,0,0,0]               # = v[2]\n",
    "    ,[0,0,0,0,0,0,0,0,0,0,0,0,1,x[3],x[3]**2,x[3]**3]               # = v[3]\n",
    "    ,[1,x[1],x[1]**2,x[1]**3,0,0,0,0,0,0,0,0,0,0,0,0]               # = v[1]\n",
    "    ,[0,0,0,0,1,x[2],x[2]**2,x[2]**3,0,0,0,0,0,0,0,0]               # = v[2]\n",
    "    ,[0,0,0,0,0,0,0,0,1,x[3],x[3]**2,x[3]**3,0,0,0,0]               # = v[3]\n",
    "    ,[0,0,0,0,0,0,0,0,0,0,0,0,1,x[4],x[4]**2,x[4]**3]               # = v[4]\n",
    "    ,[0,1,2*x[1],3*x[1]**2,0,-1,-2*x[1],-3*x[1]**2,0,0,0,0,0,0,0,0] # = 0\n",
    "    ,[0,0,0,0,0,1,2*x[2],3*x[2]**2,0,-1,-2*x[2],-3*x[2]**2,0,0,0,0] # = 0\n",
    "    ,[0,0,0,0,0,0,0,0,0,1,2*x[3],3*x[3]**2,0,-1,-2*x[3],-3*x[3]**2] # = 0\n",
    "    ,[0,0,2,6*x[1],0,0,-2,-6*x[1],0,0,0,0,0,0,0,0]                  # = 0\n",
    "    ,[0,0,0,0,0,0,2,6*x[2],0,0,-2,-6*x[2],0,0,0,0]                  # = 0\n",
    "    ,[0,0,0,0,0,0,0,0,0,0,2,6*x[3],0,0,-2,-6*x[3]]                  # = 0\n",
    "    ,[0,0,2,6*x[0],0,0,0,0,0,0,0,0,0,0,0,0]                         # = 0\n",
    "    ,[0,0,0,0,0,0,0,0,0,0,0,0,0,0,2,6*x[4]]                         # = 0\n",
    "    ]\n",
    ")\n",
    "print(A)"
   ]
  },
  {
   "cell_type": "code",
   "execution_count": 130,
   "metadata": {},
   "outputs": [
    {
     "data": {
      "text/plain": [
       "array([[ 0.01      ],\n",
       "       [ 0.01001252],\n",
       "       [ 0.01463371],\n",
       "       [ 0.02148287],\n",
       "       [ 0.01001252],\n",
       "       [ 0.01463371],\n",
       "       [ 0.02148287],\n",
       "       [ 0.01787139],\n",
       "       [ 0.        ],\n",
       "       [ 0.        ],\n",
       "       [ 0.        ],\n",
       "       [ 0.        ],\n",
       "       [ 0.        ],\n",
       "       [ 0.        ],\n",
       "       [ 0.        ],\n",
       "       [ 0.        ]])"
      ]
     },
     "execution_count": 130,
     "metadata": {},
     "output_type": "execute_result"
    }
   ],
   "source": [
    "# lets use the notation: solve for Ay = b, where y are the coefficients, \n",
    "# and b is the right hand vector of the eqution\n",
    "b = np.array([v[0],v[1],v[2],v[3],v[1],v[2],v[3],v[4],0,0,0,0,0,0,0,0])[:,None]\n",
    "b"
   ]
  },
  {
   "cell_type": "code",
   "execution_count": 131,
   "metadata": {
    "collapsed": true
   },
   "outputs": [],
   "source": [
    "y = solve(A,b)"
   ]
  },
  {
   "cell_type": "markdown",
   "metadata": {},
   "source": [
    "the solution for [$ a_1, b_1, c_1, d_1, a_2, b_2, c_2, d_2, a_3, b_3, c_3, d_3 $] ="
   ]
  },
  {
   "cell_type": "code",
   "execution_count": 132,
   "metadata": {},
   "outputs": [
    {
     "name": "stdout",
     "output_type": "stream",
     "text": [
      "[[ 0.01      ]\n",
      " [-0.00240438]\n",
      " [ 0.        ]\n",
      " [ 0.03927145]\n",
      " [ 0.01074205]\n",
      " [-0.01130899]\n",
      " [ 0.03561842]\n",
      " [-0.00821977]\n",
      " [ 0.02409039]\n",
      " [-0.07995758]\n",
      " [ 0.15330172]\n",
      " [-0.07546738]\n",
      " [-0.06188781]\n",
      " [ 0.20142561]\n",
      " [-0.15366176]\n",
      " [ 0.03615571]]\n"
     ]
    }
   ],
   "source": [
    "print(y)"
   ]
  },
  {
   "cell_type": "code",
   "execution_count": 134,
   "metadata": {
    "collapsed": true
   },
   "outputs": [],
   "source": [
    "def cubic_poly(x,a,b,c,d):\n",
    "    return a + (b * x) + (c * x ** 2) + (d * x ** 3)\n",
    "\n",
    "def nth_cubic_poly(y,n,x):\n",
    "    \"\"\" returns the nth polynomial eval-ed at x, n is 1 indexed \"\"\"\n",
    "    a = y[(n-1) * 4][0]\n",
    "    b = y[(n-1) * 4 + 1][0]\n",
    "    c = y[(n-1) * 4 + 2][0]\n",
    "    d = y[(n-1) * 4 + 3][0]\n",
    "    return cubic_poly(x,a,b,c,d)\n",
    "\n",
    "def piecewise_poly(x, y, intervals):\n",
    "    \"\"\" y is the coefficents, intervals are the piecewise intervals \"\"\"\n",
    "    assert x >= intervals[0]\n",
    "    assert x <= intervals[-1]\n",
    "    assert len(y) == (len(intervals) - 1)  * 4\n",
    "    \n",
    "    for i in range(1,len(intervals)):\n",
    "        if x <= intervals[i]:\n",
    "            return nth_cubic_poly(y, i, x)\n",
    "    "
   ]
  },
  {
   "cell_type": "markdown",
   "metadata": {},
   "source": [
    "### Checking our cublic spline"
   ]
  },
  {
   "cell_type": "code",
   "execution_count": 136,
   "metadata": {},
   "outputs": [
    {
     "name": "stdout",
     "output_type": "stream",
     "text": [
      "original zero rates: [ 0.01        0.01001252  0.01463371  0.02148287  0.01787139]\n",
      "zero rates on our cubic spline:\n",
      "0.01\n",
      "0.0100125208725\n",
      "0.0146337103239\n",
      "0.0214828727408\n",
      "0.0178713938713\n"
     ]
    }
   ],
   "source": [
    "print(\"original zero rates:\", v)\n",
    "\n",
    "print(\"zero rates on our cubic spline:\")\n",
    "for i in range(0,len(v)):\n",
    "    print(piecewise_poly(x[i],y,x))"
   ]
  },
  {
   "cell_type": "code",
   "execution_count": 139,
   "metadata": {
    "scrolled": false
   },
   "outputs": [],
   "source": [
    "x_interval = np.linspace(x[0],x[4],100)\n",
    "r_interval = np.zeros_like(x_interval)\n",
    "\n",
    "for i in range(0,len(r_interval)):\n",
    "    r_interval[i] = piecewise_poly(x_interval[i],y,x)"
   ]
  },
  {
   "cell_type": "code",
   "execution_count": 140,
   "metadata": {},
   "outputs": [
    {
     "data": {
      "image/png": "[encoded data removed]",
      "text/plain": [
       "<matplotlib.figure.Figure at 0x11bf046d8>"
      ]
     },
     "metadata": {},
     "output_type": "display_data"
    }
   ],
   "source": [
    "plt.plot(x_interval,r_interval)\n",
    "plt.scatter(x,v)\n",
    "plt.show()"
   ]
  },
  {
   "cell_type": "markdown",
   "metadata": {},
   "source": [
    "### Great!"
   ]
  },
  {
   "cell_type": "markdown",
   "metadata": {},
   "source": [
    "### Part ii)"
   ]
  },
  {
   "cell_type": "code",
   "execution_count": 149,
   "metadata": {},
   "outputs": [
    {
     "data": {
      "image/png": "[encoded data removed]",
      "text/plain": [
       "<matplotlib.figure.Figure at 0x11be39080>"
      ]
     },
     "metadata": {},
     "output_type": "display_data"
    },
    {
     "name": "stdout",
     "output_type": "stream",
     "text": [
      "the zero rates curve corresponding to each month are:\n",
      "[ 0.01        0.00982236  0.00978108  0.01001252  0.01062555  0.01161912\n",
      "  0.01296469  0.01463371  0.01655873  0.01851662  0.02024535  0.02148287\n",
      "  0.02203175  0.02195292  0.02137193  0.02041432  0.01920563  0.01787139]\n"
     ]
    }
   ],
   "source": [
    "m_list = np.arange(0,18) / 12\n",
    "m_list\n",
    "\n",
    "r_solutions = np.zeros_like(m_list)\n",
    "\n",
    "for i in range(0,len(r_solutions)):\n",
    "    r_solutions[i] = piecewise_poly(m_list[i],y,x)\n",
    "    \n",
    "plt.scatter(m_list, r_solutions)\n",
    "plt.ylim(ymin=0.008, ymax = 0.023)\n",
    "plt.show()\n",
    "print(\"the zero rates curve corresponding to each month are:\")\n",
    "print(r_solutions)"
   ]
  },
  {
   "cell_type": "markdown",
   "metadata": {},
   "source": [
    "### Part iii)"
   ]
  },
  {
   "cell_type": "code",
   "execution_count": 150,
   "metadata": {},
   "outputs": [
    {
     "name": "stdout",
     "output_type": "stream",
     "text": [
      "[ 1.          0.9991818   0.99837115  0.9975      0.99646441  0.9951704\n",
      "  0.99353862  0.9915      0.98902156  0.98620852  0.9832704   0.9805\n",
      "  0.97820918  0.97649824  0.97537436  0.97480493  0.97471759  0.975     ]\n"
     ]
    }
   ],
   "source": [
    "df_list = np.exp(-r_solutions*m_list)\n",
    "print(df_list)"
   ]
  },
  {
   "cell_type": "code",
   "execution_count": 151,
   "metadata": {},
   "outputs": [
    {
     "name": "stdout",
     "output_type": "stream",
     "text": [
      "[   0.     0.     1.5    0.     0.     1.5    0.     0.     1.5    0.     0.\n",
      "    1.5    0.     0.   101.5    0.     0.     0. ]\n"
     ]
    }
   ],
   "source": [
    "# the 14 month quarterly coupon will have 4 more coupons \n",
    "# and the principal + 1 more cpn back at mat\n",
    "# pays 1.5 cpn in months: 2, 5, 8, 11, pays 101.5 at month 14\n",
    "\n",
    "cf_list = np.zeros_like(df_list)\n",
    "cf_list[2] = 1.5\n",
    "cf_list[5] = 1.5\n",
    "cf_list[8] = 1.5\n",
    "cf_list[11] = 1.5\n",
    "cf_list[14] = 101.5\n",
    "\n",
    "print(cf_list)"
   ]
  },
  {
   "cell_type": "code",
   "execution_count": 154,
   "metadata": {},
   "outputs": [
    {
     "name": "stdout",
     "output_type": "stream",
     "text": [
      "The dirty price of the bond today is:\n",
      "104.945092376\n"
     ]
    }
   ],
   "source": [
    "pv = np.sum(df_list * cf_list)\n",
    "print(\"The dirty price of the bond today is:\")\n",
    "print(pv)"
   ]
  }
 ],
 "metadata": {
  "kernelspec": {
   "display_name": "Python 3",
   "language": "python",
   "name": "python3"
  },
  "language_info": {
   "codemirror_mode": {
    "name": "ipython",
    "version": 3
   },
   "file_extension": ".py",
   "mimetype": "text/x-python",
   "name": "python",
   "nbconvert_exporter": "python",
   "pygments_lexer": "ipython3",
   "version": "3.6.3"
  }
 },
 "nbformat": 4,
 "nbformat_minor": 2
}
