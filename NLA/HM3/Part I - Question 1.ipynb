{
 "cells": [
  {
   "cell_type": "code",
   "execution_count": 14,
   "metadata": {
    "collapsed": true
   },
   "outputs": [],
   "source": [
    "import numpy as np\n",
    "from scipy.linalg import solve_triangular"
   ]
  },
  {
   "cell_type": "markdown",
   "metadata": {},
   "source": [
    "### Part i)"
   ]
  },
  {
   "cell_type": "code",
   "execution_count": 11,
   "metadata": {},
   "outputs": [],
   "source": [
    "# initializing arrays\n",
    "A = np.array([[-4,0,3,-3],[8,-4,0,4],[2,-3,1,8],[8,-8,2,6]])\n",
    "P = np.array([[0,1,0,0],[0,0,0,1],[1,0,0,0],[0,0,1,0]])\n",
    "L = np.array([[1,0,0,0],[1,1,0,0],[-0.5,0.5,1,0],[0.25,0.5,0,1]])\n",
    "U = np.array([[8,-4,0,4],[0,-4,2,2],[0,0,2,-2],[0,0,0,6]])\n",
    "b = np.array([2,0,3,-6])[:,None]"
   ]
  },
  {
   "cell_type": "code",
   "execution_count": 12,
   "metadata": {},
   "outputs": [
    {
     "name": "stdout",
     "output_type": "stream",
     "text": [
      "A=\n",
      " [[-4  0  3 -3]\n",
      " [ 8 -4  0  4]\n",
      " [ 2 -3  1  8]\n",
      " [ 8 -8  2  6]]\n",
      "\n",
      "P=\n",
      " [[0 1 0 0]\n",
      " [0 0 0 1]\n",
      " [1 0 0 0]\n",
      " [0 0 1 0]]\n",
      "\n",
      "L=\n",
      " [[ 1.    0.    0.    0.  ]\n",
      " [ 1.    1.    0.    0.  ]\n",
      " [-0.5   0.5   1.    0.  ]\n",
      " [ 0.25  0.5   0.    1.  ]]\n",
      "\n",
      "U=\n",
      " [[ 8 -4  0  4]\n",
      " [ 0 -4  2  2]\n",
      " [ 0  0  2 -2]\n",
      " [ 0  0  0  6]]\n",
      "\n",
      "b=\n",
      " [[ 2]\n",
      " [ 0]\n",
      " [ 3]\n",
      " [-6]]\n"
     ]
    }
   ],
   "source": [
    "print(\"A=\\n\",A)\n",
    "print(\"\\nP=\\n\",P)\n",
    "print(\"\\nL=\\n\",L)\n",
    "print(\"\\nU=\\n\",U)\n",
    "print(\"\\nb=\\n\",b)"
   ]
  },
  {
   "cell_type": "code",
   "execution_count": 18,
   "metadata": {},
   "outputs": [
    {
     "name": "stdout",
     "output_type": "stream",
     "text": [
      "y=\n",
      " [[ 0.]\n",
      " [-6.]\n",
      " [ 5.]\n",
      " [ 6.]] \n",
      "\n",
      "x=\n",
      " [[ 1.375]\n",
      " [ 3.75 ]\n",
      " [ 3.5  ]\n",
      " [ 1.   ]]\n"
     ]
    }
   ],
   "source": [
    "y = solve_triangular(L, P.dot(b), lower=True)\n",
    "x = solve_triangular(U, y)\n",
    "\n",
    "print(\"y=\\n\",y,\"\\n\\nx=\\n\",x)"
   ]
  },
  {
   "cell_type": "markdown",
   "metadata": {},
   "source": [
    "### Part ii)"
   ]
  },
  {
   "cell_type": "code",
   "execution_count": 52,
   "metadata": {},
   "outputs": [],
   "source": [
    "# need to solve A*A^-1 = I, which is 4 Ax=b equations, x is each column of A^-1 and b is e_i\n",
    "# since we already have the P,L,U decomp of A, this is the same as solving PA * A^-1 = P\n",
    "def solve_linear_pivot(P,L,U,b):\n",
    "    \"\"\"\n",
    "    given PA = LU,\n",
    "    solves Ax=b by:\n",
    "    first solving Ly=Pb\n",
    "    then solving Ux=y\n",
    "    returns x\n",
    "    \"\"\"\n",
    "    y = solve_triangular(L, P.dot(b), lower=True)\n",
    "    return solve_triangular(U, y)"
   ]
  },
  {
   "cell_type": "code",
   "execution_count": 29,
   "metadata": {},
   "outputs": [
    {
     "name": "stdout",
     "output_type": "stream",
     "text": [
      "[[1 0 0 0]\n",
      " [0 1 0 0]\n",
      " [0 0 1 0]\n",
      " [0 0 0 1]]\n"
     ]
    }
   ],
   "source": [
    "I = np.array([[1,0,0,0],[0,1,0,0],[0,0,1,0],[0,0,0,1]])\n",
    "print(I)"
   ]
  },
  {
   "cell_type": "code",
   "execution_count": 58,
   "metadata": {
    "scrolled": true
   },
   "outputs": [
    {
     "name": "stdout",
     "output_type": "stream",
     "text": [
      "[[ 0.125       0.375       0.         -0.1875    ]\n",
      " [ 0.25        0.54166667  0.16666667 -0.45833333]\n",
      " [ 0.5         0.54166667  0.16666667 -0.33333333]\n",
      " [ 0.          0.04166667  0.16666667 -0.08333333]]\n"
     ]
    }
   ],
   "source": [
    "a_inv_list = []\n",
    "for i in range(0,len(A)):\n",
    "    a_inv_list.append(solve_linear_pivot(P,L,U,I[:,i]))\n",
    "\n",
    "A_inv = np.column_stack(a_inv_list)\n",
    "print(A_inv)"
   ]
  },
  {
   "cell_type": "code",
   "execution_count": 59,
   "metadata": {},
   "outputs": [
    {
     "name": "stdout",
     "output_type": "stream",
     "text": [
      "[[  1.00000000e+00   0.00000000e+00   0.00000000e+00   1.11022302e-16]\n",
      " [  0.00000000e+00   1.00000000e+00   0.00000000e+00  -5.55111512e-17]\n",
      " [  0.00000000e+00  -5.55111512e-17   1.00000000e+00   1.11022302e-16]\n",
      " [  0.00000000e+00   2.22044605e-16   0.00000000e+00   1.00000000e+00]]\n"
     ]
    }
   ],
   "source": [
    "# checking:\n",
    "print(A.dot(A_inv))"
   ]
  },
  {
   "cell_type": "markdown",
   "metadata": {},
   "source": [
    "** Looks close enough to I with some float point inaccuracies **"
   ]
  },
  {
   "cell_type": "code",
   "execution_count": null,
   "metadata": {
    "collapsed": true
   },
   "outputs": [],
   "source": []
  }
 ],
 "metadata": {
  "kernelspec": {
   "display_name": "Python 3",
   "language": "python",
   "name": "python3"
  },
  "language_info": {
   "codemirror_mode": {
    "name": "ipython",
    "version": 3
   },
   "file_extension": ".py",
   "mimetype": "text/x-python",
   "name": "python",
   "nbconvert_exporter": "python",
   "pygments_lexer": "ipython3",
   "version": "3.6.3"
  }
 },
 "nbformat": 4,
 "nbformat_minor": 2
}
