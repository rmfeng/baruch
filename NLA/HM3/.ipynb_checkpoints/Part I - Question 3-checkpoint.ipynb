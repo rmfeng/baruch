{
 "cells": [
  {
   "cell_type": "code",
   "execution_count": 1,
   "metadata": {
    "collapsed": true
   },
   "outputs": [],
   "source": [
    "import numpy as np\n",
    "from scipy.linalg import solve\n",
    "\n",
    "import matplotlib.pyplot as plt\n",
    "%matplotlib inline"
   ]
  },
  {
   "cell_type": "code",
   "execution_count": 2,
   "metadata": {
    "collapsed": true
   },
   "outputs": [],
   "source": [
    "def gen_cf(t_list, cf):\n",
    "    total_len = len(t_list)\n",
    "    cf_list = [cf] * total_len\n",
    "    cf_list[-1] += 100\n",
    "    return cf_list\n",
    "\n",
    "def gen_t_list(mat_in_m, interval_in_m):\n",
    "    return np.arange((mat_in_m % interval_in_m)/12, (mat_in_m + 1)/12, interval_in_m / 12)[0:]"
   ]
  },
  {
   "cell_type": "markdown",
   "metadata": {},
   "source": [
    "### Part i)"
   ]
  },
  {
   "cell_type": "code",
   "execution_count": 7,
   "metadata": {},
   "outputs": [
    {
     "name": "stdout",
     "output_type": "stream",
     "text": [
      "Bond 1's CF Dates in months:\n",
      "[  5.  11.]\n",
      "Bond 2's CF Dates in months:\n",
      "[  5.  11.  17.]\n",
      "Bond 3's CF Dates in months:\n",
      "[ 11.  23.]\n",
      "Bond 4's CF Dates in months:\n",
      "[  5.  11.  17.  23.]\n"
     ]
    }
   ],
   "source": [
    "t_lists = [\n",
    "    gen_t_list(11,6)\n",
    "    , gen_t_list(17,6)\n",
    "    , gen_t_list(23,12)\n",
    "    , gen_t_list(23,6)\n",
    "]\n",
    "\n",
    "i=1\n",
    "for t_list in t_lists:\n",
    "    print(\"Bond %s's CF Dates in months:\" % i)\n",
    "    print(t_list * 12)\n",
    "    i += 1"
   ]
  },
  {
   "cell_type": "code",
   "execution_count": 14,
   "metadata": {},
   "outputs": [
    {
     "name": "stdout",
     "output_type": "stream",
     "text": [
      "Bond 1's CF Dates in months:\n",
      "[  5.  11.]\n",
      "Bond 1's CF amounts in for each corresponding date:\n",
      "[3.5, 103.5]\n",
      "\n",
      "\n",
      "Bond 2's CF Dates in months:\n",
      "[  5.  11.  17.]\n",
      "Bond 2's CF amounts in for each corresponding date:\n",
      "[4.0, 4.0, 104.0]\n",
      "\n",
      "\n",
      "Bond 3's CF Dates in months:\n",
      "[ 11.  23.]\n",
      "Bond 3's CF amounts in for each corresponding date:\n",
      "[9.5, 109.5]\n",
      "\n",
      "\n",
      "Bond 4's CF Dates in months:\n",
      "[  5.  11.  17.  23.]\n",
      "Bond 4's CF amounts in for each corresponding date:\n",
      "[5.5, 5.5, 5.5, 105.5]\n",
      "\n",
      "\n"
     ]
    }
   ],
   "source": [
    "cf_list = [7/2, 8/2, 9.5, 11/2]\n",
    "cf_lists = []\n",
    "\n",
    "for t_list, cf in zip(t_lists, cf_list):\n",
    "    cf_lists.append(gen_cf(t_list,cf))\n",
    "\n",
    "i=1\n",
    "for t_list, cf_list in zip(t_lists, cf_lists):\n",
    "    print(\"Bond %s's CF Dates in months:\" % i)\n",
    "    print(t_list * 12)\n",
    "    \n",
    "    print(\"Bond %s's CF amounts in for each corresponding date:\" % i)\n",
    "    print(cf_list)\n",
    "    print(\"\\n\")\n",
    "    i += 1"
   ]
  },
  {
   "cell_type": "markdown",
   "metadata": {},
   "source": [
    "### Part ii)"
   ]
  },
  {
   "cell_type": "markdown",
   "metadata": {},
   "source": [
    "The linear system of discount factors is then:\n",
    "\n",
    "$$ 3.5df_5 + 103.5df_{11} = 104.45 $$\n",
    "$$ 4df_5 + 4df_{11} + 104df_{17} = 108.50 $$\n",
    "$$ 9.5df_{11} + 109.5df_{23} = 109.35 $$\n",
    "$$ 5.5df_5 + 5.5df_{11} + 5.5df_{17} + 105.5df_{23} = 112.55 $$"
   ]
  },
  {
   "cell_type": "code",
   "execution_count": 16,
   "metadata": {},
   "outputs": [
    {
     "name": "stdout",
     "output_type": "stream",
     "text": [
      "A=\n",
      " [[   3.5  103.5    0.     0. ]\n",
      " [   4.     4.   104.     0. ]\n",
      " [   0.     9.5    0.   109.5]\n",
      " [   5.5    5.5    5.5  105.5]]\n",
      "\n",
      "b=\n",
      " [[ 104.45]\n",
      " [ 108.5 ]\n",
      " [ 109.35]\n",
      " [ 112.55]]\n"
     ]
    }
   ],
   "source": [
    "# we can write it in matrix form:\n",
    "A = np.array([\n",
    "    [3.5,103.5,0,0]\n",
    "    ,[4,4,104,0]\n",
    "    ,[0,9.5,0,109.5]\n",
    "    ,[5.5,5.5,5.5,105.5]\n",
    "])\n",
    "b = np.array([104.45,108.5,109.35,112.55])[:,None]\n",
    "\n",
    "print(\"A=\\n\",A)\n",
    "print(\"\\nb=\\n\",b)"
   ]
  },
  {
   "cell_type": "markdown",
   "metadata": {},
   "source": [
    "### Part iii)"
   ]
  },
  {
   "cell_type": "code",
   "execution_count": 18,
   "metadata": {},
   "outputs": [
    {
     "name": "stdout",
     "output_type": "stream",
     "text": [
      "discount factors for 5, 11, 17, 23 months are:\n",
      "[[ 0.98844324]\n",
      " [ 0.97575313]\n",
      " [ 0.96772322]\n",
      " [ 0.91397576]]\n"
     ]
    }
   ],
   "source": [
    "x = solve(A,b)\n",
    "print(\"discount factors for 5, 11, 17, 23 months are:\")\n",
    "print(x)"
   ]
  },
  {
   "cell_type": "code",
   "execution_count": null,
   "metadata": {
    "collapsed": true
   },
   "outputs": [],
   "source": []
  }
 ],
 "metadata": {
  "kernelspec": {
   "display_name": "Python 3",
   "language": "python",
   "name": "python3"
  },
  "language_info": {
   "codemirror_mode": {
    "name": "ipython",
    "version": 3
   },
   "file_extension": ".py",
   "mimetype": "text/x-python",
   "name": "python",
   "nbconvert_exporter": "python",
   "pygments_lexer": "ipython3",
   "version": "3.6.3"
  }
 },
 "nbformat": 4,
 "nbformat_minor": 2
}
