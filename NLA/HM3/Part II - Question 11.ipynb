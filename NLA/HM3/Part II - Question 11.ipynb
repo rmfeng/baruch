{
 "cells": [
  {
   "cell_type": "code",
   "execution_count": 1,
   "metadata": {
    "collapsed": true
   },
   "outputs": [],
   "source": [
    "import numpy as np"
   ]
  },
  {
   "cell_type": "markdown",
   "metadata": {},
   "source": [
    "### Part i)"
   ]
  },
  {
   "cell_type": "code",
   "execution_count": 3,
   "metadata": {},
   "outputs": [
    {
     "name": "stdout",
     "output_type": "stream",
     "text": [
      "[[  4 -16   8  16]\n",
      " [  0   6  -1  -2]\n",
      " [  0 -16  12  16]\n",
      " [  0   2  -1   2]]\n"
     ]
    }
   ],
   "source": [
    "A = np.array([[4,-16,8,16],[0,6,-1,-2],[0,-16,12,16],[0,2,-1,2]])\n",
    "print(A)"
   ]
  },
  {
   "cell_type": "code",
   "execution_count": 5,
   "metadata": {},
   "outputs": [],
   "source": [
    "v1 = np.array([0,1,0,1])[:,None]\n",
    "v2 = np.array([0,1,2,0])[:,None]\n",
    "v3 = np.array([1,0,0,0])[:,None]\n",
    "v4 = np.array([8,-1,8,-1])[:,None]"
   ]
  },
  {
   "cell_type": "code",
   "execution_count": 7,
   "metadata": {},
   "outputs": [
    {
     "name": "stdout",
     "output_type": "stream",
     "text": [
      "[[0]\n",
      " [4]\n",
      " [0]\n",
      " [4]]\n"
     ]
    }
   ],
   "source": [
    "print(A.dot(v1))"
   ]
  },
  {
   "cell_type": "markdown",
   "metadata": {},
   "source": [
    "we can see Av1 = 4v1, verifying that v1 is an eiganvector to eiganvalue 4"
   ]
  },
  {
   "cell_type": "code",
   "execution_count": 8,
   "metadata": {},
   "outputs": [
    {
     "name": "stdout",
     "output_type": "stream",
     "text": [
      "[[0]\n",
      " [4]\n",
      " [8]\n",
      " [0]]\n"
     ]
    }
   ],
   "source": [
    "print(A.dot(v2))"
   ]
  },
  {
   "cell_type": "markdown",
   "metadata": {},
   "source": [
    "we can see Av2 = 4v2, verifying that v2 is an eiganvector to eiganvalue 4"
   ]
  },
  {
   "cell_type": "code",
   "execution_count": 9,
   "metadata": {},
   "outputs": [
    {
     "name": "stdout",
     "output_type": "stream",
     "text": [
      "[[4]\n",
      " [0]\n",
      " [0]\n",
      " [0]]\n"
     ]
    }
   ],
   "source": [
    "print(A.dot(v3))"
   ]
  },
  {
   "cell_type": "markdown",
   "metadata": {},
   "source": [
    "we can see Av3 = 4v3, verifying that v3 is an eiganvector to eiganvalue 4"
   ]
  },
  {
   "cell_type": "markdown",
   "metadata": {},
   "source": [
    "Since lambda = 4 has multiplicity 3, and we found 3 linearly independant eiganvectors v1, v2, v3. These are all the linearly independant eiganvectors"
   ]
  },
  {
   "cell_type": "code",
   "execution_count": 10,
   "metadata": {},
   "outputs": [
    {
     "name": "stdout",
     "output_type": "stream",
     "text": [
      "[[ 96]\n",
      " [-12]\n",
      " [ 96]\n",
      " [-12]]\n"
     ]
    }
   ],
   "source": [
    "print(A.dot(v4))"
   ]
  },
  {
   "cell_type": "markdown",
   "metadata": {},
   "source": [
    "we can see Av4 = 12v4, verifying that v4 is an eiganvector to eiganvalue 12"
   ]
  },
  {
   "cell_type": "markdown",
   "metadata": {},
   "source": [
    "Since lambda = 12 has multiplicity 1, there is only 1 linearly independant eiganvector. Thus it is v4."
   ]
  },
  {
   "cell_type": "markdown",
   "metadata": {},
   "source": [
    "### Part ii)"
   ]
  },
  {
   "cell_type": "code",
   "execution_count": 11,
   "metadata": {},
   "outputs": [
    {
     "name": "stdout",
     "output_type": "stream",
     "text": [
      "[[ 4 -1  0  1]\n",
      " [ 4 20  1 -8]\n",
      " [ 0  4  4 -4]\n",
      " [ 8 16  2 -4]]\n"
     ]
    }
   ],
   "source": [
    "B = np.array([[4,-1,0,1],[4,20,1,-8],[0,4,4,-4],[8,16,2,-4]])\n",
    "print(B)"
   ]
  },
  {
   "cell_type": "code",
   "execution_count": 12,
   "metadata": {},
   "outputs": [
    {
     "name": "stdout",
     "output_type": "stream",
     "text": [
      "[[-1]\n",
      " [ 0]\n",
      " [ 4]\n",
      " [ 0]]\n"
     ]
    }
   ],
   "source": [
    "w1 = np.array([-1,0,4,0])[:,None]\n",
    "print(w1)"
   ]
  },
  {
   "cell_type": "code",
   "execution_count": 16,
   "metadata": {},
   "outputs": [
    {
     "name": "stdout",
     "output_type": "stream",
     "text": [
      "[[-4]\n",
      " [ 0]\n",
      " [16]\n",
      " [ 0]]\n"
     ]
    }
   ],
   "source": [
    "print(B.dot(w1))"
   ]
  },
  {
   "cell_type": "markdown",
   "metadata": {},
   "source": [
    "w1 is an eiganvector corresponding to lambda = 4, from the write up, we also showed that w1 is the only linearly independant eiganvector corresponding to lambda = 4"
   ]
  },
  {
   "cell_type": "code",
   "execution_count": 15,
   "metadata": {},
   "outputs": [
    {
     "name": "stdout",
     "output_type": "stream",
     "text": [
      "[[0]\n",
      " [1]\n",
      " [0]\n",
      " [1]]\n"
     ]
    }
   ],
   "source": [
    "w2 = np.array([0,1,0,1])[:,None]\n",
    "print(w2)"
   ]
  },
  {
   "cell_type": "code",
   "execution_count": 17,
   "metadata": {},
   "outputs": [
    {
     "name": "stdout",
     "output_type": "stream",
     "text": [
      "[[ 0]\n",
      " [12]\n",
      " [ 0]\n",
      " [12]]\n"
     ]
    }
   ],
   "source": [
    "print(B.dot(w2))"
   ]
  },
  {
   "cell_type": "markdown",
   "metadata": {},
   "source": [
    "we can now see that w2 is an eigan vector corresponding to lambda = 12."
   ]
  }
 ],
 "metadata": {
  "kernelspec": {
   "display_name": "Python 3",
   "language": "python",
   "name": "python3"
  },
  "language_info": {
   "codemirror_mode": {
    "name": "ipython",
    "version": 3
   },
   "file_extension": ".py",
   "mimetype": "text/x-python",
   "name": "python",
   "nbconvert_exporter": "python",
   "pygments_lexer": "ipython3",
   "version": "3.6.3"
  }
 },
 "nbformat": 4,
 "nbformat_minor": 2
}
