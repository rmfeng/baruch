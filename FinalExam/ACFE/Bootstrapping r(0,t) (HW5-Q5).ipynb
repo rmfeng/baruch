{
 "cells": [
  {
   "cell_type": "markdown",
   "metadata": {},
   "source": [
    "![question](img/hw5q5.png)"
   ]
  },
  {
   "cell_type": "code",
   "execution_count": 1,
   "metadata": {},
   "outputs": [],
   "source": [
    "import numpy as np\n",
    "import pandas as pd\n",
    "import pyquantlib as pq\n",
    "from IPython.display import display\n",
    "import matplotlib.pyplot as plt\n",
    "%matplotlib inline\n",
    "from importlib import reload"
   ]
  },
  {
   "cell_type": "code",
   "execution_count": 2,
   "metadata": {
    "collapsed": true
   },
   "outputs": [],
   "source": [
    "# question assumptions\n",
    "mat_list = [6, 12, 3*12, 5*12]\n",
    "cpn_rate_list = [0, 0.05, 0.05, 0.06]\n",
    "px_list = [97.5, 100, 102, 104]\n",
    "freq_list = [2, 2, 2, 2]\n",
    "init_rates = {0: 0.05}"
   ]
  },
  {
   "cell_type": "code",
   "execution_count": 21,
   "metadata": {},
   "outputs": [
    {
     "data": {
      "text/plain": [
       "[array([ 0. ,  0.5]),\n",
       " array([ 0. ,  0.5,  1. ]),\n",
       " array([ 0. ,  0.5,  1. ,  1.5,  2. ,  2.5,  3. ]),\n",
       " array([ 0. ,  0.5,  1. ,  1.5,  2. ,  2.5,  3. ,  3.5,  4. ,  4.5,  5. ])]"
      ]
     },
     "execution_count": 21,
     "metadata": {},
     "output_type": "execute_result"
    }
   ],
   "source": [
    "# generating all of the cf times\n",
    "t_lists = []\n",
    "for i in range(0, len(mat_list)):\n",
    "    cur_t_list = pq.bonds.gen_t_list(mat_list[i], freq_list[i])\n",
    "    t_lists.append(cur_t_list)\n",
    "t_lists"
   ]
  },
  {
   "cell_type": "code",
   "execution_count": 22,
   "metadata": {},
   "outputs": [
    {
     "data": {
      "text/plain": [
       "[array([   0.,  100.]),\n",
       " array([   0. ,    2.5,  102.5]),\n",
       " array([   0. ,    2.5,    2.5,    2.5,    2.5,    2.5,  102.5]),\n",
       " array([   0. ,    3.5,    3.5,    3.5,    3.5,    3.5,    3.5,    3.5,\n",
       "           3.5,    3.5,  103.5])]"
      ]
     },
     "execution_count": 22,
     "metadata": {},
     "output_type": "execute_result"
    }
   ],
   "source": [
    "# generating all of the cf amounts\n",
    "cf_lists = []\n",
    "for i in range(0, len(mat_list)):\n",
    "    cur_cf_list = pq.bonds.gen_cf(t_lists[i], cpn_rate_list[i], freq_list[i])\n",
    "    cf_lists.append(cur_cf_list)\n",
    "cf_lists"
   ]
  },
  {
   "cell_type": "markdown",
   "metadata": {},
   "source": [
    "### Specialized functions"
   ]
  },
  {
   "cell_type": "code",
   "execution_count": 23,
   "metadata": {
    "collapsed": true
   },
   "outputs": [],
   "source": [
    "def lin_interp(x, x1, x2, y1, y2):\n",
    "    assert x2 != x1\n",
    "    slope = (y2 - y1) / (x2 - x1)\n",
    "    if slope == 0:\n",
    "        return y1\n",
    "    else:\n",
    "        return y1 + slope * (x - x1)"
   ]
  },
  {
   "cell_type": "code",
   "execution_count": 24,
   "metadata": {},
   "outputs": [],
   "source": [
    "def specialized_newton(x_guess, \n",
    "                       f_of_x_dynamic, \n",
    "                       fprime_of_x_dynamic,\n",
    "                       known_rates, \n",
    "                       unknown_t_list, \n",
    "                       t_list, \n",
    "                       cf_of_t, \n",
    "                       price,\n",
    "                       tol_consec=10**-6, \n",
    "                       max_iter=100,\n",
    "                       is_verbose=False):\n",
    "    cur_iter = 0\n",
    "    cur_x = x_guess\n",
    "\n",
    "    cur_f_val = f_of_x_dynamic(cur_x, known_rates, unknown_t_list, t_list, cf_of_t, price)\n",
    "    cur_chg = cur_f_val\n",
    "    if is_verbose: print(\"f(initial guess) =\", cur_f_val)\n",
    "\n",
    "    while cur_iter < max_iter and np.abs(cur_chg) > tol_consec:\n",
    "        if is_verbose: print(\"Not close enough, doing next iteration: %s\" % str(cur_iter + 1))\n",
    "        cur_deriv = fprime_of_x_dynamic(cur_x, known_rates, unknown_t_list, t_list, cf_of_t)\n",
    "        cur_x = cur_x - (cur_f_val / cur_deriv)\n",
    "        if is_verbose: print(\"new x =\", cur_x)\n",
    "        prev_f_val = cur_f_val\n",
    "        cur_f_val = f_of_x_dynamic(cur_x, known_rates, unknown_t_list, t_list, cf_of_t, price)\n",
    "        if is_verbose: print(\"new f(x) =\", cur_f_val)\n",
    "        cur_chg = (cur_f_val - prev_f_val)\n",
    "        if is_verbose: print(\"f(x) change this iteration =\", cur_chg, \"\\n\")\n",
    "        cur_iter += 1\n",
    "\n",
    "        if is_verbose: print(\"zero was found after %s iterations ... \" % cur_iter)\n",
    "    return cur_x\n"
   ]
  },
  {
   "cell_type": "code",
   "execution_count": 25,
   "metadata": {},
   "outputs": [],
   "source": [
    "def f_of_x_dynamic(x, known_rates, unknown_t_list, t_list, cf_of_t, price):\n",
    "    \"\"\" returns the npv of the bond when the largest unknown rate = x \"\"\"\n",
    "    largest_known_t = np.max(list(known_rates.keys()))  # 1 -> rate = largest_known_rate\n",
    "    largest_known_rate = known_rates[largest_known_t] \n",
    "    largest_unknown_t = np.max(unknown_t_list)  # 3 -> rate = x\n",
    "    cur_range = largest_unknown_t - largest_known_t  # = 2\n",
    "    \n",
    "    # first sum all of the known rates\n",
    "    npv = 0\n",
    "    for t in known_rates:\n",
    "        npv += np.exp(-known_rates[t]*t) * cf_of_t[t]\n",
    "    for t in unknown_t_list:\n",
    "        cur_r = ((t - largest_known_t) * x + \n",
    "                 (largest_unknown_t - t) * largest_known_rate) / cur_range\n",
    "        npv += np.exp(-cur_r*t) * cf_of_t[t]\n",
    "    return npv - price\n",
    "    \n",
    "    \n",
    "def fprime_of_x_dynamic(x, known_rates, unknown_t_list, t_list, cf_of_t):\n",
    "    \"\"\" returns the derive of the npv function \"\"\"\n",
    "    largest_known_t = np.max(list(known_rates.keys()))  # 1 -> rate = largest_known_rate\n",
    "    largest_known_rate = known_rates[largest_known_t] \n",
    "    largest_unknown_t = np.max(unknown_t_list)  # 3 -> rate = x\n",
    "    cur_range = largest_unknown_t - largest_known_t\n",
    "    \n",
    "    deriv = 0.0\n",
    "    for t in unknown_t_list:\n",
    "        cur_r = ((t - largest_known_t) * x + \n",
    "                 (largest_unknown_t - t) * largest_known_rate) / cur_range\n",
    "        deriv += np.exp(-cur_r*t) * cf_of_t[t] * (-t * (t - largest_known_t) / cur_range)\n",
    "    return deriv   "
   ]
  },
  {
   "cell_type": "code",
   "execution_count": 26,
   "metadata": {},
   "outputs": [],
   "source": [
    "def solve_df_system(t_list, cf_list, px, known_rates, tol, newton_guess=0.05):\n",
    "    cf_of_t = dict(zip(t_list, cf_list))\n",
    "    unknown_t_list = []\n",
    "    for t in t_list:\n",
    "        if t not in known_rates:\n",
    "            unknown_t_list.append(t)\n",
    "    \n",
    "    print(\"unknown_t_list:\", unknown_t_list)\n",
    "    # easy case of just 1 rates not known\n",
    "    if len(unknown_t_list) == 1:\n",
    "        unknown_t = unknown_t_list[0]\n",
    "        npv = 0.0\n",
    "        for t in known_rates:\n",
    "            npv += np.exp(-known_rates[t]*t) * cf_of_t[t]\n",
    "        resid = px - npv\n",
    "        df = resid / cf_of_t[unknown_t]\n",
    "        new_rate = -np.log(df) / unknown_t\n",
    "        return {unknown_t: new_rate}\n",
    "    else:  # complicated case of more than 1 rate not known\n",
    "        largest_known_t = np.max(list(known_rates.keys()))\n",
    "        largest_known_rate = known_rates[largest_known_t] \n",
    "        largest_unknown_t = np.max(unknown_t_list)\n",
    "        solved_largest_rate = specialized_newton(newton_guess, \n",
    "                                                 f_of_x_dynamic, \n",
    "                                                 fprime_of_x_dynamic,\n",
    "                                                 known_rates, \n",
    "                                                 unknown_t_list, \n",
    "                                                 t_list, \n",
    "                                                 cf_of_t, \n",
    "                                                 px,\n",
    "                                                 tol_consec=tol)\n",
    "        rt_dict = {}\n",
    "        for unknown_t in unknown_t_list:\n",
    "            if unknown_t != largest_unknown_t:\n",
    "                cur_rate = lin_interp(unknown_t, \n",
    "                                      largest_known_t, largest_unknown_t,\n",
    "                                      largest_known_rate, solved_largest_rate)\n",
    "                rt_dict[unknown_t] = cur_rate\n",
    "        rt_dict[largest_unknown_t] = solved_largest_rate\n",
    "        return rt_dict\n",
    "        \n",
    "        \n",
    "def bootstrap_dfs(t_lists, cf_lists, px_list, known_rates, tol_list, newton_guess=0.05):\n",
    "    \"\"\" assumes linear interp between r(0,t) \"\"\"\n",
    "    i = 0\n",
    "    for t_list in t_lists:\n",
    "        cur_mat = np.max(t_list)\n",
    "        print(\"running solve_df_system for:\\n- t_list %s\\n- cf_list \"\n",
    "              \"%s\\n- px %s\\n- known_rates %s\" \n",
    "              % (t_list, cf_lists[i], px_list[i], known_rates))\n",
    "        new_rates = solve_df_system(t_list, cf_lists[i], px_list[i], \n",
    "                                    known_rates, tol_list[i], newton_guess)\n",
    "        print(\"solved rates: %s\" % new_rates)\n",
    "        known_rates.update(new_rates)\n",
    "        print(\"updated known_rates:\")\n",
    "        for curkey in known_rates:\n",
    "            print(curkey, \":\", known_rates[curkey])\n",
    "        \n",
    "        print(\"\\n\")\n",
    "        i += 1"
   ]
  },
  {
   "cell_type": "code",
   "execution_count": 27,
   "metadata": {},
   "outputs": [
    {
     "data": {
      "text/plain": [
       "[1e-06, 1e-06, 1e-06, 1e-06]"
      ]
     },
     "execution_count": 27,
     "metadata": {},
     "output_type": "execute_result"
    }
   ],
   "source": [
    "known_rates = init_rates.copy()\n",
    "tol_list = [10 ** -6] * len(t_lists)\n",
    "tol_list"
   ]
  },
  {
   "cell_type": "code",
   "execution_count": 28,
   "metadata": {},
   "outputs": [
    {
     "name": "stdout",
     "output_type": "stream",
     "text": [
      "running solve_df_system for:\n",
      "- t_list [ 0.   0.5]\n",
      "- cf_list [   0.  100.]\n",
      "- px 97.5\n",
      "- known_rates {0: 0.02}\n",
      "unknown_t_list: [0.5]\n",
      "solved rates: {0.5: 0.050635615968579795}\n",
      "updated known_rates:\n",
      "0 : 0.02\n",
      "0.5 : 0.0506356159686\n",
      "\n",
      "\n",
      "running solve_df_system for:\n",
      "- t_list [ 0.   0.5  1. ]\n",
      "- cf_list [   0.     2.5  102.5]\n",
      "- px 100\n",
      "- known_rates {0: 0.02, 0.5: 0.050635615968579795}\n",
      "unknown_t_list: [1.0]\n",
      "solved rates: {1.0: 0.049369600302812088}\n",
      "updated known_rates:\n",
      "0 : 0.02\n",
      "0.5 : 0.0506356159686\n",
      "1.0 : 0.0493696003028\n",
      "\n",
      "\n",
      "running solve_df_system for:\n",
      "- t_list [ 0.   0.5  1.   1.5  2.   2.5  3. ]\n",
      "- cf_list [   0.     2.5    2.5    2.5    2.5    2.5  102.5]\n",
      "- px 102\n",
      "- known_rates {0: 0.02, 0.5: 0.050635615968579795, 1.0: 0.049369600302812088}\n",
      "unknown_t_list: [1.5, 2.0, 2.5, 3.0]\n",
      "solved rates: {1.5: 0.047556601177454506, 2.0: 0.045743602052096925, 2.5: 0.043930602926739344, 3.0: 0.042117603801381763}\n",
      "updated known_rates:\n",
      "0 : 0.02\n",
      "0.5 : 0.0506356159686\n",
      "1.0 : 0.0493696003028\n",
      "1.5 : 0.0475566011775\n",
      "2.0 : 0.0457436020521\n",
      "2.5 : 0.0439306029267\n",
      "3.0 : 0.0421176038014\n",
      "\n",
      "\n",
      "running solve_df_system for:\n",
      "- t_list [ 0.   0.5  1.   1.5  2.   2.5  3.   3.5  4.   4.5  5. ]\n",
      "- cf_list [   0.     3.5    3.5    3.5    3.5    3.5    3.5    3.5    3.5    3.5\n",
      "  103.5]\n",
      "- px 103.5\n",
      "- known_rates {0: 0.02, 0.5: 0.050635615968579795, 1.0: 0.049369600302812088, 1.5: 0.047556601177454506, 2.0: 0.045743602052096925, 2.5: 0.043930602926739344, 3.0: 0.042117603801381763}\n",
      "unknown_t_list: [3.5, 4.0, 4.5, 5.0]\n",
      "solved rates: {3.5: 0.047307358766245984, 4.0: 0.052497113731110198, 4.5: 0.057686868695974419, 5.0: 0.06287662366083864}\n",
      "updated known_rates:\n",
      "0 : 0.02\n",
      "0.5 : 0.0506356159686\n",
      "1.0 : 0.0493696003028\n",
      "1.5 : 0.0475566011775\n",
      "2.0 : 0.0457436020521\n",
      "2.5 : 0.0439306029267\n",
      "3.0 : 0.0421176038014\n",
      "3.5 : 0.0473073587662\n",
      "4.0 : 0.0524971137311\n",
      "4.5 : 0.057686868696\n",
      "5.0 : 0.0628766236608\n",
      "\n",
      "\n"
     ]
    }
   ],
   "source": [
    "bootstrap_dfs(t_lists, cf_lists, px_list, known_rates, tol_list, 0.05)"
   ]
  },
  {
   "cell_type": "code",
   "execution_count": null,
   "metadata": {
    "collapsed": true
   },
   "outputs": [],
   "source": []
  }
 ],
 "metadata": {
  "kernelspec": {
   "display_name": "Python 3",
   "language": "python",
   "name": "python3"
  },
  "language_info": {
   "codemirror_mode": {
    "name": "ipython",
    "version": 3
   },
   "file_extension": ".py",
   "mimetype": "text/x-python",
   "name": "python",
   "nbconvert_exporter": "python",
   "pygments_lexer": "ipython3",
   "version": "3.6.3"
  }
 },
 "nbformat": 4,
 "nbformat_minor": 2
}
