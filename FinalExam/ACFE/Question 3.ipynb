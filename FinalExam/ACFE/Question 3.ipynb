{
 "cells": [
  {
   "cell_type": "code",
   "execution_count": 1,
   "metadata": {
    "collapsed": true
   },
   "outputs": [],
   "source": [
    "import numpy as np\n",
    "import pandas as pd\n",
    "import pyquantlib as pq\n",
    "\n",
    "from IPython.display import display\n",
    "import matplotlib.pyplot as plt\n",
    "%matplotlib inline\n",
    "\n",
    "from importlib import reload"
   ]
  },
  {
   "cell_type": "code",
   "execution_count": 4,
   "metadata": {},
   "outputs": [],
   "source": [
    "def r_of_t(t):\n",
    "    return 0.04 + (np.log(1 + 2 * t) / 200)"
   ]
  },
  {
   "cell_type": "code",
   "execution_count": 32,
   "metadata": {},
   "outputs": [
    {
     "data": {
      "text/plain": [
       "0.91626094580710271"
      ]
     },
     "execution_count": 32,
     "metadata": {},
     "output_type": "execute_result"
    }
   ],
   "source": [
    "t = 22/12\n",
    "np.exp(-r_of_t(t)*t)"
   ]
  },
  {
   "cell_type": "code",
   "execution_count": 26,
   "metadata": {},
   "outputs": [
    {
     "name": "stdout",
     "output_type": "stream",
     "text": [
      "The Price of the Bonds is: 113.455170343\n",
      "With the following details\n"
     ]
    },
    {
     "data": {
      "text/html": [
       "<div>\n",
       "<style>\n",
       "    .dataframe thead tr:only-child th {\n",
       "        text-align: right;\n",
       "    }\n",
       "\n",
       "    .dataframe thead th {\n",
       "        text-align: left;\n",
       "    }\n",
       "\n",
       "    .dataframe tbody tr th {\n",
       "        vertical-align: top;\n",
       "    }\n",
       "</style>\n",
       "<table border=\"1\" class=\"dataframe\">\n",
       "  <thead>\n",
       "    <tr style=\"text-align: right;\">\n",
       "      <th></th>\n",
       "      <th>df</th>\n",
       "      <th>cf</th>\n",
       "      <th>pv</th>\n",
       "    </tr>\n",
       "    <tr>\n",
       "      <th>t</th>\n",
       "      <th></th>\n",
       "      <th></th>\n",
       "      <th></th>\n",
       "    </tr>\n",
       "  </thead>\n",
       "  <tbody>\n",
       "    <tr>\n",
       "      <th>0.333333</th>\n",
       "      <td>0.985915</td>\n",
       "      <td>4.5</td>\n",
       "      <td>4.436619</td>\n",
       "    </tr>\n",
       "    <tr>\n",
       "      <th>0.833333</th>\n",
       "      <td>0.963271</td>\n",
       "      <td>4.5</td>\n",
       "      <td>4.334721</td>\n",
       "    </tr>\n",
       "    <tr>\n",
       "      <th>1.333333</th>\n",
       "      <td>0.939887</td>\n",
       "      <td>4.5</td>\n",
       "      <td>4.229493</td>\n",
       "    </tr>\n",
       "    <tr>\n",
       "      <th>1.833333</th>\n",
       "      <td>0.916261</td>\n",
       "      <td>4.5</td>\n",
       "      <td>4.123174</td>\n",
       "    </tr>\n",
       "    <tr>\n",
       "      <th>2.333333</th>\n",
       "      <td>0.892641</td>\n",
       "      <td>4.5</td>\n",
       "      <td>4.016886</td>\n",
       "    </tr>\n",
       "    <tr>\n",
       "      <th>2.833333</th>\n",
       "      <td>0.869176</td>\n",
       "      <td>4.5</td>\n",
       "      <td>3.911294</td>\n",
       "    </tr>\n",
       "    <tr>\n",
       "      <th>3.333333</th>\n",
       "      <td>0.845962</td>\n",
       "      <td>104.5</td>\n",
       "      <td>88.402982</td>\n",
       "    </tr>\n",
       "  </tbody>\n",
       "</table>\n",
       "</div>"
      ],
      "text/plain": [
       "                df     cf         pv\n",
       "t                                   \n",
       "0.333333  0.985915    4.5   4.436619\n",
       "0.833333  0.963271    4.5   4.334721\n",
       "1.333333  0.939887    4.5   4.229493\n",
       "1.833333  0.916261    4.5   4.123174\n",
       "2.333333  0.892641    4.5   4.016886\n",
       "2.833333  0.869176    4.5   3.911294\n",
       "3.333333  0.845962  104.5  88.402982"
      ]
     },
     "metadata": {},
     "output_type": "display_data"
    }
   ],
   "source": [
    "# Question assumptions i.\n",
    "mat_in_m = 40\n",
    "freq = 2\n",
    "cpn_rate = 0.09\n",
    "px, df = pq.bonds.price_bond_r_of_t(mat_in_m, cpn_rate, freq, r_of_t)\n",
    "print(\"The Price of the Bonds is:\", px)\n",
    "print(\"With the following details\")\n",
    "display(df)"
   ]
  },
  {
   "cell_type": "markdown",
   "metadata": {},
   "source": [
    "### Part ii) Yield to Maturity"
   ]
  },
  {
   "cell_type": "code",
   "execution_count": 10,
   "metadata": {},
   "outputs": [
    {
     "data": {
      "text/plain": [
       "<module 'pyquantlib.bonds' from '/anaconda3/lib/python3.6/site-packages/pyquantlib/bonds.py'>"
      ]
     },
     "execution_count": 10,
     "metadata": {},
     "output_type": "execute_result"
    }
   ],
   "source": [
    "reload(pq.bonds)"
   ]
  },
  {
   "cell_type": "code",
   "execution_count": 13,
   "metadata": {},
   "outputs": [
    {
     "name": "stdout",
     "output_type": "stream",
     "text": [
      "Generated t_list:\n",
      "[ 0.33333333  0.83333333  1.33333333  1.83333333  2.33333333  2.83333333\n",
      "  3.33333333]\n",
      "Genenrated cf_list:\n",
      "[   4.5    4.5    4.5    4.5    4.5    4.5  104.5]\n",
      "initial guessed yield implied price = 98.007893968\n",
      "Not close enough, doing next iteration ...\n",
      "Current iteration = 1\n",
      "current yield = 0.1\n",
      "new yield = 0.0457096576622\n",
      "new price = 114.865554599 \n",
      "\n",
      "Not close enough, doing next iteration ...\n",
      "Current iteration = 2\n",
      "current yield = 0.0457096576622\n",
      "new yield = 0.0498816134733\n",
      "new price = 113.464489588 \n",
      "\n",
      "Not close enough, doing next iteration ...\n",
      "Current iteration = 3\n",
      "current yield = 0.0498816134733\n",
      "new yield = 0.049909548391\n",
      "new price = 113.455170757 \n",
      "\n",
      "Not close enough, doing next iteration ...\n",
      "Current iteration = 4\n",
      "current yield = 0.049909548391\n",
      "new yield = 0.0499095496323\n",
      "new price = 113.455170343 \n",
      "\n"
     ]
    }
   ],
   "source": [
    "yld = pq.bonds.ytm_newton(0.1, px, mat_in_m, cpn_rate, freq, tol_consec=10**-6)"
   ]
  },
  {
   "cell_type": "code",
   "execution_count": 17,
   "metadata": {},
   "outputs": [
    {
     "data": {
      "text/html": [
       "<div>\n",
       "<style>\n",
       "    .dataframe thead tr:only-child th {\n",
       "        text-align: right;\n",
       "    }\n",
       "\n",
       "    .dataframe thead th {\n",
       "        text-align: left;\n",
       "    }\n",
       "\n",
       "    .dataframe tbody tr th {\n",
       "        vertical-align: top;\n",
       "    }\n",
       "</style>\n",
       "<table border=\"1\" class=\"dataframe\">\n",
       "  <thead>\n",
       "    <tr style=\"text-align: right;\">\n",
       "      <th></th>\n",
       "      <th>cf</th>\n",
       "    </tr>\n",
       "    <tr>\n",
       "      <th>t</th>\n",
       "      <th></th>\n",
       "    </tr>\n",
       "  </thead>\n",
       "  <tbody>\n",
       "    <tr>\n",
       "      <th>0.333333</th>\n",
       "      <td>4.5</td>\n",
       "    </tr>\n",
       "    <tr>\n",
       "      <th>0.833333</th>\n",
       "      <td>4.5</td>\n",
       "    </tr>\n",
       "    <tr>\n",
       "      <th>1.333333</th>\n",
       "      <td>4.5</td>\n",
       "    </tr>\n",
       "    <tr>\n",
       "      <th>1.833333</th>\n",
       "      <td>4.5</td>\n",
       "    </tr>\n",
       "    <tr>\n",
       "      <th>2.333333</th>\n",
       "      <td>4.5</td>\n",
       "    </tr>\n",
       "    <tr>\n",
       "      <th>2.833333</th>\n",
       "      <td>4.5</td>\n",
       "    </tr>\n",
       "    <tr>\n",
       "      <th>3.333333</th>\n",
       "      <td>104.5</td>\n",
       "    </tr>\n",
       "  </tbody>\n",
       "</table>\n",
       "</div>"
      ],
      "text/plain": [
       "             cf\n",
       "t              \n",
       "0.333333    4.5\n",
       "0.833333    4.5\n",
       "1.333333    4.5\n",
       "1.833333    4.5\n",
       "2.333333    4.5\n",
       "2.833333    4.5\n",
       "3.333333  104.5"
      ]
     },
     "execution_count": 17,
     "metadata": {},
     "output_type": "execute_result"
    }
   ],
   "source": [
    "t_list, cf_list, df = pq.bonds.gen_t_cf_dataframe(mat_in_m, cpn_rate, freq)\n",
    "df"
   ]
  },
  {
   "cell_type": "code",
   "execution_count": 18,
   "metadata": {},
   "outputs": [
    {
     "data": {
      "text/plain": [
       "0.049909549632267222"
      ]
     },
     "execution_count": 18,
     "metadata": {},
     "output_type": "execute_result"
    }
   ],
   "source": [
    "yld"
   ]
  },
  {
   "cell_type": "markdown",
   "metadata": {},
   "source": [
    "### Part iii"
   ]
  },
  {
   "cell_type": "code",
   "execution_count": 19,
   "metadata": {},
   "outputs": [
    {
     "name": "stdout",
     "output_type": "stream",
     "text": [
      "113.455170343 2.94015659228 9.35259803356\n"
     ]
    }
   ],
   "source": [
    "B, D, C = pq.bonds.price_bond_w_dur_cvx(t_list, cf_list, yld)\n",
    "print(B, D, C)"
   ]
  },
  {
   "cell_type": "code",
   "execution_count": 34,
   "metadata": {},
   "outputs": [
    {
     "data": {
      "text/plain": [
       "(40, 0.09, 2)"
      ]
     },
     "execution_count": 34,
     "metadata": {},
     "output_type": "execute_result"
    }
   ],
   "source": [
    "mat_in_m, cpn_rate, freq"
   ]
  },
  {
   "cell_type": "code",
   "execution_count": 37,
   "metadata": {},
   "outputs": [
    {
     "data": {
      "text/plain": [
       "333.57597277024809"
      ]
     },
     "execution_count": 37,
     "metadata": {},
     "output_type": "execute_result"
    }
   ],
   "source": [
    "px_up = pq.bonds.price_bond(yld+0.0001, mat_in_m, cpn_rate, freq)\n",
    "px_down = pq.bonds.price_bond(yld-0.0001, mat_in_m, cpn_rate, freq)\n",
    "delta = (px_up - px_down) / (0.0002)\n",
    "-delta"
   ]
  },
  {
   "cell_type": "code",
   "execution_count": 20,
   "metadata": {},
   "outputs": [
    {
     "data": {
      "text/plain": [
       "333.57596701205529"
      ]
     },
     "execution_count": 20,
     "metadata": {},
     "output_type": "execute_result"
    }
   ],
   "source": [
    "dollar_dur = B*D\n",
    "dollar_dur"
   ]
  },
  {
   "cell_type": "code",
   "execution_count": 21,
   "metadata": {},
   "outputs": [
    {
     "data": {
      "text/plain": [
       "0.033357596701205527"
      ]
     },
     "execution_count": 21,
     "metadata": {},
     "output_type": "execute_result"
    }
   ],
   "source": [
    "dv01 = dollar_dur / 10000\n",
    "dv01"
   ]
  },
  {
   "cell_type": "code",
   "execution_count": 22,
   "metadata": {},
   "outputs": [
    {
     "data": {
      "text/plain": [
       "1061.1006030453452"
      ]
     },
     "execution_count": 22,
     "metadata": {},
     "output_type": "execute_result"
    }
   ],
   "source": [
    "dollar_cvx = B*C\n",
    "dollar_cvx"
   ]
  },
  {
   "cell_type": "code",
   "execution_count": null,
   "metadata": {
    "collapsed": true
   },
   "outputs": [],
   "source": []
  }
 ],
 "metadata": {
  "kernelspec": {
   "display_name": "Python 3",
   "language": "python",
   "name": "python3"
  },
  "language_info": {
   "codemirror_mode": {
    "name": "ipython",
    "version": 3
   },
   "file_extension": ".py",
   "mimetype": "text/x-python",
   "name": "python",
   "nbconvert_exporter": "python",
   "pygments_lexer": "ipython3",
   "version": "3.6.3"
  }
 },
 "nbformat": 4,
 "nbformat_minor": 2
}
