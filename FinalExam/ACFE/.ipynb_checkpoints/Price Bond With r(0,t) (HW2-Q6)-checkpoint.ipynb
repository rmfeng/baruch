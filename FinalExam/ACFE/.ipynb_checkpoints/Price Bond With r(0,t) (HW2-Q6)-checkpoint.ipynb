{
 "cells": [
  {
   "cell_type": "markdown",
   "metadata": {},
   "source": [
    "![question6](img/hw2q6.png)"
   ]
  },
  {
   "cell_type": "code",
   "execution_count": 1,
   "metadata": {
    "collapsed": true
   },
   "outputs": [],
   "source": [
    "import numpy as np\n",
    "import pandas as pd\n",
    "import pyquantlib as pq\n",
    "\n",
    "from IPython.display import display\n",
    "import matplotlib.pyplot as plt\n",
    "%matplotlib inline\n",
    "\n",
    "from importlib import reload"
   ]
  },
  {
   "cell_type": "code",
   "execution_count": 2,
   "metadata": {
    "collapsed": true
   },
   "outputs": [],
   "source": [
    "def r_of_t(t):\n",
    "    return 0.05 + 0.005 * np.sqrt(1 + t)"
   ]
  },
  {
   "cell_type": "code",
   "execution_count": 3,
   "metadata": {},
   "outputs": [
    {
     "name": "stdout",
     "output_type": "stream",
     "text": [
      "The Price of the Bonds is: 101.960379145\n",
      "With the following details\n"
     ]
    },
    {
     "data": {
      "text/html": [
       "<div>\n",
       "<style>\n",
       "    .dataframe thead tr:only-child th {\n",
       "        text-align: right;\n",
       "    }\n",
       "\n",
       "    .dataframe thead th {\n",
       "        text-align: left;\n",
       "    }\n",
       "\n",
       "    .dataframe tbody tr th {\n",
       "        vertical-align: top;\n",
       "    }\n",
       "</style>\n",
       "<table border=\"1\" class=\"dataframe\">\n",
       "  <thead>\n",
       "    <tr style=\"text-align: right;\">\n",
       "      <th></th>\n",
       "      <th>df</th>\n",
       "      <th>cf</th>\n",
       "      <th>pv</th>\n",
       "    </tr>\n",
       "    <tr>\n",
       "      <th>t</th>\n",
       "      <th></th>\n",
       "      <th></th>\n",
       "      <th></th>\n",
       "    </tr>\n",
       "  </thead>\n",
       "  <tbody>\n",
       "    <tr>\n",
       "      <th>0.0</th>\n",
       "      <td>1.000000</td>\n",
       "      <td>0.0</td>\n",
       "      <td>0.000000</td>\n",
       "    </tr>\n",
       "    <tr>\n",
       "      <th>0.5</th>\n",
       "      <td>0.972328</td>\n",
       "      <td>3.5</td>\n",
       "      <td>3.403149</td>\n",
       "    </tr>\n",
       "    <tr>\n",
       "      <th>1.0</th>\n",
       "      <td>0.944527</td>\n",
       "      <td>3.5</td>\n",
       "      <td>3.305844</td>\n",
       "    </tr>\n",
       "    <tr>\n",
       "      <th>1.5</th>\n",
       "      <td>0.916807</td>\n",
       "      <td>3.5</td>\n",
       "      <td>3.208824</td>\n",
       "    </tr>\n",
       "    <tr>\n",
       "      <th>2.0</th>\n",
       "      <td>0.889300</td>\n",
       "      <td>103.5</td>\n",
       "      <td>92.042562</td>\n",
       "    </tr>\n",
       "  </tbody>\n",
       "</table>\n",
       "</div>"
      ],
      "text/plain": [
       "           df     cf         pv\n",
       "t                              \n",
       "0.0  1.000000    0.0   0.000000\n",
       "0.5  0.972328    3.5   3.403149\n",
       "1.0  0.944527    3.5   3.305844\n",
       "1.5  0.916807    3.5   3.208824\n",
       "2.0  0.889300  103.5  92.042562"
      ]
     },
     "metadata": {},
     "output_type": "display_data"
    }
   ],
   "source": [
    "# Question assumptions i.\n",
    "mat_in_m = 2 * 12\n",
    "freq = 2\n",
    "cpn_rate = 0.07\n",
    "px, df = pq.bonds.price_bond_r_of_t(mat_in_m, cpn_rate, freq, r_of_t)\n",
    "print(\"The Price of the Bonds is:\", px)\n",
    "print(\"With the following details\")\n",
    "display(df)"
   ]
  },
  {
   "cell_type": "code",
   "execution_count": 4,
   "metadata": {},
   "outputs": [
    {
     "name": "stdout",
     "output_type": "stream",
     "text": [
      "The Price of the Bonds is: 104.573693529\n",
      "With the following details\n"
     ]
    },
    {
     "data": {
      "text/html": [
       "<div>\n",
       "<style>\n",
       "    .dataframe thead tr:only-child th {\n",
       "        text-align: right;\n",
       "    }\n",
       "\n",
       "    .dataframe thead th {\n",
       "        text-align: left;\n",
       "    }\n",
       "\n",
       "    .dataframe tbody tr th {\n",
       "        vertical-align: top;\n",
       "    }\n",
       "</style>\n",
       "<table border=\"1\" class=\"dataframe\">\n",
       "  <thead>\n",
       "    <tr style=\"text-align: right;\">\n",
       "      <th></th>\n",
       "      <th>df</th>\n",
       "      <th>cf</th>\n",
       "      <th>pv</th>\n",
       "    </tr>\n",
       "    <tr>\n",
       "      <th>t</th>\n",
       "      <th></th>\n",
       "      <th></th>\n",
       "      <th></th>\n",
       "    </tr>\n",
       "  </thead>\n",
       "  <tbody>\n",
       "    <tr>\n",
       "      <th>0.083333</th>\n",
       "      <td>0.995410</td>\n",
       "      <td>3.5</td>\n",
       "      <td>3.483936</td>\n",
       "    </tr>\n",
       "    <tr>\n",
       "      <th>0.583333</th>\n",
       "      <td>0.967697</td>\n",
       "      <td>3.5</td>\n",
       "      <td>3.386938</td>\n",
       "    </tr>\n",
       "    <tr>\n",
       "      <th>1.083333</th>\n",
       "      <td>0.939897</td>\n",
       "      <td>3.5</td>\n",
       "      <td>3.289640</td>\n",
       "    </tr>\n",
       "    <tr>\n",
       "      <th>1.583333</th>\n",
       "      <td>0.912205</td>\n",
       "      <td>103.5</td>\n",
       "      <td>94.413180</td>\n",
       "    </tr>\n",
       "  </tbody>\n",
       "</table>\n",
       "</div>"
      ],
      "text/plain": [
       "                df     cf         pv\n",
       "t                                   \n",
       "0.083333  0.995410    3.5   3.483936\n",
       "0.583333  0.967697    3.5   3.386938\n",
       "1.083333  0.939897    3.5   3.289640\n",
       "1.583333  0.912205  103.5  94.413180"
      ]
     },
     "metadata": {},
     "output_type": "display_data"
    }
   ],
   "source": [
    "# Question assumptions ii.\n",
    "mat_in_m = 19\n",
    "freq = 2\n",
    "cpn_rate = 0.07\n",
    "px, df = pq.bonds.price_bond_r_of_t(mat_in_m, cpn_rate, freq, r_of_t)\n",
    "print(\"The Price of the Bonds is:\", px)\n",
    "print(\"With the following details\")\n",
    "display(df)"
   ]
  },
  {
   "cell_type": "code",
   "execution_count": null,
   "metadata": {
    "collapsed": true
   },
   "outputs": [],
   "source": []
  }
 ],
 "metadata": {
  "kernelspec": {
   "display_name": "Python 3",
   "language": "python",
   "name": "python3"
  },
  "language_info": {
   "codemirror_mode": {
    "name": "ipython",
    "version": 3
   },
   "file_extension": ".py",
   "mimetype": "text/x-python",
   "name": "python",
   "nbconvert_exporter": "python",
   "pygments_lexer": "ipython3",
   "version": "3.6.3"
  }
 },
 "nbformat": 4,
 "nbformat_minor": 2
}
