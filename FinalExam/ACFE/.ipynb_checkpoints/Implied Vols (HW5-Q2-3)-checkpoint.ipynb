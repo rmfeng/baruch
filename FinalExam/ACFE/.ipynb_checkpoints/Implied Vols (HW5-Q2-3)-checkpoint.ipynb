{
 "cells": [
  {
   "cell_type": "markdown",
   "metadata": {},
   "source": [
    "![question](img/hw5q2.png)"
   ]
  },
  {
   "cell_type": "code",
   "execution_count": 1,
   "metadata": {
    "collapsed": true
   },
   "outputs": [],
   "source": [
    "import numpy as np\n",
    "import pandas as pd\n",
    "import pyquantlib as pq\n",
    "\n",
    "from IPython.display import display\n",
    "import matplotlib.pyplot as plt\n",
    "%matplotlib inline\n",
    "\n",
    "from importlib import reload"
   ]
  },
  {
   "cell_type": "code",
   "execution_count": 14,
   "metadata": {},
   "outputs": [
    {
     "data": {
      "text/plain": [
       "<module 'pyquantlib.blackscholes' from '/anaconda3/lib/python3.6/site-packages/pyquantlib/blackscholes.py'>"
      ]
     },
     "execution_count": 14,
     "metadata": {},
     "output_type": "execute_result"
    }
   ],
   "source": [
    "reload(pq.blackscholes)"
   ]
  },
  {
   "cell_type": "code",
   "execution_count": 11,
   "metadata": {
    "collapsed": true
   },
   "outputs": [],
   "source": [
    "# question assumptions\n",
    "T, isCall, S, K, px, r, q = 0.5, True, 30, 30, 2.5, 0.03, 0.01\n",
    "v_guess = 0.5"
   ]
  },
  {
   "cell_type": "code",
   "execution_count": 13,
   "metadata": {},
   "outputs": [
    {
     "name": "stdout",
     "output_type": "stream",
     "text": [
      "initial guessed vol price = 4.31781088717\n",
      "Not close enough, doing next iteration ...\n",
      "current vega = 8.24543948807\n",
      "new vol = 0.279537417041\n",
      "new price = 2.48985468237 \n",
      "\n",
      "Not close enough, doing next iteration ...\n",
      "current vega = 8.32715365778\n",
      "new vol = 0.280755758631\n",
      "new price = 2.49999984008 \n",
      "\n",
      "Solved Implied Vol: 0.280755758631\n"
     ]
    }
   ],
   "source": [
    "imp_vol = pq.blackscholes.imp_vol_newton(px, v_guess, T, isCall, S, K, r, q, is_verbose=True)\n",
    "print(\"Solved Implied Vol:\",imp_vol)"
   ]
  },
  {
   "cell_type": "markdown",
   "metadata": {},
   "source": [
    "### Next Question - Estimator of Vol"
   ]
  },
  {
   "cell_type": "markdown",
   "metadata": {},
   "source": [
    "![question2](img/hw5q3.png)"
   ]
  },
  {
   "cell_type": "code",
   "execution_count": 15,
   "metadata": {
    "collapsed": true
   },
   "outputs": [],
   "source": [
    "# question assumptions\n",
    "T = 5/12\n",
    "isCall = True\n",
    "S, K = 40, 40\n",
    "q, r = 0.01, 0.025\n",
    "px = 2.75"
   ]
  },
  {
   "cell_type": "code",
   "execution_count": 16,
   "metadata": {},
   "outputs": [
    {
     "name": "stdout",
     "output_type": "stream",
     "text": [
      "initial guessed vol price = 5.21586298744\n",
      "Not close enough, doing next iteration ...\n",
      "current vega = 10.0916318652\n",
      "new vol = 0.255652701131\n",
      "new price = 2.73726567775 \n",
      "\n",
      "Not close enough, doing next iteration ...\n",
      "current vega = 10.1837529964\n",
      "new vol = 0.256903155876\n",
      "new price = 2.74999983208 \n",
      "\n",
      "Solved Implied Vol: 0.256903155876\n"
     ]
    }
   ],
   "source": [
    "imp_vol = pq.blackscholes.imp_vol_newton(px, v_guess, T, isCall, S, K, r, q, is_verbose=True)\n",
    "print(\"Solved Implied Vol:\",imp_vol)"
   ]
  },
  {
   "cell_type": "code",
   "execution_count": 17,
   "metadata": {},
   "outputs": [
    {
     "name": "stdout",
     "output_type": "stream",
     "text": [
      "Solved Implied Vol Estimate: 0.256710246571\n"
     ]
    }
   ],
   "source": [
    "imp_vol_est = pq.blackscholes.i_vol_est(T, px, S, r, q)\n",
    "print(\"Solved Implied Vol Estimate:\",imp_vol_est)"
   ]
  },
  {
   "cell_type": "markdown",
   "metadata": {},
   "source": [
    "#### Estimation Error"
   ]
  },
  {
   "cell_type": "code",
   "execution_count": 18,
   "metadata": {},
   "outputs": [
    {
     "name": "stdout",
     "output_type": "stream",
     "text": [
      "relative error was: 0.000750902822123\n"
     ]
    }
   ],
   "source": [
    "est_error = np.abs(imp_vol_est - imp_vol) / imp_vol\n",
    "print(\"relative error was:\", est_error)"
   ]
  },
  {
   "cell_type": "code",
   "execution_count": null,
   "metadata": {
    "collapsed": true
   },
   "outputs": [],
   "source": []
  }
 ],
 "metadata": {
  "kernelspec": {
   "display_name": "Python 3",
   "language": "python",
   "name": "python3"
  },
  "language_info": {
   "codemirror_mode": {
    "name": "ipython",
    "version": 3
   },
   "file_extension": ".py",
   "mimetype": "text/x-python",
   "name": "python",
   "nbconvert_exporter": "python",
   "pygments_lexer": "ipython3",
   "version": "3.6.3"
  }
 },
 "nbformat": 4,
 "nbformat_minor": 2
}
