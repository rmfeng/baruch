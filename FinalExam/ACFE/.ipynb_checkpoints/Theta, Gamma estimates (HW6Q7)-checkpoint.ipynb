{
 "cells": [
  {
   "cell_type": "markdown",
   "metadata": {},
   "source": [
    "![question](img/hw6q7.png)"
   ]
  },
  {
   "cell_type": "code",
   "execution_count": 1,
   "metadata": {
    "collapsed": true
   },
   "outputs": [],
   "source": [
    "import numpy as np\n",
    "import pandas as pd\n",
    "import pyquantlib as pq\n",
    "from IPython.display import display\n",
    "import matplotlib.pyplot as plt\n",
    "%matplotlib inline\n",
    "from importlib import reload"
   ]
  },
  {
   "cell_type": "code",
   "execution_count": 2,
   "metadata": {
    "collapsed": true
   },
   "outputs": [],
   "source": [
    "# Question Given:\n",
    "T = 0.5\n",
    "S = 45\n",
    "K = 45\n",
    "isCall = False\n",
    "vol = 0.25\n",
    "q = 0\n",
    "r = 0.02"
   ]
  },
  {
   "cell_type": "markdown",
   "metadata": {},
   "source": [
    "#### Part i"
   ]
  },
  {
   "cell_type": "code",
   "execution_count": 4,
   "metadata": {},
   "outputs": [
    {
     "name": "stdout",
     "output_type": "stream",
     "text": [
      "Price, Delta, Gamma, Theta is:\n",
      "2.93482338697 -0.442372454442 0.0496260529743 -2.68356698804\n"
     ]
    }
   ],
   "source": [
    "px = pq.blackscholes.bs_price(T, isCall, S, K, vol, r, q)\n",
    "delta = pq.blackscholes.bs_delta(T, isCall, S, K, vol, r, q)\n",
    "gamma = pq.blackscholes.bs_gamma(T, S, K, vol, r, q)\n",
    "theta = pq.blackscholes.bs_theta(T, isCall, S, K, vol, r, q)\n",
    "print(\"Price, Delta, Gamma, Theta is:\")\n",
    "print(px, delta, gamma, theta)"
   ]
  },
  {
   "cell_type": "markdown",
   "metadata": {},
   "source": [
    "#### Part ii"
   ]
  },
  {
   "cell_type": "code",
   "execution_count": 5,
   "metadata": {
    "collapsed": true
   },
   "outputs": [],
   "source": [
    "dS_list = [10**-1, 10**-2, 10**-3]\n",
    "\n",
    "def approx_delta(dS):\n",
    "    px_up = pq.blackscholes.bs_price(T, isCall, S + dS, K, vol, r, q)\n",
    "    px_dn = pq.blackscholes.bs_price(T, isCall, S - dS, K, vol, r, q)\n",
    "    return (px_up - px_dn) / (2*dS)\n",
    "\n",
    "def approx_gamma(dS, px):\n",
    "    px_up = pq.blackscholes.bs_price(T, isCall, S + dS, K, vol, r, q)\n",
    "    px_dn = pq.blackscholes.bs_price(T, isCall, S - dS, K, vol, r, q)\n",
    "    return (px_up - 2 * px + px_dn) / (dS**2)"
   ]
  },
  {
   "cell_type": "code",
   "execution_count": 6,
   "metadata": {},
   "outputs": [
    {
     "data": {
      "text/html": [
       "<div>\n",
       "<style>\n",
       "    .dataframe thead tr:only-child th {\n",
       "        text-align: right;\n",
       "    }\n",
       "\n",
       "    .dataframe thead th {\n",
       "        text-align: left;\n",
       "    }\n",
       "\n",
       "    .dataframe tbody tr th {\n",
       "        vertical-align: top;\n",
       "    }\n",
       "</style>\n",
       "<table border=\"1\" class=\"dataframe\">\n",
       "  <thead>\n",
       "    <tr style=\"text-align: right;\">\n",
       "      <th></th>\n",
       "      <th>bs delta</th>\n",
       "      <th>approx delta</th>\n",
       "      <th>bs gamma</th>\n",
       "      <th>approx gamma</th>\n",
       "    </tr>\n",
       "    <tr>\n",
       "      <th>dS</th>\n",
       "      <th></th>\n",
       "      <th></th>\n",
       "      <th></th>\n",
       "      <th></th>\n",
       "    </tr>\n",
       "  </thead>\n",
       "  <tbody>\n",
       "    <tr>\n",
       "      <th>0.100</th>\n",
       "      <td>-0.4423724544</td>\n",
       "      <td>-0.4423757995</td>\n",
       "      <td>0.049626053</td>\n",
       "      <td>0.0496255043</td>\n",
       "    </tr>\n",
       "    <tr>\n",
       "      <th>0.010</th>\n",
       "      <td>-0.4423724544</td>\n",
       "      <td>-0.4423724879</td>\n",
       "      <td>0.049626053</td>\n",
       "      <td>0.0496260476</td>\n",
       "    </tr>\n",
       "    <tr>\n",
       "      <th>0.001</th>\n",
       "      <td>-0.4423724544</td>\n",
       "      <td>-0.4423724548</td>\n",
       "      <td>0.049626053</td>\n",
       "      <td>0.0496260562</td>\n",
       "    </tr>\n",
       "  </tbody>\n",
       "</table>\n",
       "</div>"
      ],
      "text/plain": [
       "           bs delta  approx delta     bs gamma  approx gamma\n",
       "dS                                                          \n",
       "0.100 -0.4423724544 -0.4423757995  0.049626053  0.0496255043\n",
       "0.010 -0.4423724544 -0.4423724879  0.049626053  0.0496260476\n",
       "0.001 -0.4423724544 -0.4423724548  0.049626053  0.0496260562"
      ]
     },
     "execution_count": 6,
     "metadata": {},
     "output_type": "execute_result"
    }
   ],
   "source": [
    "res_dict = {}\n",
    "for dS in dS_list:\n",
    "    d_approx = approx_delta(dS)\n",
    "    g_approx = approx_gamma(dS, px)\n",
    "    res_dict[dS] = (delta, d_approx, gamma, g_approx)\n",
    "    \n",
    "df = pd.DataFrame(res_dict).transpose()\n",
    "df.index.name = 'dS'\n",
    "df.columns = ['bs delta','approx delta','bs gamma','approx gamma']\n",
    "\n",
    "pd.set_option('precision',10)\n",
    "df.sort_index(ascending=False)"
   ]
  },
  {
   "cell_type": "markdown",
   "metadata": {},
   "source": [
    "#### Part iii"
   ]
  },
  {
   "cell_type": "code",
   "execution_count": 7,
   "metadata": {
    "collapsed": true
   },
   "outputs": [],
   "source": [
    "dT_list = [1/252, 1/(2*252), 1/(4*252), 1/(8*252)]\n",
    "\n",
    "def approx_theta(dT, px):\n",
    "    px_st = pq.blackscholes.bs_price(T-dT, isCall, S, K, vol, r, q)\n",
    "    return (px_st - px) / dT"
   ]
  },
  {
   "cell_type": "code",
   "execution_count": 8,
   "metadata": {},
   "outputs": [
    {
     "data": {
      "text/html": [
       "<div>\n",
       "<style>\n",
       "    .dataframe thead tr:only-child th {\n",
       "        text-align: right;\n",
       "    }\n",
       "\n",
       "    .dataframe thead th {\n",
       "        text-align: left;\n",
       "    }\n",
       "\n",
       "    .dataframe tbody tr th {\n",
       "        vertical-align: top;\n",
       "    }\n",
       "</style>\n",
       "<table border=\"1\" class=\"dataframe\">\n",
       "  <thead>\n",
       "    <tr style=\"text-align: right;\">\n",
       "      <th></th>\n",
       "      <th>bs theta</th>\n",
       "      <th>approx theta</th>\n",
       "    </tr>\n",
       "    <tr>\n",
       "      <th>dT</th>\n",
       "      <th></th>\n",
       "      <th></th>\n",
       "    </tr>\n",
       "  </thead>\n",
       "  <tbody>\n",
       "    <tr>\n",
       "      <th>0.0039682540</th>\n",
       "      <td>-2.683566988</td>\n",
       "      <td>-2.6899584002</td>\n",
       "    </tr>\n",
       "    <tr>\n",
       "      <th>0.0019841270</th>\n",
       "      <td>-2.683566988</td>\n",
       "      <td>-2.6867563706</td>\n",
       "    </tr>\n",
       "    <tr>\n",
       "      <th>0.0009920635</th>\n",
       "      <td>-2.683566988</td>\n",
       "      <td>-2.6851601043</td>\n",
       "    </tr>\n",
       "    <tr>\n",
       "      <th>0.0004960317</th>\n",
       "      <td>-2.683566988</td>\n",
       "      <td>-2.6843631532</td>\n",
       "    </tr>\n",
       "  </tbody>\n",
       "</table>\n",
       "</div>"
      ],
      "text/plain": [
       "                 bs theta  approx theta\n",
       "dT                                     \n",
       "0.0039682540 -2.683566988 -2.6899584002\n",
       "0.0019841270 -2.683566988 -2.6867563706\n",
       "0.0009920635 -2.683566988 -2.6851601043\n",
       "0.0004960317 -2.683566988 -2.6843631532"
      ]
     },
     "execution_count": 8,
     "metadata": {},
     "output_type": "execute_result"
    }
   ],
   "source": [
    "res_dict = {}\n",
    "for dT in dT_list:\n",
    "    t_approx = approx_theta(dT, px)\n",
    "    res_dict[dT] = (theta, t_approx)\n",
    "\n",
    "df = pd.DataFrame(res_dict).transpose()\n",
    "df.index.name = 'dT'\n",
    "df.columns = ['bs theta','approx theta']\n",
    "\n",
    "pd.set_option('precision',10)\n",
    "df.sort_index(ascending=False)"
   ]
  },
  {
   "cell_type": "code",
   "execution_count": null,
   "metadata": {
    "collapsed": true
   },
   "outputs": [],
   "source": []
  }
 ],
 "metadata": {
  "kernelspec": {
   "display_name": "Python 3",
   "language": "python",
   "name": "python3"
  },
  "language_info": {
   "codemirror_mode": {
    "name": "ipython",
    "version": 3
   },
   "file_extension": ".py",
   "mimetype": "text/x-python",
   "name": "python",
   "nbconvert_exporter": "python",
   "pygments_lexer": "ipython3",
   "version": "3.6.3"
  }
 },
 "nbformat": 4,
 "nbformat_minor": 2
}
