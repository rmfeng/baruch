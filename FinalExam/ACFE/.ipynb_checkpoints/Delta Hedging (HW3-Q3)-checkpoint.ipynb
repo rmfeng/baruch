{
 "cells": [
  {
   "cell_type": "markdown",
   "metadata": {},
   "source": [
    "![question](img/hw4q3.png)"
   ]
  },
  {
   "cell_type": "code",
   "execution_count": 1,
   "metadata": {
    "collapsed": true
   },
   "outputs": [],
   "source": [
    "import numpy as np\n",
    "import pandas as pd\n",
    "import pyquantlib as pq\n",
    "\n",
    "from IPython.display import display\n",
    "import matplotlib.pyplot as plt\n",
    "%matplotlib inline\n",
    "\n",
    "from importlib import reload"
   ]
  },
  {
   "cell_type": "code",
   "execution_count": 19,
   "metadata": {
    "collapsed": true
   },
   "outputs": [],
   "source": [
    "# question assumptions\n",
    "pos, T, isCall, S, K, vol, r, q = 1000, 0.5, False, 100, 100, 0.3, 0.05, 0.0"
   ]
  },
  {
   "cell_type": "markdown",
   "metadata": {},
   "source": [
    "#### Part i"
   ]
  },
  {
   "cell_type": "code",
   "execution_count": 20,
   "metadata": {},
   "outputs": [
    {
     "name": "stdout",
     "output_type": "stream",
     "text": [
      "Price of the option: 7.16586783128\n"
     ]
    }
   ],
   "source": [
    "px = pq.blackscholes.bs_price(T, isCall, S, K, vol, r, q)\n",
    "print(\"Price of the option:\", px)"
   ]
  },
  {
   "cell_type": "code",
   "execution_count": 21,
   "metadata": {},
   "outputs": [
    {
     "name": "stdout",
     "output_type": "stream",
     "text": [
      "Percent delta of the option -0.411410886402\n"
     ]
    }
   ],
   "source": [
    "delta = pq.blackscholes.bs_delta(T, isCall, S, K, vol, r, q)\n",
    "print(\"Percent delta of the option\",delta)"
   ]
  },
  {
   "cell_type": "code",
   "execution_count": 22,
   "metadata": {},
   "outputs": [
    {
     "name": "stdout",
     "output_type": "stream",
     "text": [
      "Dollar delta of the options -41141.0886402\n"
     ]
    }
   ],
   "source": [
    "dollar_delta = delta * S * pos\n",
    "print(\"Dollar delta of the options\", dollar_delta)"
   ]
  },
  {
   "cell_type": "code",
   "execution_count": 26,
   "metadata": {},
   "outputs": [
    {
     "name": "stdout",
     "output_type": "stream",
     "text": [
      "Shares of Stock bought: 411.410886402\n"
     ]
    }
   ],
   "source": [
    "stock_hedge = - dollar_delta / S\n",
    "print(\"Shares of Stock bought:\", stock_hedge)"
   ]
  },
  {
   "cell_type": "markdown",
   "metadata": {},
   "source": [
    "#### Part ii"
   ]
  },
  {
   "cell_type": "code",
   "execution_count": 24,
   "metadata": {},
   "outputs": [
    {
     "data": {
      "text/plain": [
       "(102, 0.49603174603174605)"
      ]
     },
     "execution_count": 24,
     "metadata": {},
     "output_type": "execute_result"
    }
   ],
   "source": [
    "T1 = T - 1/252\n",
    "S1 = 102\n",
    "S1, T1"
   ]
  },
  {
   "cell_type": "code",
   "execution_count": 25,
   "metadata": {},
   "outputs": [
    {
     "name": "stdout",
     "output_type": "stream",
     "text": [
      "New Option Price: 6.379206198\n"
     ]
    }
   ],
   "source": [
    "new_px = pq.blackscholes.bs_price(T, isCall, S1, K, vol, r, q)\n",
    "print(\"New Option Price:\",new_px)"
   ]
  },
  {
   "cell_type": "code",
   "execution_count": 27,
   "metadata": {},
   "outputs": [
    {
     "name": "stdout",
     "output_type": "stream",
     "text": [
      "Option PL: -786.661633287\n",
      "Stock PL: 822.821772805\n",
      "Total PL: 36.1601395175\n"
     ]
    }
   ],
   "source": [
    "pnl_opt = (new_px - px) * pos\n",
    "pnl_stock = (S1 - S) * stock_hedge\n",
    "pnl_tot = pnl_opt + pnl_stock\n",
    "print(\"Option PL:\", pnl_opt)\n",
    "print(\"Stock PL:\", pnl_stock)\n",
    "print(\"Total PL:\", pnl_tot)"
   ]
  },
  {
   "cell_type": "markdown",
   "metadata": {},
   "source": [
    "#### Part iii"
   ]
  },
  {
   "cell_type": "code",
   "execution_count": 28,
   "metadata": {},
   "outputs": [
    {
     "name": "stdout",
     "output_type": "stream",
     "text": [
      "Option PL: -786.661633287\n"
     ]
    }
   ],
   "source": [
    "print(\"Option PL:\", pnl_opt)"
   ]
  },
  {
   "cell_type": "code",
   "execution_count": null,
   "metadata": {
    "collapsed": true
   },
   "outputs": [],
   "source": []
  }
 ],
 "metadata": {
  "kernelspec": {
   "display_name": "Python 3",
   "language": "python",
   "name": "python3"
  },
  "language_info": {
   "codemirror_mode": {
    "name": "ipython",
    "version": 3
   },
   "file_extension": ".py",
   "mimetype": "text/x-python",
   "name": "python",
   "nbconvert_exporter": "python",
   "pygments_lexer": "ipython3",
   "version": "3.6.3"
  }
 },
 "nbformat": 4,
 "nbformat_minor": 2
}
