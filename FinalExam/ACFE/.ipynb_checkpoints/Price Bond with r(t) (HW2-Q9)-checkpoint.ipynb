{
 "cells": [
  {
   "cell_type": "markdown",
   "metadata": {},
   "source": [
    "![question9](img/hw2q9.png)"
   ]
  },
  {
   "cell_type": "code",
   "execution_count": 1,
   "metadata": {},
   "outputs": [],
   "source": [
    "import numpy as np\n",
    "import pandas as pd\n",
    "import pyquantlib as pq\n",
    "\n",
    "from IPython.display import display\n",
    "import matplotlib.pyplot as plt\n",
    "%matplotlib inline\n",
    "\n",
    "from importlib import reload"
   ]
  },
  {
   "cell_type": "code",
   "execution_count": 2,
   "metadata": {
    "collapsed": true
   },
   "outputs": [],
   "source": [
    "def r_inst(t):\n",
    "    return 0.05 / (1 + 2 * np.exp(-1 * (1 + t) ** 2))"
   ]
  },
  {
   "cell_type": "markdown",
   "metadata": {},
   "source": [
    "#### part i)"
   ]
  },
  {
   "cell_type": "code",
   "execution_count": 5,
   "metadata": {
    "collapsed": true
   },
   "outputs": [],
   "source": [
    "mat_in_m = 24\n",
    "freq = 2\n",
    "cpn_rate = 0.05\n",
    "tol_list = [10 ** -6, 10 ** -6, 10 ** -6, 10 ** -6, 10 ** -8]"
   ]
  },
  {
   "cell_type": "code",
   "execution_count": 6,
   "metadata": {},
   "outputs": [
    {
     "data": {
      "text/html": [
       "<div>\n",
       "<style>\n",
       "    .dataframe thead tr:only-child th {\n",
       "        text-align: right;\n",
       "    }\n",
       "\n",
       "    .dataframe thead th {\n",
       "        text-align: left;\n",
       "    }\n",
       "\n",
       "    .dataframe tbody tr th {\n",
       "        vertical-align: top;\n",
       "    }\n",
       "</style>\n",
       "<table border=\"1\" class=\"dataframe\">\n",
       "  <thead>\n",
       "    <tr style=\"text-align: right;\">\n",
       "      <th></th>\n",
       "      <th>cf</th>\n",
       "    </tr>\n",
       "    <tr>\n",
       "      <th>t</th>\n",
       "      <th></th>\n",
       "    </tr>\n",
       "  </thead>\n",
       "  <tbody>\n",
       "    <tr>\n",
       "      <th>0.0</th>\n",
       "      <td>0.0</td>\n",
       "    </tr>\n",
       "    <tr>\n",
       "      <th>0.5</th>\n",
       "      <td>2.5</td>\n",
       "    </tr>\n",
       "    <tr>\n",
       "      <th>1.0</th>\n",
       "      <td>2.5</td>\n",
       "    </tr>\n",
       "    <tr>\n",
       "      <th>1.5</th>\n",
       "      <td>2.5</td>\n",
       "    </tr>\n",
       "    <tr>\n",
       "      <th>2.0</th>\n",
       "      <td>102.5</td>\n",
       "    </tr>\n",
       "  </tbody>\n",
       "</table>\n",
       "</div>"
      ],
      "text/plain": [
       "        cf\n",
       "t         \n",
       "0.0    0.0\n",
       "0.5    2.5\n",
       "1.0    2.5\n",
       "1.5    2.5\n",
       "2.0  102.5"
      ]
     },
     "metadata": {},
     "output_type": "display_data"
    }
   ],
   "source": [
    "t_list, cf_list, df = pq.bonds.gen_t_cf_dataframe(mat_in_m, cpn_rate, freq)\n",
    "display(df)"
   ]
  },
  {
   "cell_type": "code",
   "execution_count": 7,
   "metadata": {
    "collapsed": true
   },
   "outputs": [],
   "source": [
    "tol_list = [10 ** -6, 10 ** -6, 10 ** -6, 10 ** -6, 10 ** -8]"
   ]
  },
  {
   "cell_type": "code",
   "execution_count": 8,
   "metadata": {},
   "outputs": [
    {
     "data": {
      "text/plain": [
       "array([ 1.        ,  0.98256856,  0.96051626,  0.93714845,  0.91404132])"
      ]
     },
     "execution_count": 8,
     "metadata": {},
     "output_type": "execute_result"
    }
   ],
   "source": [
    "df_list = pq.bonds.df_from_rinstoft(t_list, r_inst, tol_list=tol_list)\n",
    "df_list"
   ]
  },
  {
   "cell_type": "markdown",
   "metadata": {},
   "source": [
    "#### Part ii)"
   ]
  },
  {
   "cell_type": "code",
   "execution_count": 10,
   "metadata": {},
   "outputs": [
    {
     "name": "stdout",
     "output_type": "stream",
     "text": [
      "using n = 4, estimated simpson integral = 0.0175851596127\n",
      "using n = 8, estimated simpson integral = 0.0175851588279\n",
      "change fell below the threshold, returning integral: 0.0175851588279\n",
      "using n = 4, estimated simpson integral = 0.0402845136355\n",
      "using n = 8, estimated simpson integral = 0.0402843633631\n",
      "change fell below the threshold, returning integral: 0.0402843633631\n",
      "using n = 4, estimated simpson integral = 0.0649141266407\n",
      "using n = 8, estimated simpson integral = 0.0649135771437\n",
      "change fell below the threshold, returning integral: 0.0649135771437\n",
      "using n = 4, estimated simpson integral = 0.0898809791012\n",
      "using n = 8, estimated simpson integral = 0.089879599655\n",
      "using n = 16, estimated integral = 0.0898795103389\n",
      "using n = 32, estimated integral = 0.089879504772\n",
      "change fell below the threshold, returning integral: 0.089879504772\n",
      "\n",
      "The Price of the Bonds is: 100.889818099\n",
      "With the following details\n"
     ]
    },
    {
     "data": {
      "text/html": [
       "<div>\n",
       "<style>\n",
       "    .dataframe thead tr:only-child th {\n",
       "        text-align: right;\n",
       "    }\n",
       "\n",
       "    .dataframe thead th {\n",
       "        text-align: left;\n",
       "    }\n",
       "\n",
       "    .dataframe tbody tr th {\n",
       "        vertical-align: top;\n",
       "    }\n",
       "</style>\n",
       "<table border=\"1\" class=\"dataframe\">\n",
       "  <thead>\n",
       "    <tr style=\"text-align: right;\">\n",
       "      <th></th>\n",
       "      <th>df</th>\n",
       "      <th>cf</th>\n",
       "      <th>pv</th>\n",
       "    </tr>\n",
       "    <tr>\n",
       "      <th>t</th>\n",
       "      <th></th>\n",
       "      <th></th>\n",
       "      <th></th>\n",
       "    </tr>\n",
       "  </thead>\n",
       "  <tbody>\n",
       "    <tr>\n",
       "      <th>0.0</th>\n",
       "      <td>1.000000</td>\n",
       "      <td>0.0</td>\n",
       "      <td>0.000000</td>\n",
       "    </tr>\n",
       "    <tr>\n",
       "      <th>0.5</th>\n",
       "      <td>0.982569</td>\n",
       "      <td>2.5</td>\n",
       "      <td>2.456421</td>\n",
       "    </tr>\n",
       "    <tr>\n",
       "      <th>1.0</th>\n",
       "      <td>0.960516</td>\n",
       "      <td>2.5</td>\n",
       "      <td>2.401291</td>\n",
       "    </tr>\n",
       "    <tr>\n",
       "      <th>1.5</th>\n",
       "      <td>0.937148</td>\n",
       "      <td>2.5</td>\n",
       "      <td>2.342871</td>\n",
       "    </tr>\n",
       "    <tr>\n",
       "      <th>2.0</th>\n",
       "      <td>0.914041</td>\n",
       "      <td>102.5</td>\n",
       "      <td>93.689235</td>\n",
       "    </tr>\n",
       "  </tbody>\n",
       "</table>\n",
       "</div>"
      ],
      "text/plain": [
       "           df     cf         pv\n",
       "t                              \n",
       "0.0  1.000000    0.0   0.000000\n",
       "0.5  0.982569    2.5   2.456421\n",
       "1.0  0.960516    2.5   2.401291\n",
       "1.5  0.937148    2.5   2.342871\n",
       "2.0  0.914041  102.5  93.689235"
      ]
     },
     "metadata": {},
     "output_type": "display_data"
    }
   ],
   "source": [
    "px, df = pq.bonds.price_bond_r_of_t(mat_in_m, cpn_rate, freq, r_inst, \n",
    "                                    is_inst=True,\n",
    "                                    tol_list=tol_list,\n",
    "                                    is_verbose=True)\n",
    "print(\"\\nThe Price of the Bonds is:\", px)\n",
    "print(\"With the following details\")\n",
    "display(df)"
   ]
  },
  {
   "cell_type": "code",
   "execution_count": null,
   "metadata": {
    "collapsed": true
   },
   "outputs": [],
   "source": []
  }
 ],
 "metadata": {
  "kernelspec": {
   "display_name": "Python 3",
   "language": "python",
   "name": "python3"
  },
  "language_info": {
   "codemirror_mode": {
    "name": "ipython",
    "version": 3
   },
   "file_extension": ".py",
   "mimetype": "text/x-python",
   "name": "python",
   "nbconvert_exporter": "python",
   "pygments_lexer": "ipython3",
   "version": "3.6.3"
  }
 },
 "nbformat": 4,
 "nbformat_minor": 2
}
