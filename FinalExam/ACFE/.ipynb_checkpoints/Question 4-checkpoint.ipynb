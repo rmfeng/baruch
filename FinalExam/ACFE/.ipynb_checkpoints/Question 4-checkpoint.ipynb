{
 "cells": [
  {
   "cell_type": "code",
   "execution_count": 9,
   "metadata": {
    "collapsed": true
   },
   "outputs": [],
   "source": [
    "import numpy as np\n",
    "import pandas as pd\n",
    "import pyquantlib as pq\n",
    "\n",
    "from IPython.display import display\n",
    "import matplotlib.pyplot as plt\n",
    "%matplotlib inline\n",
    "\n",
    "from importlib import reload\n",
    "from scipy.stats import norm"
   ]
  },
  {
   "cell_type": "code",
   "execution_count": 26,
   "metadata": {
    "collapsed": true
   },
   "outputs": [],
   "source": [
    "# question given:\n",
    "q = 0\n",
    "vol = 0.3\n",
    "S = 50\n",
    "r = 0.03\n",
    "T = 0.5\n",
    "K_guess = 50"
   ]
  },
  {
   "cell_type": "markdown",
   "metadata": {},
   "source": [
    "### iter 1"
   ]
  },
  {
   "cell_type": "code",
   "execution_count": 34,
   "metadata": {},
   "outputs": [
    {
     "data": {
      "text/plain": [
       "4.0537361013675956e-08"
      ]
     },
     "execution_count": 34,
     "metadata": {},
     "output_type": "execute_result"
    }
   ],
   "source": [
    "px_final = bs_price_put(T, S, 16.237576194, vol, r, q)\n",
    "px_final"
   ]
  },
  {
   "cell_type": "code",
   "execution_count": 31,
   "metadata": {
    "collapsed": true
   },
   "outputs": [],
   "source": [
    "def bs_price_put(T, S, K, vol, r, q):\n",
    "    d1 = (np.log(S / K) + (r - q + (vol ** 2) / 2) * T) / (vol * np.sqrt(T))\n",
    "    d2 = d1 - (vol * np.sqrt(T))\n",
    "\n",
    "    return K * np.exp(-r * T) * norm.cdf(-d2) - S * np.exp(-q * T) * norm.cdf(-d1)\n",
    "\n",
    "def bs_price_put_deriv(T, S, K, vol, r, q):\n",
    "    d1 = (np.log(S / K) + (r - q + (vol ** 2) / 2) * T) / (vol * np.sqrt(T))\n",
    "    d2 = d1 - (vol * np.sqrt(T))\n",
    "    return np.exp(-r*T) * norm.cdf(-d2)"
   ]
  },
  {
   "cell_type": "code",
   "execution_count": 41,
   "metadata": {
    "collapsed": true
   },
   "outputs": [],
   "source": [
    "def specialized_newton(x_guess, \n",
    "                       f_of_x, \n",
    "                       fprime_of_x,\n",
    "                       T,\n",
    "                       S,\n",
    "                       vol,\n",
    "                       r,\n",
    "                       q,\n",
    "                       tol_consec=10**-7, \n",
    "                       max_iter=100, \n",
    "                       is_verbose=True):\n",
    "    \"\"\" Uses newton's method to find the 0, provide a function and its derivative \"\"\"\n",
    "    cur_iter = 0\n",
    "    cur_x = x_guess\n",
    "\n",
    "    cur_f_val = f_of_x(T, S, cur_x, vol, r, q) + 50 - cur_x\n",
    "    cur_chg = cur_f_val\n",
    "    if is_verbose: print(\"f(initial guess) =\", cur_f_val)\n",
    "\n",
    "    while cur_iter < max_iter and np.abs(cur_chg) > tol_consec:\n",
    "        if is_verbose: print(\"Not close enough, doing next iteration: %s\" % str(cur_iter + 1))\n",
    "        cur_deriv = fprime_of_x(T, S, cur_x, vol, r, q) - 1\n",
    "        if is_verbose: print(\"Current deriv: %s\" % cur_deriv)\n",
    "        cur_x = cur_x - (cur_f_val / cur_deriv)\n",
    "        if is_verbose: print(\"new x =\", cur_x)\n",
    "        prev_f_val = cur_f_val\n",
    "        cur_f_val = f_of_x(T, S, cur_x, vol, r, q) + 50 - cur_x\n",
    "        if is_verbose: print(\"new f(x) =\", cur_f_val)\n",
    "        cur_chg = (cur_f_val - prev_f_val)\n",
    "        if is_verbose: print(\"f(x) change this iteration =\", cur_chg, \"\\n\")\n",
    "        cur_iter += 1\n",
    "\n",
    "        if is_verbose: print(\"zero was found after %s iterations ... \" % cur_iter)\n",
    "    return cur_x\n"
   ]
  },
  {
   "cell_type": "code",
   "execution_count": 42,
   "metadata": {
    "scrolled": false
   },
   "outputs": [
    {
     "name": "stdout",
     "output_type": "stream",
     "text": [
      "f(initial guess) = 46.169703731\n",
      "Not close enough, doing next iteration: 1\n",
      "Current deriv: 0.493552177021\n",
      "new x = -43.5457402086\n",
      "new f(x) = nan\n",
      "f(x) change this iteration = nan \n",
      "\n",
      "zero was found after 1 iterations ... \n"
     ]
    },
    {
     "name": "stderr",
     "output_type": "stream",
     "text": [
      "/anaconda3/lib/python3.6/site-packages/ipykernel_launcher.py:2: RuntimeWarning: invalid value encountered in log\n",
      "  \n"
     ]
    }
   ],
   "source": [
    "K = specialized_newton(K_guess, \n",
    "                       bs_price_put, \n",
    "                       bs_price_put_deriv,\n",
    "                       T,\n",
    "                       S,\n",
    "                       vol,\n",
    "                       r,\n",
    "                       q,\n",
    "                       tol_consec=10**-7, \n",
    "                       max_iter=100, \n",
    "                       is_verbose=True)"
   ]
  },
  {
   "cell_type": "code",
   "execution_count": null,
   "metadata": {
    "collapsed": true
   },
   "outputs": [],
   "source": []
  }
 ],
 "metadata": {
  "kernelspec": {
   "display_name": "Python 3",
   "language": "python",
   "name": "python3"
  },
  "language_info": {
   "codemirror_mode": {
    "name": "ipython",
    "version": 3
   },
   "file_extension": ".py",
   "mimetype": "text/x-python",
   "name": "python",
   "nbconvert_exporter": "python",
   "pygments_lexer": "ipython3",
   "version": "3.6.3"
  }
 },
 "nbformat": 4,
 "nbformat_minor": 2
}
