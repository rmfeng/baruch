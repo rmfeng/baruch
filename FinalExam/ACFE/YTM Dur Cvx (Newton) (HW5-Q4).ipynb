{
 "cells": [
  {
   "cell_type": "markdown",
   "metadata": {},
   "source": [
    "![question](img/hw5q4.png)"
   ]
  },
  {
   "cell_type": "code",
   "execution_count": 1,
   "metadata": {
    "collapsed": true
   },
   "outputs": [],
   "source": [
    "import numpy as np\n",
    "import pandas as pd\n",
    "import pyquantlib as pq\n",
    "\n",
    "from IPython.display import display\n",
    "import matplotlib.pyplot as plt\n",
    "%matplotlib inline\n",
    "\n",
    "from importlib import reload"
   ]
  },
  {
   "cell_type": "code",
   "execution_count": 3,
   "metadata": {
    "collapsed": true
   },
   "outputs": [],
   "source": [
    "# question assumptions\n",
    "mat_in_m = 3*12\n",
    "freq = 2\n",
    "cpn_rate = 0.04\n",
    "px = 101\n",
    "yld_guess = 0.05"
   ]
  },
  {
   "cell_type": "code",
   "execution_count": 7,
   "metadata": {
    "scrolled": false
   },
   "outputs": [
    {
     "name": "stdout",
     "output_type": "stream",
     "text": [
      "Generated t_list:\n",
      "[ 0.   0.5  1.   1.5  2.   2.5  3. ]\n",
      "Genenrated cf_list:\n",
      "[   0.    2.    2.    2.    2.    2.  102.]\n",
      "initial guessed yield implied price = 97.0754478823\n",
      "Not close enough, doing next iteration ...\n",
      "current yield = 0.05\n",
      "new yield = 0.0358354944039\n",
      "new price = 101.082913344 \n",
      "\n",
      "Not close enough, doing next iteration ...\n",
      "current yield = 0.0358354944039\n",
      "new yield = 0.0361225314765\n",
      "new price = 101.000035005 \n",
      "\n",
      "Not close enough, doing next iteration ...\n",
      "current yield = 0.0361225314765\n",
      "new yield = 0.0361226527642\n",
      "new price = 101.0 \n",
      "\n",
      "Not close enough, doing next iteration ...\n",
      "current yield = 0.0361226527642\n",
      "new yield = 0.0361226527642\n",
      "new price = 101.0 \n",
      "\n",
      "Solved yield = 0.0361226527642\n"
     ]
    }
   ],
   "source": [
    "reload(pq.bonds)\n",
    "yld = pq.bonds.ytm_newton(yld_guess, px, mat_in_m, cpn_rate, freq, tol_consec=10**-6, max_iter=100)\n",
    "print(\"Solved yield = %s\" % yld)"
   ]
  },
  {
   "cell_type": "markdown",
   "metadata": {},
   "source": [
    "#### Duration and Convexity"
   ]
  },
  {
   "cell_type": "code",
   "execution_count": 12,
   "metadata": {},
   "outputs": [
    {
     "data": {
      "text/html": [
       "<div>\n",
       "<style>\n",
       "    .dataframe thead tr:only-child th {\n",
       "        text-align: right;\n",
       "    }\n",
       "\n",
       "    .dataframe thead th {\n",
       "        text-align: left;\n",
       "    }\n",
       "\n",
       "    .dataframe tbody tr th {\n",
       "        vertical-align: top;\n",
       "    }\n",
       "</style>\n",
       "<table border=\"1\" class=\"dataframe\">\n",
       "  <thead>\n",
       "    <tr style=\"text-align: right;\">\n",
       "      <th></th>\n",
       "      <th>cf</th>\n",
       "    </tr>\n",
       "    <tr>\n",
       "      <th>t</th>\n",
       "      <th></th>\n",
       "    </tr>\n",
       "  </thead>\n",
       "  <tbody>\n",
       "    <tr>\n",
       "      <th>0.0</th>\n",
       "      <td>0.0</td>\n",
       "    </tr>\n",
       "    <tr>\n",
       "      <th>0.5</th>\n",
       "      <td>2.0</td>\n",
       "    </tr>\n",
       "    <tr>\n",
       "      <th>1.0</th>\n",
       "      <td>2.0</td>\n",
       "    </tr>\n",
       "    <tr>\n",
       "      <th>1.5</th>\n",
       "      <td>2.0</td>\n",
       "    </tr>\n",
       "    <tr>\n",
       "      <th>2.0</th>\n",
       "      <td>2.0</td>\n",
       "    </tr>\n",
       "    <tr>\n",
       "      <th>2.5</th>\n",
       "      <td>2.0</td>\n",
       "    </tr>\n",
       "    <tr>\n",
       "      <th>3.0</th>\n",
       "      <td>102.0</td>\n",
       "    </tr>\n",
       "  </tbody>\n",
       "</table>\n",
       "</div>"
      ],
      "text/plain": [
       "        cf\n",
       "t         \n",
       "0.0    0.0\n",
       "0.5    2.0\n",
       "1.0    2.0\n",
       "1.5    2.0\n",
       "2.0    2.0\n",
       "2.5    2.0\n",
       "3.0  102.0"
      ]
     },
     "execution_count": 12,
     "metadata": {},
     "output_type": "execute_result"
    }
   ],
   "source": [
    "t_list, cf_list, df = pq.bonds.gen_t_cf_dataframe(mat_in_m, cpn_rate, freq)\n",
    "df"
   ]
  },
  {
   "cell_type": "code",
   "execution_count": 13,
   "metadata": {
    "collapsed": true
   },
   "outputs": [],
   "source": [
    "px, dur, cvx = pq.bonds.price_bond_w_dur_cvx(t_list, cf_list, yld)"
   ]
  },
  {
   "cell_type": "code",
   "execution_count": 14,
   "metadata": {},
   "outputs": [
    {
     "name": "stdout",
     "output_type": "stream",
     "text": [
      "Solved Price = 101.0, Duration = 2.85757800297, Convexity = 8.40856234339\n"
     ]
    }
   ],
   "source": [
    "print(\"Solved Price = %s, Duration = %s, Convexity = %s\" % (px, dur, cvx))"
   ]
  },
  {
   "cell_type": "code",
   "execution_count": null,
   "metadata": {
    "collapsed": true
   },
   "outputs": [],
   "source": []
  }
 ],
 "metadata": {
  "kernelspec": {
   "display_name": "Python 3",
   "language": "python",
   "name": "python3"
  },
  "language_info": {
   "codemirror_mode": {
    "name": "ipython",
    "version": 3
   },
   "file_extension": ".py",
   "mimetype": "text/x-python",
   "name": "python",
   "nbconvert_exporter": "python",
   "pygments_lexer": "ipython3",
   "version": "3.6.3"
  }
 },
 "nbformat": 4,
 "nbformat_minor": 2
}
