{
 "cells": [
  {
   "cell_type": "code",
   "execution_count": 1,
   "metadata": {
    "collapsed": true
   },
   "outputs": [],
   "source": [
    "import numpy as np\n",
    "import pandas as pd\n",
    "import pyquantlib as pq"
   ]
  },
  {
   "cell_type": "code",
   "execution_count": 2,
   "metadata": {
    "collapsed": true
   },
   "outputs": [],
   "source": [
    "# question given:\n",
    "T = 7/12\n",
    "isCall = True\n",
    "K = 45\n",
    "px = 6.5\n",
    "q = 0.01\n",
    "S = 40\n",
    "r = 0.03\n",
    "guess = 0.25"
   ]
  },
  {
   "cell_type": "code",
   "execution_count": 3,
   "metadata": {},
   "outputs": [
    {
     "name": "stdout",
     "output_type": "stream",
     "text": [
      "initial guessed vol price = 1.44687590958\n",
      "Not close enough, doing next iteration ...\n",
      "Current iter = 1\n",
      "current vega = 10.8990757876\n",
      "new vol = 0.713628677229\n",
      "new price = 6.95931409311 \n",
      "\n",
      "Not close enough, doing next iteration ...\n",
      "Current iter = 2\n",
      "current vega = 12.0803570647\n",
      "new vol = 0.675607111255\n",
      "new price = 6.49959708412 \n",
      "\n",
      "Not close enough, doing next iteration ...\n",
      "Current iter = 3\n",
      "current vega = 12.1004060727\n",
      "new vol = 0.675640408971\n",
      "new price = 6.49999999976 \n",
      "\n",
      "Not close enough, doing next iteration ...\n",
      "Current iter = 4\n",
      "current vega = 12.1003915942\n",
      "new vol = 0.675640408991\n",
      "new price = 6.5 \n",
      "\n"
     ]
    }
   ],
   "source": [
    "impvol = pq.blackscholes.imp_vol_newton_consec(px, guess, T, isCall, S, K, r, q, is_verbose=True)"
   ]
  },
  {
   "cell_type": "code",
   "execution_count": 4,
   "metadata": {
    "collapsed": true
   },
   "outputs": [],
   "source": [
    "px = pq.blackscholes.bs_price(T, isCall, S, K, 0.675640408991, r, q)"
   ]
  },
  {
   "cell_type": "code",
   "execution_count": 5,
   "metadata": {},
   "outputs": [
    {
     "data": {
      "text/plain": [
       "6.4999999999956426"
      ]
     },
     "execution_count": 5,
     "metadata": {},
     "output_type": "execute_result"
    }
   ],
   "source": [
    "px"
   ]
  },
  {
   "cell_type": "code",
   "execution_count": null,
   "metadata": {
    "collapsed": true
   },
   "outputs": [],
   "source": []
  }
 ],
 "metadata": {
  "kernelspec": {
   "display_name": "Python 3",
   "language": "python",
   "name": "python3"
  },
  "language_info": {
   "codemirror_mode": {
    "name": "ipython",
    "version": 3
   },
   "file_extension": ".py",
   "mimetype": "text/x-python",
   "name": "python",
   "nbconvert_exporter": "python",
   "pygments_lexer": "ipython3",
   "version": "3.6.3"
  }
 },
 "nbformat": 4,
 "nbformat_minor": 2
}
