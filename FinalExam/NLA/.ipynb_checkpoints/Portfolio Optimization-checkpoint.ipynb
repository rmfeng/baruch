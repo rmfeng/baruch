{
 "cells": [
  {
   "cell_type": "markdown",
   "metadata": {},
   "source": [
    "![question](img/spring17q2i.png)"
   ]
  },
  {
   "cell_type": "code",
   "execution_count": 2,
   "metadata": {
    "collapsed": true
   },
   "outputs": [],
   "source": [
    "import numpy as np\n",
    "import pandas as pd\n",
    "import pyquantlib as pq\n",
    "from IPython.display import display\n",
    "import matplotlib.pyplot as plt\n",
    "%matplotlib inline\n",
    "from importlib import reload"
   ]
  },
  {
   "cell_type": "code",
   "execution_count": 9,
   "metadata": {},
   "outputs": [],
   "source": [
    "# question given:\n",
    "mu = np.array([0.046, 0.055, 0.064, 0.073, 0.079]).reshape(-1, 1)\n",
    "cov_mat = np.array([[0.0625, -0.02, 0.015, -0.01, -0.01],\n",
    "                    [-0.02, 0.0841, -0.025, -0.03, 0.005],\n",
    "                    [0.015, -0.025, 0.1024, 0.055, -0.005],\n",
    "                    [-0.01, -0.03, 0.055, 0.1225, 0.025],\n",
    "                    [-0.01, 0.005, -0.005, 0.025, 0.1369]])\n",
    "r = 0.02"
   ]
  },
  {
   "cell_type": "markdown",
   "metadata": {
    "collapsed": true
   },
   "source": [
    "![questionii](img/spring17q2ii.png)"
   ]
  },
  {
   "cell_type": "markdown",
   "metadata": {},
   "source": [
    "#### Part i Tangency Port"
   ]
  },
  {
   "cell_type": "code",
   "execution_count": 10,
   "metadata": {},
   "outputs": [
    {
     "data": {
      "text/plain": [
       "array([[ 0.026],\n",
       "       [ 0.035],\n",
       "       [ 0.044],\n",
       "       [ 0.053],\n",
       "       [ 0.059]])"
      ]
     },
     "execution_count": 10,
     "metadata": {},
     "output_type": "execute_result"
    }
   ],
   "source": [
    "mu_bar = mu - r\n",
    "mu_bar"
   ]
  },
  {
   "cell_type": "code",
   "execution_count": 11,
   "metadata": {},
   "outputs": [
    {
     "data": {
      "text/plain": [
       "array([[ 0.27669849],\n",
       "       [ 0.30443216],\n",
       "       [ 0.09934396],\n",
       "       [ 0.18269862],\n",
       "       [ 0.13682677]])"
      ]
     },
     "execution_count": 11,
     "metadata": {},
     "output_type": "execute_result"
    }
   ],
   "source": [
    "wt = pq.portopt.tangency_port(cov_mat, mu_bar)\n",
    "wt"
   ]
  },
  {
   "cell_type": "markdown",
   "metadata": {},
   "source": [
    "#### Part ii Min Var with mu_req"
   ]
  },
  {
   "cell_type": "code",
   "execution_count": 16,
   "metadata": {},
   "outputs": [
    {
     "name": "stdout",
     "output_type": "stream",
     "text": [
      "Weights:\n",
      " [[ 0.27686304]\n",
      " [ 0.3046132 ]\n",
      " [ 0.09940303]\n",
      " [ 0.18280727]\n",
      " [ 0.13690814]] \n",
      "Cash: [[-0.00059468]] \n",
      "Sigma: [[ 0.12092953]]\n"
     ]
    }
   ],
   "source": [
    "mu_req = 0.06\n",
    "w, wcash, sigma = pq.portopt.min_var_port(cov_mat, mu, r, mu_req)\n",
    "print(\"Weights:\\n\",w,\"\\nCash:\",wcash, \"\\nSigma:\", sigma)"
   ]
  },
  {
   "cell_type": "markdown",
   "metadata": {},
   "source": [
    "#### Part iii Max Ret with sig_req"
   ]
  },
  {
   "cell_type": "code",
   "execution_count": 15,
   "metadata": {},
   "outputs": [
    {
     "name": "stdout",
     "output_type": "stream",
     "text": [
      "Weights:\n",
      " [[ 0.68683733]\n",
      " [ 0.75567948]\n",
      " [ 0.24659743]\n",
      " [ 0.45350529]\n",
      " [ 0.33963949]] \n",
      "Cash: [[-1.48225902]] \n",
      "ExpRet: [[ 0.11923135]]\n"
     ]
    }
   ],
   "source": [
    "sig_req = 0.3\n",
    "w, wcash, mu_exp = pq.portopt.max_ret_port(cov_mat, mu, r, sig_req)\n",
    "print(\"Weights:\\n\",w,\"\\nCash:\",wcash, \"\\nExpRet:\", mu_exp)"
   ]
  },
  {
   "cell_type": "code",
   "execution_count": null,
   "metadata": {
    "collapsed": true
   },
   "outputs": [],
   "source": []
  }
 ],
 "metadata": {
  "kernelspec": {
   "display_name": "Python 3",
   "language": "python",
   "name": "python3"
  },
  "language_info": {
   "codemirror_mode": {
    "name": "ipython",
    "version": 3
   },
   "file_extension": ".py",
   "mimetype": "text/x-python",
   "name": "python",
   "nbconvert_exporter": "python",
   "pygments_lexer": "ipython3",
   "version": "3.6.3"
  }
 },
 "nbformat": 4,
 "nbformat_minor": 2
}
