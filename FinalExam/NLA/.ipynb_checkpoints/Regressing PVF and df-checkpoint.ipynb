{
 "cells": [
  {
   "cell_type": "markdown",
   "metadata": {},
   "source": [
    "### Given a table of spx call and put prices, regress the PVF and DF"
   ]
  },
  {
   "cell_type": "code",
   "execution_count": 1,
   "metadata": {
    "collapsed": true
   },
   "outputs": [],
   "source": [
    "import numpy as np\n",
    "import pandas as pd\n",
    "import pyquantlib as pq\n",
    "from IPython.display import display\n",
    "import matplotlib.pyplot as plt\n",
    "%matplotlib inline\n",
    "from importlib import reload\n",
    "import datetime as dt\n",
    "\n",
    "from scipy.linalg import cho_solve"
   ]
  },
  {
   "cell_type": "code",
   "execution_count": 2,
   "metadata": {},
   "outputs": [
    {
     "name": "stdout",
     "output_type": "stream",
     "text": [
      "0.781930184805\n"
     ]
    }
   ],
   "source": [
    "# question given:\n",
    "strikes = np.array([1175, 1200, 1225, 1250, 1275, 1300, 1325, 1350, 1375, 1400, 1425, \n",
    "                    1450, 1500, 1550, 1575, 1600])\n",
    "call_pxs = np.array([225.4, 205.55, 186.2, 167.5, 149.15, 131.7, 115.25, 99.55, 84.9,\n",
    "                    71.1, 58.7, 47.25, 29.25, 15.8, 11.1, 7.9])\n",
    "put_pxs = np.array([46.6, 51.55, 57.15, 63.3, 70.15, 77.7, 86.2, 95.3, 105.3, 116.55, \n",
    "                   129.0, 143.2, 173.95, 210.8, 230.9, 252.4])\n",
    "col_names = ['strike','c','p']\n",
    "val_date = dt.date(2012, 3, 9)\n",
    "mat_date = dt.date(2012, 12, 20)\n",
    "T = np.busday_count(val_date, mat_date) / (365.25 * 5/7)\n",
    "print(T)"
   ]
  },
  {
   "cell_type": "markdown",
   "metadata": {},
   "source": [
    "#### Visualizing the given prices"
   ]
  },
  {
   "cell_type": "code",
   "execution_count": 3,
   "metadata": {},
   "outputs": [
    {
     "data": {
      "text/html": [
       "<div>\n",
       "<style>\n",
       "    .dataframe thead tr:only-child th {\n",
       "        text-align: right;\n",
       "    }\n",
       "\n",
       "    .dataframe thead th {\n",
       "        text-align: left;\n",
       "    }\n",
       "\n",
       "    .dataframe tbody tr th {\n",
       "        vertical-align: top;\n",
       "    }\n",
       "</style>\n",
       "<table border=\"1\" class=\"dataframe\">\n",
       "  <thead>\n",
       "    <tr style=\"text-align: right;\">\n",
       "      <th></th>\n",
       "      <th>strike</th>\n",
       "      <th>c</th>\n",
       "      <th>p</th>\n",
       "    </tr>\n",
       "  </thead>\n",
       "  <tbody>\n",
       "    <tr>\n",
       "      <th>0</th>\n",
       "      <td>1175</td>\n",
       "      <td>225.40</td>\n",
       "      <td>46.60</td>\n",
       "    </tr>\n",
       "    <tr>\n",
       "      <th>1</th>\n",
       "      <td>1200</td>\n",
       "      <td>205.55</td>\n",
       "      <td>51.55</td>\n",
       "    </tr>\n",
       "    <tr>\n",
       "      <th>2</th>\n",
       "      <td>1225</td>\n",
       "      <td>186.20</td>\n",
       "      <td>57.15</td>\n",
       "    </tr>\n",
       "    <tr>\n",
       "      <th>3</th>\n",
       "      <td>1250</td>\n",
       "      <td>167.50</td>\n",
       "      <td>63.30</td>\n",
       "    </tr>\n",
       "    <tr>\n",
       "      <th>4</th>\n",
       "      <td>1275</td>\n",
       "      <td>149.15</td>\n",
       "      <td>70.15</td>\n",
       "    </tr>\n",
       "    <tr>\n",
       "      <th>5</th>\n",
       "      <td>1300</td>\n",
       "      <td>131.70</td>\n",
       "      <td>77.70</td>\n",
       "    </tr>\n",
       "    <tr>\n",
       "      <th>6</th>\n",
       "      <td>1325</td>\n",
       "      <td>115.25</td>\n",
       "      <td>86.20</td>\n",
       "    </tr>\n",
       "    <tr>\n",
       "      <th>7</th>\n",
       "      <td>1350</td>\n",
       "      <td>99.55</td>\n",
       "      <td>95.30</td>\n",
       "    </tr>\n",
       "    <tr>\n",
       "      <th>8</th>\n",
       "      <td>1375</td>\n",
       "      <td>84.90</td>\n",
       "      <td>105.30</td>\n",
       "    </tr>\n",
       "    <tr>\n",
       "      <th>9</th>\n",
       "      <td>1400</td>\n",
       "      <td>71.10</td>\n",
       "      <td>116.55</td>\n",
       "    </tr>\n",
       "    <tr>\n",
       "      <th>10</th>\n",
       "      <td>1425</td>\n",
       "      <td>58.70</td>\n",
       "      <td>129.00</td>\n",
       "    </tr>\n",
       "    <tr>\n",
       "      <th>11</th>\n",
       "      <td>1450</td>\n",
       "      <td>47.25</td>\n",
       "      <td>143.20</td>\n",
       "    </tr>\n",
       "    <tr>\n",
       "      <th>12</th>\n",
       "      <td>1500</td>\n",
       "      <td>29.25</td>\n",
       "      <td>173.95</td>\n",
       "    </tr>\n",
       "    <tr>\n",
       "      <th>13</th>\n",
       "      <td>1550</td>\n",
       "      <td>15.80</td>\n",
       "      <td>210.80</td>\n",
       "    </tr>\n",
       "    <tr>\n",
       "      <th>14</th>\n",
       "      <td>1575</td>\n",
       "      <td>11.10</td>\n",
       "      <td>230.90</td>\n",
       "    </tr>\n",
       "    <tr>\n",
       "      <th>15</th>\n",
       "      <td>1600</td>\n",
       "      <td>7.90</td>\n",
       "      <td>252.40</td>\n",
       "    </tr>\n",
       "  </tbody>\n",
       "</table>\n",
       "</div>"
      ],
      "text/plain": [
       "    strike       c       p\n",
       "0     1175  225.40   46.60\n",
       "1     1200  205.55   51.55\n",
       "2     1225  186.20   57.15\n",
       "3     1250  167.50   63.30\n",
       "4     1275  149.15   70.15\n",
       "5     1300  131.70   77.70\n",
       "6     1325  115.25   86.20\n",
       "7     1350   99.55   95.30\n",
       "8     1375   84.90  105.30\n",
       "9     1400   71.10  116.55\n",
       "10    1425   58.70  129.00\n",
       "11    1450   47.25  143.20\n",
       "12    1500   29.25  173.95\n",
       "13    1550   15.80  210.80\n",
       "14    1575   11.10  230.90\n",
       "15    1600    7.90  252.40"
      ]
     },
     "execution_count": 3,
     "metadata": {},
     "output_type": "execute_result"
    }
   ],
   "source": [
    "arr_lists = [strikes, call_pxs, put_pxs]\n",
    "pq.df_utils.arr_to_df(arr_lists, col_names)"
   ]
  },
  {
   "cell_type": "markdown",
   "metadata": {},
   "source": [
    "** Use the formula: **\n",
    "$$ C - P = S e^{-qT} - K e^{-rT} $$\n",
    "$$ S e^{-qt} = F e^{-rt} $$\n",
    "$$ C - P = F e^{-rT} - K e^{-rT} $$\n",
    "\n",
    "$$ C - P = PVF - K \\cdot disc $$"
   ]
  },
  {
   "cell_type": "markdown",
   "metadata": {},
   "source": [
    "### setting up the regression"
   ]
  },
  {
   "cell_type": "code",
   "execution_count": 4,
   "metadata": {
    "collapsed": true
   },
   "outputs": [],
   "source": [
    "ones = np.array([1.0] * len(strikes))"
   ]
  },
  {
   "cell_type": "code",
   "execution_count": 5,
   "metadata": {},
   "outputs": [
    {
     "data": {
      "text/plain": [
       "array([[  1.00000000e+00,  -1.17500000e+03],\n",
       "       [  1.00000000e+00,  -1.20000000e+03],\n",
       "       [  1.00000000e+00,  -1.22500000e+03],\n",
       "       [  1.00000000e+00,  -1.25000000e+03],\n",
       "       [  1.00000000e+00,  -1.27500000e+03],\n",
       "       [  1.00000000e+00,  -1.30000000e+03],\n",
       "       [  1.00000000e+00,  -1.32500000e+03],\n",
       "       [  1.00000000e+00,  -1.35000000e+03],\n",
       "       [  1.00000000e+00,  -1.37500000e+03],\n",
       "       [  1.00000000e+00,  -1.40000000e+03],\n",
       "       [  1.00000000e+00,  -1.42500000e+03],\n",
       "       [  1.00000000e+00,  -1.45000000e+03],\n",
       "       [  1.00000000e+00,  -1.50000000e+03],\n",
       "       [  1.00000000e+00,  -1.55000000e+03],\n",
       "       [  1.00000000e+00,  -1.57500000e+03],\n",
       "       [  1.00000000e+00,  -1.60000000e+03]])"
      ]
     },
     "execution_count": 5,
     "metadata": {},
     "output_type": "execute_result"
    }
   ],
   "source": [
    "A = np.column_stack([ones, -strikes])\n",
    "A"
   ]
  },
  {
   "cell_type": "code",
   "execution_count": 6,
   "metadata": {},
   "outputs": [
    {
     "data": {
      "text/plain": [
       "array([[ 178.8 ],\n",
       "       [ 154.  ],\n",
       "       [ 129.05],\n",
       "       [ 104.2 ],\n",
       "       [  79.  ],\n",
       "       [  54.  ],\n",
       "       [  29.05],\n",
       "       [   4.25],\n",
       "       [ -20.4 ],\n",
       "       [ -45.45],\n",
       "       [ -70.3 ],\n",
       "       [ -95.95],\n",
       "       [-144.7 ],\n",
       "       [-195.  ],\n",
       "       [-219.8 ],\n",
       "       [-244.5 ]])"
      ]
     },
     "execution_count": 6,
     "metadata": {},
     "output_type": "execute_result"
    }
   ],
   "source": [
    "y = (call_pxs - put_pxs).reshape(-1, 1)\n",
    "y"
   ]
  },
  {
   "cell_type": "code",
   "execution_count": 7,
   "metadata": {
    "collapsed": true
   },
   "outputs": [],
   "source": [
    "AtA = A.transpose().dot(A)\n",
    "Aty = A.transpose().dot(y)"
   ]
  },
  {
   "cell_type": "code",
   "execution_count": 8,
   "metadata": {},
   "outputs": [
    {
     "data": {
      "text/plain": [
       "array([[  4.00000000e+00,   0.00000000e+00],\n",
       "       [ -5.49375000e+03,   5.22576250e+02]])"
      ]
     },
     "execution_count": 8,
     "metadata": {},
     "output_type": "execute_result"
    }
   ],
   "source": [
    "Ut = np.linalg.cholesky(AtA)\n",
    "Ut"
   ]
  },
  {
   "cell_type": "code",
   "execution_count": 9,
   "metadata": {},
   "outputs": [
    {
     "data": {
      "text/plain": [
       "array([[  1.34953657e+03],\n",
       "       [  9.96420255e-01]])"
      ]
     },
     "execution_count": 9,
     "metadata": {},
     "output_type": "execute_result"
    }
   ],
   "source": [
    "x = cho_solve((Ut, True), Aty)\n",
    "x"
   ]
  },
  {
   "cell_type": "code",
   "execution_count": 10,
   "metadata": {},
   "outputs": [
    {
     "name": "stdout",
     "output_type": "stream",
     "text": [
      "1349.53656845 0.996420254613\n"
     ]
    }
   ],
   "source": [
    "PVF = x[0,0]\n",
    "disc = x[1,0]\n",
    "print(PVF, disc)"
   ]
  },
  {
   "cell_type": "markdown",
   "metadata": {},
   "source": [
    "### if solving for q and r, need the S"
   ]
  },
  {
   "cell_type": "code",
   "execution_count": 109,
   "metadata": {},
   "outputs": [
    {
     "name": "stdout",
     "output_type": "stream",
     "text": [
      "0.00458630204752 0.020058470959\n"
     ]
    }
   ],
   "source": [
    "S = 1370.87\n",
    "q = (-np.log(PVF / S) * (1/T))\n",
    "r = (-np.log(disc) * (1/T))\n",
    "print(r, q)"
   ]
  },
  {
   "cell_type": "markdown",
   "metadata": {},
   "source": [
    "### r and q not required for black scholes if we have PVF and disc!"
   ]
  },
  {
   "cell_type": "code",
   "execution_count": 110,
   "metadata": {},
   "outputs": [
    {
     "name": "stdout",
     "output_type": "stream",
     "text": [
      "84.9000856396 101.326151636\n"
     ]
    }
   ],
   "source": [
    "# solve for ATM call and put using PVF and disc\n",
    "K = S\n",
    "vol = 0.1943274\n",
    "c_px = pq.blackscholes.bs_price_future(True, PVF, disc, K, T, vol)\n",
    "p_px = pq.blackscholes.bs_price_future(False, PVF, disc, K, T, vol)\n",
    "print(c_px, p_px)"
   ]
  },
  {
   "cell_type": "code",
   "execution_count": 111,
   "metadata": {},
   "outputs": [
    {
     "name": "stdout",
     "output_type": "stream",
     "text": [
      "84.9804708913 101.406536888\n"
     ]
    }
   ],
   "source": [
    "# solve for ATM call and put using r and q\n",
    "c_px2 = pq.blackscholes.bs_price(T, True, S, K, vol, r, q)\n",
    "p_px2 = pq.blackscholes.bs_price(T, False, S, K, vol, r, q)\n",
    "print(c_px2, p_px2)"
   ]
  },
  {
   "cell_type": "code",
   "execution_count": 112,
   "metadata": {
    "collapsed": true
   },
   "outputs": [],
   "source": [
    "# slightly different since we're not using the right S"
   ]
  }
 ],
 "metadata": {
  "kernelspec": {
   "display_name": "Python 3",
   "language": "python",
   "name": "python3"
  },
  "language_info": {
   "codemirror_mode": {
    "name": "ipython",
    "version": 3
   },
   "file_extension": ".py",
   "mimetype": "text/x-python",
   "name": "python",
   "nbconvert_exporter": "python",
   "pygments_lexer": "ipython3",
   "version": "3.6.3"
  }
 },
 "nbformat": 4,
 "nbformat_minor": 2
}
