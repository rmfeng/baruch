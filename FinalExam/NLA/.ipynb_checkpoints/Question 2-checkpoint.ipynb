{
 "cells": [
  {
   "cell_type": "code",
   "execution_count": null,
   "metadata": {
    "collapsed": true
   },
   "outputs": [],
   "source": [
    "import numpy as np\n",
    "import pandas as pd\n",
    "import pyquantlib as pq\n",
    "from IPython.display import display\n",
    "import matplotlib.pyplot as plt\n",
    "%matplotlib inline\n",
    "from importlib import reload"
   ]
  },
  {
   "cell_type": "code",
   "execution_count": null,
   "metadata": {
    "collapsed": true
   },
   "outputs": [],
   "source": [
    "# question given:\n",
    "mu = np.array([0.026, 0.034, 0.045, 0.052]).reshape(-1, 1)\n",
    "cov_mat = np.array([[0.04, -0.015, 0.015, -0.005],\n",
    "                    [-0.015, 0.0625, -0.02, -0.01],\n",
    "                    [0.015, -0.02, 0.1024, 0.02],\n",
    "                    [-0.005, -0.01, 0.02, 0.1225]])\n",
    "r = 0.0075"
   ]
  },
  {
   "cell_type": "markdown",
   "metadata": {
    "collapsed": true
   },
   "source": [
    "![questionii](img/spring17q2ii.png)"
   ]
  },
  {
   "cell_type": "markdown",
   "metadata": {},
   "source": [
    "#### Part i Tangency Port"
   ]
  },
  {
   "cell_type": "code",
   "execution_count": null,
   "metadata": {},
   "outputs": [],
   "source": [
    "mu_bar = mu - r\n",
    "mu_bar"
   ]
  },
  {
   "cell_type": "code",
   "execution_count": null,
   "metadata": {},
   "outputs": [],
   "source": [
    "wt = pq.portopt.tangency_port(cov_mat, mu_bar)\n",
    "wt"
   ]
  },
  {
   "cell_type": "markdown",
   "metadata": {},
   "source": [
    "#### Part ii Min Var with mu_req"
   ]
  },
  {
   "cell_type": "code",
   "execution_count": null,
   "metadata": {},
   "outputs": [],
   "source": [
    "mu_req = 0.06\n",
    "w, wcash, sigma = pq.portopt.min_var_port(cov_mat, mu, r, mu_req)\n",
    "print(\"Weights:\\n\",w,\"\\nCash:\",wcash, \"\\nSigma:\", sigma)"
   ]
  },
  {
   "cell_type": "markdown",
   "metadata": {},
   "source": [
    "#### Part iii Max Ret with sig_req"
   ]
  },
  {
   "cell_type": "code",
   "execution_count": null,
   "metadata": {},
   "outputs": [],
   "source": [
    "sig_req = 0.3\n",
    "w, wcash, mu_exp = pq.portopt.max_ret_port(cov_mat, mu, r, sig_req)\n",
    "print(\"Weights:\\n\",w,\"\\nCash:\",wcash, \"\\nExpRet:\", mu_exp)"
   ]
  },
  {
   "cell_type": "code",
   "execution_count": null,
   "metadata": {
    "collapsed": true
   },
   "outputs": [],
   "source": []
  }
 ],
 "metadata": {
  "kernelspec": {
   "display_name": "Python 3",
   "language": "python",
   "name": "python3"
  },
  "language_info": {
   "codemirror_mode": {
    "name": "ipython",
    "version": 3
   },
   "file_extension": ".py",
   "mimetype": "text/x-python",
   "name": "python",
   "nbconvert_exporter": "python",
   "pygments_lexer": "ipython3",
   "version": "3.6.3"
  }
 },
 "nbformat": 4,
 "nbformat_minor": 2
}
