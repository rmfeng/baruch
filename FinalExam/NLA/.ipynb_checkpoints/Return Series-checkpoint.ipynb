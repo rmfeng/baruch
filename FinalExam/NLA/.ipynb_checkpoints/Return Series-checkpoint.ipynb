{
 "cells": [
  {
   "cell_type": "markdown",
   "metadata": {},
   "source": [
    "![question](img/spring17q3.png)"
   ]
  },
  {
   "cell_type": "code",
   "execution_count": 76,
   "metadata": {
    "collapsed": true
   },
   "outputs": [],
   "source": [
    "import numpy as np\n",
    "import pandas as pd\n",
    "import pyquantlib as pq\n",
    "from IPython.display import display\n",
    "import matplotlib.pyplot as plt\n",
    "%matplotlib inline\n",
    "from importlib import reload\n",
    "\n",
    "from scipy.linalg import cho_solve"
   ]
  },
  {
   "cell_type": "code",
   "execution_count": 10,
   "metadata": {},
   "outputs": [],
   "source": [
    "# question given:\n",
    "JPM = {'JPM': np.array([39.0, 35.8, 36.9, 35.7, 35.6, 34.8, 35.6, 36.7, 36.2, 37.6])}\n",
    "GS  = {'GS': np.array([118.3, 112.7, 108.5, 104.2, 102.6, 101.5, 100.2, 98.8, 96.3, 99.1])}\n",
    "MS  = {'MS': np.array([17.2, 16.4, 14.6, 13.1, 14.6, 13.7, 12.8, 12.7, 12.1, 11.3])}\n",
    "BAC = {'BAC': np.array([8.7, 8.8, 8.5, 8.2, 7.8, 7.3, 7.5, 7.2, 7.3, 7.2])}\n",
    "col_order = ['JPM', 'GS', 'MS', 'BAC']"
   ]
  },
  {
   "cell_type": "code",
   "execution_count": 11,
   "metadata": {},
   "outputs": [
    {
     "data": {
      "text/plain": [
       "{'BAC': array([ 8.7,  8.8,  8.5,  8.2,  7.8,  7.3,  7.5,  7.2,  7.3,  7.2]),\n",
       " 'GS': array([ 118.3,  112.7,  108.5,  104.2,  102.6,  101.5,  100.2,   98.8,\n",
       "          96.3,   99.1]),\n",
       " 'JPM': array([ 39. ,  35.8,  36.9,  35.7,  35.6,  34.8,  35.6,  36.7,  36.2,  37.6]),\n",
       " 'MS': array([ 17.2,  16.4,  14.6,  13.1,  14.6,  13.7,  12.8,  12.7,  12.1,  11.3])}"
      ]
     },
     "execution_count": 11,
     "metadata": {},
     "output_type": "execute_result"
    }
   ],
   "source": [
    "px_dict = {**JPM, **GS, **MS, **BAC}\n",
    "px_dict"
   ]
  },
  {
   "cell_type": "code",
   "execution_count": 12,
   "metadata": {},
   "outputs": [
    {
     "data": {
      "text/html": [
       "<div>\n",
       "<style>\n",
       "    .dataframe thead tr:only-child th {\n",
       "        text-align: right;\n",
       "    }\n",
       "\n",
       "    .dataframe thead th {\n",
       "        text-align: left;\n",
       "    }\n",
       "\n",
       "    .dataframe tbody tr th {\n",
       "        vertical-align: top;\n",
       "    }\n",
       "</style>\n",
       "<table border=\"1\" class=\"dataframe\">\n",
       "  <thead>\n",
       "    <tr style=\"text-align: right;\">\n",
       "      <th></th>\n",
       "      <th>JPM</th>\n",
       "      <th>GS</th>\n",
       "      <th>MS</th>\n",
       "      <th>BAC</th>\n",
       "    </tr>\n",
       "  </thead>\n",
       "  <tbody>\n",
       "    <tr>\n",
       "      <th>0</th>\n",
       "      <td>39.0</td>\n",
       "      <td>118.3</td>\n",
       "      <td>17.2</td>\n",
       "      <td>8.7</td>\n",
       "    </tr>\n",
       "    <tr>\n",
       "      <th>1</th>\n",
       "      <td>35.8</td>\n",
       "      <td>112.7</td>\n",
       "      <td>16.4</td>\n",
       "      <td>8.8</td>\n",
       "    </tr>\n",
       "    <tr>\n",
       "      <th>2</th>\n",
       "      <td>36.9</td>\n",
       "      <td>108.5</td>\n",
       "      <td>14.6</td>\n",
       "      <td>8.5</td>\n",
       "    </tr>\n",
       "    <tr>\n",
       "      <th>3</th>\n",
       "      <td>35.7</td>\n",
       "      <td>104.2</td>\n",
       "      <td>13.1</td>\n",
       "      <td>8.2</td>\n",
       "    </tr>\n",
       "    <tr>\n",
       "      <th>4</th>\n",
       "      <td>35.6</td>\n",
       "      <td>102.6</td>\n",
       "      <td>14.6</td>\n",
       "      <td>7.8</td>\n",
       "    </tr>\n",
       "    <tr>\n",
       "      <th>5</th>\n",
       "      <td>34.8</td>\n",
       "      <td>101.5</td>\n",
       "      <td>13.7</td>\n",
       "      <td>7.3</td>\n",
       "    </tr>\n",
       "    <tr>\n",
       "      <th>6</th>\n",
       "      <td>35.6</td>\n",
       "      <td>100.2</td>\n",
       "      <td>12.8</td>\n",
       "      <td>7.5</td>\n",
       "    </tr>\n",
       "    <tr>\n",
       "      <th>7</th>\n",
       "      <td>36.7</td>\n",
       "      <td>98.8</td>\n",
       "      <td>12.7</td>\n",
       "      <td>7.2</td>\n",
       "    </tr>\n",
       "    <tr>\n",
       "      <th>8</th>\n",
       "      <td>36.2</td>\n",
       "      <td>96.3</td>\n",
       "      <td>12.1</td>\n",
       "      <td>7.3</td>\n",
       "    </tr>\n",
       "    <tr>\n",
       "      <th>9</th>\n",
       "      <td>37.6</td>\n",
       "      <td>99.1</td>\n",
       "      <td>11.3</td>\n",
       "      <td>7.2</td>\n",
       "    </tr>\n",
       "  </tbody>\n",
       "</table>\n",
       "</div>"
      ],
      "text/plain": [
       "    JPM     GS    MS  BAC\n",
       "0  39.0  118.3  17.2  8.7\n",
       "1  35.8  112.7  16.4  8.8\n",
       "2  36.9  108.5  14.6  8.5\n",
       "3  35.7  104.2  13.1  8.2\n",
       "4  35.6  102.6  14.6  7.8\n",
       "5  34.8  101.5  13.7  7.3\n",
       "6  35.6  100.2  12.8  7.5\n",
       "7  36.7   98.8  12.7  7.2\n",
       "8  36.2   96.3  12.1  7.3\n",
       "9  37.6   99.1  11.3  7.2"
      ]
     },
     "execution_count": 12,
     "metadata": {},
     "output_type": "execute_result"
    }
   ],
   "source": [
    "df = pd.DataFrame(px_dict)[col_order]\n",
    "df"
   ]
  },
  {
   "cell_type": "markdown",
   "metadata": {},
   "source": [
    "#### Part i - If Log returns:"
   ]
  },
  {
   "cell_type": "code",
   "execution_count": 21,
   "metadata": {},
   "outputs": [
    {
     "data": {
      "text/html": [
       "<div>\n",
       "<style>\n",
       "    .dataframe thead tr:only-child th {\n",
       "        text-align: right;\n",
       "    }\n",
       "\n",
       "    .dataframe thead th {\n",
       "        text-align: left;\n",
       "    }\n",
       "\n",
       "    .dataframe tbody tr th {\n",
       "        vertical-align: top;\n",
       "    }\n",
       "</style>\n",
       "<table border=\"1\" class=\"dataframe\">\n",
       "  <thead>\n",
       "    <tr style=\"text-align: right;\">\n",
       "      <th></th>\n",
       "      <th>JPM</th>\n",
       "      <th>GS</th>\n",
       "      <th>MS</th>\n",
       "      <th>BAC</th>\n",
       "    </tr>\n",
       "  </thead>\n",
       "  <tbody>\n",
       "    <tr>\n",
       "      <th>1</th>\n",
       "      <td>-0.085614</td>\n",
       "      <td>-0.048494</td>\n",
       "      <td>-0.047628</td>\n",
       "      <td>0.011429</td>\n",
       "    </tr>\n",
       "    <tr>\n",
       "      <th>2</th>\n",
       "      <td>0.030264</td>\n",
       "      <td>-0.037979</td>\n",
       "      <td>-0.116260</td>\n",
       "      <td>-0.034686</td>\n",
       "    </tr>\n",
       "    <tr>\n",
       "      <th>3</th>\n",
       "      <td>-0.033061</td>\n",
       "      <td>-0.040438</td>\n",
       "      <td>-0.108409</td>\n",
       "      <td>-0.035932</td>\n",
       "    </tr>\n",
       "    <tr>\n",
       "      <th>4</th>\n",
       "      <td>-0.002805</td>\n",
       "      <td>-0.015474</td>\n",
       "      <td>0.108409</td>\n",
       "      <td>-0.050010</td>\n",
       "    </tr>\n",
       "    <tr>\n",
       "      <th>5</th>\n",
       "      <td>-0.022728</td>\n",
       "      <td>-0.010779</td>\n",
       "      <td>-0.063626</td>\n",
       "      <td>-0.066249</td>\n",
       "    </tr>\n",
       "    <tr>\n",
       "      <th>6</th>\n",
       "      <td>0.022728</td>\n",
       "      <td>-0.012891</td>\n",
       "      <td>-0.067951</td>\n",
       "      <td>0.027029</td>\n",
       "    </tr>\n",
       "    <tr>\n",
       "      <th>7</th>\n",
       "      <td>0.030431</td>\n",
       "      <td>-0.014071</td>\n",
       "      <td>-0.007843</td>\n",
       "      <td>-0.040822</td>\n",
       "    </tr>\n",
       "    <tr>\n",
       "      <th>8</th>\n",
       "      <td>-0.013718</td>\n",
       "      <td>-0.025629</td>\n",
       "      <td>-0.048397</td>\n",
       "      <td>0.013793</td>\n",
       "    </tr>\n",
       "    <tr>\n",
       "      <th>9</th>\n",
       "      <td>0.037945</td>\n",
       "      <td>0.028661</td>\n",
       "      <td>-0.068403</td>\n",
       "      <td>-0.013793</td>\n",
       "    </tr>\n",
       "  </tbody>\n",
       "</table>\n",
       "</div>"
      ],
      "text/plain": [
       "        JPM        GS        MS       BAC\n",
       "1 -0.085614 -0.048494 -0.047628  0.011429\n",
       "2  0.030264 -0.037979 -0.116260 -0.034686\n",
       "3 -0.033061 -0.040438 -0.108409 -0.035932\n",
       "4 -0.002805 -0.015474  0.108409 -0.050010\n",
       "5 -0.022728 -0.010779 -0.063626 -0.066249\n",
       "6  0.022728 -0.012891 -0.067951  0.027029\n",
       "7  0.030431 -0.014071 -0.007843 -0.040822\n",
       "8 -0.013718 -0.025629 -0.048397  0.013793\n",
       "9  0.037945  0.028661 -0.068403 -0.013793"
      ]
     },
     "execution_count": 21,
     "metadata": {},
     "output_type": "execute_result"
    }
   ],
   "source": [
    "df_log = (np.log(df) - np.log(df.shift(1)))[1:]\n",
    "df_log"
   ]
  },
  {
   "cell_type": "markdown",
   "metadata": {},
   "source": [
    "#### Part i - Percentage returns"
   ]
  },
  {
   "cell_type": "code",
   "execution_count": 22,
   "metadata": {},
   "outputs": [
    {
     "data": {
      "text/html": [
       "<div>\n",
       "<style>\n",
       "    .dataframe thead tr:only-child th {\n",
       "        text-align: right;\n",
       "    }\n",
       "\n",
       "    .dataframe thead th {\n",
       "        text-align: left;\n",
       "    }\n",
       "\n",
       "    .dataframe tbody tr th {\n",
       "        vertical-align: top;\n",
       "    }\n",
       "</style>\n",
       "<table border=\"1\" class=\"dataframe\">\n",
       "  <thead>\n",
       "    <tr style=\"text-align: right;\">\n",
       "      <th></th>\n",
       "      <th>JPM</th>\n",
       "      <th>GS</th>\n",
       "      <th>MS</th>\n",
       "      <th>BAC</th>\n",
       "    </tr>\n",
       "  </thead>\n",
       "  <tbody>\n",
       "    <tr>\n",
       "      <th>1</th>\n",
       "      <td>-0.082051</td>\n",
       "      <td>-0.047337</td>\n",
       "      <td>-0.046512</td>\n",
       "      <td>0.011494</td>\n",
       "    </tr>\n",
       "    <tr>\n",
       "      <th>2</th>\n",
       "      <td>0.030726</td>\n",
       "      <td>-0.037267</td>\n",
       "      <td>-0.109756</td>\n",
       "      <td>-0.034091</td>\n",
       "    </tr>\n",
       "    <tr>\n",
       "      <th>3</th>\n",
       "      <td>-0.032520</td>\n",
       "      <td>-0.039631</td>\n",
       "      <td>-0.102740</td>\n",
       "      <td>-0.035294</td>\n",
       "    </tr>\n",
       "    <tr>\n",
       "      <th>4</th>\n",
       "      <td>-0.002801</td>\n",
       "      <td>-0.015355</td>\n",
       "      <td>0.114504</td>\n",
       "      <td>-0.048780</td>\n",
       "    </tr>\n",
       "    <tr>\n",
       "      <th>5</th>\n",
       "      <td>-0.022472</td>\n",
       "      <td>-0.010721</td>\n",
       "      <td>-0.061644</td>\n",
       "      <td>-0.064103</td>\n",
       "    </tr>\n",
       "    <tr>\n",
       "      <th>6</th>\n",
       "      <td>0.022989</td>\n",
       "      <td>-0.012808</td>\n",
       "      <td>-0.065693</td>\n",
       "      <td>0.027397</td>\n",
       "    </tr>\n",
       "    <tr>\n",
       "      <th>7</th>\n",
       "      <td>0.030899</td>\n",
       "      <td>-0.013972</td>\n",
       "      <td>-0.007813</td>\n",
       "      <td>-0.040000</td>\n",
       "    </tr>\n",
       "    <tr>\n",
       "      <th>8</th>\n",
       "      <td>-0.013624</td>\n",
       "      <td>-0.025304</td>\n",
       "      <td>-0.047244</td>\n",
       "      <td>0.013889</td>\n",
       "    </tr>\n",
       "    <tr>\n",
       "      <th>9</th>\n",
       "      <td>0.038674</td>\n",
       "      <td>0.029076</td>\n",
       "      <td>-0.066116</td>\n",
       "      <td>-0.013699</td>\n",
       "    </tr>\n",
       "  </tbody>\n",
       "</table>\n",
       "</div>"
      ],
      "text/plain": [
       "        JPM        GS        MS       BAC\n",
       "1 -0.082051 -0.047337 -0.046512  0.011494\n",
       "2  0.030726 -0.037267 -0.109756 -0.034091\n",
       "3 -0.032520 -0.039631 -0.102740 -0.035294\n",
       "4 -0.002801 -0.015355  0.114504 -0.048780\n",
       "5 -0.022472 -0.010721 -0.061644 -0.064103\n",
       "6  0.022989 -0.012808 -0.065693  0.027397\n",
       "7  0.030899 -0.013972 -0.007813 -0.040000\n",
       "8 -0.013624 -0.025304 -0.047244  0.013889\n",
       "9  0.038674  0.029076 -0.066116 -0.013699"
      ]
     },
     "execution_count": 22,
     "metadata": {},
     "output_type": "execute_result"
    }
   ],
   "source": [
    "df_pct = df.pct_change()[1:]\n",
    "df_pct"
   ]
  },
  {
   "cell_type": "markdown",
   "metadata": {},
   "source": [
    "#### Part ii - sample covariance matrix"
   ]
  },
  {
   "cell_type": "code",
   "execution_count": 25,
   "metadata": {},
   "outputs": [
    {
     "data": {
      "text/html": [
       "<div>\n",
       "<style>\n",
       "    .dataframe thead tr:only-child th {\n",
       "        text-align: right;\n",
       "    }\n",
       "\n",
       "    .dataframe thead th {\n",
       "        text-align: left;\n",
       "    }\n",
       "\n",
       "    .dataframe tbody tr th {\n",
       "        vertical-align: top;\n",
       "    }\n",
       "</style>\n",
       "<table border=\"1\" class=\"dataframe\">\n",
       "  <thead>\n",
       "    <tr style=\"text-align: right;\">\n",
       "      <th></th>\n",
       "      <th>JPM</th>\n",
       "      <th>GS</th>\n",
       "      <th>MS</th>\n",
       "      <th>BAC</th>\n",
       "    </tr>\n",
       "  </thead>\n",
       "  <tbody>\n",
       "    <tr>\n",
       "      <th>1</th>\n",
       "      <td>-0.078698</td>\n",
       "      <td>-0.028080</td>\n",
       "      <td>-0.002843</td>\n",
       "      <td>0.031848</td>\n",
       "    </tr>\n",
       "    <tr>\n",
       "      <th>2</th>\n",
       "      <td>0.034080</td>\n",
       "      <td>-0.018009</td>\n",
       "      <td>-0.066088</td>\n",
       "      <td>-0.013737</td>\n",
       "    </tr>\n",
       "    <tr>\n",
       "      <th>3</th>\n",
       "      <td>-0.029167</td>\n",
       "      <td>-0.020374</td>\n",
       "      <td>-0.059072</td>\n",
       "      <td>-0.014940</td>\n",
       "    </tr>\n",
       "    <tr>\n",
       "      <th>4</th>\n",
       "      <td>0.000552</td>\n",
       "      <td>0.003903</td>\n",
       "      <td>0.158172</td>\n",
       "      <td>-0.028426</td>\n",
       "    </tr>\n",
       "    <tr>\n",
       "      <th>5</th>\n",
       "      <td>-0.019118</td>\n",
       "      <td>0.008537</td>\n",
       "      <td>-0.017976</td>\n",
       "      <td>-0.043749</td>\n",
       "    </tr>\n",
       "    <tr>\n",
       "      <th>6</th>\n",
       "      <td>0.026342</td>\n",
       "      <td>0.006450</td>\n",
       "      <td>-0.022025</td>\n",
       "      <td>0.047751</td>\n",
       "    </tr>\n",
       "    <tr>\n",
       "      <th>7</th>\n",
       "      <td>0.034252</td>\n",
       "      <td>0.005286</td>\n",
       "      <td>0.035856</td>\n",
       "      <td>-0.019646</td>\n",
       "    </tr>\n",
       "    <tr>\n",
       "      <th>8</th>\n",
       "      <td>-0.010271</td>\n",
       "      <td>-0.006046</td>\n",
       "      <td>-0.003576</td>\n",
       "      <td>0.034243</td>\n",
       "    </tr>\n",
       "    <tr>\n",
       "      <th>9</th>\n",
       "      <td>0.042027</td>\n",
       "      <td>0.048334</td>\n",
       "      <td>-0.022448</td>\n",
       "      <td>0.006655</td>\n",
       "    </tr>\n",
       "  </tbody>\n",
       "</table>\n",
       "</div>"
      ],
      "text/plain": [
       "        JPM        GS        MS       BAC\n",
       "1 -0.078698 -0.028080 -0.002843  0.031848\n",
       "2  0.034080 -0.018009 -0.066088 -0.013737\n",
       "3 -0.029167 -0.020374 -0.059072 -0.014940\n",
       "4  0.000552  0.003903  0.158172 -0.028426\n",
       "5 -0.019118  0.008537 -0.017976 -0.043749\n",
       "6  0.026342  0.006450 -0.022025  0.047751\n",
       "7  0.034252  0.005286  0.035856 -0.019646\n",
       "8 -0.010271 -0.006046 -0.003576  0.034243\n",
       "9  0.042027  0.048334 -0.022448  0.006655"
      ]
     },
     "execution_count": 25,
     "metadata": {},
     "output_type": "execute_result"
    }
   ],
   "source": [
    "t_bar = df_pct - df_pct.mean()\n",
    "t_bar"
   ]
  },
  {
   "cell_type": "code",
   "execution_count": 44,
   "metadata": {},
   "outputs": [
    {
     "data": {
      "text/html": [
       "<div>\n",
       "<style>\n",
       "    .dataframe thead tr:only-child th {\n",
       "        text-align: right;\n",
       "    }\n",
       "\n",
       "    .dataframe thead th {\n",
       "        text-align: left;\n",
       "    }\n",
       "\n",
       "    .dataframe tbody tr th {\n",
       "        vertical-align: top;\n",
       "    }\n",
       "</style>\n",
       "<table border=\"1\" class=\"dataframe\">\n",
       "  <thead>\n",
       "    <tr style=\"text-align: right;\">\n",
       "      <th></th>\n",
       "      <th>JPM</th>\n",
       "      <th>GS</th>\n",
       "      <th>MS</th>\n",
       "      <th>BAC</th>\n",
       "    </tr>\n",
       "  </thead>\n",
       "  <tbody>\n",
       "    <tr>\n",
       "      <th>JPM</th>\n",
       "      <td>0.001539</td>\n",
       "      <td>0.000559</td>\n",
       "      <td>-0.000017</td>\n",
       "      <td>-0.000151</td>\n",
       "    </tr>\n",
       "    <tr>\n",
       "      <th>GS</th>\n",
       "      <td>0.000559</td>\n",
       "      <td>0.000507</td>\n",
       "      <td>0.000240</td>\n",
       "      <td>-0.000064</td>\n",
       "    </tr>\n",
       "    <tr>\n",
       "      <th>MS</th>\n",
       "      <td>-0.000017</td>\n",
       "      <td>0.000240</td>\n",
       "      <td>0.004437</td>\n",
       "      <td>-0.000505</td>\n",
       "    </tr>\n",
       "    <tr>\n",
       "      <th>BAC</th>\n",
       "      <td>-0.000151</td>\n",
       "      <td>-0.000064</td>\n",
       "      <td>-0.000505</td>\n",
       "      <td>0.001004</td>\n",
       "    </tr>\n",
       "  </tbody>\n",
       "</table>\n",
       "</div>"
      ],
      "text/plain": [
       "          JPM        GS        MS       BAC\n",
       "JPM  0.001539  0.000559 -0.000017 -0.000151\n",
       "GS   0.000559  0.000507  0.000240 -0.000064\n",
       "MS  -0.000017  0.000240  0.004437 -0.000505\n",
       "BAC -0.000151 -0.000064 -0.000505  0.001004"
      ]
     },
     "execution_count": 44,
     "metadata": {},
     "output_type": "execute_result"
    }
   ],
   "source": [
    "cov_mat = (1 / (len(t_bar) - 1)) * t_bar.transpose().dot(t_bar)\n",
    "cov_mat"
   ]
  },
  {
   "cell_type": "code",
   "execution_count": 56,
   "metadata": {},
   "outputs": [
    {
     "data": {
      "text/plain": [
       "array([[  1.53877700e-03,   5.59201443e-04,  -1.66569264e-05,\n",
       "         -1.50640136e-04],\n",
       "       [  5.59201443e-04,   5.07275785e-04,   2.40187149e-04,\n",
       "         -6.35138665e-05],\n",
       "       [ -1.66569264e-05,   2.40187149e-04,   4.43675878e-03,\n",
       "         -5.04755609e-04],\n",
       "       [ -1.50640136e-04,  -6.35138665e-05,  -5.04755609e-04,\n",
       "          1.00390508e-03]])"
      ]
     },
     "execution_count": 56,
     "metadata": {},
     "output_type": "execute_result"
    }
   ],
   "source": [
    "# Check\n",
    "np.cov(df_pct.transpose())"
   ]
  },
  {
   "cell_type": "markdown",
   "metadata": {},
   "source": [
    "#### part ii - Correlation Matrix"
   ]
  },
  {
   "cell_type": "code",
   "execution_count": 51,
   "metadata": {},
   "outputs": [
    {
     "data": {
      "text/plain": [
       "array([[ 25.49248411,   0.        ,   0.        ,   0.        ],\n",
       "       [  0.        ,  44.39948514,   0.        ,   0.        ],\n",
       "       [  0.        ,   0.        ,  15.0129864 ,   0.        ],\n",
       "       [  0.        ,   0.        ,   0.        ,  31.56121214]])"
      ]
     },
     "execution_count": 51,
     "metadata": {},
     "output_type": "execute_result"
    }
   ],
   "source": [
    "D_inv = np.diag(1 / np.sqrt(np.diag(cov_mat)))\n",
    "D_inv"
   ]
  },
  {
   "cell_type": "code",
   "execution_count": 54,
   "metadata": {},
   "outputs": [
    {
     "data": {
      "text/plain": [
       "array([[ 1.        ,  0.63293393, -0.00637491, -0.12120109],\n",
       "       [ 0.63293393,  1.        ,  0.16010128, -0.08900208],\n",
       "       [-0.00637491,  0.16010128,  1.        , -0.23916737],\n",
       "       [-0.12120109, -0.08900208, -0.23916737,  1.        ]])"
      ]
     },
     "execution_count": 54,
     "metadata": {},
     "output_type": "execute_result"
    }
   ],
   "source": [
    "corr_mat = D_inv.dot(cov_mat).dot(D_inv)\n",
    "corr_mat"
   ]
  },
  {
   "cell_type": "code",
   "execution_count": 55,
   "metadata": {},
   "outputs": [
    {
     "data": {
      "text/plain": [
       "array([[ 1.        ,  0.63293393, -0.00637491, -0.12120109],\n",
       "       [ 0.63293393,  1.        ,  0.16010128, -0.08900208],\n",
       "       [-0.00637491,  0.16010128,  1.        , -0.23916737],\n",
       "       [-0.12120109, -0.08900208, -0.23916737,  1.        ]])"
      ]
     },
     "execution_count": 55,
     "metadata": {},
     "output_type": "execute_result"
    }
   ],
   "source": [
    "# check\n",
    "np.corrcoef(df_pct.as_matrix().transpose())"
   ]
  },
  {
   "cell_type": "markdown",
   "metadata": {},
   "source": [
    "#### Part iii Linear Regression"
   ]
  },
  {
   "cell_type": "code",
   "execution_count": 60,
   "metadata": {},
   "outputs": [
    {
     "data": {
      "text/html": [
       "<div>\n",
       "<style>\n",
       "    .dataframe thead tr:only-child th {\n",
       "        text-align: right;\n",
       "    }\n",
       "\n",
       "    .dataframe thead th {\n",
       "        text-align: left;\n",
       "    }\n",
       "\n",
       "    .dataframe tbody tr th {\n",
       "        vertical-align: top;\n",
       "    }\n",
       "</style>\n",
       "<table border=\"1\" class=\"dataframe\">\n",
       "  <thead>\n",
       "    <tr style=\"text-align: right;\">\n",
       "      <th></th>\n",
       "      <th>JPM</th>\n",
       "      <th>GS</th>\n",
       "      <th>MS</th>\n",
       "      <th>BAC</th>\n",
       "    </tr>\n",
       "  </thead>\n",
       "  <tbody>\n",
       "    <tr>\n",
       "      <th>1</th>\n",
       "      <td>-0.082051</td>\n",
       "      <td>-0.047337</td>\n",
       "      <td>-0.046512</td>\n",
       "      <td>0.011494</td>\n",
       "    </tr>\n",
       "    <tr>\n",
       "      <th>2</th>\n",
       "      <td>0.030726</td>\n",
       "      <td>-0.037267</td>\n",
       "      <td>-0.109756</td>\n",
       "      <td>-0.034091</td>\n",
       "    </tr>\n",
       "    <tr>\n",
       "      <th>3</th>\n",
       "      <td>-0.032520</td>\n",
       "      <td>-0.039631</td>\n",
       "      <td>-0.102740</td>\n",
       "      <td>-0.035294</td>\n",
       "    </tr>\n",
       "    <tr>\n",
       "      <th>4</th>\n",
       "      <td>-0.002801</td>\n",
       "      <td>-0.015355</td>\n",
       "      <td>0.114504</td>\n",
       "      <td>-0.048780</td>\n",
       "    </tr>\n",
       "    <tr>\n",
       "      <th>5</th>\n",
       "      <td>-0.022472</td>\n",
       "      <td>-0.010721</td>\n",
       "      <td>-0.061644</td>\n",
       "      <td>-0.064103</td>\n",
       "    </tr>\n",
       "    <tr>\n",
       "      <th>6</th>\n",
       "      <td>0.022989</td>\n",
       "      <td>-0.012808</td>\n",
       "      <td>-0.065693</td>\n",
       "      <td>0.027397</td>\n",
       "    </tr>\n",
       "    <tr>\n",
       "      <th>7</th>\n",
       "      <td>0.030899</td>\n",
       "      <td>-0.013972</td>\n",
       "      <td>-0.007813</td>\n",
       "      <td>-0.040000</td>\n",
       "    </tr>\n",
       "    <tr>\n",
       "      <th>8</th>\n",
       "      <td>-0.013624</td>\n",
       "      <td>-0.025304</td>\n",
       "      <td>-0.047244</td>\n",
       "      <td>0.013889</td>\n",
       "    </tr>\n",
       "    <tr>\n",
       "      <th>9</th>\n",
       "      <td>0.038674</td>\n",
       "      <td>0.029076</td>\n",
       "      <td>-0.066116</td>\n",
       "      <td>-0.013699</td>\n",
       "    </tr>\n",
       "  </tbody>\n",
       "</table>\n",
       "</div>"
      ],
      "text/plain": [
       "        JPM        GS        MS       BAC\n",
       "1 -0.082051 -0.047337 -0.046512  0.011494\n",
       "2  0.030726 -0.037267 -0.109756 -0.034091\n",
       "3 -0.032520 -0.039631 -0.102740 -0.035294\n",
       "4 -0.002801 -0.015355  0.114504 -0.048780\n",
       "5 -0.022472 -0.010721 -0.061644 -0.064103\n",
       "6  0.022989 -0.012808 -0.065693  0.027397\n",
       "7  0.030899 -0.013972 -0.007813 -0.040000\n",
       "8 -0.013624 -0.025304 -0.047244  0.013889\n",
       "9  0.038674  0.029076 -0.066116 -0.013699"
      ]
     },
     "execution_count": 60,
     "metadata": {},
     "output_type": "execute_result"
    }
   ],
   "source": [
    "df_pct"
   ]
  },
  {
   "cell_type": "code",
   "execution_count": 67,
   "metadata": {},
   "outputs": [
    {
     "data": {
      "text/plain": [
       "array([[-0.04733728],\n",
       "       [-0.03726708],\n",
       "       [-0.03963134],\n",
       "       [-0.01535509],\n",
       "       [-0.01072125],\n",
       "       [-0.01280788],\n",
       "       [-0.01397206],\n",
       "       [-0.02530364],\n",
       "       [ 0.0290758 ]])"
      ]
     },
     "execution_count": 67,
     "metadata": {},
     "output_type": "execute_result"
    }
   ],
   "source": [
    "gs_ts = df_pct['GS'].values.reshape(-1, 1)\n",
    "gs_ts"
   ]
  },
  {
   "cell_type": "code",
   "execution_count": 68,
   "metadata": {},
   "outputs": [
    {
     "data": {
      "text/plain": [
       "array([[ 1.        , -0.08205128, -0.04651163,  0.01149425],\n",
       "       [ 1.        ,  0.03072626, -0.1097561 , -0.03409091],\n",
       "       [ 1.        , -0.03252033, -0.10273973, -0.03529412],\n",
       "       [ 1.        , -0.00280112,  0.11450382, -0.04878049],\n",
       "       [ 1.        , -0.02247191, -0.06164384, -0.06410256],\n",
       "       [ 1.        ,  0.02298851, -0.06569343,  0.02739726],\n",
       "       [ 1.        ,  0.03089888, -0.0078125 , -0.04      ],\n",
       "       [ 1.        , -0.01362398, -0.04724409,  0.01388889],\n",
       "       [ 1.        ,  0.03867403, -0.0661157 , -0.01369863]])"
      ]
     },
     "execution_count": 68,
     "metadata": {},
     "output_type": "execute_result"
    }
   ],
   "source": [
    "ones = np.array(len(gs_ts) * [1])\n",
    "jpm_ts = df_pct['JPM'].values\n",
    "ms_ts = df_pct['MS'].values\n",
    "bac_ts = df_pct['BAC'].values\n",
    "A = np.column_stack([ones, jpm_ts, ms_ts, bac_ts])\n",
    "A"
   ]
  },
  {
   "cell_type": "code",
   "execution_count": 69,
   "metadata": {
    "collapsed": true
   },
   "outputs": [],
   "source": [
    "AtA = A.transpose().dot(A)\n",
    "Aty = A.transpose().dot(gs_ts)"
   ]
  },
  {
   "cell_type": "code",
   "execution_count": 78,
   "metadata": {
    "scrolled": true
   },
   "outputs": [
    {
     "data": {
      "text/plain": [
       "array([[-0.01508047],\n",
       "       [ 0.36606523],\n",
       "       [ 0.05787188],\n",
       "       [ 0.02076033]])"
      ]
     },
     "execution_count": 78,
     "metadata": {},
     "output_type": "execute_result"
    }
   ],
   "source": [
    "# Cholesky decomp and solver:\n",
    "Ut = np.linalg.cholesky(AtA)\n",
    "x = cho_solve((Ut, True), Aty)\n",
    "x"
   ]
  },
  {
   "cell_type": "code",
   "execution_count": 89,
   "metadata": {},
   "outputs": [
    {
     "data": {
      "text/plain": [
       "array([[-0.01508047],\n",
       "       [ 0.36606523],\n",
       "       [ 0.05787188],\n",
       "       [ 0.02076033]])"
      ]
     },
     "execution_count": 89,
     "metadata": {},
     "output_type": "execute_result"
    }
   ],
   "source": [
    "# checking regression\n",
    "from sklearn import linear_model as lm\n",
    "m = lm.LinearRegression(fit_intercept=False)\n",
    "m.fit(A, gs_ts)\n",
    "m.coef_.reshape(-1, 1)"
   ]
  },
  {
   "cell_type": "code",
   "execution_count": null,
   "metadata": {
    "collapsed": true
   },
   "outputs": [],
   "source": []
  },
  {
   "cell_type": "code",
   "execution_count": null,
   "metadata": {
    "collapsed": true
   },
   "outputs": [],
   "source": []
  }
 ],
 "metadata": {
  "kernelspec": {
   "display_name": "Python 3",
   "language": "python",
   "name": "python3"
  },
  "language_info": {
   "codemirror_mode": {
    "name": "ipython",
    "version": 3
   },
   "file_extension": ".py",
   "mimetype": "text/x-python",
   "name": "python",
   "nbconvert_exporter": "python",
   "pygments_lexer": "ipython3",
   "version": "3.6.3"
  }
 },
 "nbformat": 4,
 "nbformat_minor": 2
}
