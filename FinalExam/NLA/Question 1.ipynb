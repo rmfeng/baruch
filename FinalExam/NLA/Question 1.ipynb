{
 "cells": [
  {
   "cell_type": "code",
   "execution_count": 1,
   "metadata": {
    "collapsed": true
   },
   "outputs": [],
   "source": [
    "import numpy as np\n",
    "import pandas as pd\n",
    "import pyquantlib as pq\n",
    "from IPython.display import display\n",
    "import matplotlib.pyplot as plt\n",
    "%matplotlib inline\n",
    "from importlib import reload"
   ]
  },
  {
   "cell_type": "code",
   "execution_count": 2,
   "metadata": {
    "collapsed": true
   },
   "outputs": [],
   "source": [
    "# question given:\n",
    "t_list = np.array([6.0, 12.0, 18.0, 24.0]) / 12.0\n",
    "df_list = np.array([0.9933, 0.9835, 0.9750, 0.9625])\n",
    "on_r = 0.01"
   ]
  },
  {
   "cell_type": "markdown",
   "metadata": {},
   "source": [
    "#### Part i"
   ]
  },
  {
   "cell_type": "code",
   "execution_count": 3,
   "metadata": {},
   "outputs": [
    {
     "data": {
      "text/plain": [
       "array([ 0.01344509,  0.01663764,  0.01687854,  0.01911061])"
      ]
     },
     "execution_count": 3,
     "metadata": {},
     "output_type": "execute_result"
    }
   ],
   "source": [
    "r_list = pq.bonds.zeros_from_df(t_list, df_list)\n",
    "r_list"
   ]
  },
  {
   "cell_type": "markdown",
   "metadata": {},
   "source": [
    "#### Part ii"
   ]
  },
  {
   "cell_type": "code",
   "execution_count": 4,
   "metadata": {},
   "outputs": [
    {
     "name": "stdout",
     "output_type": "stream",
     "text": [
      "[ 0.   0.5  1.   1.5  2. ] \n",
      " [ 0.01        0.01344509  0.01663764  0.01687854  0.01911061]\n"
     ]
    }
   ],
   "source": [
    "# need to add the overnight rate to the lists\n",
    "t_list_to_solve = np.append(0, t_list)\n",
    "r_list_to_solve = np.append(on_r, r_list)\n",
    "print(t_list_to_solve,\"\\n\",r_list_to_solve)"
   ]
  },
  {
   "cell_type": "code",
   "execution_count": 5,
   "metadata": {},
   "outputs": [
    {
     "data": {
      "image/png": "[encoded data removed]",
      "text/plain": [
       "<matplotlib.figure.Figure at 0x11250ed68>"
      ]
     },
     "metadata": {},
     "output_type": "display_data"
    }
   ],
   "source": [
    "plt.scatter(t_list_to_solve, r_list_to_solve)\n",
    "plt.show()"
   ]
  },
  {
   "cell_type": "code",
   "execution_count": 6,
   "metadata": {
    "collapsed": true,
    "scrolled": true
   },
   "outputs": [],
   "source": [
    "a, b, c, d, M, z = pq.interpolate.efficient_cub_spline(t_list_to_solve, r_list_to_solve)"
   ]
  },
  {
   "cell_type": "code",
   "execution_count": 7,
   "metadata": {},
   "outputs": [
    {
     "data": {
      "text/plain": [
       "array([[ 2. ,  0.5,  0. ],\n",
       "       [ 0.5,  2. ,  0.5],\n",
       "       [ 0. ,  0.5,  2. ]])"
      ]
     },
     "execution_count": 7,
     "metadata": {},
     "output_type": "execute_result"
    }
   ],
   "source": [
    "M"
   ]
  },
  {
   "cell_type": "code",
   "execution_count": 8,
   "metadata": {},
   "outputs": [
    {
     "data": {
      "text/plain": [
       "array([-0.0030305 , -0.03541983,  0.02389404])"
      ]
     },
     "execution_count": 8,
     "metadata": {},
     "output_type": "execute_result"
    }
   ],
   "source": [
    "z"
   ]
  },
  {
   "cell_type": "markdown",
   "metadata": {},
   "source": [
    "#### Part iii"
   ]
  },
  {
   "cell_type": "code",
   "execution_count": 16,
   "metadata": {},
   "outputs": [
    {
     "data": {
      "text/plain": [
       "{0.33333333333333331: 0.012230526289506688,\n",
       " 0.83333333333333337: 0.015878836429111552,\n",
       " 1.3333333333333333: 0.016810958652562859,\n",
       " 1.8333333333333333: 0.018147421812852296}"
      ]
     },
     "execution_count": 16,
     "metadata": {},
     "output_type": "execute_result"
    }
   ],
   "source": [
    "solve_t_list = np.array([4.0, 10.0, 16.0, 22.0]) / 12.0\n",
    "r_sol = {}\n",
    "for t in solve_t_list:\n",
    "    r = pq.interpolate.cubic_spline_func(t, t_list_to_solve, a, b, c, d)\n",
    "    r_sol[t] = r\n",
    "r_sol"
   ]
  },
  {
   "cell_type": "markdown",
   "metadata": {},
   "source": [
    "### Checking Interpolation"
   ]
  },
  {
   "cell_type": "code",
   "execution_count": 17,
   "metadata": {},
   "outputs": [
    {
     "data": {
      "image/png": "[encoded data removed]",
      "text/plain": [
       "<matplotlib.figure.Figure at 0x116578550>"
      ]
     },
     "metadata": {},
     "output_type": "display_data"
    }
   ],
   "source": [
    "graph_t_list = np.linspace(0, 22, 1000)\n",
    "graph_sol = []\n",
    "for t in graph_t_list:\n",
    "    r = pq.interpolate.cubic_spline_func(t, t_list_to_solve, a, b, c, d)\n",
    "    graph_sol.append(r)\n",
    "\n",
    "plt.plot(graph_t_list, graph_sol)\n",
    "plt.scatter(t_list_to_solve, r_list_to_solve)\n",
    "\n",
    "plt.show()"
   ]
  },
  {
   "cell_type": "markdown",
   "metadata": {},
   "source": [
    "#### Part iv"
   ]
  },
  {
   "cell_type": "code",
   "execution_count": 18,
   "metadata": {
    "collapsed": true
   },
   "outputs": [],
   "source": [
    "# question given\n",
    "mat_in_m = 22\n",
    "cpn_rate = 0.07\n",
    "freq = 2"
   ]
  },
  {
   "cell_type": "code",
   "execution_count": 19,
   "metadata": {},
   "outputs": [
    {
     "data": {
      "text/html": [
       "<div>\n",
       "<style>\n",
       "    .dataframe thead tr:only-child th {\n",
       "        text-align: right;\n",
       "    }\n",
       "\n",
       "    .dataframe thead th {\n",
       "        text-align: left;\n",
       "    }\n",
       "\n",
       "    .dataframe tbody tr th {\n",
       "        vertical-align: top;\n",
       "    }\n",
       "</style>\n",
       "<table border=\"1\" class=\"dataframe\">\n",
       "  <thead>\n",
       "    <tr style=\"text-align: right;\">\n",
       "      <th></th>\n",
       "      <th>cf</th>\n",
       "    </tr>\n",
       "    <tr>\n",
       "      <th>t</th>\n",
       "      <th></th>\n",
       "    </tr>\n",
       "  </thead>\n",
       "  <tbody>\n",
       "    <tr>\n",
       "      <th>0.333333</th>\n",
       "      <td>3.5</td>\n",
       "    </tr>\n",
       "    <tr>\n",
       "      <th>0.833333</th>\n",
       "      <td>3.5</td>\n",
       "    </tr>\n",
       "    <tr>\n",
       "      <th>1.333333</th>\n",
       "      <td>3.5</td>\n",
       "    </tr>\n",
       "    <tr>\n",
       "      <th>1.833333</th>\n",
       "      <td>103.5</td>\n",
       "    </tr>\n",
       "  </tbody>\n",
       "</table>\n",
       "</div>"
      ],
      "text/plain": [
       "             cf\n",
       "t              \n",
       "0.333333    3.5\n",
       "0.833333    3.5\n",
       "1.333333    3.5\n",
       "1.833333  103.5"
      ]
     },
     "execution_count": 19,
     "metadata": {},
     "output_type": "execute_result"
    }
   ],
   "source": [
    "t_list, cf_list, df = pq.bonds.gen_t_cf_dataframe(mat_in_m, cpn_rate, freq)\n",
    "df"
   ]
  },
  {
   "cell_type": "code",
   "execution_count": 20,
   "metadata": {},
   "outputs": [
    {
     "data": {
      "text/plain": [
       "array([ 0.01223053,  0.01587884,  0.01681096,  0.01814742])"
      ]
     },
     "execution_count": 20,
     "metadata": {},
     "output_type": "execute_result"
    }
   ],
   "source": [
    "r_list = np.array([])\n",
    "for t in t_list:\n",
    "    r = pq.interpolate.cubic_spline_func(t, t_list_to_solve, a, b, c, d)\n",
    "    r_list = np.append(r_list, r)\n",
    "r_list"
   ]
  },
  {
   "cell_type": "code",
   "execution_count": 21,
   "metadata": {},
   "outputs": [
    {
     "data": {
      "text/plain": [
       "array([ 0.99593146,  0.9868548 ,  0.97783473,  0.9672771 ])"
      ]
     },
     "execution_count": 21,
     "metadata": {},
     "output_type": "execute_result"
    }
   ],
   "source": [
    "df_list = pq.bonds.df_yld(t_list, r_list)\n",
    "df_list"
   ]
  },
  {
   "cell_type": "code",
   "execution_count": 26,
   "metadata": {},
   "outputs": [
    {
     "data": {
      "text/plain": [
       "array([   3.5,    3.5,    3.5,  103.5])"
      ]
     },
     "execution_count": 26,
     "metadata": {},
     "output_type": "execute_result"
    }
   ],
   "source": [
    "cf_list"
   ]
  },
  {
   "cell_type": "code",
   "execution_count": 27,
   "metadata": {},
   "outputs": [
    {
     "data": {
      "text/plain": [
       "110.47535278825758"
      ]
     },
     "execution_count": 27,
     "metadata": {},
     "output_type": "execute_result"
    }
   ],
   "source": [
    "px = cf_list.dot(df_list)\n",
    "px"
   ]
  },
  {
   "cell_type": "markdown",
   "metadata": {},
   "source": [
    "### Checking the bond pricing:"
   ]
  },
  {
   "cell_type": "code",
   "execution_count": 28,
   "metadata": {},
   "outputs": [
    {
     "name": "stdout",
     "output_type": "stream",
     "text": [
      "0.0122305262895 0.0158788364291 0.0168109586526 0.0181474218129\n"
     ]
    }
   ],
   "source": [
    "r1 = pq.interpolate.cubic_spline_func(4/12, t_list_to_solve, a, b, c, d)\n",
    "r2 = pq.interpolate.cubic_spline_func(10/12, t_list_to_solve, a, b, c, d)\n",
    "r3 = pq.interpolate.cubic_spline_func(16/12, t_list_to_solve, a, b, c, d)\n",
    "r4 = pq.interpolate.cubic_spline_func(22/12, t_list_to_solve, a, b, c, d)\n",
    "print(r1, r2, r3, r4)"
   ]
  },
  {
   "cell_type": "code",
   "execution_count": 29,
   "metadata": {},
   "outputs": [
    {
     "name": "stdout",
     "output_type": "stream",
     "text": [
      "0.995931456942 0.986854799153 0.977834729434 0.967277095062\n"
     ]
    }
   ],
   "source": [
    "df1 = np.exp(-r1*4/12)\n",
    "df2 = np.exp(-r2*10/12)\n",
    "df3 = np.exp(-r3*16/12)\n",
    "df4 = np.exp(-r4*22/12)\n",
    "print(df1, df2, df3, df4)"
   ]
  },
  {
   "cell_type": "code",
   "execution_count": 30,
   "metadata": {},
   "outputs": [
    {
     "data": {
      "text/plain": [
       "110.47535278825758"
      ]
     },
     "execution_count": 30,
     "metadata": {},
     "output_type": "execute_result"
    }
   ],
   "source": [
    "df1 * 3.5 + df2 * 3.5 + df3 * 3.5 + df4 * 103.5"
   ]
  },
  {
   "cell_type": "code",
   "execution_count": null,
   "metadata": {
    "collapsed": true
   },
   "outputs": [],
   "source": []
  }
 ],
 "metadata": {
  "kernelspec": {
   "display_name": "Python 3",
   "language": "python",
   "name": "python3"
  },
  "language_info": {
   "codemirror_mode": {
    "name": "ipython",
    "version": 3
   },
   "file_extension": ".py",
   "mimetype": "text/x-python",
   "name": "python",
   "nbconvert_exporter": "python",
   "pygments_lexer": "ipython3",
   "version": "3.6.3"
  }
 },
 "nbformat": 4,
 "nbformat_minor": 2
}
