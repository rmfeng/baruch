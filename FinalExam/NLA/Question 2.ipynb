{
 "cells": [
  {
   "cell_type": "code",
   "execution_count": 21,
   "metadata": {
    "collapsed": true
   },
   "outputs": [],
   "source": [
    "import numpy as np\n",
    "import pandas as pd\n",
    "import pyquantlib as pq\n",
    "from IPython.display import display\n",
    "import matplotlib.pyplot as plt\n",
    "%matplotlib inline\n",
    "from importlib import reload"
   ]
  },
  {
   "cell_type": "code",
   "execution_count": 23,
   "metadata": {},
   "outputs": [
    {
     "data": {
      "text/plain": [
       "array([[ 0.04  , -0.015 ,  0.015 , -0.005 ],\n",
       "       [-0.015 ,  0.0625, -0.02  , -0.01  ],\n",
       "       [ 0.015 , -0.02  ,  0.1024,  0.02  ],\n",
       "       [-0.005 , -0.01  ,  0.02  ,  0.1225]])"
      ]
     },
     "execution_count": 23,
     "metadata": {},
     "output_type": "execute_result"
    }
   ],
   "source": [
    "# question given:\n",
    "mu = np.array([0.026, 0.034, 0.045, 0.052]).reshape(-1, 1)\n",
    "cov_mat = np.array([[0.04, -0.015, 0.015, -0.005],\n",
    "                    [-0.015, 0.0625, -0.02, -0.01],\n",
    "                    [0.015, -0.02, 0.1024, 0.02],\n",
    "                    [-0.005, -0.01, 0.02, 0.1225]])\n",
    "r = 0.0075\n",
    "cov_mat"
   ]
  },
  {
   "cell_type": "markdown",
   "metadata": {},
   "source": [
    "#### Part i Tangency Port"
   ]
  },
  {
   "cell_type": "code",
   "execution_count": 24,
   "metadata": {},
   "outputs": [
    {
     "data": {
      "text/plain": [
       "array([[ 0.0185],\n",
       "       [ 0.0265],\n",
       "       [ 0.0375],\n",
       "       [ 0.0445]])"
      ]
     },
     "execution_count": 24,
     "metadata": {},
     "output_type": "execute_result"
    }
   ],
   "source": [
    "mu_bar = mu - r\n",
    "mu_bar"
   ]
  },
  {
   "cell_type": "code",
   "execution_count": 25,
   "metadata": {},
   "outputs": [
    {
     "data": {
      "text/plain": [
       "array([[ 0.30956108],\n",
       "       [ 0.35005148],\n",
       "       [ 0.15662126],\n",
       "       [ 0.18376619]])"
      ]
     },
     "execution_count": 25,
     "metadata": {},
     "output_type": "execute_result"
    }
   ],
   "source": [
    "wt = pq.portopt.tangency_port(cov_mat, mu_bar)\n",
    "wt"
   ]
  },
  {
   "cell_type": "code",
   "execution_count": 26,
   "metadata": {},
   "outputs": [
    {
     "data": {
      "text/plain": [
       "array([[ 0.026],\n",
       "       [ 0.034],\n",
       "       [ 0.045],\n",
       "       [ 0.052]])"
      ]
     },
     "execution_count": 26,
     "metadata": {},
     "output_type": "execute_result"
    }
   ],
   "source": [
    "mu"
   ]
  },
  {
   "cell_type": "code",
   "execution_count": 28,
   "metadata": {},
   "outputs": [
    {
     "data": {
      "text/plain": [
       "array([[ 0.03655414]])"
      ]
     },
     "execution_count": 28,
     "metadata": {},
     "output_type": "execute_result"
    }
   ],
   "source": [
    "wt.transpose().dot(mu)"
   ]
  },
  {
   "cell_type": "code",
   "execution_count": 15,
   "metadata": {},
   "outputs": [
    {
     "data": {
      "text/plain": [
       "(0.036554136646969305, 0.036554136646969299)"
      ]
     },
     "execution_count": 15,
     "metadata": {},
     "output_type": "execute_result"
    }
   ],
   "source": [
    "# expected return\n",
    "exp_ret = mu_bar.transpose().dot(wt)[0,0] + r\n",
    "exp_ret2 = mu.transpose().dot(wt)[0,0]\n",
    "exp_ret, exp_ret2"
   ]
  },
  {
   "cell_type": "code",
   "execution_count": 13,
   "metadata": {},
   "outputs": [
    {
     "data": {
      "text/plain": [
       "0.11596041568152712"
      ]
     },
     "execution_count": 13,
     "metadata": {},
     "output_type": "execute_result"
    }
   ],
   "source": [
    "# variance\n",
    "tang_std = np.sqrt(wt.transpose().dot(cov_mat).dot(wt))[0,0]\n",
    "tang_std"
   ]
  },
  {
   "cell_type": "code",
   "execution_count": 30,
   "metadata": {},
   "outputs": [
    {
     "data": {
      "text/plain": [
       "0.25055219469688156"
      ]
     },
     "execution_count": 30,
     "metadata": {},
     "output_type": "execute_result"
    }
   ],
   "source": [
    "# sharpe\n",
    "(exp_ret2 - r) / tang_std"
   ]
  },
  {
   "cell_type": "markdown",
   "metadata": {},
   "source": [
    "#### Part ii Min Var with mu_req"
   ]
  },
  {
   "cell_type": "code",
   "execution_count": 31,
   "metadata": {},
   "outputs": [
    {
     "name": "stdout",
     "output_type": "stream",
     "text": [
      "Weights:\n",
      " [[ 0.34627547]\n",
      " [ 0.3915681 ]\n",
      " [ 0.17519677]\n",
      " [ 0.20556113]] \n",
      "Cash: [[-0.11860147]] \n",
      "Sigma: [[ 0.12971349]]\n"
     ]
    }
   ],
   "source": [
    "mu_req = 0.04\n",
    "w, wcash, sigma = pq.portopt.min_var_port(cov_mat, mu, r, mu_req)\n",
    "print(\"Weights:\\n\",w,\"\\nCash:\",wcash, \"\\nSigma:\", sigma)"
   ]
  },
  {
   "cell_type": "markdown",
   "metadata": {},
   "source": [
    "#### Part iii Max Ret with sig_req"
   ]
  },
  {
   "cell_type": "code",
   "execution_count": 32,
   "metadata": {},
   "outputs": [
    {
     "name": "stdout",
     "output_type": "stream",
     "text": [
      "Weights:\n",
      " [[ 0.74747146]\n",
      " [ 0.84524027]\n",
      " [ 0.37818037]\n",
      " [ 0.44372498]] \n",
      "Cash: [[-1.41461708]] \n",
      "ExpRet: [[ 0.07765461]]\n"
     ]
    }
   ],
   "source": [
    "sig_req = 0.28\n",
    "w, wcash, mu_exp = pq.portopt.max_ret_port(cov_mat, mu, r, sig_req)\n",
    "print(\"Weights:\\n\",w,\"\\nCash:\",wcash, \"\\nExpRet:\", mu_exp)"
   ]
  },
  {
   "cell_type": "code",
   "execution_count": null,
   "metadata": {
    "collapsed": true
   },
   "outputs": [],
   "source": []
  }
 ],
 "metadata": {
  "kernelspec": {
   "display_name": "Python 3",
   "language": "python",
   "name": "python3"
  },
  "language_info": {
   "codemirror_mode": {
    "name": "ipython",
    "version": 3
   },
   "file_extension": ".py",
   "mimetype": "text/x-python",
   "name": "python",
   "nbconvert_exporter": "python",
   "pygments_lexer": "ipython3",
   "version": "3.6.3"
  }
 },
 "nbformat": 4,
 "nbformat_minor": 2
}
