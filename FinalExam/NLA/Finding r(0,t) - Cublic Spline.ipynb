{
 "cells": [
  {
   "cell_type": "markdown",
   "metadata": {},
   "source": [
    "![question](img/spring17q1.png)"
   ]
  },
  {
   "cell_type": "code",
   "execution_count": 1,
   "metadata": {
    "collapsed": true
   },
   "outputs": [],
   "source": [
    "import numpy as np\n",
    "import pandas as pd\n",
    "import pyquantlib as pq\n",
    "from IPython.display import display\n",
    "import matplotlib.pyplot as plt\n",
    "%matplotlib inline\n",
    "from importlib import reload"
   ]
  },
  {
   "cell_type": "code",
   "execution_count": 24,
   "metadata": {
    "collapsed": true
   },
   "outputs": [],
   "source": [
    "# question given:\n",
    "t_list = np.array([5.0, 12.0, 18.0, 23.0, 27.0]) / 12.0\n",
    "df_list = np.array([0.9933, 0.9787, 0.9595, 0.9430, 0.9365])\n",
    "on_r = 0.02"
   ]
  },
  {
   "cell_type": "markdown",
   "metadata": {},
   "source": [
    "#### Part i"
   ]
  },
  {
   "cell_type": "code",
   "execution_count": 25,
   "metadata": {},
   "outputs": [
    {
     "data": {
      "text/plain": [
       "array([ 0.01613411,  0.02153012,  0.02756198,  0.03062035,  0.02915811])"
      ]
     },
     "execution_count": 25,
     "metadata": {},
     "output_type": "execute_result"
    }
   ],
   "source": [
    "r_list = pq.bonds.zeros_from_df(t_list, df_list)\n",
    "r_list"
   ]
  },
  {
   "cell_type": "markdown",
   "metadata": {},
   "source": [
    "#### Part ii"
   ]
  },
  {
   "cell_type": "code",
   "execution_count": 26,
   "metadata": {},
   "outputs": [
    {
     "name": "stdout",
     "output_type": "stream",
     "text": [
      "[ 0.          0.41666667  1.          1.5         1.91666667  2.25      ] \n",
      " [ 0.02        0.01613411  0.02153012  0.02756198  0.03062035  0.02915811]\n"
     ]
    }
   ],
   "source": [
    "# need to add the overnight rate to the lists\n",
    "t_list_to_solve = np.append(0, t_list)\n",
    "r_list_to_solve = np.append(on_r, r_list)\n",
    "print(t_list_to_solve,\"\\n\",r_list_to_solve)"
   ]
  },
  {
   "cell_type": "code",
   "execution_count": 27,
   "metadata": {},
   "outputs": [
    {
     "data": {
      "image/png": "[encoded data removed]",
      "text/plain": [
       "<matplotlib.figure.Figure at 0x1a15f9a908>"
      ]
     },
     "metadata": {},
     "output_type": "display_data"
    }
   ],
   "source": [
    "plt.scatter(t_list_to_solve, r_list_to_solve)\n",
    "plt.show()"
   ]
  },
  {
   "cell_type": "code",
   "execution_count": 28,
   "metadata": {
    "scrolled": true
   },
   "outputs": [],
   "source": [
    "a, b, c, d, M, z = pq.interpolate.efficient_cub_spline(t_list_to_solve, r_list_to_solve)"
   ]
  },
  {
   "cell_type": "code",
   "execution_count": 29,
   "metadata": {},
   "outputs": [
    {
     "data": {
      "text/plain": [
       "array([[ 2.        ,  0.58333333,  0.        ,  0.        ],\n",
       "       [ 0.58333333,  2.16666667,  0.5       ,  0.        ],\n",
       "       [ 0.        ,  0.5       ,  1.83333333,  0.41666667],\n",
       "       [ 0.        ,  0.        ,  0.41666667,  1.5       ]])"
      ]
     },
     "execution_count": 29,
     "metadata": {},
     "output_type": "execute_result"
    }
   ],
   "source": [
    "M"
   ]
  },
  {
   "cell_type": "code",
   "execution_count": 30,
   "metadata": {},
   "outputs": [
    {
     "data": {
      "text/plain": [
       "array([ 0.11117062,  0.01688048, -0.02834175, -0.0703607 ])"
      ]
     },
     "execution_count": 30,
     "metadata": {},
     "output_type": "execute_result"
    }
   ],
   "source": [
    "z"
   ]
  },
  {
   "cell_type": "markdown",
   "metadata": {},
   "source": [
    "#### Part iii"
   ]
  },
  {
   "cell_type": "code",
   "execution_count": 34,
   "metadata": {},
   "outputs": [
    {
     "data": {
      "text/plain": [
       "{0.33333333333333331: 0.016427028153131008,\n",
       " 0.83333333333333337: 0.019269968869165859,\n",
       " 1.3333333333333333: 0.025685482261564797,\n",
       " 1.8333333333333333: 0.030409545672842903}"
      ]
     },
     "execution_count": 34,
     "metadata": {},
     "output_type": "execute_result"
    }
   ],
   "source": [
    "solve_t_list = np.array([4.0, 10.0, 16.0, 22.0]) / 12.0\n",
    "r_sol = {}\n",
    "for t in solve_t_list:\n",
    "    r = pq.interpolate.cubic_spline_func(t, t_list_to_solve, a, b, c, d)\n",
    "    r_sol[t] = r\n",
    "r_sol"
   ]
  },
  {
   "cell_type": "markdown",
   "metadata": {},
   "source": [
    "### Checking Interpolation"
   ]
  },
  {
   "cell_type": "code",
   "execution_count": 44,
   "metadata": {},
   "outputs": [
    {
     "data": {
      "image/png": "[encoded data removed]",
      "text/plain": [
       "<matplotlib.figure.Figure at 0x1a164ad9e8>"
      ]
     },
     "metadata": {},
     "output_type": "display_data"
    }
   ],
   "source": [
    "graph_t_list = np.linspace(0, 22, 1000)\n",
    "graph_sol = []\n",
    "for t in graph_t_list:\n",
    "    r = pq.interpolate.cubic_spline_func(t, t_list_to_solve, a, b, c, d)\n",
    "    graph_sol.append(r)\n",
    "\n",
    "plt.plot(graph_t_list, graph_sol)\n",
    "plt.scatter(t_list_to_solve, r_list_to_solve)\n",
    "\n",
    "plt.show()"
   ]
  },
  {
   "cell_type": "markdown",
   "metadata": {},
   "source": [
    "#### Part iv"
   ]
  },
  {
   "cell_type": "code",
   "execution_count": 46,
   "metadata": {
    "collapsed": true
   },
   "outputs": [],
   "source": [
    "# question given\n",
    "mat_in_m = 22\n",
    "cpn_rate = 0.07\n",
    "freq = 2"
   ]
  },
  {
   "cell_type": "code",
   "execution_count": 49,
   "metadata": {},
   "outputs": [
    {
     "data": {
      "text/html": [
       "<div>\n",
       "<style>\n",
       "    .dataframe thead tr:only-child th {\n",
       "        text-align: right;\n",
       "    }\n",
       "\n",
       "    .dataframe thead th {\n",
       "        text-align: left;\n",
       "    }\n",
       "\n",
       "    .dataframe tbody tr th {\n",
       "        vertical-align: top;\n",
       "    }\n",
       "</style>\n",
       "<table border=\"1\" class=\"dataframe\">\n",
       "  <thead>\n",
       "    <tr style=\"text-align: right;\">\n",
       "      <th></th>\n",
       "      <th>cf</th>\n",
       "    </tr>\n",
       "    <tr>\n",
       "      <th>t</th>\n",
       "      <th></th>\n",
       "    </tr>\n",
       "  </thead>\n",
       "  <tbody>\n",
       "    <tr>\n",
       "      <th>0.333333</th>\n",
       "      <td>3.5</td>\n",
       "    </tr>\n",
       "    <tr>\n",
       "      <th>0.833333</th>\n",
       "      <td>3.5</td>\n",
       "    </tr>\n",
       "    <tr>\n",
       "      <th>1.333333</th>\n",
       "      <td>3.5</td>\n",
       "    </tr>\n",
       "    <tr>\n",
       "      <th>1.833333</th>\n",
       "      <td>103.5</td>\n",
       "    </tr>\n",
       "  </tbody>\n",
       "</table>\n",
       "</div>"
      ],
      "text/plain": [
       "             cf\n",
       "t              \n",
       "0.333333    3.5\n",
       "0.833333    3.5\n",
       "1.333333    3.5\n",
       "1.833333  103.5"
      ]
     },
     "execution_count": 49,
     "metadata": {},
     "output_type": "execute_result"
    }
   ],
   "source": [
    "t_list, cf_list, df = pq.bonds.gen_t_cf_dataframe(mat_in_m, cpn_rate, freq)\n",
    "df"
   ]
  },
  {
   "cell_type": "code",
   "execution_count": 54,
   "metadata": {},
   "outputs": [
    {
     "data": {
      "text/plain": [
       "array([ 0.01642703,  0.01926997,  0.02568548,  0.03040955])"
      ]
     },
     "execution_count": 54,
     "metadata": {},
     "output_type": "execute_result"
    }
   ],
   "source": [
    "r_list = np.array([])\n",
    "for t in t_list:\n",
    "    r = pq.interpolate.cubic_spline_func(t, t_list_to_solve, a, b, c, d)\n",
    "    r_list = np.append(r_list, r)\n",
    "r_list"
   ]
  },
  {
   "cell_type": "code",
   "execution_count": 56,
   "metadata": {},
   "outputs": [
    {
     "data": {
      "text/plain": [
       "array([ 0.99453929,  0.98406994,  0.96633249,  0.94577476])"
      ]
     },
     "execution_count": 56,
     "metadata": {},
     "output_type": "execute_result"
    }
   ],
   "source": [
    "df_list = pq.bonds.df_yld(t_list, r_list)\n",
    "df_list"
   ]
  },
  {
   "cell_type": "code",
   "execution_count": 58,
   "metadata": {},
   "outputs": [
    {
     "data": {
      "text/plain": [
       "108.19498385484783"
      ]
     },
     "execution_count": 58,
     "metadata": {},
     "output_type": "execute_result"
    }
   ],
   "source": [
    "px = cf_list.dot(df_list)\n",
    "px"
   ]
  },
  {
   "cell_type": "markdown",
   "metadata": {},
   "source": [
    "### Checking the bond pricing:"
   ]
  },
  {
   "cell_type": "code",
   "execution_count": 60,
   "metadata": {},
   "outputs": [
    {
     "name": "stdout",
     "output_type": "stream",
     "text": [
      "0.0164270281531 0.0192699688692 0.0256854822616 0.0304095456728\n"
     ]
    }
   ],
   "source": [
    "r1 = pq.interpolate.cubic_spline_func(4/12, t_list_to_solve, a, b, c, d)\n",
    "r2 = pq.interpolate.cubic_spline_func(10/12, t_list_to_solve, a, b, c, d)\n",
    "r3 = pq.interpolate.cubic_spline_func(16/12, t_list_to_solve, a, b, c, d)\n",
    "r4 = pq.interpolate.cubic_spline_func(22/12, t_list_to_solve, a, b, c, d)\n",
    "print(r1, r2, r3, r4)"
   ]
  },
  {
   "cell_type": "code",
   "execution_count": 61,
   "metadata": {},
   "outputs": [
    {
     "name": "stdout",
     "output_type": "stream",
     "text": [
      "0.994539288138 0.984069939832 0.966332491702 0.9457747617\n"
     ]
    }
   ],
   "source": [
    "df1 = np.exp(-r1*4/12)\n",
    "df2 = np.exp(-r2*10/12)\n",
    "df3 = np.exp(-r3*16/12)\n",
    "df4 = np.exp(-r4*22/12)\n",
    "print(df1, df2, df3, df4)"
   ]
  },
  {
   "cell_type": "code",
   "execution_count": 66,
   "metadata": {},
   "outputs": [
    {
     "data": {
      "text/plain": [
       "108.19498385484783"
      ]
     },
     "execution_count": 66,
     "metadata": {},
     "output_type": "execute_result"
    }
   ],
   "source": [
    "df1 * 3.5 + df2 * 3.5 + df3 * 3.5 + df4 * 103.5"
   ]
  },
  {
   "cell_type": "code",
   "execution_count": null,
   "metadata": {
    "collapsed": true
   },
   "outputs": [],
   "source": []
  }
 ],
 "metadata": {
  "kernelspec": {
   "display_name": "Python 3",
   "language": "python",
   "name": "python3"
  },
  "language_info": {
   "codemirror_mode": {
    "name": "ipython",
    "version": 3
   },
   "file_extension": ".py",
   "mimetype": "text/x-python",
   "name": "python",
   "nbconvert_exporter": "python",
   "pygments_lexer": "ipython3",
   "version": "3.6.3"
  }
 },
 "nbformat": 4,
 "nbformat_minor": 2
}
