{
 "cells": [
  {
   "cell_type": "code",
   "execution_count": 1,
   "metadata": {
    "collapsed": true
   },
   "outputs": [],
   "source": [
    "import numpy as np\n",
    "import pyquantlib as pq"
   ]
  },
  {
   "cell_type": "code",
   "execution_count": 2,
   "metadata": {},
   "outputs": [
    {
     "data": {
      "text/plain": [
       "array([[ 0.36,  0.  , -0.1 ,  0.1 ,  0.05, -0.05],\n",
       "       [ 0.  ,  0.64,  0.15,  0.  ,  0.15,  0.  ],\n",
       "       [-0.1 ,  0.15,  0.81, -0.25, -0.2 , -0.05],\n",
       "       [ 0.1 ,  0.  , -0.25,  1.21,  0.25, -0.35],\n",
       "       [ 0.05,  0.15, -0.2 ,  0.25,  1.  ,  0.15],\n",
       "       [-0.05,  0.  , -0.05, -0.35,  0.15,  1.44]])"
      ]
     },
     "execution_count": 2,
     "metadata": {},
     "output_type": "execute_result"
    }
   ],
   "source": [
    "# question input\n",
    "cov_mat = np.array([[0.36, 0.0, -0.10, 0.10, 0.05, -0.05],\n",
    "                   [0.0, 0.64, 0.15, 0.0, 0.15, 0.0],\n",
    "                   [-0.1, 0.15, 0.81, -0.25, -0.2, -0.05],\n",
    "                   [0.1, 0.0, -0.25, 1.21, 0.25, -0.35],\n",
    "                   [0.05, 0.15, -0.2, 0.25, 1, 0.15],\n",
    "                   [-0.05, 0.0, -0.05, -0.35, 0.15, 1.44]])\n",
    "cov_mat"
   ]
  },
  {
   "cell_type": "markdown",
   "metadata": {},
   "source": [
    "### Check"
   ]
  },
  {
   "cell_type": "code",
   "execution_count": 12,
   "metadata": {},
   "outputs": [
    {
     "data": {
      "text/plain": [
       "array([[ 1.66666667,  0.        ,  0.        ,  0.        ,  0.        ,\n",
       "         0.        ],\n",
       "       [ 0.        ,  1.25      ,  0.        ,  0.        ,  0.        ,\n",
       "         0.        ],\n",
       "       [ 0.        ,  0.        ,  1.11111111,  0.        ,  0.        ,\n",
       "         0.        ],\n",
       "       [ 0.        ,  0.        ,  0.        ,  0.90909091,  0.        ,\n",
       "         0.        ],\n",
       "       [ 0.        ,  0.        ,  0.        ,  0.        ,  1.        ,\n",
       "         0.        ],\n",
       "       [ 0.        ,  0.        ,  0.        ,  0.        ,  0.        ,\n",
       "         0.83333333]])"
      ]
     },
     "execution_count": 12,
     "metadata": {},
     "output_type": "execute_result"
    }
   ],
   "source": [
    "diag = 1 / np.sqrt(np.diag(cov_mat))\n",
    "D = np.diag(diag)\n",
    "D"
   ]
  },
  {
   "cell_type": "code",
   "execution_count": 13,
   "metadata": {},
   "outputs": [
    {
     "name": "stdout",
     "output_type": "stream",
     "text": [
      "[[ 1.          0.         -0.18518519  0.15151515  0.08333333 -0.06944444]\n",
      " [ 0.          1.          0.20833333  0.          0.1875      0.        ]\n",
      " [-0.18518519  0.20833333  1.         -0.25252525 -0.22222222 -0.0462963 ]\n",
      " [ 0.15151515  0.         -0.25252525  1.          0.22727273 -0.26515152]\n",
      " [ 0.08333333  0.1875     -0.22222222  0.22727273  1.          0.125     ]\n",
      " [-0.06944444  0.         -0.0462963  -0.26515152  0.125       1.        ]]\n"
     ]
    }
   ],
   "source": [
    "print(D.dot(cov_mat).dot(D))"
   ]
  },
  {
   "cell_type": "markdown",
   "metadata": {},
   "source": [
    "#### Extracting corr matrix and variance"
   ]
  },
  {
   "cell_type": "code",
   "execution_count": 4,
   "metadata": {},
   "outputs": [
    {
     "name": "stdout",
     "output_type": "stream",
     "text": [
      "[[ 1.          0.         -0.18518519  0.15151515  0.08333333 -0.06944444]\n",
      " [ 0.          1.          0.20833333  0.          0.1875      0.        ]\n",
      " [-0.18518519  0.20833333  1.         -0.25252525 -0.22222222 -0.0462963 ]\n",
      " [ 0.15151515  0.         -0.25252525  1.          0.22727273 -0.26515152]\n",
      " [ 0.08333333  0.1875     -0.22222222  0.22727273  1.          0.125     ]\n",
      " [-0.06944444  0.         -0.0462963  -0.26515152  0.125       1.        ]]\n"
     ]
    }
   ],
   "source": [
    "corr_mat, var_list = pq.covariance.extract_var_and_corr(cov_mat)\n",
    "print(corr_mat)\n",
    "#print(var_list)"
   ]
  },
  {
   "cell_type": "code",
   "execution_count": 7,
   "metadata": {
    "collapsed": true
   },
   "outputs": [],
   "source": [
    "# check\n",
    "diag = 1 / np.sqrt(np.diag(cov_mat))"
   ]
  },
  {
   "cell_type": "code",
   "execution_count": 9,
   "metadata": {},
   "outputs": [
    {
     "data": {
      "text/plain": [
       "array([[ 1.66666667,  0.        ,  0.        ,  0.        ,  0.        ,\n",
       "         0.        ],\n",
       "       [ 0.        ,  1.25      ,  0.        ,  0.        ,  0.        ,\n",
       "         0.        ],\n",
       "       [ 0.        ,  0.        ,  1.11111111,  0.        ,  0.        ,\n",
       "         0.        ],\n",
       "       [ 0.        ,  0.        ,  0.        ,  0.90909091,  0.        ,\n",
       "         0.        ],\n",
       "       [ 0.        ,  0.        ,  0.        ,  0.        ,  1.        ,\n",
       "         0.        ],\n",
       "       [ 0.        ,  0.        ,  0.        ,  0.        ,  0.        ,\n",
       "         0.83333333]])"
      ]
     },
     "execution_count": 9,
     "metadata": {},
     "output_type": "execute_result"
    }
   ],
   "source": [
    "D = np.diag(diag)\n",
    "D"
   ]
  },
  {
   "cell_type": "code",
   "execution_count": 11,
   "metadata": {},
   "outputs": [
    {
     "name": "stdout",
     "output_type": "stream",
     "text": [
      "[[ 1.          0.         -0.18518519  0.15151515  0.08333333 -0.06944444]\n",
      " [ 0.          1.          0.20833333  0.          0.1875      0.        ]\n",
      " [-0.18518519  0.20833333  1.         -0.25252525 -0.22222222 -0.0462963 ]\n",
      " [ 0.15151515  0.         -0.25252525  1.          0.22727273 -0.26515152]\n",
      " [ 0.08333333  0.1875     -0.22222222  0.22727273  1.          0.125     ]\n",
      " [-0.06944444  0.         -0.0462963  -0.26515152  0.125       1.        ]]\n"
     ]
    }
   ],
   "source": [
    "print(D.dot(cov_mat).dot(D))"
   ]
  },
  {
   "cell_type": "markdown",
   "metadata": {},
   "source": [
    "#### Rebuilding the cov matrix from list of variance"
   ]
  },
  {
   "cell_type": "code",
   "execution_count": 4,
   "metadata": {
    "scrolled": true
   },
   "outputs": [
    {
     "data": {
      "text/plain": [
       "array([[ 0.64,  0.15,  0.  ,  0.15,  0.  ],\n",
       "       [ 0.15,  0.81, -0.25, -0.2 , -0.05],\n",
       "       [ 0.  , -0.25,  1.21,  0.25, -0.35],\n",
       "       [ 0.15, -0.2 ,  0.25,  1.  ,  0.15],\n",
       "       [ 0.  , -0.05, -0.35,  0.15,  1.44]])"
      ]
     },
     "execution_count": 4,
     "metadata": {},
     "output_type": "execute_result"
    }
   ],
   "source": [
    "cov_rec = pq.covariance.calc_cov_mat(corr_mat, var_list)\n",
    "cov_rec"
   ]
  },
  {
   "cell_type": "markdown",
   "metadata": {},
   "source": [
    "#### Rebuilding the cov matrix from list of sd"
   ]
  },
  {
   "cell_type": "code",
   "execution_count": 5,
   "metadata": {},
   "outputs": [
    {
     "data": {
      "text/plain": [
       "array([ 0.8,  0.9,  1.1,  1. ,  1.2])"
      ]
     },
     "execution_count": 5,
     "metadata": {},
     "output_type": "execute_result"
    }
   ],
   "source": [
    "sd_list = np.sqrt(var_list)\n",
    "sd_list"
   ]
  },
  {
   "cell_type": "code",
   "execution_count": 6,
   "metadata": {},
   "outputs": [
    {
     "data": {
      "text/plain": [
       "array([[ 0.64,  0.15,  0.  ,  0.15,  0.  ],\n",
       "       [ 0.15,  0.81, -0.25, -0.2 , -0.05],\n",
       "       [ 0.  , -0.25,  1.21,  0.25, -0.35],\n",
       "       [ 0.15, -0.2 ,  0.25,  1.  ,  0.15],\n",
       "       [ 0.  , -0.05, -0.35,  0.15,  1.44]])"
      ]
     },
     "execution_count": 6,
     "metadata": {},
     "output_type": "execute_result"
    }
   ],
   "source": [
    "cov_rec2 = pq.covariance.calc_cov_mat(corr_mat, sd_list, is_sd=True)\n",
    "cov_rec2"
   ]
  },
  {
   "cell_type": "code",
   "execution_count": null,
   "metadata": {
    "collapsed": true
   },
   "outputs": [],
   "source": []
  }
 ],
 "metadata": {
  "kernelspec": {
   "display_name": "Python 3",
   "language": "python",
   "name": "python3"
  },
  "language_info": {
   "codemirror_mode": {
    "name": "ipython",
    "version": 3
   },
   "file_extension": ".py",
   "mimetype": "text/x-python",
   "name": "python",
   "nbconvert_exporter": "python",
   "pygments_lexer": "ipython3",
   "version": "3.6.3"
  }
 },
 "nbformat": 4,
 "nbformat_minor": 2
}
