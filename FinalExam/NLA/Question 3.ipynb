{
 "cells": [
  {
   "cell_type": "code",
   "execution_count": 26,
   "metadata": {
    "collapsed": true
   },
   "outputs": [],
   "source": [
    "import numpy as np\n",
    "import pandas as pd\n",
    "import pyquantlib as pq\n",
    "from IPython.display import display\n",
    "import matplotlib.pyplot as plt\n",
    "%matplotlib inline\n",
    "from importlib import reload\n",
    "\n",
    "from scipy.linalg import cho_solve"
   ]
  },
  {
   "cell_type": "code",
   "execution_count": 27,
   "metadata": {
    "collapsed": true
   },
   "outputs": [],
   "source": [
    "# question given:\n",
    "JPM = {'JPM': np.array([39.0, 36.8, 36.9, 36.7, 36.6, 35.8, 36.6, 33.7])}\n",
    "GS  = {'GS': np.array([116.3, 105.7, 104.5, 103.2, 102.6, 100.5, 101.2, 93.8])}\n",
    "MS  = {'MS': np.array([17.1, 15.0, 14.6, 14.5, 14.6, 13.8, 13.5, 12.7])}\n",
    "BAC = {'BAC': np.array([8.8, 8.0, 8.2, 8.0, 7.7, 7.4, 7.3, 7.1])}\n",
    "col_order = ['JPM', 'GS', 'MS', 'BAC']"
   ]
  },
  {
   "cell_type": "code",
   "execution_count": 28,
   "metadata": {},
   "outputs": [
    {
     "data": {
      "text/plain": [
       "{'BAC': array([ 8.8,  8. ,  8.2,  8. ,  7.7,  7.4,  7.3,  7.1]),\n",
       " 'GS': array([ 116.3,  105.7,  104.5,  103.2,  102.6,  100.5,  101.2,   93.8]),\n",
       " 'JPM': array([ 39. ,  36.8,  36.9,  36.7,  36.6,  35.8,  36.6,  33.7]),\n",
       " 'MS': array([ 17.1,  15. ,  14.6,  14.5,  14.6,  13.8,  13.5,  12.7])}"
      ]
     },
     "execution_count": 28,
     "metadata": {},
     "output_type": "execute_result"
    }
   ],
   "source": [
    "px_dict = {**JPM, **GS, **MS, **BAC}\n",
    "px_dict"
   ]
  },
  {
   "cell_type": "code",
   "execution_count": 29,
   "metadata": {},
   "outputs": [
    {
     "data": {
      "text/html": [
       "<div>\n",
       "<style>\n",
       "    .dataframe thead tr:only-child th {\n",
       "        text-align: right;\n",
       "    }\n",
       "\n",
       "    .dataframe thead th {\n",
       "        text-align: left;\n",
       "    }\n",
       "\n",
       "    .dataframe tbody tr th {\n",
       "        vertical-align: top;\n",
       "    }\n",
       "</style>\n",
       "<table border=\"1\" class=\"dataframe\">\n",
       "  <thead>\n",
       "    <tr style=\"text-align: right;\">\n",
       "      <th></th>\n",
       "      <th>JPM</th>\n",
       "      <th>GS</th>\n",
       "      <th>MS</th>\n",
       "      <th>BAC</th>\n",
       "    </tr>\n",
       "  </thead>\n",
       "  <tbody>\n",
       "    <tr>\n",
       "      <th>0</th>\n",
       "      <td>39.0</td>\n",
       "      <td>116.3</td>\n",
       "      <td>17.1</td>\n",
       "      <td>8.8</td>\n",
       "    </tr>\n",
       "    <tr>\n",
       "      <th>1</th>\n",
       "      <td>36.8</td>\n",
       "      <td>105.7</td>\n",
       "      <td>15.0</td>\n",
       "      <td>8.0</td>\n",
       "    </tr>\n",
       "    <tr>\n",
       "      <th>2</th>\n",
       "      <td>36.9</td>\n",
       "      <td>104.5</td>\n",
       "      <td>14.6</td>\n",
       "      <td>8.2</td>\n",
       "    </tr>\n",
       "    <tr>\n",
       "      <th>3</th>\n",
       "      <td>36.7</td>\n",
       "      <td>103.2</td>\n",
       "      <td>14.5</td>\n",
       "      <td>8.0</td>\n",
       "    </tr>\n",
       "    <tr>\n",
       "      <th>4</th>\n",
       "      <td>36.6</td>\n",
       "      <td>102.6</td>\n",
       "      <td>14.6</td>\n",
       "      <td>7.7</td>\n",
       "    </tr>\n",
       "    <tr>\n",
       "      <th>5</th>\n",
       "      <td>35.8</td>\n",
       "      <td>100.5</td>\n",
       "      <td>13.8</td>\n",
       "      <td>7.4</td>\n",
       "    </tr>\n",
       "    <tr>\n",
       "      <th>6</th>\n",
       "      <td>36.6</td>\n",
       "      <td>101.2</td>\n",
       "      <td>13.5</td>\n",
       "      <td>7.3</td>\n",
       "    </tr>\n",
       "    <tr>\n",
       "      <th>7</th>\n",
       "      <td>33.7</td>\n",
       "      <td>93.8</td>\n",
       "      <td>12.7</td>\n",
       "      <td>7.1</td>\n",
       "    </tr>\n",
       "  </tbody>\n",
       "</table>\n",
       "</div>"
      ],
      "text/plain": [
       "    JPM     GS    MS  BAC\n",
       "0  39.0  116.3  17.1  8.8\n",
       "1  36.8  105.7  15.0  8.0\n",
       "2  36.9  104.5  14.6  8.2\n",
       "3  36.7  103.2  14.5  8.0\n",
       "4  36.6  102.6  14.6  7.7\n",
       "5  35.8  100.5  13.8  7.4\n",
       "6  36.6  101.2  13.5  7.3\n",
       "7  33.7   93.8  12.7  7.1"
      ]
     },
     "execution_count": 29,
     "metadata": {},
     "output_type": "execute_result"
    }
   ],
   "source": [
    "df = pd.DataFrame(px_dict)[col_order]\n",
    "df"
   ]
  },
  {
   "cell_type": "markdown",
   "metadata": {},
   "source": [
    "#### Part i - If Log returns:"
   ]
  },
  {
   "cell_type": "code",
   "execution_count": null,
   "metadata": {},
   "outputs": [],
   "source": [
    "df_log = (np.log(df) - np.log(df.shift(1)))[1:]\n",
    "df_log"
   ]
  },
  {
   "cell_type": "markdown",
   "metadata": {},
   "source": [
    "#### Part i - Percentage returns"
   ]
  },
  {
   "cell_type": "code",
   "execution_count": 30,
   "metadata": {},
   "outputs": [
    {
     "data": {
      "text/html": [
       "<div>\n",
       "<style>\n",
       "    .dataframe thead tr:only-child th {\n",
       "        text-align: right;\n",
       "    }\n",
       "\n",
       "    .dataframe thead th {\n",
       "        text-align: left;\n",
       "    }\n",
       "\n",
       "    .dataframe tbody tr th {\n",
       "        vertical-align: top;\n",
       "    }\n",
       "</style>\n",
       "<table border=\"1\" class=\"dataframe\">\n",
       "  <thead>\n",
       "    <tr style=\"text-align: right;\">\n",
       "      <th></th>\n",
       "      <th>JPM</th>\n",
       "      <th>GS</th>\n",
       "      <th>MS</th>\n",
       "      <th>BAC</th>\n",
       "    </tr>\n",
       "  </thead>\n",
       "  <tbody>\n",
       "    <tr>\n",
       "      <th>1</th>\n",
       "      <td>-0.056410</td>\n",
       "      <td>-0.091144</td>\n",
       "      <td>-0.122807</td>\n",
       "      <td>-0.090909</td>\n",
       "    </tr>\n",
       "    <tr>\n",
       "      <th>2</th>\n",
       "      <td>0.002717</td>\n",
       "      <td>-0.011353</td>\n",
       "      <td>-0.026667</td>\n",
       "      <td>0.025000</td>\n",
       "    </tr>\n",
       "    <tr>\n",
       "      <th>3</th>\n",
       "      <td>-0.005420</td>\n",
       "      <td>-0.012440</td>\n",
       "      <td>-0.006849</td>\n",
       "      <td>-0.024390</td>\n",
       "    </tr>\n",
       "    <tr>\n",
       "      <th>4</th>\n",
       "      <td>-0.002725</td>\n",
       "      <td>-0.005814</td>\n",
       "      <td>0.006897</td>\n",
       "      <td>-0.037500</td>\n",
       "    </tr>\n",
       "    <tr>\n",
       "      <th>5</th>\n",
       "      <td>-0.021858</td>\n",
       "      <td>-0.020468</td>\n",
       "      <td>-0.054795</td>\n",
       "      <td>-0.038961</td>\n",
       "    </tr>\n",
       "    <tr>\n",
       "      <th>6</th>\n",
       "      <td>0.022346</td>\n",
       "      <td>0.006965</td>\n",
       "      <td>-0.021739</td>\n",
       "      <td>-0.013514</td>\n",
       "    </tr>\n",
       "    <tr>\n",
       "      <th>7</th>\n",
       "      <td>-0.079235</td>\n",
       "      <td>-0.073123</td>\n",
       "      <td>-0.059259</td>\n",
       "      <td>-0.027397</td>\n",
       "    </tr>\n",
       "  </tbody>\n",
       "</table>\n",
       "</div>"
      ],
      "text/plain": [
       "        JPM        GS        MS       BAC\n",
       "1 -0.056410 -0.091144 -0.122807 -0.090909\n",
       "2  0.002717 -0.011353 -0.026667  0.025000\n",
       "3 -0.005420 -0.012440 -0.006849 -0.024390\n",
       "4 -0.002725 -0.005814  0.006897 -0.037500\n",
       "5 -0.021858 -0.020468 -0.054795 -0.038961\n",
       "6  0.022346  0.006965 -0.021739 -0.013514\n",
       "7 -0.079235 -0.073123 -0.059259 -0.027397"
      ]
     },
     "execution_count": 30,
     "metadata": {},
     "output_type": "execute_result"
    }
   ],
   "source": [
    "df_pct = df.pct_change()[1:]\n",
    "df_pct"
   ]
  },
  {
   "cell_type": "markdown",
   "metadata": {},
   "source": [
    "#### Part ii - sample covariance matrix"
   ]
  },
  {
   "cell_type": "code",
   "execution_count": 31,
   "metadata": {},
   "outputs": [
    {
     "data": {
      "text/html": [
       "<div>\n",
       "<style>\n",
       "    .dataframe thead tr:only-child th {\n",
       "        text-align: right;\n",
       "    }\n",
       "\n",
       "    .dataframe thead th {\n",
       "        text-align: left;\n",
       "    }\n",
       "\n",
       "    .dataframe tbody tr th {\n",
       "        vertical-align: top;\n",
       "    }\n",
       "</style>\n",
       "<table border=\"1\" class=\"dataframe\">\n",
       "  <thead>\n",
       "    <tr style=\"text-align: right;\">\n",
       "      <th></th>\n",
       "      <th>JPM</th>\n",
       "      <th>GS</th>\n",
       "      <th>MS</th>\n",
       "      <th>BAC</th>\n",
       "    </tr>\n",
       "  </thead>\n",
       "  <tbody>\n",
       "    <tr>\n",
       "      <th>1</th>\n",
       "      <td>-0.036327</td>\n",
       "      <td>-0.061518</td>\n",
       "      <td>-0.082061</td>\n",
       "      <td>-0.061242</td>\n",
       "    </tr>\n",
       "    <tr>\n",
       "      <th>2</th>\n",
       "      <td>0.022801</td>\n",
       "      <td>0.018272</td>\n",
       "      <td>0.014079</td>\n",
       "      <td>0.054667</td>\n",
       "    </tr>\n",
       "    <tr>\n",
       "      <th>3</th>\n",
       "      <td>0.014663</td>\n",
       "      <td>0.017185</td>\n",
       "      <td>0.033896</td>\n",
       "      <td>0.005277</td>\n",
       "    </tr>\n",
       "    <tr>\n",
       "      <th>4</th>\n",
       "      <td>0.017359</td>\n",
       "      <td>0.023811</td>\n",
       "      <td>0.047642</td>\n",
       "      <td>-0.007833</td>\n",
       "    </tr>\n",
       "    <tr>\n",
       "      <th>5</th>\n",
       "      <td>-0.001774</td>\n",
       "      <td>0.009157</td>\n",
       "      <td>-0.014049</td>\n",
       "      <td>-0.009294</td>\n",
       "    </tr>\n",
       "    <tr>\n",
       "      <th>6</th>\n",
       "      <td>0.042430</td>\n",
       "      <td>0.036590</td>\n",
       "      <td>0.019006</td>\n",
       "      <td>0.016154</td>\n",
       "    </tr>\n",
       "    <tr>\n",
       "      <th>7</th>\n",
       "      <td>-0.059152</td>\n",
       "      <td>-0.043497</td>\n",
       "      <td>-0.018514</td>\n",
       "      <td>0.002270</td>\n",
       "    </tr>\n",
       "  </tbody>\n",
       "</table>\n",
       "</div>"
      ],
      "text/plain": [
       "        JPM        GS        MS       BAC\n",
       "1 -0.036327 -0.061518 -0.082061 -0.061242\n",
       "2  0.022801  0.018272  0.014079  0.054667\n",
       "3  0.014663  0.017185  0.033896  0.005277\n",
       "4  0.017359  0.023811  0.047642 -0.007833\n",
       "5 -0.001774  0.009157 -0.014049 -0.009294\n",
       "6  0.042430  0.036590  0.019006  0.016154\n",
       "7 -0.059152 -0.043497 -0.018514  0.002270"
      ]
     },
     "execution_count": 31,
     "metadata": {},
     "output_type": "execute_result"
    }
   ],
   "source": [
    "t_bar = df_pct - df_pct.mean()\n",
    "t_bar"
   ]
  },
  {
   "cell_type": "code",
   "execution_count": 32,
   "metadata": {},
   "outputs": [
    {
     "data": {
      "text/html": [
       "<div>\n",
       "<style>\n",
       "    .dataframe thead tr:only-child th {\n",
       "        text-align: right;\n",
       "    }\n",
       "\n",
       "    .dataframe thead th {\n",
       "        text-align: left;\n",
       "    }\n",
       "\n",
       "    .dataframe tbody tr th {\n",
       "        vertical-align: top;\n",
       "    }\n",
       "</style>\n",
       "<table border=\"1\" class=\"dataframe\">\n",
       "  <thead>\n",
       "    <tr style=\"text-align: right;\">\n",
       "      <th></th>\n",
       "      <th>JPM</th>\n",
       "      <th>GS</th>\n",
       "      <th>MS</th>\n",
       "      <th>BAC</th>\n",
       "    </tr>\n",
       "  </thead>\n",
       "  <tbody>\n",
       "    <tr>\n",
       "      <th>JPM</th>\n",
       "      <td>0.001276</td>\n",
       "      <td>0.001238</td>\n",
       "      <td>0.001092</td>\n",
       "      <td>0.000663</td>\n",
       "    </tr>\n",
       "    <tr>\n",
       "      <th>GS</th>\n",
       "      <td>0.001238</td>\n",
       "      <td>0.001383</td>\n",
       "      <td>0.001399</td>\n",
       "      <td>0.000846</td>\n",
       "    </tr>\n",
       "    <tr>\n",
       "      <th>MS</th>\n",
       "      <td>0.001092</td>\n",
       "      <td>0.001399</td>\n",
       "      <td>0.001875</td>\n",
       "      <td>0.000999</td>\n",
       "    </tr>\n",
       "    <tr>\n",
       "      <th>BAC</th>\n",
       "      <td>0.000663</td>\n",
       "      <td>0.000846</td>\n",
       "      <td>0.000999</td>\n",
       "      <td>0.001197</td>\n",
       "    </tr>\n",
       "  </tbody>\n",
       "</table>\n",
       "</div>"
      ],
      "text/plain": [
       "          JPM        GS        MS       BAC\n",
       "JPM  0.001276  0.001238  0.001092  0.000663\n",
       "GS   0.001238  0.001383  0.001399  0.000846\n",
       "MS   0.001092  0.001399  0.001875  0.000999\n",
       "BAC  0.000663  0.000846  0.000999  0.001197"
      ]
     },
     "execution_count": 32,
     "metadata": {},
     "output_type": "execute_result"
    }
   ],
   "source": [
    "cov_mat = (1 / (len(t_bar) - 1)) * t_bar.transpose().dot(t_bar)\n",
    "cov_mat"
   ]
  },
  {
   "cell_type": "code",
   "execution_count": 33,
   "metadata": {},
   "outputs": [
    {
     "data": {
      "text/plain": [
       "array([[ 0.00127637,  0.00123765,  0.00109209,  0.00066337],\n",
       "       [ 0.00123765,  0.00138257,  0.00139909,  0.0008463 ],\n",
       "       [ 0.00109209,  0.00139909,  0.0018754 ,  0.00099942],\n",
       "       [ 0.00066337,  0.0008463 ,  0.00099942,  0.00119679]])"
      ]
     },
     "execution_count": 33,
     "metadata": {},
     "output_type": "execute_result"
    }
   ],
   "source": [
    "# Check\n",
    "np.cov(df_pct.transpose())"
   ]
  },
  {
   "cell_type": "markdown",
   "metadata": {},
   "source": [
    "#### part ii - Correlation Matrix"
   ]
  },
  {
   "cell_type": "code",
   "execution_count": 9,
   "metadata": {},
   "outputs": [
    {
     "data": {
      "text/plain": [
       "array([[ 27.99061481,   0.        ,   0.        ,   0.        ],\n",
       "       [  0.        ,  26.89406287,   0.        ,   0.        ],\n",
       "       [  0.        ,   0.        ,  23.09154883,   0.        ],\n",
       "       [  0.        ,   0.        ,   0.        ,  28.90620011]])"
      ]
     },
     "execution_count": 9,
     "metadata": {},
     "output_type": "execute_result"
    }
   ],
   "source": [
    "D_inv = np.diag(1 / np.sqrt(np.diag(cov_mat)))\n",
    "D_inv"
   ]
  },
  {
   "cell_type": "code",
   "execution_count": 10,
   "metadata": {},
   "outputs": [
    {
     "data": {
      "text/plain": [
       "array([[ 1.        ,  0.93168228,  0.70587094,  0.53673298],\n",
       "       [ 0.93168228,  1.        ,  0.86887333,  0.65791811],\n",
       "       [ 0.70587094,  0.86887333,  1.        ,  0.66710157],\n",
       "       [ 0.53673298,  0.65791811,  0.66710157,  1.        ]])"
      ]
     },
     "execution_count": 10,
     "metadata": {},
     "output_type": "execute_result"
    }
   ],
   "source": [
    "corr_mat = D_inv.dot(cov_mat).dot(D_inv)\n",
    "corr_mat"
   ]
  },
  {
   "cell_type": "code",
   "execution_count": 11,
   "metadata": {},
   "outputs": [
    {
     "data": {
      "text/plain": [
       "array([[ 1.        ,  0.93168228,  0.70587094,  0.53673298],\n",
       "       [ 0.93168228,  1.        ,  0.86887333,  0.65791811],\n",
       "       [ 0.70587094,  0.86887333,  1.        ,  0.66710157],\n",
       "       [ 0.53673298,  0.65791811,  0.66710157,  1.        ]])"
      ]
     },
     "execution_count": 11,
     "metadata": {},
     "output_type": "execute_result"
    }
   ],
   "source": [
    "# check\n",
    "np.corrcoef(df_pct.as_matrix().transpose())"
   ]
  },
  {
   "cell_type": "markdown",
   "metadata": {},
   "source": [
    "#### Part iii Linear Regression"
   ]
  },
  {
   "cell_type": "code",
   "execution_count": 13,
   "metadata": {},
   "outputs": [
    {
     "data": {
      "text/html": [
       "<div>\n",
       "<style>\n",
       "    .dataframe thead tr:only-child th {\n",
       "        text-align: right;\n",
       "    }\n",
       "\n",
       "    .dataframe thead th {\n",
       "        text-align: left;\n",
       "    }\n",
       "\n",
       "    .dataframe tbody tr th {\n",
       "        vertical-align: top;\n",
       "    }\n",
       "</style>\n",
       "<table border=\"1\" class=\"dataframe\">\n",
       "  <thead>\n",
       "    <tr style=\"text-align: right;\">\n",
       "      <th></th>\n",
       "      <th>JPM</th>\n",
       "      <th>GS</th>\n",
       "      <th>MS</th>\n",
       "      <th>BAC</th>\n",
       "    </tr>\n",
       "  </thead>\n",
       "  <tbody>\n",
       "    <tr>\n",
       "      <th>1</th>\n",
       "      <td>-0.056410</td>\n",
       "      <td>-0.091144</td>\n",
       "      <td>-0.122807</td>\n",
       "      <td>-0.090909</td>\n",
       "    </tr>\n",
       "    <tr>\n",
       "      <th>2</th>\n",
       "      <td>0.002717</td>\n",
       "      <td>-0.011353</td>\n",
       "      <td>-0.026667</td>\n",
       "      <td>0.025000</td>\n",
       "    </tr>\n",
       "    <tr>\n",
       "      <th>3</th>\n",
       "      <td>-0.005420</td>\n",
       "      <td>-0.012440</td>\n",
       "      <td>-0.006849</td>\n",
       "      <td>-0.024390</td>\n",
       "    </tr>\n",
       "    <tr>\n",
       "      <th>4</th>\n",
       "      <td>-0.002725</td>\n",
       "      <td>-0.005814</td>\n",
       "      <td>0.006897</td>\n",
       "      <td>-0.037500</td>\n",
       "    </tr>\n",
       "    <tr>\n",
       "      <th>5</th>\n",
       "      <td>-0.021858</td>\n",
       "      <td>-0.020468</td>\n",
       "      <td>-0.054795</td>\n",
       "      <td>-0.038961</td>\n",
       "    </tr>\n",
       "    <tr>\n",
       "      <th>6</th>\n",
       "      <td>0.022346</td>\n",
       "      <td>0.006965</td>\n",
       "      <td>-0.021739</td>\n",
       "      <td>-0.013514</td>\n",
       "    </tr>\n",
       "    <tr>\n",
       "      <th>7</th>\n",
       "      <td>-0.079235</td>\n",
       "      <td>-0.073123</td>\n",
       "      <td>-0.059259</td>\n",
       "      <td>-0.027397</td>\n",
       "    </tr>\n",
       "  </tbody>\n",
       "</table>\n",
       "</div>"
      ],
      "text/plain": [
       "        JPM        GS        MS       BAC\n",
       "1 -0.056410 -0.091144 -0.122807 -0.090909\n",
       "2  0.002717 -0.011353 -0.026667  0.025000\n",
       "3 -0.005420 -0.012440 -0.006849 -0.024390\n",
       "4 -0.002725 -0.005814  0.006897 -0.037500\n",
       "5 -0.021858 -0.020468 -0.054795 -0.038961\n",
       "6  0.022346  0.006965 -0.021739 -0.013514\n",
       "7 -0.079235 -0.073123 -0.059259 -0.027397"
      ]
     },
     "execution_count": 13,
     "metadata": {},
     "output_type": "execute_result"
    }
   ],
   "source": [
    "df_pct"
   ]
  },
  {
   "cell_type": "code",
   "execution_count": 20,
   "metadata": {},
   "outputs": [
    {
     "data": {
      "text/plain": [
       "array([[-0.05641026],\n",
       "       [ 0.00271739],\n",
       "       [-0.00542005],\n",
       "       [-0.0027248 ],\n",
       "       [-0.02185792],\n",
       "       [ 0.02234637],\n",
       "       [-0.07923497]])"
      ]
     },
     "execution_count": 20,
     "metadata": {},
     "output_type": "execute_result"
    }
   ],
   "source": [
    "jpm_ts = df_pct['JPM'].values.reshape(-1, 1)\n",
    "jpm_ts"
   ]
  },
  {
   "cell_type": "code",
   "execution_count": 21,
   "metadata": {},
   "outputs": [
    {
     "data": {
      "text/plain": [
       "array([[-0.09114359, -0.12280702, -0.09090909,  1.        ],\n",
       "       [-0.01135289, -0.02666667,  0.025     ,  1.        ],\n",
       "       [-0.01244019, -0.00684932, -0.02439024,  1.        ],\n",
       "       [-0.00581395,  0.00689655, -0.0375    ,  1.        ],\n",
       "       [-0.02046784, -0.05479452, -0.03896104,  1.        ],\n",
       "       [ 0.00696517, -0.02173913, -0.01351351,  1.        ],\n",
       "       [-0.07312253, -0.05925926, -0.02739726,  1.        ]])"
      ]
     },
     "execution_count": 21,
     "metadata": {},
     "output_type": "execute_result"
    }
   ],
   "source": [
    "ones = np.array(len(jpm_ts) * [1])\n",
    "gs_ts = df_pct['GS'].values\n",
    "ms_ts = df_pct['MS'].values\n",
    "bac_ts = df_pct['BAC'].values\n",
    "A = np.column_stack([gs_ts, ms_ts, bac_ts, ones])\n",
    "A"
   ]
  },
  {
   "cell_type": "code",
   "execution_count": 22,
   "metadata": {
    "collapsed": true
   },
   "outputs": [],
   "source": [
    "AtA = A.transpose().dot(A)\n",
    "Aty = A.transpose().dot(jpm_ts)"
   ]
  },
  {
   "cell_type": "code",
   "execution_count": 23,
   "metadata": {
    "scrolled": true
   },
   "outputs": [
    {
     "data": {
      "text/plain": [
       "array([[ 1.26903478],\n",
       "       [-0.32715898],\n",
       "       [-0.06989255],\n",
       "       [ 0.00210802]])"
      ]
     },
     "execution_count": 23,
     "metadata": {},
     "output_type": "execute_result"
    }
   ],
   "source": [
    "# Cholesky decomp and solver:\n",
    "Ut = np.linalg.cholesky(AtA)\n",
    "x = cho_solve((Ut, True), Aty)\n",
    "x"
   ]
  },
  {
   "cell_type": "code",
   "execution_count": 25,
   "metadata": {},
   "outputs": [
    {
     "data": {
      "text/plain": [
       "array([[ 1.26903478],\n",
       "       [-0.32715898],\n",
       "       [-0.06989255],\n",
       "       [ 0.00210802]])"
      ]
     },
     "execution_count": 25,
     "metadata": {},
     "output_type": "execute_result"
    }
   ],
   "source": [
    "# checking regression\n",
    "from sklearn import linear_model as lm\n",
    "m = lm.LinearRegression(fit_intercept=False)\n",
    "m.fit(A, jpm_ts)\n",
    "m.coef_.reshape(-1, 1)"
   ]
  },
  {
   "cell_type": "code",
   "execution_count": null,
   "metadata": {
    "collapsed": true
   },
   "outputs": [],
   "source": []
  },
  {
   "cell_type": "code",
   "execution_count": null,
   "metadata": {
    "collapsed": true
   },
   "outputs": [],
   "source": []
  }
 ],
 "metadata": {
  "kernelspec": {
   "display_name": "Python 3",
   "language": "python",
   "name": "python3"
  },
  "language_info": {
   "codemirror_mode": {
    "name": "ipython",
    "version": 3
   },
   "file_extension": ".py",
   "mimetype": "text/x-python",
   "name": "python",
   "nbconvert_exporter": "python",
   "pygments_lexer": "ipython3",
   "version": "3.6.3"
  }
 },
 "nbformat": 4,
 "nbformat_minor": 2
}
