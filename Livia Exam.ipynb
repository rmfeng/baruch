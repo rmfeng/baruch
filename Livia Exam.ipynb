{
 "cells": [
  {
   "cell_type": "code",
   "execution_count": 4,
   "metadata": {},
   "outputs": [],
   "source": [
    "import numpy as np\n",
    "import matplotlib.pyplot as plt\n",
    "%matplotlib inline"
   ]
  },
  {
   "cell_type": "markdown",
   "metadata": {},
   "source": [
    "# First please answer the following questions"
   ]
  },
  {
   "cell_type": "code",
   "execution_count": 92,
   "metadata": {},
   "outputs": [],
   "source": [
    "# what do you think your p is? pr(get 1 question right)\n",
    "p = 0.65\n",
    "\n",
    "# how many total questions?\n",
    "n = 120\n",
    "\n",
    "# how many questions will you have time to do?\n",
    "j = 120\n",
    "\n",
    "# what is the pass grade?\n",
    "ps = 0.65"
   ]
  },
  {
   "cell_type": "markdown",
   "metadata": {},
   "source": [
    "## Let's get some factors"
   ]
  },
  {
   "cell_type": "code",
   "execution_count": 93,
   "metadata": {},
   "outputs": [
    {
     "name": "stdout",
     "output_type": "stream",
     "text": [
      "0.7000000000000001\n"
     ]
    }
   ],
   "source": [
    "# did you drink coffee?\n",
    "coffee = True\n",
    "\n",
    "# did you sleep well?\n",
    "sleep = True\n",
    "\n",
    "# did you have Netflix-and-Chill?\n",
    "nfac = True\n",
    "\n",
    "# what are the impacts?\n",
    "coffee_co = 0.01\n",
    "sleep_co = 0.03\n",
    "nfac_co = 0.01\n",
    "\n",
    "# adjust p\n",
    "if coffee:\n",
    "    p += coffee_co\n",
    "if sleep:\n",
    "    p += sleep_co\n",
    "if nfac:\n",
    "    p += nfac_co\n",
    "    \n",
    "if p > 1:\n",
    "    p = 1.0\n",
    "\n",
    "print(p)"
   ]
  },
  {
   "cell_type": "markdown",
   "metadata": {},
   "source": [
    "## Okay thanks, good luck!"
   ]
  },
  {
   "cell_type": "markdown",
   "metadata": {},
   "source": [
    "![goodluck](goodluck.png)"
   ]
  },
  {
   "cell_type": "code",
   "execution_count": 94,
   "metadata": {},
   "outputs": [],
   "source": [
    "# running simulation ..\n",
    "p_guess = 1/3\n",
    "num_sim = 10000\n",
    "\n",
    "num_passed = 0\n",
    "distro = []\n",
    "for k in range(0, num_sim):\n",
    "    sim_do = np.random.uniform(0, 1, n)\n",
    "    num_right = 0\n",
    "    for i in range(0, j):\n",
    "        if sim_do[i] < p:\n",
    "            num_right += 1\n",
    "    for i in range(j, n):\n",
    "        if sim_do[i] < p_guess:\n",
    "            num_right += 1\n",
    "    final_grade = num_right / n\n",
    "    if final_grade > ps:\n",
    "        num_passed += 1\n",
    "    distro.append(final_grade)"
   ]
  },
  {
   "cell_type": "code",
   "execution_count": 95,
   "metadata": {},
   "outputs": [
    {
     "name": "stdout",
     "output_type": "stream",
     "text": [
      "Your probability of passing is: 0.8618\n",
      "Here is the distribution!!!\n"
     ]
    },
    {
     "data": {
      "image/png": "[encoded data removed]",
      "text/plain": [
       "<matplotlib.figure.Figure at 0x11a6254e0>"
      ]
     },
     "metadata": {},
     "output_type": "display_data"
    }
   ],
   "source": [
    "print(\"Your probability of passing is: %s\" % (num_passed/num_sim))\n",
    "print(\"Here is the distribution!!!\")\n",
    "plt.hist(distro, bins = 100)\n",
    "plt.show()"
   ]
  },
  {
   "cell_type": "code",
   "execution_count": 96,
   "metadata": {},
   "outputs": [
    {
     "name": "stdout",
     "output_type": "stream",
     "text": [
      "Good Luck, I love you!\n"
     ]
    }
   ],
   "source": [
    "print(\"Good Luck, I love you!\")"
   ]
  },
  {
   "cell_type": "code",
   "execution_count": null,
   "metadata": {},
   "outputs": [],
   "source": [
    "`"
   ]
  }
 ],
 "metadata": {
  "kernelspec": {
   "display_name": "Python 3",
   "language": "python",
   "name": "python3"
  },
  "language_info": {
   "codemirror_mode": {
    "name": "ipython",
    "version": 3
   },
   "file_extension": ".py",
   "mimetype": "text/x-python",
   "name": "python",
   "nbconvert_exporter": "python",
   "pygments_lexer": "ipython3",
   "version": "3.6.4"
  }
 },
 "nbformat": 4,
 "nbformat_minor": 2
}
