{
 "cells": [
  {
   "cell_type": "code",
   "execution_count": 1,
   "metadata": {
    "collapsed": true
   },
   "outputs": [],
   "source": [
    "import numpy as np"
   ]
  },
  {
   "cell_type": "code",
   "execution_count": 2,
   "metadata": {
    "collapsed": true
   },
   "outputs": [],
   "source": [
    "DEFAULT_THRESH = 10**-12"
   ]
  },
  {
   "cell_type": "code",
   "execution_count": 3,
   "metadata": {
    "collapsed": true
   },
   "outputs": [],
   "source": [
    "def f_1(x):\n",
    "    return np.exp(-(x**2)/2)\n",
    "\n",
    "def i_simpson(a,b,n,fofx):\n",
    "    h = (b-a)/n\n",
    "    i_simp = fofx(a)/6 + fofx(b)/6\n",
    "    for i in range(1,n):\n",
    "        i_simp += fofx(a+i*h)/3\n",
    "    for i in range(1,n+1):\n",
    "        i_simp += 2*fofx(a+(i-0.5)*h)/3\n",
    "    return h*i_simp\n",
    "\n",
    "def norm_cdf(x, n):\n",
    "    if x > 0:\n",
    "        return 0.5 + (1 / np.sqrt(2 * np.pi)) * i_simpson(0,x,n,f_1)\n",
    "    elif x < 0:\n",
    "        return 0.5 - (1 / np.sqrt(2 * np.pi)) * i_simpson(x,0,n,f_1)\n",
    "    else:\n",
    "        return 0.5\n",
    "\n",
    "def norm_cdf_thresh(x, thresh):\n",
    "    n_0, n = 4, 8\n",
    "    i_old, i_new = norm_cdf(x, n_0), norm_cdf(x, n)\n",
    "    #print(\"using n = %s, estimated integral = %s\" % (n_0, i_old))\n",
    "    #print(\"using n = %s, estimated integral = %s\" % (n, i_new))\n",
    "    while(np.abs(i_new - i_old) > thresh):\n",
    "        i_old = i_new\n",
    "        n = 2 * n\n",
    "        i_new = norm_cdf(x, n)\n",
    "        #print(\"using n = %s, estimated integral = %s\" % (n, i_new))\n",
    "    return i_new\n",
    "\n",
    "def norm_cdf_def_thresh(x):\n",
    "    return norm_cdf_thresh(x, DEFAULT_THRESH)\n",
    "\n",
    "def norm_cdf_approx(x):\n",
    "    z = np.abs(x)\n",
    "    y = 1 / (1 + 0.2316419 * z)\n",
    "    a1, a2, a3, a4, a5 = 0.319381530, -0.356563782, 1.781477937, -1.821255978, 1.330274429\n",
    "    m = 1 - np.exp((-x**2)/2)*(a1*y + a2*y**2 + a3*y**3 + a4*y**4 + a5*y**5) / np.sqrt(2*np.pi)\n",
    "    if x > 0:\n",
    "        return m\n",
    "    else:\n",
    "        return 1-m"
   ]
  },
  {
   "cell_type": "code",
   "execution_count": 4,
   "metadata": {
    "collapsed": true
   },
   "outputs": [],
   "source": [
    "def bs_price(T,isCall,S,K,vol,r,q,n_cdf):\n",
    "    d1 = (np.log(S / K) + (r - q + (vol ** 2)/2) * T) / (vol * np.sqrt(T))\n",
    "    d2 = d1 - (vol * np.sqrt(T))\n",
    "\n",
    "    if isCall:\n",
    "        #call\n",
    "        return S * np.exp(-q * T) * n_cdf(d1) - K * np.exp(-r * T) * n_cdf(d2)\n",
    "    else:\n",
    "        #put\n",
    "        return K * np.exp(-r * T) * n_cdf(-d2) - S * np.exp(-q * T) * n_cdf(-d1)"
   ]
  },
  {
   "cell_type": "code",
   "execution_count": 5,
   "metadata": {
    "collapsed": true
   },
   "outputs": [],
   "source": [
    "def bs_delta(T,isCall,S,K,vol,r,q,n_cdf):\n",
    "    d1 = (np.log(S / K) + (r - q + (vol ** 2)/2) * T) / (vol * np.sqrt(T))\n",
    "    if isCall:\n",
    "        return n_cdf(d1)\n",
    "    else:\n",
    "        return -n_cdf(-d1)"
   ]
  },
  {
   "cell_type": "code",
   "execution_count": 6,
   "metadata": {
    "collapsed": true
   },
   "outputs": [],
   "source": [
    "# start here\n",
    "put_pos = 1000\n",
    "S = 25\n",
    "K = 30\n",
    "T = 0.25\n",
    "vol = 0.3\n",
    "isCall = False\n",
    "r = 0.02\n",
    "q = 0\n",
    "\n",
    "stock_pos = 400\n",
    "cash_pos = 10000"
   ]
  },
  {
   "cell_type": "code",
   "execution_count": 7,
   "metadata": {
    "collapsed": true
   },
   "outputs": [],
   "source": [
    "put_price = bs_price(T,isCall,S,K,vol,r,q,norm_cdf_def_thresh)\n",
    "put_delta = bs_delta(T,isCall,S,K,vol,r,q,norm_cdf_def_thresh)"
   ]
  },
  {
   "cell_type": "code",
   "execution_count": 8,
   "metadata": {},
   "outputs": [
    {
     "name": "stdout",
     "output_type": "stream",
     "text": [
      "5.08836140106 -0.86588410042\n"
     ]
    }
   ],
   "source": [
    "print(put_price, put_delta)"
   ]
  },
  {
   "cell_type": "markdown",
   "metadata": {},
   "source": [
    "### Part i)"
   ]
  },
  {
   "cell_type": "code",
   "execution_count": 9,
   "metadata": {},
   "outputs": [
    {
     "name": "stdout",
     "output_type": "stream",
     "text": [
      "Value of the portfolio is:\n",
      "25088.3614011\n"
     ]
    }
   ],
   "source": [
    "port_val = put_pos * put_price + stock_pos * S + cash_pos\n",
    "print(\"Value of the portfolio is:\")\n",
    "print(port_val)"
   ]
  },
  {
   "cell_type": "markdown",
   "metadata": {},
   "source": [
    "### Part ii)"
   ]
  },
  {
   "cell_type": "code",
   "execution_count": 10,
   "metadata": {},
   "outputs": [
    {
     "name": "stdout",
     "output_type": "stream",
     "text": [
      "delta of the puts=-21647.1025105, stock long MV=10000\n",
      "net delta of the portfolio: -11647.1025105\n"
     ]
    }
   ],
   "source": [
    "dollar_delta = put_pos * put_delta * S\n",
    "dollar_long = stock_pos * S\n",
    "net_delta = dollar_delta + dollar_long\n",
    "print(\"delta of the puts=%s, stock long MV=%s\" % (dollar_delta, dollar_long))\n",
    "print(\"net delta of the portfolio:\",net_delta)"
   ]
  },
  {
   "cell_type": "code",
   "execution_count": 11,
   "metadata": {},
   "outputs": [
    {
     "name": "stdout",
     "output_type": "stream",
     "text": [
      "need to buy 465.88410042 more stock\n"
     ]
    }
   ],
   "source": [
    "stock_to_buy = -net_delta / S\n",
    "print(\"need to buy %s more stock\" % stock_to_buy)"
   ]
  },
  {
   "cell_type": "code",
   "execution_count": 12,
   "metadata": {},
   "outputs": [
    {
     "name": "stdout",
     "output_type": "stream",
     "text": [
      "stock pos=865.88410042, stock mv=21647.1025105, cash_pos=-1647.10251051\n"
     ]
    }
   ],
   "source": [
    "stock_pos = 400\n",
    "stock_pos += stock_to_buy\n",
    "cash_pos -= stock_to_buy * S\n",
    "print(\"stock pos=%s, stock mv=%s, cash_pos=%s\" % (stock_pos, stock_pos*S, cash_pos))"
   ]
  },
  {
   "cell_type": "code",
   "execution_count": 13,
   "metadata": {},
   "outputs": [
    {
     "name": "stdout",
     "output_type": "stream",
     "text": [
      "hedged delta of the portfolio: 0.0\n"
     ]
    }
   ],
   "source": [
    "dollar_delta = put_pos * put_delta * S\n",
    "dollar_long = stock_pos * S\n",
    "net_delta = dollar_delta + dollar_long\n",
    "print(\"hedged delta of the portfolio:\", net_delta)"
   ]
  },
  {
   "cell_type": "markdown",
   "metadata": {},
   "source": [
    "### Part iii)"
   ]
  },
  {
   "cell_type": "code",
   "execution_count": 14,
   "metadata": {},
   "outputs": [
    {
     "name": "stdout",
     "output_type": "stream",
     "text": [
      "At the Beginning:\n",
      "Options Pos=1000, Stock Pos=865.88410042, Cash=-1647.10251051\n",
      "\n",
      "Calculating for after 1 weeks passed, price of stock=30\n",
      "T=0.23076923076923078\n",
      "put price=1.6511607267, put delta=-0.45855162178\n",
      "cash at this time is:-1647.73613331\n",
      "Portfolio Value is: 25979.947606\n",
      "Before Hedging positions are:\n",
      "Options Pos=1000, Stock Pos=865.88410042, Cash=-1647.73613331\n",
      "net delta of the portfolio is now:  12219.9743592\n",
      "old stock pos=865.88410042\n",
      "Trade is: -407.33247864 stock\n",
      "new stock pos=458.55162178\n",
      "Portfolio Value is: 25979.947606\n",
      "After Hedging, positions are:\n",
      "Options Pos=1000, Stock Pos=458.55162178, Cash=10572.2382259\n",
      "Portfolio Delta=1.81898940355e-12\n",
      "\n",
      "Calculating for after 2 weeks passed, price of stock=26\n",
      "T=0.21153846153846154\n",
      "put price=4.1893333374, put delta=-0.825739334597\n",
      "cash at this time is:10576.3052534\n",
      "Portfolio Value is: 26687.9807571\n",
      "Before Hedging positions are:\n",
      "Options Pos=1000, Stock Pos=458.55162178, Cash=10576.3052534\n",
      "net delta of the portfolio is now:  -9546.88053324\n",
      "old stock pos=458.55162178\n",
      "Trade is: 367.187712817 stock\n",
      "new stock pos=825.739334597\n",
      "Portfolio Value is: 26687.9807571\n",
      "After Hedging, positions are:\n",
      "Options Pos=1000, Stock Pos=825.739334597, Cash=1029.42472018\n",
      "Portfolio Delta=0.0\n",
      "\n",
      "Calculating for after 3 weeks passed, price of stock=22\n",
      "T=0.1923076923076923\n",
      "put price=7.89618207178, put delta=-0.988167524347\n",
      "cash at this time is:1029.82072892\n",
      "Portfolio Value is: 27092.2681618\n",
      "Before Hedging positions are:\n",
      "Options Pos=1000, Stock Pos=825.739334597, Cash=1029.82072892\n",
      "net delta of the portfolio is now:  -3573.4201745\n",
      "old stock pos=825.739334597\n",
      "Trade is: 162.42818975 stock\n",
      "new stock pos=988.167524347\n",
      "Portfolio Value is: 27092.2681618\n",
      "After Hedging, positions are:\n",
      "Options Pos=1000, Stock Pos=988.167524347, Cash=-2543.59944558\n",
      "Portfolio Delta=0.0\n",
      "\n",
      "Calculating for after 4 weeks passed, price of stock=27\n",
      "T=0.17307692307692307\n",
      "put price=3.30988437522, put delta=-0.774588925912\n",
      "cash at this time is:-2544.57794122\n",
      "Portfolio Value is: 27445.8295914\n",
      "Before Hedging positions are:\n",
      "Options Pos=1000, Stock Pos=988.167524347, Cash=-2544.57794122\n",
      "net delta of the portfolio is now:  5766.62215776\n",
      "old stock pos=988.167524347\n",
      "Trade is: -213.578598436 stock\n",
      "new stock pos=774.588925912\n",
      "Portfolio Value is: 27445.8295914\n",
      "After Hedging, positions are:\n",
      "Options Pos=1000, Stock Pos=774.588925912, Cash=3222.04421654\n",
      "Portfolio Delta=0.0\n"
     ]
    }
   ],
   "source": [
    "S_list = [30, 26, 22, 27]\n",
    "cur_net_delta = 0\n",
    "\n",
    "print(\"At the Beginning:\")\n",
    "print(\"Options Pos=%s, Stock Pos=%s, Cash=%s\" % (put_pos, stock_pos, cash_pos))\n",
    "\n",
    "weeks_passed = 1\n",
    "for S in S_list:\n",
    "    print('\\nCalculating for after %s weeks passed, price of stock=%s' % (weeks_passed, S))\n",
    "    T = 0.25 - weeks_passed / 52\n",
    "    print(\"T=%s\" % T)\n",
    "    \n",
    "    # calculating the put pricing\n",
    "    put_price = bs_price(T,isCall,S,K,vol,r,q,norm_cdf_def_thresh)\n",
    "    put_delta = bs_delta(T,isCall,S,K,vol,r,q,norm_cdf_def_thresh)\n",
    "    print(\"put price=%s, put delta=%s\" % (put_price, put_delta))\n",
    "    \n",
    "    # calculating the cash price\n",
    "    cash_pos = cash_pos * np.exp(r*(1/52))\n",
    "    print(\"cash at this time is:%s\" % cash_pos)\n",
    "    \n",
    "    port_val = put_pos * put_price + stock_pos * S + cash_pos\n",
    "    print(\"Portfolio Value is:\", port_val)\n",
    "    print(\"Before Hedging positions are:\")\n",
    "    print(\"Options Pos=%s, Stock Pos=%s, Cash=%s\" % (put_pos, stock_pos, cash_pos))\n",
    "    \n",
    "    cur_net_delta = put_pos * put_delta * S + stock_pos * S\n",
    "    print(\"net delta of the portfolio is now: \", cur_net_delta)\n",
    "    \n",
    "    print(\"old stock pos=%s\" % stock_pos)\n",
    "    stocks_to_trade = -cur_net_delta / S\n",
    "    stock_pos += stocks_to_trade \n",
    "    print(\"Trade is: %s stock\" % stocks_to_trade)\n",
    "    print(\"new stock pos=%s\" % stock_pos)\n",
    "    cash_pos += -stocks_to_trade * S\n",
    "    port_val = put_pos * put_price + stock_pos * S + cash_pos\n",
    "    print(\"Portfolio Value is:\", port_val)\n",
    "    print(\"After Hedging, positions are:\")\n",
    "    print(\"Options Pos=%s, Stock Pos=%s, Cash=%s\" % (put_pos, stock_pos, cash_pos))\n",
    "    cur_net_delta = put_pos * put_delta * S + stock_pos * S\n",
    "    print(\"Portfolio Delta=%s\" % (cur_net_delta))\n",
    "    weeks_passed += 1\n",
    "    "
   ]
  },
  {
   "cell_type": "code",
   "execution_count": null,
   "metadata": {
    "collapsed": true
   },
   "outputs": [],
   "source": []
  }
 ],
 "metadata": {
  "kernelspec": {
   "display_name": "Python 3",
   "language": "python",
   "name": "python3"
  },
  "language_info": {
   "codemirror_mode": {
    "name": "ipython",
    "version": 3
   },
   "file_extension": ".py",
   "mimetype": "text/x-python",
   "name": "python",
   "nbconvert_exporter": "python",
   "pygments_lexer": "ipython3",
   "version": "3.6.3"
  }
 },
 "nbformat": 4,
 "nbformat_minor": 2
}
