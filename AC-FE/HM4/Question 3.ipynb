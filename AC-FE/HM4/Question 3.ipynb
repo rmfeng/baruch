{
 "cells": [
  {
   "cell_type": "code",
   "execution_count": 1,
   "metadata": {
    "collapsed": true
   },
   "outputs": [],
   "source": [
    "import numpy as np"
   ]
  },
  {
   "cell_type": "code",
   "execution_count": 2,
   "metadata": {
    "collapsed": true
   },
   "outputs": [],
   "source": [
    "DEFAULT_THRESH = 10**-12"
   ]
  },
  {
   "cell_type": "code",
   "execution_count": 3,
   "metadata": {
    "collapsed": true
   },
   "outputs": [],
   "source": [
    "def f_1(x):\n",
    "    return np.exp(-(x**2)/2)\n",
    "\n",
    "def i_simpson(a,b,n,fofx):\n",
    "    h = (b-a)/n\n",
    "    i_simp = fofx(a)/6 + fofx(b)/6\n",
    "    for i in range(1,n):\n",
    "        i_simp += fofx(a+i*h)/3\n",
    "    for i in range(1,n+1):\n",
    "        i_simp += 2*fofx(a+(i-0.5)*h)/3\n",
    "    return h*i_simp\n",
    "\n",
    "def norm_cdf(x, n):\n",
    "    if x > 0:\n",
    "        return 0.5 + (1 / np.sqrt(2 * np.pi)) * i_simpson(0,x,n,f_1)\n",
    "    elif x < 0:\n",
    "        return 0.5 - (1 / np.sqrt(2 * np.pi)) * i_simpson(x,0,n,f_1)\n",
    "    else:\n",
    "        return 0.5\n",
    "\n",
    "def norm_cdf_thresh(x, thresh):\n",
    "    n_0, n = 4, 8\n",
    "    i_old, i_new = norm_cdf(x, n_0), norm_cdf(x, n)\n",
    "    print(\"using n = %s, estimated integral = %s\" % (n_0, i_old))\n",
    "    print(\"using n = %s, estimated integral = %s\" % (n, i_new))\n",
    "    while(np.abs(i_new - i_old) > thresh):\n",
    "        i_old = i_new\n",
    "        n = 2 * n\n",
    "        i_new = norm_cdf(x, n)\n",
    "        print(\"using n = %s, estimated integral = %s\" % (n, i_new))\n",
    "    return i_new\n",
    "\n",
    "def norm_cdf_def_thresh(x):\n",
    "    return norm_cdf_thresh(x, DEFAULT_THRESH)\n",
    "\n",
    "def norm_cdf_approx(x):\n",
    "    z = np.abs(x)\n",
    "    y = 1 / (1 + 0.2316419 * z)\n",
    "    a1, a2, a3, a4, a5 = 0.319381530, -0.356563782, 1.781477937, -1.821255978, 1.330274429\n",
    "    m = 1 - np.exp((-x**2)/2)*(a1*y + a2*y**2 + a3*y**3 + a4*y**4 + a5*y**5) / np.sqrt(2*np.pi)\n",
    "    if x > 0:\n",
    "        return m\n",
    "    else:\n",
    "        return 1-m"
   ]
  },
  {
   "cell_type": "code",
   "execution_count": 4,
   "metadata": {
    "collapsed": true
   },
   "outputs": [],
   "source": [
    "def bs_price(T,isCall,S,K,vol,r,q,n_cdf):\n",
    "    d1 = (np.log(S / K) + (r - q - (vol ** 2)/2) * T) / (vol * np.sqrt(T))\n",
    "    d2 = d1 - (vol * np.sqrt(T))\n",
    "\n",
    "    if isCall:\n",
    "        #call\n",
    "        return S * np.exp(-q * T) * n_cdf(d1) - K * np.exp(-r * T) * n_cdf(d2)\n",
    "    else:\n",
    "        #put\n",
    "        return K * np.exp(-r * T) * n_cdf(-d2) - S * np.exp(-q * T) * n_cdf(-d1)"
   ]
  },
  {
   "cell_type": "code",
   "execution_count": 5,
   "metadata": {
    "collapsed": true
   },
   "outputs": [],
   "source": [
    "def bs_delta(T,isCall,S,K,vol,r,q,n_cdf):\n",
    "    d1 = (np.log(S / K) + (r - q - (vol ** 2)/2) * T) / (vol * np.sqrt(T))\n",
    "    if isCall:\n",
    "        return n_cdf(d1)\n",
    "    else:\n",
    "        return -n_cdf(-d1)"
   ]
  },
  {
   "cell_type": "code",
   "execution_count": 13,
   "metadata": {},
   "outputs": [
    {
     "name": "stdout",
     "output_type": "stream",
     "text": [
      "-0.495298528968\n"
     ]
    }
   ],
   "source": [
    "from scipy.stats import norm\n",
    "\n",
    "def bs_delta(T,isCall,S,K,vol,r,q,n_cdf):\n",
    "    d1 = (np.log(S / K) + (r - q - (vol ** 2)/2) * T) / (vol * np.sqrt(T))\n",
    "    if isCall:\n",
    "        return n_cdf(d1)\n",
    "    else:\n",
    "        return -n_cdf(-d1)\n",
    "\n",
    "T = 0.5\n",
    "S, K = 100, 100\n",
    "vol = 0.3\n",
    "r = 0.05\n",
    "q = 0\n",
    "isCall = False\n",
    "\n",
    "put_delta = bs_delta(T,isCall,S,K,vol,r,q,norm.cdf)\n",
    "print(put_delta)"
   ]
  },
  {
   "cell_type": "code",
   "execution_count": 7,
   "metadata": {},
   "outputs": [
    {
     "data": {
      "text/plain": [
       "0.011785113019775802"
      ]
     },
     "execution_count": 7,
     "metadata": {},
     "output_type": "execute_result"
    }
   ],
   "source": [
    "d1 = (np.log(S / K) + (r - q - (vol ** 2)/2) * T) / (vol * np.sqrt(T))\n",
    "d1"
   ]
  },
  {
   "cell_type": "code",
   "execution_count": 9,
   "metadata": {
    "collapsed": true
   },
   "outputs": [],
   "source": [
    "from scipy.stats import norm"
   ]
  },
  {
   "cell_type": "code",
   "execution_count": 11,
   "metadata": {},
   "outputs": [
    {
     "data": {
      "text/plain": [
       "0.49529852896770193"
      ]
     },
     "execution_count": 11,
     "metadata": {},
     "output_type": "execute_result"
    }
   ],
   "source": [
    "norm.cdf(-d1)"
   ]
  },
  {
   "cell_type": "code",
   "execution_count": 14,
   "metadata": {},
   "outputs": [
    {
     "data": {
      "text/plain": [
       "-49529.852896770186"
      ]
     },
     "execution_count": 14,
     "metadata": {},
     "output_type": "execute_result"
    }
   ],
   "source": [
    "put_delta * 1000 * 100"
   ]
  },
  {
   "cell_type": "code",
   "execution_count": 16,
   "metadata": {},
   "outputs": [
    {
     "name": "stdout",
     "output_type": "stream",
     "text": [
      "using n = 4, estimated integral = 0.542140261068\n",
      "using n = 8, estimated integral = 0.542140261048\n",
      "using n = 16, estimated integral = 0.542140261047\n",
      "using n = 32, estimated integral = 0.542140261047\n",
      "using n = 4, estimated integral = 0.458004851916\n",
      "using n = 8, estimated integral = 0.458004851935\n",
      "using n = 16, estimated integral = 0.458004851937\n",
      "using n = 32, estimated integral = 0.458004851937\n"
     ]
    }
   ],
   "source": [
    "T = 0.5 - 1/252\n",
    "S, K = 102, 100\n",
    "vol = 0.3\n",
    "r = 0.05\n",
    "q = 0\n",
    "isCall = False\n",
    "\n",
    "price_put_new = bs_price(T,isCall,S,K,vol,r,q,norm_cdf_def_thresh)"
   ]
  },
  {
   "cell_type": "code",
   "execution_count": 18,
   "metadata": {},
   "outputs": [
    {
     "name": "stdout",
     "output_type": "stream",
     "text": [
      "6.97915142647\n",
      "6.16947434028\n"
     ]
    }
   ],
   "source": [
    "print(price_put)\n",
    "print(price_put_new)"
   ]
  },
  {
   "cell_type": "code",
   "execution_count": 20,
   "metadata": {},
   "outputs": [
    {
     "data": {
      "text/plain": [
       "-809.6770861940854"
      ]
     },
     "execution_count": 20,
     "metadata": {},
     "output_type": "execute_result"
    }
   ],
   "source": [
    "(price_put_new - price_put) * 1000"
   ]
  },
  {
   "cell_type": "code",
   "execution_count": 21,
   "metadata": {},
   "outputs": [
    {
     "data": {
      "text/plain": [
       "990.597"
      ]
     },
     "execution_count": 21,
     "metadata": {},
     "output_type": "execute_result"
    }
   ],
   "source": [
    "(102-100)*495.2985"
   ]
  },
  {
   "cell_type": "code",
   "execution_count": 22,
   "metadata": {},
   "outputs": [
    {
     "data": {
      "text/plain": [
       "180.91991380591458"
      ]
     },
     "execution_count": 22,
     "metadata": {},
     "output_type": "execute_result"
    }
   ],
   "source": [
    "(price_put_new - price_put) * 1000 + (102-100)*495.2985"
   ]
  },
  {
   "cell_type": "code",
   "execution_count": null,
   "metadata": {
    "collapsed": true
   },
   "outputs": [],
   "source": []
  }
 ],
 "metadata": {
  "kernelspec": {
   "display_name": "Python 3",
   "language": "python",
   "name": "python3"
  },
  "language_info": {
   "codemirror_mode": {
    "name": "ipython",
    "version": 3
   },
   "file_extension": ".py",
   "mimetype": "text/x-python",
   "name": "python",
   "nbconvert_exporter": "python",
   "pygments_lexer": "ipython3",
   "version": "3.6.3"
  }
 },
 "nbformat": 4,
 "nbformat_minor": 2
}
