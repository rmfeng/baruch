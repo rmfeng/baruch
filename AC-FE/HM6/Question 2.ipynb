{
 "cells": [
  {
   "cell_type": "code",
   "execution_count": 6,
   "metadata": {
    "collapsed": true
   },
   "outputs": [],
   "source": [
    "import numpy as np\n",
    "import pandas as pd\n",
    "lib_path = r'/Users/rmfeng/Documents/jupyter/AC-FE/'\n",
    "import sys\n",
    "sys.path.append(lib_path)\n",
    "\n",
    "import acfe_methods as am"
   ]
  },
  {
   "cell_type": "code",
   "execution_count": 2,
   "metadata": {
    "collapsed": true
   },
   "outputs": [],
   "source": [
    "T = 2 * 12\n",
    "freq = 4\n",
    "cpn_rate = 0.08\n",
    "yld = 0.09"
   ]
  },
  {
   "cell_type": "markdown",
   "metadata": {},
   "source": [
    "### part i)"
   ]
  },
  {
   "cell_type": "code",
   "execution_count": 3,
   "metadata": {},
   "outputs": [
    {
     "name": "stdout",
     "output_type": "stream",
     "text": [
      "Price, Duration, Convexity is:\n",
      "98.0055569586 1.86637437515 3.6347587301\n"
     ]
    }
   ],
   "source": [
    "t_list = am.gen_t_list(T, freq)\n",
    "cf_list = am.gen_cf(t_list, cpn_rate, freq)\n",
    "\n",
    "B, D, C = am.price_bond_w_dur_cvx(t_list, cf_list, yld)\n",
    "print(\"Price, Duration, Convexity is:\")\n",
    "print(B,D,C)"
   ]
  },
  {
   "cell_type": "markdown",
   "metadata": {},
   "source": [
    "### part ii)"
   ]
  },
  {
   "cell_type": "code",
   "execution_count": 5,
   "metadata": {
    "collapsed": true
   },
   "outputs": [],
   "source": [
    "def est_px_o1(px_start, dur, d_y):\n",
    "    return (-dur * d_y) * px_start + px_start\n",
    "\n",
    "def est_px_o2(px_start, dur, cvx, d_y):\n",
    "    return (-dur * d_y + (1/2) * cvx * d_y**2) * px_start + px_start"
   ]
  },
  {
   "cell_type": "code",
   "execution_count": 7,
   "metadata": {
    "collapsed": true
   },
   "outputs": [],
   "source": [
    "d_y_list = [0.001, 0.005, 0.01, 0.02, 0.04]"
   ]
  },
  {
   "cell_type": "code",
   "execution_count": 8,
   "metadata": {
    "collapsed": true
   },
   "outputs": [],
   "source": [
    "res_dict = {}\n",
    "for d_y in d_y_list:\n",
    "    est_1 = est_px_o1(B, D, d_y)\n",
    "    est_2 = est_px_o2(B, D, C, d_y)\n",
    "    B_true = am.price_bond_w_lists(yld + d_y, t_list, cf_list)\n",
    "    res_dict[d_y] = (est_1, est_2, B_true)"
   ]
  },
  {
   "cell_type": "code",
   "execution_count": 16,
   "metadata": {},
   "outputs": [
    {
     "data": {
      "text/html": [
       "<div>\n",
       "<style>\n",
       "    .dataframe thead tr:only-child th {\n",
       "        text-align: right;\n",
       "    }\n",
       "\n",
       "    .dataframe thead th {\n",
       "        text-align: left;\n",
       "    }\n",
       "\n",
       "    .dataframe tbody tr th {\n",
       "        vertical-align: top;\n",
       "    }\n",
       "</style>\n",
       "<table border=\"1\" class=\"dataframe\">\n",
       "  <thead>\n",
       "    <tr style=\"text-align: right;\">\n",
       "      <th></th>\n",
       "      <th>dur_est</th>\n",
       "      <th>cvx_est</th>\n",
       "      <th>shifted_px</th>\n",
       "    </tr>\n",
       "    <tr>\n",
       "      <th>delta y</th>\n",
       "      <th></th>\n",
       "      <th></th>\n",
       "      <th></th>\n",
       "    </tr>\n",
       "  </thead>\n",
       "  <tbody>\n",
       "    <tr>\n",
       "      <th>0.001</th>\n",
       "      <td>97.822642</td>\n",
       "      <td>97.822820</td>\n",
       "      <td>97.822820</td>\n",
       "    </tr>\n",
       "    <tr>\n",
       "      <th>0.005</th>\n",
       "      <td>97.090982</td>\n",
       "      <td>97.095434</td>\n",
       "      <td>97.095420</td>\n",
       "    </tr>\n",
       "    <tr>\n",
       "      <th>0.010</th>\n",
       "      <td>96.176406</td>\n",
       "      <td>96.194218</td>\n",
       "      <td>96.194101</td>\n",
       "    </tr>\n",
       "    <tr>\n",
       "      <th>0.020</th>\n",
       "      <td>94.347256</td>\n",
       "      <td>94.418501</td>\n",
       "      <td>94.417573</td>\n",
       "    </tr>\n",
       "    <tr>\n",
       "      <th>0.040</th>\n",
       "      <td>90.688955</td>\n",
       "      <td>90.973936</td>\n",
       "      <td>90.966583</td>\n",
       "    </tr>\n",
       "  </tbody>\n",
       "</table>\n",
       "</div>"
      ],
      "text/plain": [
       "           dur_est    cvx_est  shifted_px\n",
       "delta y                                  \n",
       "0.001    97.822642  97.822820   97.822820\n",
       "0.005    97.090982  97.095434   97.095420\n",
       "0.010    96.176406  96.194218   96.194101\n",
       "0.020    94.347256  94.418501   94.417573\n",
       "0.040    90.688955  90.973936   90.966583"
      ]
     },
     "execution_count": 16,
     "metadata": {},
     "output_type": "execute_result"
    }
   ],
   "source": [
    "df = pd.DataFrame(res_dict).transpose()\n",
    "df.index.name = 'delta y'\n",
    "df.columns = ['dur_est', 'cvx_est', 'shifted_px']\n",
    "df"
   ]
  },
  {
   "cell_type": "markdown",
   "metadata": {},
   "source": [
    "### part iii)"
   ]
  },
  {
   "cell_type": "code",
   "execution_count": 17,
   "metadata": {},
   "outputs": [
    {
     "data": {
      "text/html": [
       "<div>\n",
       "<style>\n",
       "    .dataframe thead tr:only-child th {\n",
       "        text-align: right;\n",
       "    }\n",
       "\n",
       "    .dataframe thead th {\n",
       "        text-align: left;\n",
       "    }\n",
       "\n",
       "    .dataframe tbody tr th {\n",
       "        vertical-align: top;\n",
       "    }\n",
       "</style>\n",
       "<table border=\"1\" class=\"dataframe\">\n",
       "  <thead>\n",
       "    <tr style=\"text-align: right;\">\n",
       "      <th></th>\n",
       "      <th>dur_est</th>\n",
       "      <th>cvx_est</th>\n",
       "      <th>shifted_px</th>\n",
       "      <th>lin_est_error</th>\n",
       "      <th>cvx_est_error</th>\n",
       "    </tr>\n",
       "    <tr>\n",
       "      <th>delta y</th>\n",
       "      <th></th>\n",
       "      <th></th>\n",
       "      <th></th>\n",
       "      <th></th>\n",
       "      <th></th>\n",
       "    </tr>\n",
       "  </thead>\n",
       "  <tbody>\n",
       "    <tr>\n",
       "      <th>0.001</th>\n",
       "      <td>97.822642</td>\n",
       "      <td>97.822820</td>\n",
       "      <td>97.822820</td>\n",
       "      <td>0.000002</td>\n",
       "      <td>1.197170e-09</td>\n",
       "    </tr>\n",
       "    <tr>\n",
       "      <th>0.005</th>\n",
       "      <td>97.090982</td>\n",
       "      <td>97.095434</td>\n",
       "      <td>97.095420</td>\n",
       "      <td>0.000046</td>\n",
       "      <td>1.504687e-07</td>\n",
       "    </tr>\n",
       "    <tr>\n",
       "      <th>0.010</th>\n",
       "      <td>96.176406</td>\n",
       "      <td>96.194218</td>\n",
       "      <td>96.194101</td>\n",
       "      <td>0.000184</td>\n",
       "      <td>1.212025e-06</td>\n",
       "    </tr>\n",
       "    <tr>\n",
       "      <th>0.020</th>\n",
       "      <td>94.347256</td>\n",
       "      <td>94.418501</td>\n",
       "      <td>94.417573</td>\n",
       "      <td>0.000745</td>\n",
       "      <td>9.829978e-06</td>\n",
       "    </tr>\n",
       "    <tr>\n",
       "      <th>0.040</th>\n",
       "      <td>90.688955</td>\n",
       "      <td>90.973936</td>\n",
       "      <td>90.966583</td>\n",
       "      <td>0.003052</td>\n",
       "      <td>8.082455e-05</td>\n",
       "    </tr>\n",
       "  </tbody>\n",
       "</table>\n",
       "</div>"
      ],
      "text/plain": [
       "           dur_est    cvx_est  shifted_px  lin_est_error  cvx_est_error\n",
       "delta y                                                                \n",
       "0.001    97.822642  97.822820   97.822820       0.000002   1.197170e-09\n",
       "0.005    97.090982  97.095434   97.095420       0.000046   1.504687e-07\n",
       "0.010    96.176406  96.194218   96.194101       0.000184   1.212025e-06\n",
       "0.020    94.347256  94.418501   94.417573       0.000745   9.829978e-06\n",
       "0.040    90.688955  90.973936   90.966583       0.003052   8.082455e-05"
      ]
     },
     "execution_count": 17,
     "metadata": {},
     "output_type": "execute_result"
    }
   ],
   "source": [
    "df['lin_est_error'] = np.abs(df.dur_est - df.shifted_px) / df.shifted_px\n",
    "df['cvx_est_error'] = np.abs(df.cvx_est - df.shifted_px) / df.shifted_px\n",
    "df"
   ]
  },
  {
   "cell_type": "code",
   "execution_count": null,
   "metadata": {
    "collapsed": true
   },
   "outputs": [],
   "source": []
  }
 ],
 "metadata": {
  "kernelspec": {
   "display_name": "Python 3",
   "language": "python",
   "name": "python3"
  },
  "language_info": {
   "codemirror_mode": {
    "name": "ipython",
    "version": 3
   },
   "file_extension": ".py",
   "mimetype": "text/x-python",
   "name": "python",
   "nbconvert_exporter": "python",
   "pygments_lexer": "ipython3",
   "version": "3.6.3"
  }
 },
 "nbformat": 4,
 "nbformat_minor": 2
}
