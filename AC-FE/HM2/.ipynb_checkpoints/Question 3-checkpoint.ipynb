{
 "cells": [
  {
   "cell_type": "code",
   "execution_count": 4,
   "metadata": {
    "collapsed": true
   },
   "outputs": [],
   "source": [
    "import numpy as np\n",
    "from scipy.stats import norm\n",
    "\n",
    "import matplotlib.pyplot as plt\n",
    "%matplotlib inline"
   ]
  },
  {
   "cell_type": "code",
   "execution_count": 5,
   "metadata": {
    "collapsed": true
   },
   "outputs": [],
   "source": [
    "THRESH = 10 ** -12\n",
    "\n",
    "# defining my functions:\n",
    "def f_1(x):\n",
    "    return np.exp(-(x**2)/2)\n",
    "\n",
    "# simpson's rule\n",
    "def i_simpson(a, b, n, fofx):\n",
    "    \"\"\"\n",
    "    a = left end point of integration interval\n",
    "    b = right end point of integration interval\n",
    "    n = number of partitions\n",
    "    fofx = a function of x, a single variable\n",
    "    \"\"\"\n",
    "    h = (b - a) / n\n",
    "    i_cur = fofx(a) / 6 + fofx(b) / 6\n",
    "    for i in range(1, n): # python's range iterator is exclusive of the right point\n",
    "        i_cur += fofx(a + i*h) / 3\n",
    "    for i in range(1, n+1):\n",
    "        i_cur += 2 * fofx(a + (i - 0.5) * h) / 3\n",
    "    return h * i_cur\n",
    "\n",
    "def norm_cdf(x, n):\n",
    "    \"\"\"\n",
    "    x = the norm dist to compute cdf\n",
    "    n = number of partitions\n",
    "    \"\"\"\n",
    "    if x > 0:\n",
    "        return 0.5 + (1 / np.sqrt(2 * np.pi)) * i_simpson(0, x, n, f_1)\n",
    "    elif x < 0:\n",
    "        return 0.5 - (1 / np.sqrt(2 * np.pi)) * i_simpson(x, 0, n, f_1)\n",
    "    else:\n",
    "        return 0.5 # since x = 0\n",
    "    \n",
    "def norm_cdf_thresh(x, thresh):\n",
    "    \"\"\"\n",
    "    x = the norm dist to compute cdf\n",
    "    thresh = required threshold for consecutive intergal estimates\n",
    "    \"\"\"\n",
    "    n_0, n = 4, 8\n",
    "    i_old, i_new = norm_cdf(x, n_0), norm_cdf(x, n)\n",
    "    print(\"using n = %s, estimated integral = %s\" % (n_0, i_old))\n",
    "    print(\"using n = %s, estimated integral = %s\" % (n, i_new))\n",
    "    while (np.abs(i_new - i_old) > thresh):\n",
    "        i_old = i_new\n",
    "        n = 2 * n\n",
    "        i_new = norm_cdf(x, n)\n",
    "        print(\"using n = %s, estimated integral = %s\" % (n, i_new))\n",
    "    return i_new"
   ]
  },
  {
   "cell_type": "code",
   "execution_count": 6,
   "metadata": {},
   "outputs": [
    {
     "name": "stdout",
     "output_type": "stream",
     "text": [
      "\n",
      "Calculating the normal cdf for x = 0.1\n",
      "using n = 4, estimated integral = 0.539827837293\n",
      "using n = 8, estimated integral = 0.539827837278\n",
      "using n = 16, estimated integral = 0.539827837277\n",
      "as a check, scipy.norm.cdf value = 0.539827837277\n",
      "\n",
      "Calculating the normal cdf for x = 0.5\n",
      "using n = 4, estimated integral = 0.691462502398\n",
      "using n = 8, estimated integral = 0.69146246384\n",
      "using n = 16, estimated integral = 0.691462461434\n",
      "using n = 32, estimated integral = 0.691462461284\n",
      "using n = 64, estimated integral = 0.691462461275\n",
      "using n = 128, estimated integral = 0.691462461274\n",
      "as a check, scipy.norm.cdf value = 0.691462461274\n",
      "\n",
      "Calculating the normal cdf for x = 1\n",
      "using n = 4, estimated integral = 0.841345406139\n",
      "using n = 8, estimated integral = 0.84134478715\n",
      "using n = 16, estimated integral = 0.841344748633\n",
      "using n = 32, estimated integral = 0.841344746229\n",
      "using n = 64, estimated integral = 0.841344746079\n",
      "using n = 128, estimated integral = 0.841344746069\n",
      "using n = 256, estimated integral = 0.841344746069\n",
      "as a check, scipy.norm.cdf value = 0.841344746069\n"
     ]
    }
   ],
   "source": [
    "x_list = [0.1, 0.5, 1]\n",
    "\n",
    "for x in x_list:\n",
    "    print(\"\\nCalculating the normal cdf for x = %s\" % x)\n",
    "    norm_cdf_thresh(x, THRESH)\n",
    "    print(\"as a check, scipy.norm.cdf value = %s\" % norm.cdf(x))"
   ]
  }
 ],
 "metadata": {
  "kernelspec": {
   "display_name": "Python 3",
   "language": "python",
   "name": "python3"
  },
  "language_info": {
   "codemirror_mode": {
    "name": "ipython",
    "version": 3
   },
   "file_extension": ".py",
   "mimetype": "text/x-python",
   "name": "python",
   "nbconvert_exporter": "python",
   "pygments_lexer": "ipython3",
   "version": "3.6.3"
  }
 },
 "nbformat": 4,
 "nbformat_minor": 2
}
