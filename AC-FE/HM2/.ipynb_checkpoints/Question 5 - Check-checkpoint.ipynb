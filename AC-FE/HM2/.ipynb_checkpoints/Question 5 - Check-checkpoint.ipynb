{
 "cells": [
  {
   "cell_type": "code",
   "execution_count": 1,
   "metadata": {
    "collapsed": true
   },
   "outputs": [],
   "source": [
    "import numpy as np"
   ]
  },
  {
   "cell_type": "code",
   "execution_count": 27,
   "metadata": {
    "collapsed": true
   },
   "outputs": [],
   "source": [
    "# simpson's rule\n",
    "def i_simpson(a, b, n, fofx):\n",
    "    \"\"\"\n",
    "    a = left end point of integration interval\n",
    "    b = right end point of integration interval\n",
    "    n = number of partitions\n",
    "    fofx = a function of x, a single variable\n",
    "    \"\"\"\n",
    "    h = (b - a) / n\n",
    "    i_cur = fofx(a) / 6 + fofx(b) / 6\n",
    "    for i in range(1, n): # python's range iterator is exclusive of the right point\n",
    "        i_cur += fofx(a + i*h) / 3\n",
    "    for i in range(1, n+1):\n",
    "        i_cur += 2 * fofx(a + (i - 0.5) * h) / 3\n",
    "    return h * i_cur\n",
    "\n",
    "def r_inst(t):\n",
    "    return 0.04 + 0.01 * (np.log(1 + t))\n",
    "\n",
    "def r_inst_sub(t):\n",
    "    return np.log(1 + t)\n",
    "\n",
    "def r_c(t):\n",
    "    inner = ((t + 1) * np.log(1 + t)) - t\n",
    "    mid = 0.04 * t + 0.01 * inner\n",
    "    return mid / t\n",
    "\n",
    "def r_c_check(t, n):\n",
    "    integral = i_simpson(0, t, n, r_inst)\n",
    "    return integral / t\n",
    "\n",
    "def r_c_check2(t, n):\n",
    "    integral = i_simpson(0, t, n, r_inst_sub)\n",
    "    return (0.04 * t + 0.01 * integral) / t"
   ]
  },
  {
   "cell_type": "code",
   "execution_count": 28,
   "metadata": {},
   "outputs": [
    {
     "name": "stdout",
     "output_type": "stream",
     "text": [
      "[ 0.5  1.   1.5  2. ]\n",
      "[ 0.04216395  0.04386294  0.04527151  0.04647918]\n",
      "[ 0.04216395  0.04386294  0.04527151  0.04647918]\n",
      "[ 0.04216395  0.04386294  0.04527151  0.04647918]\n"
     ]
    }
   ],
   "source": [
    "t_list = np.arange(0, 2.5, 0.5)[1:]\n",
    "n = 1000\n",
    "print(t_list)\n",
    "\n",
    "print(r_c(t_list))\n",
    "print(r_c_check(t_list, n))\n",
    "print(r_c_check2(t_list, n))"
   ]
  },
  {
   "cell_type": "code",
   "execution_count": null,
   "metadata": {
    "collapsed": true
   },
   "outputs": [],
   "source": []
  }
 ],
 "metadata": {
  "kernelspec": {
   "display_name": "Python 3",
   "language": "python",
   "name": "python3"
  },
  "language_info": {
   "codemirror_mode": {
    "name": "ipython",
    "version": 3
   },
   "file_extension": ".py",
   "mimetype": "text/x-python",
   "name": "python",
   "nbconvert_exporter": "python",
   "pygments_lexer": "ipython3",
   "version": "3.6.3"
  }
 },
 "nbformat": 4,
 "nbformat_minor": 2
}
