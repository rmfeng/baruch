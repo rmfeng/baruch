{
 "cells": [
  {
   "cell_type": "code",
   "execution_count": 1,
   "metadata": {
    "collapsed": true
   },
   "outputs": [],
   "source": [
    "import numpy as np"
   ]
  },
  {
   "cell_type": "code",
   "execution_count": 2,
   "metadata": {},
   "outputs": [
    {
     "data": {
      "text/plain": [
       "1.0100501670841679"
      ]
     },
     "execution_count": 2,
     "metadata": {},
     "output_type": "execute_result"
    }
   ],
   "source": [
    "np.exp(0.01)"
   ]
  },
  {
   "cell_type": "code",
   "execution_count": 3,
   "metadata": {
    "collapsed": true
   },
   "outputs": [],
   "source": [
    "def compound_rate(r, n, t):\n",
    "    return (1 + r / n) ** (n * t)"
   ]
  },
  {
   "cell_type": "code",
   "execution_count": 4,
   "metadata": {},
   "outputs": [
    {
     "data": {
      "text/plain": [
       "1.0100249999999997"
      ]
     },
     "execution_count": 4,
     "metadata": {},
     "output_type": "execute_result"
    }
   ],
   "source": [
    "compound_rate(0.01, 2, 1)"
   ]
  },
  {
   "cell_type": "code",
   "execution_count": 5,
   "metadata": {
    "collapsed": true
   },
   "outputs": [],
   "source": []
  },
  {
   "cell_type": "code",
   "execution_count": 10,
   "metadata": {},
   "outputs": [
    {
     "name": "stdout",
     "output_type": "stream",
     "text": [
      "[ 1.01        1.01004967  1.01004992  1.01005     1.01005004  1.01005007\n",
      "  1.01005008  1.0100501   1.0100501   1.01005011  1.01005012  1.01005012\n",
      "  1.01005013  1.01005013  1.01005013  1.01005013  1.01005014  1.01005014\n",
      "  1.01005014  1.01005014  1.01005014  1.01005014  1.01005014  1.01005015\n",
      "  1.01005015  1.01005015  1.01005015  1.01005015  1.01005015  1.01005015\n",
      "  1.01005015  1.01005015  1.01005015  1.01005015  1.01005015  1.01005015\n",
      "  1.01005015  1.01005015  1.01005015  1.01005015  1.01005015  1.01005015\n",
      "  1.01005016  1.01005016  1.01005016  1.01005016  1.01005016  1.01005016\n",
      "  1.01005016  1.01005016  1.01005016  1.01005016  1.01005016  1.01005016\n",
      "  1.01005016  1.01005016  1.01005016  1.01005016  1.01005016  1.01005016\n",
      "  1.01005016  1.01005016  1.01005016  1.01005016  1.01005016  1.01005016\n",
      "  1.01005016  1.01005016  1.01005016  1.01005016  1.01005016  1.01005016\n",
      "  1.01005016  1.01005016  1.01005016  1.01005016  1.01005016  1.01005016\n",
      "  1.01005016  1.01005016  1.01005016  1.01005016  1.01005016  1.01005016\n",
      "  1.01005016  1.01005016  1.01005016  1.01005016  1.01005016  1.01005016\n",
      "  1.01005016  1.01005016  1.01005016  1.01005016  1.01005016  1.01005016\n",
      "  1.01005016  1.01005016  1.01005016  1.01005016]\n",
      "1.01005016708\n"
     ]
    }
   ],
   "source": [
    "x_list = np.arange(1 ,10000, 100)\n",
    "print(compound_rate(0.01, x_list, 1))\n",
    "print(np.exp(0.01))"
   ]
  },
  {
   "cell_type": "code",
   "execution_count": 22,
   "metadata": {},
   "outputs": [],
   "source": [
    "def annual_r(t):\n",
    "    return np.exp(0.02 + 0.01*(t / (1 + t ** 2))) - 1\n",
    "\n",
    "def r_cont(t):\n",
    "    return (0.02 + 0.01 * (t / (1 + t ** 2)))\n",
    "\n",
    "def semiannual_r(t):\n",
    "    in_exp = 0.02 + 0.01 * (t / (1 + t **2))\n",
    "    return 2 * (np.exp(in_exp / 2) - 1)"
   ]
  },
  {
   "cell_type": "code",
   "execution_count": 25,
   "metadata": {},
   "outputs": [
    {
     "name": "stdout",
     "output_type": "stream",
     "text": [
      "1.03761320137\n",
      "1.03761320137\n",
      "1.03761320137\n"
     ]
    }
   ],
   "source": [
    "t = 1.5\n",
    "print((1+ annual_r(t)) ** t)\n",
    "print(np.exp(r_cont(t)*t))\n",
    "print((1 + semiannual_r(t) / 2) ** (2 * t))"
   ]
  },
  {
   "cell_type": "code",
   "execution_count": 16,
   "metadata": {},
   "outputs": [
    {
     "data": {
      "text/plain": [
       "0.025"
      ]
     },
     "execution_count": 16,
     "metadata": {},
     "output_type": "execute_result"
    }
   ],
   "source": []
  },
  {
   "cell_type": "code",
   "execution_count": null,
   "metadata": {
    "collapsed": true
   },
   "outputs": [],
   "source": []
  }
 ],
 "metadata": {
  "kernelspec": {
   "display_name": "Python 3",
   "language": "python",
   "name": "python3"
  },
  "language_info": {
   "codemirror_mode": {
    "name": "ipython",
    "version": 3
   },
   "file_extension": ".py",
   "mimetype": "text/x-python",
   "name": "python",
   "nbconvert_exporter": "python",
   "pygments_lexer": "ipython3",
   "version": "3.6.3"
  }
 },
 "nbformat": 4,
 "nbformat_minor": 2
}
