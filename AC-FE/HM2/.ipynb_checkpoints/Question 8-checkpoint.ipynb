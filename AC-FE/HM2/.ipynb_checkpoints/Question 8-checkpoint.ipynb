{
 "cells": [
  {
   "cell_type": "code",
   "execution_count": 3,
   "metadata": {
    "collapsed": true
   },
   "outputs": [],
   "source": [
    "import numpy as np"
   ]
  },
  {
   "cell_type": "code",
   "execution_count": 16,
   "metadata": {
    "collapsed": true
   },
   "outputs": [],
   "source": [
    "def df(r, t):\n",
    "    return np.exp(-r * t)\n",
    "\n",
    "def gen_cf(t_list, cf):\n",
    "    total_len = len(t_list)\n",
    "    cf_list = [cf] * total_len\n",
    "    cf_list[-1] += 100\n",
    "    return cf_list\n",
    "\n",
    "def gen_t_list(mat_in_m, interval_in_m):\n",
    "    cur_t_list = np.arange((mat_in_m % interval_in_m)/12, (mat_in_m + 1)/12, interval_in_m / 12)[0:]\n",
    "    if mat_in_m % interval_in_m == 0:\n",
    "        return cur_t_list[1:]\n",
    "    else:\n",
    "        return cur_t_list\n",
    "    \n",
    "# using book methodology:\n",
    "def price_bond(t_list, cf_list, y):\n",
    "    \"\"\"\n",
    "    T = time to maturity in years\n",
    "    n = number of cfs\n",
    "    t_list = vector of cf dates in years\n",
    "    cf_list = vector of cf amounts in years\n",
    "    y = yield of the bond\n",
    "    \"\"\"\n",
    "    assert(len(t_list) == len(cf_list))\n",
    "    \n",
    "    price, duration, convexity = 0, 0, 0\n",
    "    for i in range(0, len(t_list)):\n",
    "        cur_df = df(y, t_list[i])\n",
    "        price += cf_list[i] * cur_df\n",
    "        duration += t_list[i] * cf_list[i] * cur_df\n",
    "        convexity += (t_list[i] ** 2) * cf_list[i] * cur_df\n",
    "    \n",
    "    return price, duration/price, convexity/price"
   ]
  },
  {
   "cell_type": "code",
   "execution_count": 17,
   "metadata": {},
   "outputs": [
    {
     "name": "stdout",
     "output_type": "stream",
     "text": [
      "[ 0.08333333  0.58333333  1.08333333  1.58333333]\n",
      "[2.0, 2.0, 2.0, 102.0]\n"
     ]
    }
   ],
   "source": [
    "mat_in_m = 19\n",
    "interval_in_m = 6\n",
    "annual_cpn = 4\n",
    "yld = 0.025\n",
    "\n",
    "t_list = gen_t_list(mat_in_m, interval_in_m)\n",
    "print(t_list)\n",
    "\n",
    "cf = annual_cpn * (interval_in_m / 12)\n",
    "cf_list = gen_cf(t_list, cf)\n",
    "print(cf_list)"
   ]
  },
  {
   "cell_type": "code",
   "execution_count": 18,
   "metadata": {},
   "outputs": [
    {
     "name": "stdout",
     "output_type": "stream",
     "text": [
      "price = 103.954807763\n",
      "duration = 1.526211573\n",
      "convexity = 2.39289868201\n"
     ]
    }
   ],
   "source": [
    "px, dur, cx = price_bond(t_list, cf_list, yld)\n",
    "\n",
    "print(\"price = %s\\nduration = %s\\nconvexity = %s\" % (px, dur, cx))"
   ]
  },
  {
   "cell_type": "code",
   "execution_count": null,
   "metadata": {
    "collapsed": true
   },
   "outputs": [],
   "source": []
  }
 ],
 "metadata": {
  "kernelspec": {
   "display_name": "Python 3",
   "language": "python",
   "name": "python3"
  },
  "language_info": {
   "codemirror_mode": {
    "name": "ipython",
    "version": 3
   },
   "file_extension": ".py",
   "mimetype": "text/x-python",
   "name": "python",
   "nbconvert_exporter": "python",
   "pygments_lexer": "ipython3",
   "version": "3.6.3"
  }
 },
 "nbformat": 4,
 "nbformat_minor": 2
}
