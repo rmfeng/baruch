{
 "cells": [
  {
   "cell_type": "code",
   "execution_count": 46,
   "metadata": {
    "collapsed": true
   },
   "outputs": [],
   "source": [
    "import numpy as np\n",
    "\n",
    "def r_inst(t):\n",
    "    return 0.05 / (1 + 2 * np.exp(-1 * (1 + t) ** 2))\n",
    "\n",
    "def gen_cf(t_list, cf):\n",
    "    total_len = len(t_list)\n",
    "    cf_list = [cf] * total_len\n",
    "    cf_list[-1] += 100\n",
    "    return cf_list\n",
    "\n",
    "def gen_t_list(mat_in_m, interval_in_m):\n",
    "    cur_t_list = np.arange((mat_in_m % interval_in_m)/12, (mat_in_m + 1)/12, interval_in_m / 12)[0:]\n",
    "    if mat_in_m % interval_in_m == 0:\n",
    "        return cur_t_list[1:]\n",
    "    else:\n",
    "        return cur_t_list\n",
    "    \n",
    "# simpson's rule\n",
    "def i_simpson(a, b, n, fofx):\n",
    "    \"\"\"\n",
    "    a = left end point of integration interval\n",
    "    b = right end point of integration interval\n",
    "    n = number of partitions\n",
    "    fofx = a function of x, a single variable\n",
    "    \"\"\"\n",
    "    h = (b - a) / n\n",
    "    i_cur = fofx(a) / 6 + fofx(b) / 6\n",
    "    for i in range(1, n): # python's range iterator is exclusive of the right point\n",
    "        i_cur += fofx(a + i*h) / 3\n",
    "    for i in range(1, n+1):\n",
    "        i_cur += 2 * fofx(a + (i - 0.5) * h) / 3\n",
    "    return h * i_cur"
   ]
  },
  {
   "cell_type": "code",
   "execution_count": 47,
   "metadata": {
    "collapsed": true
   },
   "outputs": [],
   "source": [
    "# with thresh\n",
    "def i_simpson_thresh(a, b, thresh, fofx):\n",
    "    \"\"\"\n",
    "    x = the norm dist to compute cdf\n",
    "    thresh = required threshold for consecutive intergal estimates\n",
    "    \"\"\"\n",
    "    n_0, n = 4, 8\n",
    "    i_old, i_new = i_simpson(a, b, n_0, fofx), i_simpson(a, b, n, fofx)\n",
    "    print(\"using n = %s, estimated simpson integral = %s\" % (n_0, i_old))\n",
    "    print(\"using n = %s, estimated simpson integral = %s\" % (n, i_new))\n",
    "    while (np.abs(i_new - i_old) > thresh):\n",
    "        i_old = i_new\n",
    "        n = 2 * n\n",
    "        i_new = i_simpson(a, b, n, fofx)\n",
    "        print(\"using n = %s, estimated integral = %s\" % (n, i_new))\n",
    "    print(\"change fell below the threshold, returning integral: %s\" % i_new)\n",
    "    return i_new\n",
    "\n",
    "def numeric_df_thresh(t, rofx, thresh):\n",
    "    return np.exp(- i_simpson_thresh(0, t, thresh, rofx))"
   ]
  },
  {
   "cell_type": "markdown",
   "metadata": {},
   "source": [
    "#### Part i)"
   ]
  },
  {
   "cell_type": "code",
   "execution_count": 39,
   "metadata": {
    "scrolled": false
   },
   "outputs": [
    {
     "name": "stdout",
     "output_type": "stream",
     "text": [
      "[ 0.5  1.   1.5  2. ]\n",
      "[1e-06, 1e-06, 1e-06, 1e-08]\n",
      "\n",
      "Computing the df for t = 0.5, with threshold = 1e-06\n",
      "using n = 4, estimated simpson integral = 0.0175851596127\n",
      "using n = 8, estimated simpson integral = 0.0175851588279\n",
      "change fell below the threshold, returning integral: 0.0175851588279\n",
      "Solved, df = 0.982568557715\n",
      "\n",
      "Computing the df for t = 1.0, with threshold = 1e-06\n",
      "using n = 4, estimated simpson integral = 0.0402845136355\n",
      "using n = 8, estimated simpson integral = 0.0402843633631\n",
      "change fell below the threshold, returning integral: 0.0402843633631\n",
      "Solved, df = 0.960516264678\n",
      "\n",
      "Computing the df for t = 1.5, with threshold = 1e-06\n",
      "using n = 4, estimated simpson integral = 0.0649141266407\n",
      "using n = 8, estimated simpson integral = 0.0649135771437\n",
      "change fell below the threshold, returning integral: 0.0649135771437\n",
      "Solved, df = 0.937148450924\n",
      "\n",
      "Computing the df for t = 2.0, with threshold = 1e-08\n",
      "using n = 4, estimated simpson integral = 0.0898809791012\n",
      "using n = 8, estimated simpson integral = 0.089879599655\n",
      "using n = 16, estimated integral = 0.0898795103389\n",
      "using n = 32, estimated integral = 0.089879504772\n",
      "change fell below the threshold, returning integral: 0.089879504772\n",
      "Solved, df = 0.914041316253\n",
      "final df list:\n",
      "[ 0.98256856  0.96051626  0.93714845  0.91404132]\n"
     ]
    }
   ],
   "source": [
    "mat_in_m = 24\n",
    "interval_in_m = 6\n",
    "annual_cpn = 5\n",
    "\n",
    "t_list = gen_t_list(mat_in_m, interval_in_m)\n",
    "print(t_list)\n",
    "\n",
    "tol_list = [10 ** -6, 10 ** -6, 10 ** -6, 10 ** -8]\n",
    "print(tol_list)\n",
    "\n",
    "df_list = []\n",
    "for i in range(0,len(t_list)):\n",
    "    print(\"\\nComputing the df for t = %s, with threshold = %s\" % (t_list[i], tol_list[i]))\n",
    "    df = numeric_df_thresh(t_list[i], r_inst, tol_list[i])\n",
    "    df_list.append(df)\n",
    "    print(\"Solved, df = %s\" % df)\n",
    "\n",
    "df_list = np.asarray(df_list)\n",
    "print(\"final df list:\")\n",
    "print(df_list)"
   ]
  },
  {
   "cell_type": "markdown",
   "metadata": {},
   "source": [
    "#### Part ii)"
   ]
  },
  {
   "cell_type": "code",
   "execution_count": 44,
   "metadata": {},
   "outputs": [
    {
     "name": "stdout",
     "output_type": "stream",
     "text": [
      "\n",
      "t_list:\n",
      "[ 0.5  1.   1.5  2. ]\n",
      "<class 'numpy.ndarray'>\n",
      "\n",
      "cf_list:\n",
      "[   2.5    2.5    2.5  102.5]\n",
      "<class 'numpy.ndarray'>\n",
      "\n",
      "df_list:\n",
      "[ 0.98256856  0.96051626  0.93714845  0.91404132]\n",
      "<class 'numpy.ndarray'>\n"
     ]
    }
   ],
   "source": [
    "# let's consolidate what we have:\n",
    "cf_list = np.asarray(gen_cf(t_list, 2.5))\n",
    "\n",
    "print(\"\\nt_list:\")\n",
    "print(t_list)\n",
    "print(type(t_list))\n",
    "\n",
    "print(\"\\ncf_list:\")\n",
    "print(cf_list)\n",
    "print(type(cf_list))\n",
    "\n",
    "print(\"\\ndf_list:\")\n",
    "print(df_list)\n",
    "print(type(df_list))"
   ]
  },
  {
   "cell_type": "code",
   "execution_count": 45,
   "metadata": {},
   "outputs": [
    {
     "name": "stdout",
     "output_type": "stream",
     "text": [
      "100.889818099\n"
     ]
    }
   ],
   "source": [
    "bond_px = np.sum(df_list * cf_list)\n",
    "print(bond_px)"
   ]
  },
  {
   "cell_type": "code",
   "execution_count": null,
   "metadata": {
    "collapsed": true
   },
   "outputs": [],
   "source": []
  }
 ],
 "metadata": {
  "kernelspec": {
   "display_name": "Python 3",
   "language": "python",
   "name": "python3"
  },
  "language_info": {
   "codemirror_mode": {
    "name": "ipython",
    "version": 3
   },
   "file_extension": ".py",
   "mimetype": "text/x-python",
   "name": "python",
   "nbconvert_exporter": "python",
   "pygments_lexer": "ipython3",
   "version": "3.6.3"
  }
 },
 "nbformat": 4,
 "nbformat_minor": 2
}
