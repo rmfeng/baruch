{
 "cells": [
  {
   "cell_type": "code",
   "execution_count": 2,
   "metadata": {
    "collapsed": true
   },
   "outputs": [],
   "source": [
    "import numpy as np"
   ]
  },
  {
   "cell_type": "code",
   "execution_count": 3,
   "metadata": {
    "collapsed": true
   },
   "outputs": [],
   "source": [
    "def r_c(t):\n",
    "    return 0.02 + (t / (200 - t))\n",
    "\n",
    "def df(t):\n",
    "    return np.exp(-r_c(t) * t)\n",
    "\n",
    "def gen_cf(t_list, cf):\n",
    "    total_len = len(t_list)\n",
    "    cf_list = [cf] * total_len\n",
    "    cf_list[-1] += 100\n",
    "    return cf_list\n",
    "\n",
    "def gen_t_list(mat_in_m, interval_in_m):\n",
    "    return np.arange((mat_in_m % interval_in_m)/12, (mat_in_m + 1)/12, interval_in_m / 12)[0:]"
   ]
  },
  {
   "cell_type": "code",
   "execution_count": 4,
   "metadata": {},
   "outputs": [
    {
     "name": "stdout",
     "output_type": "stream",
     "text": [
      "\n",
      " Calculating for cpn pay every 12m\n",
      "t_list in months:\n",
      "[  7.  19.]\n",
      "cpn_list:\n",
      "[4.0, 104.0]\n",
      "df_list:\n",
      "[ 0.98671599  0.95666556]\n",
      "dirty_px = 103.440082368\n",
      "accrue = 1.6666666666666667\n",
      "clean = 101.773415702\n",
      "\n",
      " Calculating for cpn pay every 6m\n",
      "t_list in months:\n",
      "[  1.   7.  13.  19.]\n",
      "cpn_list:\n",
      "[2.0, 2.0, 2.0, 102.0]\n",
      "df_list:\n",
      "[ 0.99830004  0.98671599  0.97280981  0.95666556]\n",
      "dirty_px = 103.495538978\n",
      "accrue = 0.8333333333333334\n",
      "clean = 102.662205645\n",
      "\n",
      " Calculating for cpn pay every 3m\n",
      "t_list in months:\n",
      "[  1.   4.   7.  10.  13.  16.  19.]\n",
      "cpn_list:\n",
      "[1.0, 1.0, 1.0, 1.0, 1.0, 1.0, 101.0]\n",
      "df_list:\n",
      "[ 0.99830004  0.99280287  0.98671599  0.98004831  0.97280981  0.96501155\n",
      "  0.95666556]\n",
      "dirty_px = 102.518910298\n",
      "accrue = 0.16666666666666666\n",
      "clean = 102.352243631\n"
     ]
    }
   ],
   "source": [
    "mat_in_m = 19\n",
    "interval_in_m_list = [12, 6, 3]\n",
    "annual_cpn = 4\n",
    "\n",
    "for interval_in_m in interval_in_m_list:\n",
    "    print(\"\\n Calculating for cpn pay every %sm\" % interval_in_m)\n",
    "    t_list = gen_t_list(mat_in_m, interval_in_m)\n",
    "    print(\"t_list in months:\")\n",
    "    print(t_list * 12)\n",
    "    \n",
    "    each_cpn = annual_cpn * (interval_in_m / 12)\n",
    "    cf_list = gen_cf(t_list, each_cpn)\n",
    "    print(\"cpn_list:\")\n",
    "    print(cf_list)\n",
    "    \n",
    "    df_list = df(t_list)\n",
    "    print(\"df_list:\")\n",
    "    print(df_list)\n",
    "    \n",
    "    dirty = np.sum(df_list * cf_list)\n",
    "    print(\"dirty_px = %s\" % dirty)\n",
    "    \n",
    "    months_accrue = interval_in_m - (mat_in_m % interval_in_m)\n",
    "    accrue =(months_accrue / 12) * each_cpn\n",
    "    print(\"accrue = %s\" % accrue)\n",
    "    clean = dirty - accrue\n",
    "    print(\"clean = %s\" % clean)"
   ]
  },
  {
   "cell_type": "code",
   "execution_count": null,
   "metadata": {
    "collapsed": true
   },
   "outputs": [],
   "source": []
  }
 ],
 "metadata": {
  "kernelspec": {
   "display_name": "Python 3",
   "language": "python",
   "name": "python3"
  },
  "language_info": {
   "codemirror_mode": {
    "name": "ipython",
    "version": 3
   },
   "file_extension": ".py",
   "mimetype": "text/x-python",
   "name": "python",
   "nbconvert_exporter": "python",
   "pygments_lexer": "ipython3",
   "version": "3.6.3"
  }
 },
 "nbformat": 4,
 "nbformat_minor": 2
}
