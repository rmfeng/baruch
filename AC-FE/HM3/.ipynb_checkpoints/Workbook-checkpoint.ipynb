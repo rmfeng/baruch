{
 "cells": [
  {
   "cell_type": "code",
   "execution_count": 11,
   "metadata": {
    "collapsed": true
   },
   "outputs": [],
   "source": [
    "import numpy as np\n",
    "import pandas as pd\n",
    "from numpy import random as rng"
   ]
  },
  {
   "cell_type": "markdown",
   "metadata": {},
   "source": [
    "### Question 1"
   ]
  },
  {
   "cell_type": "code",
   "execution_count": 39,
   "metadata": {},
   "outputs": [],
   "source": [
    "def calc_mean_std(n):\n",
    "    d1, d2 = rng.randint(1,7,n), rng.randint(1,7,n)\n",
    "    df = pd.DataFrame([d1,d2]).transpose()\n",
    "    df['payout'] = 0\n",
    "    for r in df.iterrows():\n",
    "        if(r[1][0] == 6 and r[1][1] == 6):\n",
    "            r[1]['payout'] = 4\n",
    "        elif(r[1][0] == 6 or r[1][1] == 6):\n",
    "            r[1]['payout'] = 2\n",
    "        else:\n",
    "            r[1]['payout'] = -1\n",
    "    return np.average(df.payout), np.std(df.payout)"
   ]
  },
  {
   "cell_type": "code",
   "execution_count": 43,
   "metadata": {},
   "outputs": [
    {
     "name": "stdout",
     "output_type": "stream",
     "text": [
      "10 (1.3, 0.45825756949558405)\n",
      "100 (1.4399999999999999, 0.6053098380168619)\n",
      "1000 (1.357, 0.6719754459799918)\n",
      "10000 (1.3552, 0.6195425409122165)\n",
      "100000 (1.36375, 0.6315820908639398)\n",
      "1000000 (1.3621000000000001, 0.6318699154129268)\n"
     ]
    }
   ],
   "source": [
    "for i in range(1,7):\n",
    "    n = 10 ** i\n",
    "    print(n, calc_mean_std(n))"
   ]
  },
  {
   "cell_type": "markdown",
   "metadata": {},
   "source": [
    "### Question 2"
   ]
  },
  {
   "cell_type": "code",
   "execution_count": null,
   "metadata": {
    "collapsed": true
   },
   "outputs": [],
   "source": []
  }
 ],
 "metadata": {
  "kernelspec": {
   "display_name": "Python 3",
   "language": "python",
   "name": "python3"
  },
  "language_info": {
   "codemirror_mode": {
    "name": "ipython",
    "version": 3
   },
   "file_extension": ".py",
   "mimetype": "text/x-python",
   "name": "python",
   "nbconvert_exporter": "python",
   "pygments_lexer": "ipython3",
   "version": "3.6.3"
  }
 },
 "nbformat": 4,
 "nbformat_minor": 2
}
