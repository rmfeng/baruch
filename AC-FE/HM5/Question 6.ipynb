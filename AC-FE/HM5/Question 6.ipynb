{
 "cells": [
  {
   "cell_type": "code",
   "execution_count": 17,
   "metadata": {
    "collapsed": true
   },
   "outputs": [],
   "source": [
    "import numpy as np\n",
    "lib_path = r'/Users/rmfeng/Documents/jupyter/AC-FE/'\n",
    "import sys\n",
    "sys.path.append(lib_path)\n",
    "\n",
    "import acfe_methods as am"
   ]
  },
  {
   "cell_type": "code",
   "execution_count": 2,
   "metadata": {
    "collapsed": true
   },
   "outputs": [],
   "source": [
    "T_list = [1, 3, 5, 10, 20]\n",
    "S = 40\n",
    "K = 40\n",
    "isCall = True\n",
    "vol = 0.3\n",
    "r = 0.03\n",
    "q = 0.01"
   ]
  },
  {
   "cell_type": "code",
   "execution_count": 15,
   "metadata": {
    "collapsed": true
   },
   "outputs": [],
   "source": [
    "def approx_atm_call_px(T, isCall, S, vol, r, q):\n",
    "    assert isCall\n",
    "    coef = vol * S * np.sqrt(T / (2 * np.pi))\n",
    "    in_bracket = 1 - ((r + q) * T) / 2\n",
    "    extra_term = S * ((r - q) * T) / 2\n",
    "    \n",
    "    return coef * in_bracket + extra_term"
   ]
  },
  {
   "cell_type": "code",
   "execution_count": 16,
   "metadata": {},
   "outputs": [
    {
     "name": "stdout",
     "output_type": "stream",
     "text": [
      "Approximating Call for T = 1\n",
      "Approx. px = 5.09156121752\n",
      "Real px = 5.0776018105\n",
      "Approx. Rel. Error = 0.00274921262954 \n",
      "\n",
      "Approximating Call for T = 3\n",
      "Approx. px = 8.99434801207\n",
      "Real px = 8.90605286505\n",
      "Approx. Rel. Error = 0.00991406051123 \n",
      "\n",
      "Approximating Call for T = 5\n",
      "Approx. px = 11.6342702272\n",
      "Real px = 11.4313492904\n",
      "Approx. Rel. Error = 0.0177512673004 \n",
      "\n",
      "Approximating Call for T = 10\n",
      "Approx. px = 16.1110361057\n",
      "Real px = 15.5306603565\n",
      "Approx. Rel. Error = 0.0373696762309 \n",
      "\n",
      "Approximating Call for T = 20\n",
      "Approx. px = 20.8456936363\n",
      "Real px = 19.5172176127\n",
      "Approx. Rel. Error = 0.068066875617 \n",
      "\n"
     ]
    }
   ],
   "source": [
    "for T in T_list:\n",
    "    print(\"Approximating Call for T =\", T)\n",
    "    approx_px = approx_atm_call_px(T, isCall, S, vol, r, q)\n",
    "    print(\"Approx. px =\", approx_px)\n",
    "    real_px = am.bs_price(T, isCall, S, K, vol, r, q, am.norm_cdf_def_thresh)\n",
    "    print(\"Real px =\", real_px)\n",
    "    approx_error = np.abs(approx_px - real_px) / real_px\n",
    "    print(\"Approx. Rel. Error =\", approx_error, \"\\n\")"
   ]
  },
  {
   "cell_type": "code",
   "execution_count": null,
   "metadata": {
    "collapsed": true
   },
   "outputs": [],
   "source": []
  }
 ],
 "metadata": {
  "kernelspec": {
   "display_name": "Python 3",
   "language": "python",
   "name": "python3"
  },
  "language_info": {
   "codemirror_mode": {
    "name": "ipython",
    "version": 3
   },
   "file_extension": ".py",
   "mimetype": "text/x-python",
   "name": "python",
   "nbconvert_exporter": "python",
   "pygments_lexer": "ipython3",
   "version": "3.6.3"
  }
 },
 "nbformat": 4,
 "nbformat_minor": 2
}
