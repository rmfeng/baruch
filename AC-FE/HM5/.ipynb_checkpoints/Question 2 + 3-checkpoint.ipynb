{
 "cells": [
  {
   "cell_type": "markdown",
   "metadata": {},
   "source": [
    "## ** For the library acfe_methods, please see appendix A"
   ]
  },
  {
   "cell_type": "code",
   "execution_count": 1,
   "metadata": {
    "collapsed": true,
    "scrolled": true
   },
   "outputs": [],
   "source": [
    "import numpy as np\n",
    "lib_path = r'/Users/rmfeng/Documents/jupyter/AC-FE/'\n",
    "import sys\n",
    "sys.path.append(lib_path)\n",
    "\n",
    "import acfe_methods as am"
   ]
  },
  {
   "cell_type": "markdown",
   "metadata": {},
   "source": [
    "### Question 2"
   ]
  },
  {
   "cell_type": "code",
   "execution_count": 3,
   "metadata": {},
   "outputs": [
    {
     "name": "stdout",
     "output_type": "stream",
     "text": [
      "initial guessed vol price = 3.04463533279\n",
      "Not close enough, doing next iteration ...\n",
      "current vega = 5.92155550081\n",
      "new vol = 0.408024955147\n",
      "new price = 2.50065090146 \n",
      "\n",
      "Not close enough, doing next iteration ...\n",
      "current vega = 5.9364345142\n",
      "new vol = 0.407915309961\n",
      "new price = 2.50000162437 \n",
      "\n",
      "Not close enough, doing next iteration ...\n",
      "current vega = 5.93645015241\n",
      "new vol = 0.407915036335\n",
      "new price = 2.50000000406 \n",
      "\n",
      "Solved Implied Vol=0.407915036335\n"
     ]
    }
   ],
   "source": [
    "T = 0.25\n",
    "S = 30\n",
    "K = 30\n",
    "q = 0.01\n",
    "r = 0.03\n",
    "isCall = True\n",
    "\n",
    "Px = 2.5\n",
    "v_guess = 0.5\n",
    "\n",
    "i_vol = am.imp_vol_newton(Px, v_guess, T, isCall, S, K, r, q, \n",
    "                          am.norm_pdf, am.norm_cdf_def_thresh)\n",
    "\n",
    "print(\"Solved Implied Vol=%s\" % i_vol)"
   ]
  },
  {
   "cell_type": "markdown",
   "metadata": {},
   "source": [
    "### Question 3"
   ]
  },
  {
   "cell_type": "markdown",
   "metadata": {},
   "source": [
    "#### part i)"
   ]
  },
  {
   "cell_type": "code",
   "execution_count": 4,
   "metadata": {},
   "outputs": [
    {
     "name": "stdout",
     "output_type": "stream",
     "text": [
      "initial guessed vol price = 5.21586298745\n",
      "Not close enough, doing next iteration ...\n",
      "current vega = 10.1337680541\n",
      "new vol = 0.256668696749\n",
      "new price = 2.74761221539 \n",
      "\n",
      "Not close enough, doing next iteration ...\n",
      "current vega = 10.2260545389\n",
      "new vol = 0.256902196835\n",
      "new price = 2.74999006571 \n",
      "\n",
      "Not close enough, doing next iteration ...\n",
      "current vega = 10.2260038902\n",
      "new vol = 0.256903168308\n",
      "new price = 2.74999995869 \n",
      "\n",
      "Solved Implied Vol=0.256903168308\n"
     ]
    }
   ],
   "source": [
    "T = 5/12\n",
    "S = 40\n",
    "K = 40\n",
    "q = 0.01\n",
    "r = 0.025\n",
    "isCall = True\n",
    "\n",
    "Px = 2.75\n",
    "v_guess = 0.5\n",
    "\n",
    "i_vol = am.imp_vol_newton(Px, v_guess, T, isCall, S, K, r, q, \n",
    "                          am.norm_pdf, am.norm_cdf_def_thresh)\n",
    "\n",
    "print(\"Solved Implied Vol=%s\" % i_vol)"
   ]
  },
  {
   "cell_type": "markdown",
   "metadata": {},
   "source": [
    "#### part ii)"
   ]
  },
  {
   "cell_type": "code",
   "execution_count": 5,
   "metadata": {
    "collapsed": true
   },
   "outputs": [],
   "source": [
    "def i_vol_est(T, Px, S, r, q):\n",
    "    \"\"\" provided estimator of ivol \"\"\"\n",
    "    coef = np.sqrt(2 * np.pi) / (S * np.sqrt(T))\n",
    "    numer = Px - ((r - q) * T / 2) * S\n",
    "    denom = 1 - ((r + q) * T / 2)\n",
    "    return coef * numer / denom"
   ]
  },
  {
   "cell_type": "code",
   "execution_count": 7,
   "metadata": {},
   "outputs": [
    {
     "name": "stdout",
     "output_type": "stream",
     "text": [
      "estimated ivol = 0.256710246571\n",
      "numeric ivol = 0.256903168308\n"
     ]
    }
   ],
   "source": [
    "i_vol_estimated = i_vol_est(T, Px, S, r, q)\n",
    "print(\"estimated ivol =\", i_vol_estimated)\n",
    "print(\"numeric ivol =\", i_vol)"
   ]
  },
  {
   "cell_type": "markdown",
   "metadata": {},
   "source": [
    "#### estimation error"
   ]
  },
  {
   "cell_type": "code",
   "execution_count": 9,
   "metadata": {},
   "outputs": [
    {
     "name": "stdout",
     "output_type": "stream",
     "text": [
      "relative error was: 0.000750951180839\n"
     ]
    }
   ],
   "source": [
    "est_error = np.abs(i_vol_estimated - i_vol) / i_vol\n",
    "print(\"relative error was:\", est_error)"
   ]
  }
 ],
 "metadata": {
  "kernelspec": {
   "display_name": "Python 3",
   "language": "python",
   "name": "python3"
  },
  "language_info": {
   "codemirror_mode": {
    "name": "ipython",
    "version": 3
   },
   "file_extension": ".py",
   "mimetype": "text/x-python",
   "name": "python",
   "nbconvert_exporter": "python",
   "pygments_lexer": "ipython3",
   "version": "3.6.3"
  }
 },
 "nbformat": 4,
 "nbformat_minor": 2
}
