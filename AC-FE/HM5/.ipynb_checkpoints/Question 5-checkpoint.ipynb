{
 "cells": [
  {
   "cell_type": "code",
   "execution_count": 1,
   "metadata": {
    "collapsed": true
   },
   "outputs": [],
   "source": [
    "import numpy as np\n",
    "lib_path = r'/Users/rmfeng/Documents/jupyter/AC-FE/'\n",
    "import sys\n",
    "sys.path.append(lib_path)\n",
    "\n",
    "import acfe_methods as am\n",
    "\n",
    "from importlib import reload"
   ]
  },
  {
   "cell_type": "code",
   "execution_count": 9,
   "metadata": {},
   "outputs": [
    {
     "name": "stdout",
     "output_type": "stream",
     "text": [
      "0.0506356159686\n"
     ]
    }
   ],
   "source": [
    "# calculating r(0, 0.5)\n",
    "r00_05 = -2*np.log(97.5/100)\n",
    "print(r00_05)"
   ]
  },
  {
   "cell_type": "code",
   "execution_count": 11,
   "metadata": {},
   "outputs": [
    {
     "name": "stdout",
     "output_type": "stream",
     "text": [
      "0.0493696003028\n"
     ]
    }
   ],
   "source": [
    "# calculating r(0, 1)\n",
    "r00_10 = -np.log((100-2.5*97.5/100)/102.5)\n",
    "print(r00_10)"
   ]
  },
  {
   "cell_type": "code",
   "execution_count": 12,
   "metadata": {
    "collapsed": true
   },
   "outputs": [],
   "source": [
    "def f_of_x(x):\n",
    "    r00_10 = -np.log((100-2.5*97.5/100)/102.5)\n",
    "    \n",
    "    t1 = 2.5 * (97.5 / 100)\n",
    "    t2 = 2.5 * np.exp(-r00_10)\n",
    "    t3 = 2.5 * np.exp(-1.5 * (x + 3 * r00_10) / 4)\n",
    "    t4 = 2.5 * np.exp(-2 * (x + r00_10) / 2)\n",
    "    t5 = 2.5 * np.exp(-2.5 * (3 * x + r00_10) / 4)\n",
    "    t6 = 102.5 * np.exp(-3 * x)\n",
    "    t7 = -102\n",
    "    \n",
    "    return np.sum([t1, t2 ,t3 ,t4 ,t5 ,t6 ,t7])\n",
    "\n",
    "def fprime_of_x(x):\n",
    "    r00_10 = -np.log((100-2.5*97.5/100)/102.5)\n",
    "    t1 = 2.5 * np.exp(-1.5 * (x + 3 * r00_10) / 4) * (-1.5 / 4)\n",
    "    t2 = 2.5 * np.exp(-2 * (x + r00_10) / 2) * (-1)\n",
    "    t3 = 2.5 * np.exp(-2.5 * (3 * x + r00_10) / 4) * (-7.5 / 4)\n",
    "    t4 = 102.5 * np.exp(-3 * x) * (-3)\n",
    "\n",
    "    return np.sum([t1, t2 ,t3 ,t4])"
   ]
  },
  {
   "cell_type": "code",
   "execution_count": 23,
   "metadata": {},
   "outputs": [
    {
     "name": "stdout",
     "output_type": "stream",
     "text": [
      "f(initial guess) = -2.16872335354\n",
      "Not close enough, doing next iteration: 1\n",
      "new x = 0.0420249912412\n",
      "new f(x) = 0.0257827263608\n",
      "f(x) change this iteration = 2.1945060799 \n",
      "\n",
      "zero was found after 1 iterations ... \n",
      "Not close enough, doing next iteration: 2\n",
      "new x = 0.0421175911153\n",
      "new f(x) = 3.53124026731e-06\n",
      "f(x) change this iteration = -0.0257791951205 \n",
      "\n",
      "zero was found after 2 iterations ... \n",
      "Not close enough, doing next iteration: 3\n",
      "new x = 0.0421176038014\n",
      "new f(x) = 7.1054273576e-14\n",
      "f(x) change this iteration = -3.53124019625e-06 \n",
      "\n",
      "zero was found after 3 iterations ... \n",
      "Not close enough, doing next iteration: 4\n",
      "new x = 0.0421176038014\n",
      "new f(x) = -1.42108547152e-14\n",
      "f(x) change this iteration = -8.52651282912e-14 \n",
      "\n",
      "zero was found after 4 iterations ... \n",
      "0.0421176038014\n"
     ]
    }
   ],
   "source": [
    "x_zero = am.generic_newton(0.05, f_of_x, fprime_of_x)\n",
    "print(x_zero)"
   ]
  },
  {
   "cell_type": "code",
   "execution_count": 28,
   "metadata": {},
   "outputs": [
    {
     "name": "stdout",
     "output_type": "stream",
     "text": [
      "Found r(0,1.5), r(0,2), r(0,2.5) to be:\n",
      "0.0475566011775 0.0457436020521 0.0439306029268\n"
     ]
    }
   ],
   "source": [
    "# solving the rates between 1, 3\n",
    "r00_30 = 0.0421176038014\n",
    "r00_15 = (r00_30 + 3 * r00_10) / 4\n",
    "r00_20 = (r00_30 + r00_10) / 2\n",
    "r00_25 = (3 * r00_30 + r00_10) / 4\n",
    "print(\"Found r(0,1.5), r(0,2), r(0,2.5) to be:\")\n",
    "print(r00_15, r00_20, r00_25)"
   ]
  },
  {
   "cell_type": "code",
   "execution_count": 24,
   "metadata": {
    "collapsed": true
   },
   "outputs": [],
   "source": [
    "def f_of_x_5(x):\n",
    "    r00_10 = -np.log((100-2.5*97.5/100)/102.5)\n",
    "    r00_30 = 0.0421176038014\n",
    "    r00_15 = (r00_30 + 3 * r00_10) / 4\n",
    "    r00_20 = (r00_30 + r00_10) / 2\n",
    "    r00_25 = (3 * r00_30 + r00_10) / 4\n",
    "    \n",
    "    t1 = 3 * (97.5 / 100) + 3 * np.exp(-r00_10) + 3 * np.exp(-r00_15*1.5)\n",
    "    t2 = 3 * np.exp(-r00_20 * 2) + 3 * np.exp(-r00_25 * 2.5) + 3 * np.exp(-r00_30 * 3)\n",
    "    t3 = 3 * np.exp(-3.5 * (x + 3 * r00_30) / 4)\n",
    "    t4 = 3 * np.exp(-4 * (x + r00_30) / 2)\n",
    "    t5 = 3 * np.exp(-4.5 * (3 * x + r00_30) / 4)\n",
    "    t6 = 103 * np.exp(-5 * x)\n",
    "    t7 = -104\n",
    "    \n",
    "    return np.sum([t1, t2, t3, t4, t5, t6, t7])\n",
    "\n",
    "def fprime_of_x_5(x):\n",
    "    r00_30 = 0.0421176038014\n",
    "    \n",
    "    t1 = 3 * np.exp(-3.5 * (x + 3 * r00_30) / 4) * (-3.5 / 4)\n",
    "    t2 = 3 * np.exp(-4 * (x + r00_30) / 2) * (-2)\n",
    "    t3 = 3 * np.exp(-4.5 * (3 * x + r00_30) / 4) * (-4.5 * 3 / 4)\n",
    "    t4 = 103 * np.exp(-5 * x) * (-5)\n",
    "    \n",
    "    return np.sum([t1, t2, t3, t4])"
   ]
  },
  {
   "cell_type": "code",
   "execution_count": 27,
   "metadata": {},
   "outputs": [
    {
     "name": "stdout",
     "output_type": "stream",
     "text": [
      "r(0,5):\n",
      "0.0508255928295\n"
     ]
    }
   ],
   "source": [
    "x_zero_5 = am.generic_newton(0.05, f_of_x_5, fprime_of_x_5, is_verbose=False)\n",
    "print(\"r(0,5):\")\n",
    "print(x_zero_5)"
   ]
  },
  {
   "cell_type": "code",
   "execution_count": 29,
   "metadata": {},
   "outputs": [
    {
     "name": "stdout",
     "output_type": "stream",
     "text": [
      "Found r(0,3.5), r(0,4), r(0,4.5) to be:\n",
      "0.0442946010584 0.0464715983154 0.0486485955724\n"
     ]
    }
   ],
   "source": [
    "r00_50 = x_zero_5\n",
    "r00_35 = (r00_50 + 3 * r00_30) / 4\n",
    "r00_40 = (r00_50 + r00_30) / 2\n",
    "r00_45 = (3 * r00_50 + r00_30) / 4\n",
    "print(\"Found r(0,3.5), r(0,4), r(0,4.5) to be:\")\n",
    "print(r00_35, r00_40, r00_45)"
   ]
  }
 ],
 "metadata": {
  "kernelspec": {
   "display_name": "Python 3",
   "language": "python",
   "name": "python3"
  },
  "language_info": {
   "codemirror_mode": {
    "name": "ipython",
    "version": 3
   },
   "file_extension": ".py",
   "mimetype": "text/x-python",
   "name": "python",
   "nbconvert_exporter": "python",
   "pygments_lexer": "ipython3",
   "version": "3.6.3"
  }
 },
 "nbformat": 4,
 "nbformat_minor": 2
}
