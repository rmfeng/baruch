{
 "cells": [
  {
   "cell_type": "code",
   "execution_count": 1,
   "metadata": {
    "collapsed": true
   },
   "outputs": [],
   "source": [
    "import numpy as np\n",
    "lib_path = r'/Users/rmfeng/Documents/jupyter/AC-FE/'\n",
    "import sys\n",
    "sys.path.append(lib_path)\n",
    "\n",
    "import acfe_methods as am"
   ]
  },
  {
   "cell_type": "code",
   "execution_count": 2,
   "metadata": {
    "collapsed": true
   },
   "outputs": [],
   "source": [
    "T = 12 * 3\n",
    "freq = 2\n",
    "cpn_rate = 0.04\n",
    "px = 101\n",
    "\n",
    "yld_guess = 0.05"
   ]
  },
  {
   "cell_type": "code",
   "execution_count": 3,
   "metadata": {},
   "outputs": [
    {
     "name": "stdout",
     "output_type": "stream",
     "text": [
      "initial guessed yield implied price = 97.0754478823\n",
      "Not close enough, doing next iteration ...\n",
      "current yield = 0.05\n",
      "new yield = 0.0358354944039\n",
      "new price = 101.082913344 \n",
      "\n",
      "Not close enough, doing next iteration ...\n",
      "current yield = 0.0358354944039\n",
      "new yield = 0.0361225314765\n",
      "new price = 101.000035005 \n",
      "\n",
      "Not close enough, doing next iteration ...\n",
      "current yield = 0.0361225314765\n",
      "new yield = 0.0361226527642\n",
      "new price = 101.0 \n",
      "\n",
      "Not close enough, doing next iteration ...\n",
      "current yield = 0.0361226527642\n",
      "new yield = 0.0361226527642\n",
      "new price = 101.0 \n",
      "\n",
      "Solved Yield = 0.0361226527642\n"
     ]
    }
   ],
   "source": [
    "yld = am.ytm_newton(yld_guess, px, T, cpn_rate, freq)\n",
    "print(\"Solved Yield =\", yld)"
   ]
  },
  {
   "cell_type": "code",
   "execution_count": 4,
   "metadata": {},
   "outputs": [
    {
     "data": {
      "text/plain": [
       "array([ 0. ,  0.5,  1. ,  1.5,  2. ,  2.5,  3. ])"
      ]
     },
     "execution_count": 4,
     "metadata": {},
     "output_type": "execute_result"
    }
   ],
   "source": [
    "t_list = am.gen_t_list(36, 2)\n",
    "t_list"
   ]
  },
  {
   "cell_type": "code",
   "execution_count": 5,
   "metadata": {},
   "outputs": [
    {
     "data": {
      "text/plain": [
       "[0, 2.0, 2.0, 2.0, 2.0, 2.0, 102.0]"
      ]
     },
     "execution_count": 5,
     "metadata": {},
     "output_type": "execute_result"
    }
   ],
   "source": [
    "cpn_list = am.gen_cf(t_list, cpn_rate, freq)\n",
    "cpn_list"
   ]
  },
  {
   "cell_type": "code",
   "execution_count": 6,
   "metadata": {},
   "outputs": [
    {
     "name": "stdout",
     "output_type": "stream",
     "text": [
      "Solved Duration = 2.85757800297, Convexity = 8.40856234339\n"
     ]
    }
   ],
   "source": [
    "t_list = am.gen_t_list(T, freq)\n",
    "cf_list = am.gen_cf(t_list, cpn_rate, freq)\n",
    "px, dur, cvx = am.price_bond_w_dur_cvx(t_list, cf_list, yld)\n",
    "print(\"Solved Duration = %s, Convexity = %s\" % (dur, cvx))"
   ]
  },
  {
   "cell_type": "code",
   "execution_count": null,
   "metadata": {
    "collapsed": true
   },
   "outputs": [],
   "source": []
  }
 ],
 "metadata": {
  "kernelspec": {
   "display_name": "Python 3",
   "language": "python",
   "name": "python3"
  },
  "language_info": {
   "codemirror_mode": {
    "name": "ipython",
    "version": 3
   },
   "file_extension": ".py",
   "mimetype": "text/x-python",
   "name": "python",
   "nbconvert_exporter": "python",
   "pygments_lexer": "ipython3",
   "version": "3.6.3"
  }
 },
 "nbformat": 4,
 "nbformat_minor": 2
}
